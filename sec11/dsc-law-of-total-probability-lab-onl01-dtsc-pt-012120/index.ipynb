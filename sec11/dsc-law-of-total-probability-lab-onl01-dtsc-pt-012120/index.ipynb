{
 "cells": [
  {
   "cell_type": "markdown",
   "metadata": {},
   "source": [
    "# Partitioning and Law of Total Probability - Lab\n",
    "\n",
    "## Introduction \n",
    "In this lab, you'll practice your knowledge of the law of total probability. In probability theory, the law (or formula) of total probability is a fundamental rule relating **marginal probabilities** to **conditional probabilities**.\n",
    "\n",
    "## Objectives\n",
    "\n",
    "You will be able to:\n",
    "\n",
    "* Differentiate between independent and dependent events\n",
    "* Perform partitioning based on known and unknown probabilities to solve a problem"
   ]
  },
  {
   "cell_type": "markdown",
   "metadata": {},
   "source": [
    "## Exercise 1\n",
    "Imagine you have two hats: one has 4 red balls and 6 green balls, the other has 6 red and 4 green. We toss a fair coin, if heads, you will pick a random ball from the first hat, if tails you will pick one from the second hat. \n",
    "\n",
    "What is the probability of getting a red ball?"
   ]
  },
  {
   "cell_type": "code",
   "execution_count": 2,
   "metadata": {},
   "outputs": [
    {
     "data": {
      "text/plain": [
       "0.5"
      ]
     },
     "execution_count": 2,
     "metadata": {},
     "output_type": "execute_result"
    }
   ],
   "source": [
    "## P(Red) = P(Red|H) · P(H) + P(Red|T) · P(T)\n",
    "p_red = (4/10*1/2)+(6/10*1/2)\n",
    "p_red"
   ]
  },
  {
   "cell_type": "markdown",
   "metadata": {},
   "source": [
    "## Exercise 2\n",
    "In games where at least one goal is made, a soccer team wins 60% of its games when it scores the first goal, and 10% of its games when the opposing team \n",
    "scores first. \n",
    "\n",
    "If the team scores the first goal about 30% of the time, what fraction of the games does it win?"
   ]
  },
  {
   "cell_type": "code",
   "execution_count": 3,
   "metadata": {},
   "outputs": [
    {
     "data": {
      "text/plain": [
       "0.25"
      ]
     },
     "execution_count": 3,
     "metadata": {},
     "output_type": "execute_result"
    }
   ],
   "source": [
    "# Let W be the event that the team wins, \n",
    "# SF be the event that it scores first. \n",
    "# Then according to law of total probs.\n",
    "\n",
    "# P(W) = P(W|SF) · P(SF) + P(W|SFc) · P(SFc)\n",
    "p_w = (6/10)*(3/10)+(1/10)*(7/10)\n",
    "p_w"
   ]
  },
  {
   "cell_type": "markdown",
   "metadata": {},
   "source": [
    "## Exercise 3"
   ]
  },
  {
   "cell_type": "markdown",
   "metadata": {},
   "source": [
    "In Europe, except for regular gas, cars often run on diesel as well. At a gas station in Paris; \n",
    "\n",
    "\n",
    "* 40% of the customers fill up with diesel (event G1) \n",
    "* 35% with gas \"Super 95\" (event G2)\n",
    "* 25% with gas \"Super 98\" (event G3). \n",
    "\n",
    "\n",
    "* 30% of the customers who buy diesel fill their tank completely (event F). \n",
    "* For \"Super 95\" and \"Super 98\", these numbers are  60% and 50%, respectively.\n",
    "\n",
    "\n",
    "- Compute the probability that the next customer completely fills their tank and buys Super 95. \n",
    "- Compute the probability that the next customer completely fills their tank\n",
    "- Given that the next customer fills their tank completely, compute the probability that they bought diesel. \n",
    "\n",
    "Hint: Consult the theorems for conditional probability, check for dependence or independence of events"
   ]
  },
  {
   "cell_type": "code",
   "execution_count": 9,
   "metadata": {},
   "outputs": [],
   "source": [
    "g1 = 4/10\n",
    "g2 = 3.5/10\n",
    "g3 = 2.5/10\n",
    "f1 = (3/10)*g1\n",
    "f2 = (6/10)*g2\n",
    "f3 = (5/10)*g3\n"
   ]
  },
  {
   "cell_type": "code",
   "execution_count": 7,
   "metadata": {},
   "outputs": [
    {
     "data": {
      "text/plain": [
       "0.21"
      ]
     },
     "execution_count": 7,
     "metadata": {},
     "output_type": "execute_result"
    }
   ],
   "source": [
    "#probability that the next customer completely fills their tank and buys Super 95\n",
    "f2"
   ]
  },
  {
   "cell_type": "code",
   "execution_count": 12,
   "metadata": {},
   "outputs": [
    {
     "data": {
      "text/plain": [
       "0.45499999999999996"
      ]
     },
     "execution_count": 12,
     "metadata": {},
     "output_type": "execute_result"
    }
   ],
   "source": [
    "#Compute the probability that the next customer completely fills their tank\n",
    "p_full = f1+f2+f3\n",
    "p_full"
   ]
  },
  {
   "cell_type": "code",
   "execution_count": 13,
   "metadata": {},
   "outputs": [
    {
     "data": {
      "text/plain": [
       "0.26373626373626374"
      ]
     },
     "execution_count": 13,
     "metadata": {},
     "output_type": "execute_result"
    }
   ],
   "source": [
    "#Given that the next customer fills their tank completely, compute the probability that they bought diesel\n",
    "f1/p_full"
   ]
  },
  {
   "cell_type": "markdown",
   "metadata": {},
   "source": [
    "## Exercise 4"
   ]
  },
  {
   "cell_type": "markdown",
   "metadata": {},
   "source": [
    "United Airlines operates flights from JFK to Amsterdam, to Brussels, and to Copenhagen. As you may know, flights are overbooked fairly often. Let's denote the probability of the flight to Amsterdam being overbooked equal to 40%, the probability of the flight to Brussels being overbooked equal to 25%, and the probability of the flight to Copenhagen being overbooked equal to 35%. You can assume that these events of overbooking are independent events."
   ]
  },
  {
   "cell_type": "markdown",
   "metadata": {},
   "source": [
    "- Compute the probability that all the flights are overbooked.\n",
    "- Compute the probability of having at least one flight which is not overbooked.\n",
    "- Compute the probability that exactly one flight is overbooked."
   ]
  },
  {
   "cell_type": "code",
   "execution_count": 15,
   "metadata": {},
   "outputs": [],
   "source": [
    "#all overbooked\n",
    "p_a =.4\n",
    "p_b = .25\n",
    "p_c = .35\n",
    "all_ob = p_a*p_b*p_c"
   ]
  },
  {
   "cell_type": "code",
   "execution_count": 16,
   "metadata": {},
   "outputs": [
    {
     "data": {
      "text/plain": [
       "0.965"
      ]
     },
     "execution_count": 16,
     "metadata": {},
     "output_type": "execute_result"
    }
   ],
   "source": [
    "#at least one not overbooked\n",
    "1-all_ob"
   ]
  },
  {
   "cell_type": "code",
   "execution_count": 17,
   "metadata": {},
   "outputs": [
    {
     "data": {
      "text/plain": [
       "0.45000000000000007"
      ]
     },
     "execution_count": 17,
     "metadata": {},
     "output_type": "execute_result"
    }
   ],
   "source": [
    "#at least one overbooked\n",
    "\n",
    "#1-p for each city\n",
    "p_a_1 = 1 - .4\n",
    "p_b_1 = 1 - .25\n",
    "p_c_1 = 1 - .35\n",
    "\n",
    "# overbooked for each city and other cities not overbooked\n",
    "p_a_ob = .4 * p_b_1 * p_c_1\n",
    "p_b_ob = .25 * p_a_1 * p_c_1\n",
    "p_c_ob = .35 * p_a_1 * p_b_1\n",
    "\n",
    "#probability at least one is overbooked\n",
    "atleastone = p_a_ob + p_b_ob + p_c_ob\n",
    "atleastone"
   ]
  },
  {
   "cell_type": "markdown",
   "metadata": {},
   "source": [
    "## Exercise 5\n",
    "You have three bags that each contain 100 marbles:\n",
    "\n",
    "- Bag 1 has 75 red and 25 blue marbles;\n",
    "- Bag 2 has 60 red and 40 blue marbles;\n",
    "- Bag 3 has 45 red and 55 blue marbles.\n",
    "\n",
    "You choose one of the bags at random and then pick a marble from the chosen bag, also at random. \n",
    "\n",
    "What is the probability that the chosen marble is red?\n"
   ]
  },
  {
   "cell_type": "code",
   "execution_count": null,
   "metadata": {},
   "outputs": [],
   "source": []
  },
  {
   "cell_type": "code",
   "execution_count": 20,
   "metadata": {},
   "outputs": [
    {
     "data": {
      "text/plain": [
       "0.6"
      ]
     },
     "execution_count": 20,
     "metadata": {},
     "output_type": "execute_result"
    }
   ],
   "source": [
    "# Let R be the event that the chosen marble is red. Let Bi be the event that you choose Bag i. \n",
    "# We already know that\n",
    "\n",
    "P_R_given_B1=0.75\n",
    "P_R_given_B2=0.60\n",
    "P_R_given_B3=0.45\n",
    "\n",
    "#We choose our partitions as B1,B2,B3. \n",
    "#Note that this is a valid partition because, firstly, the Bi's are disjoint (only one of them can happen), \n",
    "# and secondly, because their union is the entire sample space as one the bags will be chosen for sure.\n",
    "# i.e., P(B1∪B2∪B3)=1. Using the law of total probability, we can write\n",
    "\n",
    "# P(R)=P(R|B1)P(B1)+P(R|B2)P(B2)+P(R|B3)P(B3)\n",
    "\n",
    "P_R=(0.75*1/3) +(0.60* 1/3)+(0.45* 1/3)\n",
    "P_R"
   ]
  },
  {
   "cell_type": "markdown",
   "metadata": {},
   "source": [
    "## Summary \n",
    "\n",
    "In this lab, you practiced conditional probability and its theorem with some simple problems. The key takeaway from this lab is to be able to identify random events as dependent or independent and calculating the probability of their occurrence using appropriate methods. Next, you'll take this knowledge a step further and run simulations with conditional and total probability. "
   ]
  }
 ],
 "metadata": {
  "kernelspec": {
   "display_name": "Python 3",
   "language": "python",
   "name": "python3"
  },
  "language_info": {
   "codemirror_mode": {
    "name": "ipython",
    "version": 3
   },
   "file_extension": ".py",
   "mimetype": "text/x-python",
   "name": "python",
   "nbconvert_exporter": "python",
   "pygments_lexer": "ipython3",
   "version": "3.6.9"
  },
  "toc": {
   "base_numbering": 1,
   "nav_menu": {},
   "number_sections": true,
   "sideBar": true,
   "skip_h1_title": false,
   "title_cell": "Table of Contents",
   "title_sidebar": "Contents",
   "toc_cell": false,
   "toc_position": {},
   "toc_section_display": true,
   "toc_window_display": false
  }
 },
 "nbformat": 4,
 "nbformat_minor": 2
}
