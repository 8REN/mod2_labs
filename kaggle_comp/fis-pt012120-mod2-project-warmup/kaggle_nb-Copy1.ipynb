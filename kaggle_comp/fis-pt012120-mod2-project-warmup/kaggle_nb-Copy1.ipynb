{
 "cells": [
  {
   "cell_type": "markdown",
   "metadata": {
    "toc": true
   },
   "source": [
    "<h1>Table of Contents<span class=\"tocSkip\"></span></h1>\n",
    "<div class=\"toc\"><ul class=\"toc-item\"></ul></div>"
   ]
  },
  {
   "cell_type": "code",
   "execution_count": 1,
   "metadata": {},
   "outputs": [],
   "source": [
    "import matplotlib.pyplot as plt\n",
    "import pandas as pd\n",
    "import seaborn as sns\n",
    "#train = pd.read_csv('train.csv')\n",
    "train = pd.read_csv('test.csv')"
   ]
  },
  {
   "cell_type": "code",
   "execution_count": 2,
   "metadata": {},
   "outputs": [
    {
     "data": {
      "text/html": [
       "<div>\n",
       "<style scoped>\n",
       "    .dataframe tbody tr th:only-of-type {\n",
       "        vertical-align: middle;\n",
       "    }\n",
       "\n",
       "    .dataframe tbody tr th {\n",
       "        vertical-align: top;\n",
       "    }\n",
       "\n",
       "    .dataframe thead th {\n",
       "        text-align: right;\n",
       "    }\n",
       "</style>\n",
       "<table border=\"1\" class=\"dataframe\">\n",
       "  <thead>\n",
       "    <tr style=\"text-align: right;\">\n",
       "      <th></th>\n",
       "      <th>id</th>\n",
       "      <th>host_id</th>\n",
       "      <th>host_name</th>\n",
       "      <th>latitude</th>\n",
       "      <th>longitude</th>\n",
       "      <th>room_type</th>\n",
       "      <th>minimum_nights</th>\n",
       "      <th>number_of_reviews</th>\n",
       "      <th>last_review</th>\n",
       "      <th>reviews_per_month</th>\n",
       "      <th>calculated_host_listings_count</th>\n",
       "      <th>availability_365</th>\n",
       "    </tr>\n",
       "  </thead>\n",
       "  <tbody>\n",
       "    <tr>\n",
       "      <td>0</td>\n",
       "      <td>21399885</td>\n",
       "      <td>96664487</td>\n",
       "      <td>Hupeto</td>\n",
       "      <td>40.68742</td>\n",
       "      <td>-73.91628</td>\n",
       "      <td>Entire home/apt</td>\n",
       "      <td>3</td>\n",
       "      <td>26</td>\n",
       "      <td>2019-06-18</td>\n",
       "      <td>1.41</td>\n",
       "      <td>3</td>\n",
       "      <td>341</td>\n",
       "    </tr>\n",
       "    <tr>\n",
       "      <td>1</td>\n",
       "      <td>35037136</td>\n",
       "      <td>120111937</td>\n",
       "      <td>Madea And Julian</td>\n",
       "      <td>40.70865</td>\n",
       "      <td>-73.96673</td>\n",
       "      <td>Entire home/apt</td>\n",
       "      <td>30</td>\n",
       "      <td>5</td>\n",
       "      <td>2019-06-23</td>\n",
       "      <td>3.33</td>\n",
       "      <td>1</td>\n",
       "      <td>333</td>\n",
       "    </tr>\n",
       "    <tr>\n",
       "      <td>2</td>\n",
       "      <td>13330602</td>\n",
       "      <td>27977872</td>\n",
       "      <td>Dana</td>\n",
       "      <td>40.70716</td>\n",
       "      <td>-74.01155</td>\n",
       "      <td>Entire home/apt</td>\n",
       "      <td>5</td>\n",
       "      <td>0</td>\n",
       "      <td>NaN</td>\n",
       "      <td>NaN</td>\n",
       "      <td>1</td>\n",
       "      <td>0</td>\n",
       "    </tr>\n",
       "    <tr>\n",
       "      <td>3</td>\n",
       "      <td>33951037</td>\n",
       "      <td>254472726</td>\n",
       "      <td>Jerick</td>\n",
       "      <td>40.73198</td>\n",
       "      <td>-74.00526</td>\n",
       "      <td>Entire home/apt</td>\n",
       "      <td>31</td>\n",
       "      <td>5</td>\n",
       "      <td>2019-05-23</td>\n",
       "      <td>1.92</td>\n",
       "      <td>1</td>\n",
       "      <td>219</td>\n",
       "    </tr>\n",
       "    <tr>\n",
       "      <td>4</td>\n",
       "      <td>28692911</td>\n",
       "      <td>12166742</td>\n",
       "      <td>Yizak</td>\n",
       "      <td>40.62515</td>\n",
       "      <td>-73.94409</td>\n",
       "      <td>Entire home/apt</td>\n",
       "      <td>1</td>\n",
       "      <td>21</td>\n",
       "      <td>2019-07-05</td>\n",
       "      <td>2.26</td>\n",
       "      <td>1</td>\n",
       "      <td>82</td>\n",
       "    </tr>\n",
       "    <tr>\n",
       "      <td>5</td>\n",
       "      <td>28389754</td>\n",
       "      <td>23120620</td>\n",
       "      <td>Jackie</td>\n",
       "      <td>40.73862</td>\n",
       "      <td>-73.80808</td>\n",
       "      <td>Private room</td>\n",
       "      <td>1</td>\n",
       "      <td>2</td>\n",
       "      <td>2019-05-20</td>\n",
       "      <td>0.52</td>\n",
       "      <td>5</td>\n",
       "      <td>90</td>\n",
       "    </tr>\n",
       "    <tr>\n",
       "      <td>6</td>\n",
       "      <td>24348078</td>\n",
       "      <td>176427055</td>\n",
       "      <td>Adam</td>\n",
       "      <td>40.76649</td>\n",
       "      <td>-73.92643</td>\n",
       "      <td>Private room</td>\n",
       "      <td>1</td>\n",
       "      <td>102</td>\n",
       "      <td>2019-07-07</td>\n",
       "      <td>6.77</td>\n",
       "      <td>1</td>\n",
       "      <td>348</td>\n",
       "    </tr>\n",
       "    <tr>\n",
       "      <td>7</td>\n",
       "      <td>4660022</td>\n",
       "      <td>745486</td>\n",
       "      <td>Re</td>\n",
       "      <td>40.72592</td>\n",
       "      <td>-73.99933</td>\n",
       "      <td>Entire home/apt</td>\n",
       "      <td>1</td>\n",
       "      <td>66</td>\n",
       "      <td>2019-06-24</td>\n",
       "      <td>1.18</td>\n",
       "      <td>1</td>\n",
       "      <td>365</td>\n",
       "    </tr>\n",
       "    <tr>\n",
       "      <td>8</td>\n",
       "      <td>23172490</td>\n",
       "      <td>117108525</td>\n",
       "      <td>Sen</td>\n",
       "      <td>40.74759</td>\n",
       "      <td>-73.91446</td>\n",
       "      <td>Private room</td>\n",
       "      <td>1</td>\n",
       "      <td>78</td>\n",
       "      <td>2019-06-28</td>\n",
       "      <td>4.62</td>\n",
       "      <td>2</td>\n",
       "      <td>116</td>\n",
       "    </tr>\n",
       "    <tr>\n",
       "      <td>9</td>\n",
       "      <td>9345056</td>\n",
       "      <td>16963843</td>\n",
       "      <td>Martina</td>\n",
       "      <td>40.69902</td>\n",
       "      <td>-73.92195</td>\n",
       "      <td>Private room</td>\n",
       "      <td>5</td>\n",
       "      <td>28</td>\n",
       "      <td>2018-08-20</td>\n",
       "      <td>1.36</td>\n",
       "      <td>2</td>\n",
       "      <td>0</td>\n",
       "    </tr>\n",
       "  </tbody>\n",
       "</table>\n",
       "</div>"
      ],
      "text/plain": [
       "         id    host_id         host_name  latitude  longitude  \\\n",
       "0  21399885   96664487            Hupeto  40.68742  -73.91628   \n",
       "1  35037136  120111937  Madea And Julian  40.70865  -73.96673   \n",
       "2  13330602   27977872              Dana  40.70716  -74.01155   \n",
       "3  33951037  254472726            Jerick  40.73198  -74.00526   \n",
       "4  28692911   12166742             Yizak  40.62515  -73.94409   \n",
       "5  28389754   23120620            Jackie  40.73862  -73.80808   \n",
       "6  24348078  176427055              Adam  40.76649  -73.92643   \n",
       "7   4660022     745486                Re  40.72592  -73.99933   \n",
       "8  23172490  117108525               Sen  40.74759  -73.91446   \n",
       "9   9345056   16963843           Martina  40.69902  -73.92195   \n",
       "\n",
       "         room_type  minimum_nights  number_of_reviews last_review  \\\n",
       "0  Entire home/apt               3                 26  2019-06-18   \n",
       "1  Entire home/apt              30                  5  2019-06-23   \n",
       "2  Entire home/apt               5                  0         NaN   \n",
       "3  Entire home/apt              31                  5  2019-05-23   \n",
       "4  Entire home/apt               1                 21  2019-07-05   \n",
       "5     Private room               1                  2  2019-05-20   \n",
       "6     Private room               1                102  2019-07-07   \n",
       "7  Entire home/apt               1                 66  2019-06-24   \n",
       "8     Private room               1                 78  2019-06-28   \n",
       "9     Private room               5                 28  2018-08-20   \n",
       "\n",
       "   reviews_per_month  calculated_host_listings_count  availability_365  \n",
       "0               1.41                               3               341  \n",
       "1               3.33                               1               333  \n",
       "2                NaN                               1                 0  \n",
       "3               1.92                               1               219  \n",
       "4               2.26                               1                82  \n",
       "5               0.52                               5                90  \n",
       "6               6.77                               1               348  \n",
       "7               1.18                               1               365  \n",
       "8               4.62                               2               116  \n",
       "9               1.36                               2                 0  "
      ]
     },
     "execution_count": 2,
     "metadata": {},
     "output_type": "execute_result"
    }
   ],
   "source": [
    "train.head(10)"
   ]
  },
  {
   "cell_type": "code",
   "execution_count": 3,
   "metadata": {},
   "outputs": [
    {
     "name": "stdout",
     "output_type": "stream",
     "text": [
      "<class 'pandas.core.frame.DataFrame'>\n",
      "RangeIndex: 7824 entries, 0 to 7823\n",
      "Data columns (total 12 columns):\n",
      "id                                7824 non-null int64\n",
      "host_id                           7824 non-null int64\n",
      "host_name                         7820 non-null object\n",
      "latitude                          7824 non-null float64\n",
      "longitude                         7824 non-null float64\n",
      "room_type                         7824 non-null object\n",
      "minimum_nights                    7824 non-null int64\n",
      "number_of_reviews                 7824 non-null int64\n",
      "last_review                       6295 non-null object\n",
      "reviews_per_month                 6295 non-null float64\n",
      "calculated_host_listings_count    7824 non-null int64\n",
      "availability_365                  7824 non-null int64\n",
      "dtypes: float64(3), int64(6), object(3)\n",
      "memory usage: 733.6+ KB\n"
     ]
    }
   ],
   "source": [
    "train.info()"
   ]
  },
  {
   "cell_type": "code",
   "execution_count": 4,
   "metadata": {},
   "outputs": [
    {
     "data": {
      "text/html": [
       "<div>\n",
       "<style scoped>\n",
       "    .dataframe tbody tr th:only-of-type {\n",
       "        vertical-align: middle;\n",
       "    }\n",
       "\n",
       "    .dataframe tbody tr th {\n",
       "        vertical-align: top;\n",
       "    }\n",
       "\n",
       "    .dataframe thead th {\n",
       "        text-align: right;\n",
       "    }\n",
       "</style>\n",
       "<table border=\"1\" class=\"dataframe\">\n",
       "  <thead>\n",
       "    <tr style=\"text-align: right;\">\n",
       "      <th></th>\n",
       "      <th>id</th>\n",
       "      <th>host_id</th>\n",
       "      <th>latitude</th>\n",
       "      <th>longitude</th>\n",
       "      <th>minimum_nights</th>\n",
       "      <th>number_of_reviews</th>\n",
       "      <th>reviews_per_month</th>\n",
       "      <th>calculated_host_listings_count</th>\n",
       "      <th>availability_365</th>\n",
       "    </tr>\n",
       "  </thead>\n",
       "  <tbody>\n",
       "    <tr>\n",
       "      <td>count</td>\n",
       "      <td>7.824000e+03</td>\n",
       "      <td>7.824000e+03</td>\n",
       "      <td>7824.000000</td>\n",
       "      <td>7824.000000</td>\n",
       "      <td>7824.000000</td>\n",
       "      <td>7824.000000</td>\n",
       "      <td>6295.000000</td>\n",
       "      <td>7824.000000</td>\n",
       "      <td>7824.000000</td>\n",
       "    </tr>\n",
       "    <tr>\n",
       "      <td>mean</td>\n",
       "      <td>1.890081e+07</td>\n",
       "      <td>6.764486e+07</td>\n",
       "      <td>40.729073</td>\n",
       "      <td>-73.951980</td>\n",
       "      <td>7.269427</td>\n",
       "      <td>24.248594</td>\n",
       "      <td>1.380986</td>\n",
       "      <td>6.995527</td>\n",
       "      <td>114.468430</td>\n",
       "    </tr>\n",
       "    <tr>\n",
       "      <td>std</td>\n",
       "      <td>1.104529e+07</td>\n",
       "      <td>7.895703e+07</td>\n",
       "      <td>0.053794</td>\n",
       "      <td>0.046807</td>\n",
       "      <td>21.015574</td>\n",
       "      <td>46.532751</td>\n",
       "      <td>1.647855</td>\n",
       "      <td>32.709043</td>\n",
       "      <td>132.209046</td>\n",
       "    </tr>\n",
       "    <tr>\n",
       "      <td>min</td>\n",
       "      <td>5.099000e+03</td>\n",
       "      <td>2.787000e+03</td>\n",
       "      <td>40.508680</td>\n",
       "      <td>-74.244420</td>\n",
       "      <td>1.000000</td>\n",
       "      <td>0.000000</td>\n",
       "      <td>0.010000</td>\n",
       "      <td>1.000000</td>\n",
       "      <td>0.000000</td>\n",
       "    </tr>\n",
       "    <tr>\n",
       "      <td>25%</td>\n",
       "      <td>9.351911e+06</td>\n",
       "      <td>7.611178e+06</td>\n",
       "      <td>40.690845</td>\n",
       "      <td>-73.983272</td>\n",
       "      <td>1.000000</td>\n",
       "      <td>1.000000</td>\n",
       "      <td>0.185000</td>\n",
       "      <td>1.000000</td>\n",
       "      <td>0.000000</td>\n",
       "    </tr>\n",
       "    <tr>\n",
       "      <td>50%</td>\n",
       "      <td>1.956433e+07</td>\n",
       "      <td>3.042285e+07</td>\n",
       "      <td>40.723535</td>\n",
       "      <td>-73.955800</td>\n",
       "      <td>3.000000</td>\n",
       "      <td>5.000000</td>\n",
       "      <td>0.730000</td>\n",
       "      <td>1.000000</td>\n",
       "      <td>49.000000</td>\n",
       "    </tr>\n",
       "    <tr>\n",
       "      <td>75%</td>\n",
       "      <td>2.919030e+07</td>\n",
       "      <td>1.074344e+08</td>\n",
       "      <td>40.763015</td>\n",
       "      <td>-73.936858</td>\n",
       "      <td>5.000000</td>\n",
       "      <td>24.000000</td>\n",
       "      <td>2.050000</td>\n",
       "      <td>2.000000</td>\n",
       "      <td>229.000000</td>\n",
       "    </tr>\n",
       "    <tr>\n",
       "      <td>max</td>\n",
       "      <td>3.648543e+07</td>\n",
       "      <td>2.741034e+08</td>\n",
       "      <td>40.911670</td>\n",
       "      <td>-73.719280</td>\n",
       "      <td>500.000000</td>\n",
       "      <td>458.000000</td>\n",
       "      <td>16.030000</td>\n",
       "      <td>327.000000</td>\n",
       "      <td>365.000000</td>\n",
       "    </tr>\n",
       "  </tbody>\n",
       "</table>\n",
       "</div>"
      ],
      "text/plain": [
       "                 id       host_id     latitude    longitude  minimum_nights  \\\n",
       "count  7.824000e+03  7.824000e+03  7824.000000  7824.000000     7824.000000   \n",
       "mean   1.890081e+07  6.764486e+07    40.729073   -73.951980        7.269427   \n",
       "std    1.104529e+07  7.895703e+07     0.053794     0.046807       21.015574   \n",
       "min    5.099000e+03  2.787000e+03    40.508680   -74.244420        1.000000   \n",
       "25%    9.351911e+06  7.611178e+06    40.690845   -73.983272        1.000000   \n",
       "50%    1.956433e+07  3.042285e+07    40.723535   -73.955800        3.000000   \n",
       "75%    2.919030e+07  1.074344e+08    40.763015   -73.936858        5.000000   \n",
       "max    3.648543e+07  2.741034e+08    40.911670   -73.719280      500.000000   \n",
       "\n",
       "       number_of_reviews  reviews_per_month  calculated_host_listings_count  \\\n",
       "count        7824.000000        6295.000000                     7824.000000   \n",
       "mean           24.248594           1.380986                        6.995527   \n",
       "std            46.532751           1.647855                       32.709043   \n",
       "min             0.000000           0.010000                        1.000000   \n",
       "25%             1.000000           0.185000                        1.000000   \n",
       "50%             5.000000           0.730000                        1.000000   \n",
       "75%            24.000000           2.050000                        2.000000   \n",
       "max           458.000000          16.030000                      327.000000   \n",
       "\n",
       "       availability_365  \n",
       "count       7824.000000  \n",
       "mean         114.468430  \n",
       "std          132.209046  \n",
       "min            0.000000  \n",
       "25%            0.000000  \n",
       "50%           49.000000  \n",
       "75%          229.000000  \n",
       "max          365.000000  "
      ]
     },
     "execution_count": 4,
     "metadata": {},
     "output_type": "execute_result"
    }
   ],
   "source": [
    "train.describe()"
   ]
  },
  {
   "cell_type": "code",
   "execution_count": 13,
   "metadata": {},
   "outputs": [
    {
     "data": {
      "text/plain": [
       "(7824, 12)"
      ]
     },
     "execution_count": 13,
     "metadata": {},
     "output_type": "execute_result"
    }
   ],
   "source": [
    "train.shape"
   ]
  },
  {
   "cell_type": "code",
   "execution_count": 14,
   "metadata": {},
   "outputs": [
    {
     "data": {
      "text/plain": [
       "id                                   0\n",
       "host_id                              0\n",
       "host_name                            4\n",
       "latitude                             0\n",
       "longitude                            0\n",
       "room_type                            0\n",
       "minimum_nights                       0\n",
       "number_of_reviews                    0\n",
       "last_review                       1529\n",
       "reviews_per_month                 1529\n",
       "calculated_host_listings_count       0\n",
       "availability_365                     0\n",
       "dtype: int64"
      ]
     },
     "execution_count": 14,
     "metadata": {},
     "output_type": "execute_result"
    }
   ],
   "source": [
    "train.isna().sum()"
   ]
  },
  {
   "cell_type": "code",
   "execution_count": 15,
   "metadata": {},
   "outputs": [
    {
     "name": "stdout",
     "output_type": "stream",
     "text": [
      "<class 'pandas.core.frame.DataFrame'>\n",
      "RangeIndex: 7824 entries, 0 to 7823\n",
      "Data columns (total 12 columns):\n",
      "id                                7824 non-null int64\n",
      "host_id                           7824 non-null int64\n",
      "host_name                         7820 non-null object\n",
      "latitude                          7824 non-null float64\n",
      "longitude                         7824 non-null float64\n",
      "room_type                         7824 non-null object\n",
      "minimum_nights                    7824 non-null int64\n",
      "number_of_reviews                 7824 non-null int64\n",
      "last_review                       6295 non-null object\n",
      "reviews_per_month                 6295 non-null float64\n",
      "calculated_host_listings_count    7824 non-null int64\n",
      "availability_365                  7824 non-null int64\n",
      "dtypes: float64(3), int64(6), object(3)\n",
      "memory usage: 733.6+ KB\n"
     ]
    }
   ],
   "source": [
    "train.info()"
   ]
  },
  {
   "cell_type": "code",
   "execution_count": 16,
   "metadata": {},
   "outputs": [],
   "source": [
    "continuous = ['minimum_nights ', 'number_of_reviews ', 'calculated_host_listings_count ', 'availability_365 ']\n",
    "categoricals =  ['room_type']"
   ]
  },
  {
   "cell_type": "code",
   "execution_count": null,
   "metadata": {},
   "outputs": [],
   "source": []
  },
  {
   "cell_type": "code",
   "execution_count": 18,
   "metadata": {},
   "outputs": [
    {
     "data": {
      "text/plain": [
       "0"
      ]
     },
     "execution_count": 18,
     "metadata": {},
     "output_type": "execute_result"
    }
   ],
   "source": [
    "train.duplicated().sum()"
   ]
  },
  {
   "cell_type": "code",
   "execution_count": 19,
   "metadata": {},
   "outputs": [
    {
     "data": {
      "text/html": [
       "<div>\n",
       "<style scoped>\n",
       "    .dataframe tbody tr th:only-of-type {\n",
       "        vertical-align: middle;\n",
       "    }\n",
       "\n",
       "    .dataframe tbody tr th {\n",
       "        vertical-align: top;\n",
       "    }\n",
       "\n",
       "    .dataframe thead th {\n",
       "        text-align: right;\n",
       "    }\n",
       "</style>\n",
       "<table border=\"1\" class=\"dataframe\">\n",
       "  <thead>\n",
       "    <tr style=\"text-align: right;\">\n",
       "      <th></th>\n",
       "      <th>room_type</th>\n",
       "      <th>minimum_nights</th>\n",
       "      <th>number_of_reviews</th>\n",
       "      <th>calculated_host_listings_count</th>\n",
       "      <th>availability_365</th>\n",
       "    </tr>\n",
       "  </thead>\n",
       "  <tbody>\n",
       "    <tr>\n",
       "      <td>0</td>\n",
       "      <td>Entire home/apt</td>\n",
       "      <td>3</td>\n",
       "      <td>26</td>\n",
       "      <td>3</td>\n",
       "      <td>341</td>\n",
       "    </tr>\n",
       "    <tr>\n",
       "      <td>1</td>\n",
       "      <td>Entire home/apt</td>\n",
       "      <td>30</td>\n",
       "      <td>5</td>\n",
       "      <td>1</td>\n",
       "      <td>333</td>\n",
       "    </tr>\n",
       "    <tr>\n",
       "      <td>2</td>\n",
       "      <td>Entire home/apt</td>\n",
       "      <td>5</td>\n",
       "      <td>0</td>\n",
       "      <td>1</td>\n",
       "      <td>0</td>\n",
       "    </tr>\n",
       "    <tr>\n",
       "      <td>3</td>\n",
       "      <td>Entire home/apt</td>\n",
       "      <td>31</td>\n",
       "      <td>5</td>\n",
       "      <td>1</td>\n",
       "      <td>219</td>\n",
       "    </tr>\n",
       "    <tr>\n",
       "      <td>4</td>\n",
       "      <td>Entire home/apt</td>\n",
       "      <td>1</td>\n",
       "      <td>21</td>\n",
       "      <td>1</td>\n",
       "      <td>82</td>\n",
       "    </tr>\n",
       "  </tbody>\n",
       "</table>\n",
       "</div>"
      ],
      "text/plain": [
       "         room_type  minimum_nights  number_of_reviews  \\\n",
       "0  Entire home/apt               3                 26   \n",
       "1  Entire home/apt              30                  5   \n",
       "2  Entire home/apt               5                  0   \n",
       "3  Entire home/apt              31                  5   \n",
       "4  Entire home/apt               1                 21   \n",
       "\n",
       "   calculated_host_listings_count  availability_365  \n",
       "0                               3               341  \n",
       "1                               1               333  \n",
       "2                               1                 0  \n",
       "3                               1               219  \n",
       "4                               1                82  "
      ]
     },
     "metadata": {},
     "output_type": "display_data"
    }
   ],
   "source": [
    "df = train.drop(['latitude', 'longitude', 'id', 'host_id', 'host_name', 'last_review', 'reviews_per_month'], axis=1)\n",
    "display(df.head())\n",
    "\n"
   ]
  },
  {
   "cell_type": "code",
   "execution_count": 20,
   "metadata": {},
   "outputs": [],
   "source": [
    "#y = train['price']\n",
    "#display(y.head())"
   ]
  },
  {
   "cell_type": "code",
   "execution_count": 21,
   "metadata": {},
   "outputs": [
    {
     "data": {
      "text/html": [
       "<div>\n",
       "<style scoped>\n",
       "    .dataframe tbody tr th:only-of-type {\n",
       "        vertical-align: middle;\n",
       "    }\n",
       "\n",
       "    .dataframe tbody tr th {\n",
       "        vertical-align: top;\n",
       "    }\n",
       "\n",
       "    .dataframe thead th {\n",
       "        text-align: right;\n",
       "    }\n",
       "</style>\n",
       "<table border=\"1\" class=\"dataframe\">\n",
       "  <thead>\n",
       "    <tr style=\"text-align: right;\">\n",
       "      <th></th>\n",
       "      <th>minimum_nights</th>\n",
       "      <th>number_of_reviews</th>\n",
       "      <th>calculated_host_listings_count</th>\n",
       "      <th>availability_365</th>\n",
       "      <th>['room_type']_Private room</th>\n",
       "      <th>['room_type']_Shared room</th>\n",
       "    </tr>\n",
       "  </thead>\n",
       "  <tbody>\n",
       "    <tr>\n",
       "      <td>0</td>\n",
       "      <td>3</td>\n",
       "      <td>26</td>\n",
       "      <td>3</td>\n",
       "      <td>341</td>\n",
       "      <td>0</td>\n",
       "      <td>0</td>\n",
       "    </tr>\n",
       "    <tr>\n",
       "      <td>1</td>\n",
       "      <td>30</td>\n",
       "      <td>5</td>\n",
       "      <td>1</td>\n",
       "      <td>333</td>\n",
       "      <td>0</td>\n",
       "      <td>0</td>\n",
       "    </tr>\n",
       "    <tr>\n",
       "      <td>2</td>\n",
       "      <td>5</td>\n",
       "      <td>0</td>\n",
       "      <td>1</td>\n",
       "      <td>0</td>\n",
       "      <td>0</td>\n",
       "      <td>0</td>\n",
       "    </tr>\n",
       "    <tr>\n",
       "      <td>3</td>\n",
       "      <td>31</td>\n",
       "      <td>5</td>\n",
       "      <td>1</td>\n",
       "      <td>219</td>\n",
       "      <td>0</td>\n",
       "      <td>0</td>\n",
       "    </tr>\n",
       "    <tr>\n",
       "      <td>4</td>\n",
       "      <td>1</td>\n",
       "      <td>21</td>\n",
       "      <td>1</td>\n",
       "      <td>82</td>\n",
       "      <td>0</td>\n",
       "      <td>0</td>\n",
       "    </tr>\n",
       "  </tbody>\n",
       "</table>\n",
       "</div>"
      ],
      "text/plain": [
       "   minimum_nights  number_of_reviews  calculated_host_listings_count  \\\n",
       "0               3                 26                               3   \n",
       "1              30                  5                               1   \n",
       "2               5                  0                               1   \n",
       "3              31                  5                               1   \n",
       "4               1                 21                               1   \n",
       "\n",
       "   availability_365  ['room_type']_Private room  ['room_type']_Shared room  \n",
       "0               341                           0                          0  \n",
       "1               333                           0                          0  \n",
       "2                 0                           0                          0  \n",
       "3               219                           0                          0  \n",
       "4                82                           0                          0  "
      ]
     },
     "execution_count": 21,
     "metadata": {},
     "output_type": "execute_result"
    }
   ],
   "source": [
    "dummies = pd.get_dummies(df['room_type'], prefix=categoricals, drop_first=True)\n",
    "\n",
    "\n",
    "\n",
    "X = pd.concat([df, dummies], axis=1)\n",
    "X = X.drop(['room_type'], axis=1)\n",
    "\n",
    "X.head()"
   ]
  },
  {
   "cell_type": "code",
   "execution_count": 22,
   "metadata": {},
   "outputs": [
    {
     "ename": "NameError",
     "evalue": "name 'y' is not defined",
     "output_type": "error",
     "traceback": [
      "\u001b[0;31m---------------------------------------------------------------------------\u001b[0m",
      "\u001b[0;31mNameError\u001b[0m                                 Traceback (most recent call last)",
      "\u001b[0;32m<ipython-input-22-d1392d9a9516>\u001b[0m in \u001b[0;36m<module>\u001b[0;34m\u001b[0m\n\u001b[1;32m      1\u001b[0m \u001b[0;32mfrom\u001b[0m \u001b[0msklearn\u001b[0m\u001b[0;34m.\u001b[0m\u001b[0mmodel_selection\u001b[0m \u001b[0;32mimport\u001b[0m \u001b[0mtrain_test_split\u001b[0m\u001b[0;34m\u001b[0m\u001b[0;34m\u001b[0m\u001b[0m\n\u001b[1;32m      2\u001b[0m \u001b[0;34m\u001b[0m\u001b[0m\n\u001b[0;32m----> 3\u001b[0;31m \u001b[0mX_train\u001b[0m\u001b[0;34m,\u001b[0m \u001b[0mX_test\u001b[0m\u001b[0;34m,\u001b[0m \u001b[0my_train\u001b[0m\u001b[0;34m,\u001b[0m \u001b[0my_test\u001b[0m \u001b[0;34m=\u001b[0m \u001b[0mtrain_test_split\u001b[0m\u001b[0;34m(\u001b[0m\u001b[0mX\u001b[0m\u001b[0;34m,\u001b[0m \u001b[0my\u001b[0m\u001b[0;34m,\u001b[0m \u001b[0mtest_size\u001b[0m\u001b[0;34m=\u001b[0m\u001b[0;36m0.2\u001b[0m\u001b[0;34m,\u001b[0m \u001b[0mrandom_state\u001b[0m\u001b[0;34m=\u001b[0m\u001b[0;36m23\u001b[0m\u001b[0;34m)\u001b[0m\u001b[0;34m\u001b[0m\u001b[0;34m\u001b[0m\u001b[0m\n\u001b[0m",
      "\u001b[0;31mNameError\u001b[0m: name 'y' is not defined"
     ]
    }
   ],
   "source": [
    "from sklearn.model_selection import train_test_split\n",
    "\n",
    "X_train, X_test, y_train, y_test = train_test_split(X, y, test_size=0.2, random_state=23)"
   ]
  },
  {
   "cell_type": "code",
   "execution_count": 23,
   "metadata": {},
   "outputs": [
    {
     "ename": "NameError",
     "evalue": "name 'X_train' is not defined",
     "output_type": "error",
     "traceback": [
      "\u001b[0;31m---------------------------------------------------------------------------\u001b[0m",
      "\u001b[0;31mNameError\u001b[0m                                 Traceback (most recent call last)",
      "\u001b[0;32m<ipython-input-23-b122c4148c61>\u001b[0m in \u001b[0;36m<module>\u001b[0;34m\u001b[0m\n\u001b[0;32m----> 1\u001b[0;31m \u001b[0mfeatures\u001b[0m \u001b[0;34m=\u001b[0m \u001b[0mX_train\u001b[0m\u001b[0;34m\u001b[0m\u001b[0;34m\u001b[0m\u001b[0m\n\u001b[0m\u001b[1;32m      2\u001b[0m \u001b[0mlabels\u001b[0m \u001b[0;34m=\u001b[0m \u001b[0my_train\u001b[0m\u001b[0;34m\u001b[0m\u001b[0;34m\u001b[0m\u001b[0m\n",
      "\u001b[0;31mNameError\u001b[0m: name 'X_train' is not defined"
     ]
    }
   ],
   "source": [
    "features = X_train\n",
    "labels = y_train"
   ]
  },
  {
   "cell_type": "code",
   "execution_count": 24,
   "metadata": {},
   "outputs": [
    {
     "ename": "NameError",
     "evalue": "name 'X_train' is not defined",
     "output_type": "error",
     "traceback": [
      "\u001b[0;31m---------------------------------------------------------------------------\u001b[0m",
      "\u001b[0;31mNameError\u001b[0m                                 Traceback (most recent call last)",
      "\u001b[0;32m<ipython-input-24-73020798007e>\u001b[0m in \u001b[0;36m<module>\u001b[0;34m\u001b[0m\n\u001b[0;32m----> 1\u001b[0;31m \u001b[0mX_train\u001b[0m\u001b[0;34m.\u001b[0m\u001b[0mhead\u001b[0m\u001b[0;34m(\u001b[0m\u001b[0;34m)\u001b[0m\u001b[0;34m\u001b[0m\u001b[0;34m\u001b[0m\u001b[0m\n\u001b[0m",
      "\u001b[0;31mNameError\u001b[0m: name 'X_train' is not defined"
     ]
    }
   ],
   "source": [
    "X_train.head()"
   ]
  },
  {
   "cell_type": "code",
   "execution_count": 75,
   "metadata": {},
   "outputs": [
    {
     "data": {
      "text/plain": [
       "LinearRegression(copy_X=True, fit_intercept=True, n_jobs=None, normalize=False)"
      ]
     },
     "execution_count": 75,
     "metadata": {},
     "output_type": "execute_result"
    }
   ],
   "source": [
    "from sklearn.linear_model import LinearRegression\n",
    "\n",
    "my_model = LinearRegression()\n",
    "my_model.fit(features, labels)"
   ]
  },
  {
   "cell_type": "code",
   "execution_count": 76,
   "metadata": {},
   "outputs": [
    {
     "name": "stdout",
     "output_type": "stream",
     "text": [
      "203.5018303408126\n"
     ]
    }
   ],
   "source": [
    "from sklearn.metrics import mean_squared_error\n",
    "\n",
    "predictions = my_model.predict(features)\n",
    "mse = mean_squared_error(labels, predictions)\n",
    "rmse = np.sqrt(mse)\n",
    "\n",
    "print(rmse)"
   ]
  },
  {
   "cell_type": "code",
   "execution_count": 77,
   "metadata": {},
   "outputs": [
    {
     "data": {
      "text/plain": [
       "array([-9.99496440e-02, -3.47836552e-01,  3.11094427e-02,  1.76739681e-01,\n",
       "       -1.22472264e+02, -1.49474293e+02])"
      ]
     },
     "metadata": {},
     "output_type": "display_data"
    }
   ],
   "source": [
    "display(my_model.coef_)"
   ]
  },
  {
   "cell_type": "code",
   "execution_count": 78,
   "metadata": {},
   "outputs": [
    {
     "data": {
      "text/plain": [
       "200.26662618367692"
      ]
     },
     "metadata": {},
     "output_type": "display_data"
    }
   ],
   "source": [
    "display(my_model.intercept_)"
   ]
  },
  {
   "cell_type": "code",
   "execution_count": 79,
   "metadata": {},
   "outputs": [
    {
     "data": {
      "text/plain": [
       "array([[-9.99496440e-02],\n",
       "       [-3.47836552e-01],\n",
       "       [ 3.11094427e-02],\n",
       "       [ 1.76739681e-01],\n",
       "       [-1.22472264e+02],\n",
       "       [-1.49474293e+02]])"
      ]
     },
     "execution_count": 79,
     "metadata": {},
     "output_type": "execute_result"
    }
   ],
   "source": [
    "my_model.coef_.reshape(-1,1)"
   ]
  },
  {
   "cell_type": "code",
   "execution_count": 80,
   "metadata": {},
   "outputs": [
    {
     "data": {
      "text/html": [
       "<div>\n",
       "<style scoped>\n",
       "    .dataframe tbody tr th:only-of-type {\n",
       "        vertical-align: middle;\n",
       "    }\n",
       "\n",
       "    .dataframe tbody tr th {\n",
       "        vertical-align: top;\n",
       "    }\n",
       "\n",
       "    .dataframe thead th {\n",
       "        text-align: right;\n",
       "    }\n",
       "</style>\n",
       "<table border=\"1\" class=\"dataframe\">\n",
       "  <thead>\n",
       "    <tr style=\"text-align: right;\">\n",
       "      <th></th>\n",
       "      <th>minimum_nights</th>\n",
       "      <th>number_of_reviews</th>\n",
       "      <th>calculated_host_listings_count</th>\n",
       "      <th>availability_365</th>\n",
       "      <th>['room_type']_Private room</th>\n",
       "      <th>['room_type']_Shared room</th>\n",
       "    </tr>\n",
       "  </thead>\n",
       "  <tbody>\n",
       "    <tr>\n",
       "      <td>0</td>\n",
       "      <td>-0.09995</td>\n",
       "      <td>-0.347837</td>\n",
       "      <td>0.031109</td>\n",
       "      <td>0.17674</td>\n",
       "      <td>-122.472264</td>\n",
       "      <td>-149.474293</td>\n",
       "    </tr>\n",
       "  </tbody>\n",
       "</table>\n",
       "</div>"
      ],
      "text/plain": [
       "   minimum_nights  number_of_reviews  calculated_host_listings_count  \\\n",
       "0        -0.09995          -0.347837                        0.031109   \n",
       "\n",
       "   availability_365  ['room_type']_Private room  ['room_type']_Shared room  \n",
       "0           0.17674                 -122.472264                -149.474293  "
      ]
     },
     "execution_count": 80,
     "metadata": {},
     "output_type": "execute_result"
    }
   ],
   "source": [
    "pd.DataFrame(data=my_model.coef_.reshape(1, -1), columns=features.columns)"
   ]
  },
  {
   "cell_type": "code",
   "execution_count": 81,
   "metadata": {},
   "outputs": [
    {
     "data": {
      "text/plain": [
       "array([243.39464847, 232.72990506, 179.02823436, 186.777091  ,\n",
       "       163.38592079, 242.00186954, 200.783307  , 145.10668338,\n",
       "       188.92960087, 227.36341527])"
      ]
     },
     "metadata": {},
     "output_type": "display_data"
    },
    {
     "data": {
      "text/plain": [
       "200.950067571588"
      ]
     },
     "metadata": {},
     "output_type": "display_data"
    },
    {
     "data": {
      "text/plain": [
       "32.48064661698816"
      ]
     },
     "metadata": {},
     "output_type": "display_data"
    }
   ],
   "source": [
    "from sklearn.model_selection import cross_val_score\n",
    "\n",
    "scores = cross_val_score(\n",
    "            my_model, \n",
    "            features,\n",
    "            labels,\n",
    "            cv=10,\n",
    "            scoring=\"neg_mean_squared_error\"\n",
    ")\n",
    "\n",
    "rmse_scores = np.sqrt(-scores)\n",
    "display(rmse_scores)\n",
    "display(rmse_scores.mean())\n",
    "display(rmse_scores.std())"
   ]
  },
  {
   "cell_type": "code",
   "execution_count": 82,
   "metadata": {},
   "outputs": [
    {
     "data": {
      "text/plain": [
       "221.59490965154006"
      ]
     },
     "execution_count": 82,
     "metadata": {},
     "output_type": "execute_result"
    }
   ],
   "source": [
    "y.std()"
   ]
  },
  {
   "cell_type": "code",
   "execution_count": 83,
   "metadata": {},
   "outputs": [],
   "source": [
    "from statsmodels.formula.api import ols"
   ]
  },
  {
   "cell_type": "code",
   "execution_count": 88,
   "metadata": {},
   "outputs": [],
   "source": [
    "y_values = y.values\n",
    "X_values = X.values"
   ]
  },
  {
   "cell_type": "code",
   "execution_count": 103,
   "metadata": {},
   "outputs": [
    {
     "name": "stdout",
     "output_type": "stream",
     "text": [
      "<class 'pandas.core.frame.DataFrame'>\n",
      "Int64Index: 31284 entries, 0 to 31291\n",
      "Data columns (total 6 columns):\n",
      "minimum_nights                    31284 non-null int64\n",
      "number_of_reviews                 31284 non-null int64\n",
      "calculated_host_listings_count    31284 non-null int64\n",
      "availability_365                  31284 non-null int64\n",
      "['room_type']_Private room        31284 non-null uint8\n",
      "['room_type']_Shared room         31284 non-null uint8\n",
      "dtypes: int64(4), uint8(2)\n",
      "memory usage: 1.3 MB\n"
     ]
    }
   ],
   "source": [
    "X.info()"
   ]
  },
  {
   "cell_type": "code",
   "execution_count": 110,
   "metadata": {},
   "outputs": [],
   "source": [
    "final = X.copy()"
   ]
  },
  {
   "cell_type": "code",
   "execution_count": 119,
   "metadata": {},
   "outputs": [
    {
     "name": "stderr",
     "output_type": "stream",
     "text": [
      "/Users/badmin/opt/anaconda3/envs/learn-env/lib/python3.6/site-packages/numpy/core/fromnumeric.py:2389: FutureWarning: Method .ptp is deprecated and will be removed in a future version. Use numpy.ptp instead.\n",
      "  return ptp(axis=axis, out=out, **kwargs)\n"
     ]
    },
    {
     "data": {
      "text/html": [
       "<table class=\"simpletable\">\n",
       "<caption>OLS Regression Results</caption>\n",
       "<tr>\n",
       "  <th>Dep. Variable:</th>          <td>price</td>      <th>  R-squared (uncentered):</th>       <td>   0.127</td>  \n",
       "</tr>\n",
       "<tr>\n",
       "  <th>Model:</th>                   <td>OLS</td>       <th>  Adj. R-squared (uncentered):</th>  <td>   0.127</td>  \n",
       "</tr>\n",
       "<tr>\n",
       "  <th>Method:</th>             <td>Least Squares</td>  <th>  F-statistic:       </th>           <td>   909.3</td>  \n",
       "</tr>\n",
       "<tr>\n",
       "  <th>Date:</th>             <td>Sun, 26 Apr 2020</td> <th>  Prob (F-statistic):</th>            <td>  0.00</td>   \n",
       "</tr>\n",
       "<tr>\n",
       "  <th>Time:</th>                 <td>14:42:32</td>     <th>  Log-Likelihood:    </th>          <td>-2.1720e+05</td>\n",
       "</tr>\n",
       "<tr>\n",
       "  <th>No. Observations:</th>      <td> 31284</td>      <th>  AIC:               </th>           <td>4.344e+05</td> \n",
       "</tr>\n",
       "<tr>\n",
       "  <th>Df Residuals:</th>          <td> 31279</td>      <th>  BIC:               </th>           <td>4.345e+05</td> \n",
       "</tr>\n",
       "<tr>\n",
       "  <th>Df Model:</th>              <td>     5</td>      <th>                     </th>               <td> </td>     \n",
       "</tr>\n",
       "<tr>\n",
       "  <th>Covariance Type:</th>      <td>nonrobust</td>    <th>                     </th>               <td> </td>     \n",
       "</tr>\n",
       "</table>\n",
       "<table class=\"simpletable\">\n",
       "<tr>\n",
       "                 <td></td>                   <th>coef</th>     <th>std err</th>      <th>t</th>      <th>P>|t|</th>  <th>[0.025</th>    <th>0.975]</th>  \n",
       "</tr>\n",
       "<tr>\n",
       "  <th>minimum_nights</th>                 <td>    2.1077</td> <td>    0.071</td> <td>   29.546</td> <td> 0.000</td> <td>    1.968</td> <td>    2.248</td>\n",
       "</tr>\n",
       "<tr>\n",
       "  <th>number_of_reviews</th>              <td>    0.8831</td> <td>    0.030</td> <td>   29.102</td> <td> 0.000</td> <td>    0.824</td> <td>    0.943</td>\n",
       "</tr>\n",
       "<tr>\n",
       "  <th>calculated_host_listings_count</th> <td>    0.9867</td> <td>    0.043</td> <td>   22.974</td> <td> 0.000</td> <td>    0.903</td> <td>    1.071</td>\n",
       "</tr>\n",
       "<tr>\n",
       "  <th>['room_type']_Private room</th>     <td>   54.6501</td> <td>    2.239</td> <td>   24.413</td> <td> 0.000</td> <td>   50.262</td> <td>   59.038</td>\n",
       "</tr>\n",
       "<tr>\n",
       "  <th>['room_type']_Shared room</th>      <td>   37.4565</td> <td>    9.078</td> <td>    4.126</td> <td> 0.000</td> <td>   19.663</td> <td>   55.251</td>\n",
       "</tr>\n",
       "</table>\n",
       "<table class=\"simpletable\">\n",
       "<tr>\n",
       "  <th>Omnibus:</th>       <td>57852.141</td> <th>  Durbin-Watson:     </th>   <td>   1.776</td>   \n",
       "</tr>\n",
       "<tr>\n",
       "  <th>Prob(Omnibus):</th>  <td> 0.000</td>   <th>  Jarque-Bera (JB):  </th> <td>177455456.848</td>\n",
       "</tr>\n",
       "<tr>\n",
       "  <th>Skew:</th>           <td>13.643</td>   <th>  Prob(JB):          </th>   <td>    0.00</td>   \n",
       "</tr>\n",
       "<tr>\n",
       "  <th>Kurtosis:</th>       <td>370.958</td>  <th>  Cond. No.          </th>   <td>    317.</td>   \n",
       "</tr>\n",
       "</table><br/><br/>Warnings:<br/>[1] Standard Errors assume that the covariance matrix of the errors is correctly specified."
      ],
      "text/plain": [
       "<class 'statsmodels.iolib.summary.Summary'>\n",
       "\"\"\"\n",
       "                                 OLS Regression Results                                \n",
       "=======================================================================================\n",
       "Dep. Variable:                  price   R-squared (uncentered):                   0.127\n",
       "Model:                            OLS   Adj. R-squared (uncentered):              0.127\n",
       "Method:                 Least Squares   F-statistic:                              909.3\n",
       "Date:                Sun, 26 Apr 2020   Prob (F-statistic):                        0.00\n",
       "Time:                        14:42:32   Log-Likelihood:                     -2.1720e+05\n",
       "No. Observations:               31284   AIC:                                  4.344e+05\n",
       "Df Residuals:                   31279   BIC:                                  4.345e+05\n",
       "Df Model:                           5                                                  \n",
       "Covariance Type:            nonrobust                                                  \n",
       "==================================================================================================\n",
       "                                     coef    std err          t      P>|t|      [0.025      0.975]\n",
       "--------------------------------------------------------------------------------------------------\n",
       "minimum_nights                     2.1077      0.071     29.546      0.000       1.968       2.248\n",
       "number_of_reviews                  0.8831      0.030     29.102      0.000       0.824       0.943\n",
       "calculated_host_listings_count     0.9867      0.043     22.974      0.000       0.903       1.071\n",
       "['room_type']_Private room        54.6501      2.239     24.413      0.000      50.262      59.038\n",
       "['room_type']_Shared room         37.4565      9.078      4.126      0.000      19.663      55.251\n",
       "==============================================================================\n",
       "Omnibus:                    57852.141   Durbin-Watson:                   1.776\n",
       "Prob(Omnibus):                  0.000   Jarque-Bera (JB):        177455456.848\n",
       "Skew:                          13.643   Prob(JB):                         0.00\n",
       "Kurtosis:                     370.958   Cond. No.                         317.\n",
       "==============================================================================\n",
       "\n",
       "Warnings:\n",
       "[1] Standard Errors assume that the covariance matrix of the errors is correctly specified.\n",
       "\"\"\""
      ]
     },
     "execution_count": 119,
     "metadata": {},
     "output_type": "execute_result"
    }
   ],
   "source": [
    "import statsmodels.api as sm\n",
    "df_inter_sm = sm.add_constant(final)\n",
    "model = sm.OLS(y,final)\n",
    "results = model.fit()\n",
    "\n",
    "results.summary()"
   ]
  },
  {
   "cell_type": "code",
   "execution_count": 114,
   "metadata": {},
   "outputs": [
    {
     "data": {
      "text/plain": [
       "(6257, 6)"
      ]
     },
     "execution_count": 114,
     "metadata": {},
     "output_type": "execute_result"
    }
   ],
   "source": [
    "X_test.shape"
   ]
  },
  {
   "cell_type": "code",
   "execution_count": 115,
   "metadata": {},
   "outputs": [
    {
     "data": {
      "text/plain": [
       "(6257,)"
      ]
     },
     "execution_count": 115,
     "metadata": {},
     "output_type": "execute_result"
    }
   ],
   "source": [
    "y_hat.shape"
   ]
  },
  {
   "cell_type": "code",
   "execution_count": 117,
   "metadata": {},
   "outputs": [
    {
     "data": {
      "text/plain": [
       "array([102.46648481, 199.1023143 , 185.69950279, ..., 223.9869381 ,\n",
       "       210.74961643,  77.7255221 ])"
      ]
     },
     "execution_count": 117,
     "metadata": {},
     "output_type": "execute_result"
    }
   ],
   "source": [
    "y_hat = my_model.predict(X_test)\n",
    "y_hat"
   ]
  },
  {
   "cell_type": "code",
   "execution_count": 118,
   "metadata": {},
   "outputs": [
    {
     "data": {
      "text/plain": [
       "2471     -36.533515\n",
       "15572     -0.897686\n",
       "15932     11.699503\n",
       "31214   -124.062547\n",
       "641      -75.890524\n",
       "10154     25.538553\n",
       "937       66.607071\n",
       "29264    -23.307731\n",
       "29342     12.177786\n",
       "14904     -0.749748\n",
       "1207     140.611633\n",
       "8913      81.665334\n",
       "20843    -19.529028\n",
       "18388     -2.084432\n",
       "1381      74.897133\n",
       "3257      70.197786\n",
       "15373     80.104194\n",
       "20310   -150.287731\n",
       "10830     32.033436\n",
       "4183     141.274935\n",
       "13350    -33.529716\n",
       "10247     82.384951\n",
       "30284     58.428625\n",
       "5366      52.511069\n",
       "26704     75.846670\n",
       "Name: price, dtype: float64"
      ]
     },
     "execution_count": 118,
     "metadata": {},
     "output_type": "execute_result"
    }
   ],
   "source": [
    "residuals = y_hat - y_test\n",
    "residuals.head(25)"
   ]
  },
  {
   "cell_type": "code",
   "execution_count": null,
   "metadata": {},
   "outputs": [],
   "source": []
  }
 ],
 "metadata": {
  "kernelspec": {
   "display_name": "Python 3",
   "language": "python",
   "name": "python3"
  },
  "language_info": {
   "codemirror_mode": {
    "name": "ipython",
    "version": 3
   },
   "file_extension": ".py",
   "mimetype": "text/x-python",
   "name": "python",
   "nbconvert_exporter": "python",
   "pygments_lexer": "ipython3",
   "version": "3.6.9"
  },
  "toc": {
   "base_numbering": 1,
   "nav_menu": {},
   "number_sections": true,
   "sideBar": true,
   "skip_h1_title": false,
   "title_cell": "Table of Contents",
   "title_sidebar": "Contents",
   "toc_cell": true,
   "toc_position": {},
   "toc_section_display": true,
   "toc_window_display": false
  }
 },
 "nbformat": 4,
 "nbformat_minor": 2
}
