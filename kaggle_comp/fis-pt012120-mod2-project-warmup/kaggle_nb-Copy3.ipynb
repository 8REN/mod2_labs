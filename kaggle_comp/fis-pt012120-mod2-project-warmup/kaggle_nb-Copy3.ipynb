{
 "cells": [
  {
   "cell_type": "markdown",
   "metadata": {
    "toc": true
   },
   "source": [
    "<h1>Table of Contents<span class=\"tocSkip\"></span></h1>\n",
    "<div class=\"toc\"><ul class=\"toc-item\"></ul></div>"
   ]
  },
  {
   "cell_type": "code",
   "execution_count": 44,
   "metadata": {},
   "outputs": [],
   "source": [
    "import matplotlib.pyplot as plt\n",
    "import pandas as pd\n",
    "import seaborn as sns\n",
    "train = pd.read_csv('test.csv')\n"
   ]
  },
  {
   "cell_type": "code",
   "execution_count": 45,
   "metadata": {},
   "outputs": [
    {
     "data": {
      "text/html": [
       "<div>\n",
       "<style scoped>\n",
       "    .dataframe tbody tr th:only-of-type {\n",
       "        vertical-align: middle;\n",
       "    }\n",
       "\n",
       "    .dataframe tbody tr th {\n",
       "        vertical-align: top;\n",
       "    }\n",
       "\n",
       "    .dataframe thead th {\n",
       "        text-align: right;\n",
       "    }\n",
       "</style>\n",
       "<table border=\"1\" class=\"dataframe\">\n",
       "  <thead>\n",
       "    <tr style=\"text-align: right;\">\n",
       "      <th></th>\n",
       "      <th>id</th>\n",
       "      <th>host_id</th>\n",
       "      <th>host_name</th>\n",
       "      <th>latitude</th>\n",
       "      <th>longitude</th>\n",
       "      <th>room_type</th>\n",
       "      <th>minimum_nights</th>\n",
       "      <th>number_of_reviews</th>\n",
       "      <th>last_review</th>\n",
       "      <th>reviews_per_month</th>\n",
       "      <th>calculated_host_listings_count</th>\n",
       "      <th>availability_365</th>\n",
       "    </tr>\n",
       "  </thead>\n",
       "  <tbody>\n",
       "    <tr>\n",
       "      <td>0</td>\n",
       "      <td>21399885</td>\n",
       "      <td>96664487</td>\n",
       "      <td>Hupeto</td>\n",
       "      <td>40.68742</td>\n",
       "      <td>-73.91628</td>\n",
       "      <td>Entire home/apt</td>\n",
       "      <td>3</td>\n",
       "      <td>26</td>\n",
       "      <td>2019-06-18</td>\n",
       "      <td>1.41</td>\n",
       "      <td>3</td>\n",
       "      <td>341</td>\n",
       "    </tr>\n",
       "    <tr>\n",
       "      <td>1</td>\n",
       "      <td>35037136</td>\n",
       "      <td>120111937</td>\n",
       "      <td>Madea And Julian</td>\n",
       "      <td>40.70865</td>\n",
       "      <td>-73.96673</td>\n",
       "      <td>Entire home/apt</td>\n",
       "      <td>30</td>\n",
       "      <td>5</td>\n",
       "      <td>2019-06-23</td>\n",
       "      <td>3.33</td>\n",
       "      <td>1</td>\n",
       "      <td>333</td>\n",
       "    </tr>\n",
       "    <tr>\n",
       "      <td>2</td>\n",
       "      <td>13330602</td>\n",
       "      <td>27977872</td>\n",
       "      <td>Dana</td>\n",
       "      <td>40.70716</td>\n",
       "      <td>-74.01155</td>\n",
       "      <td>Entire home/apt</td>\n",
       "      <td>5</td>\n",
       "      <td>0</td>\n",
       "      <td>NaN</td>\n",
       "      <td>NaN</td>\n",
       "      <td>1</td>\n",
       "      <td>0</td>\n",
       "    </tr>\n",
       "    <tr>\n",
       "      <td>3</td>\n",
       "      <td>33951037</td>\n",
       "      <td>254472726</td>\n",
       "      <td>Jerick</td>\n",
       "      <td>40.73198</td>\n",
       "      <td>-74.00526</td>\n",
       "      <td>Entire home/apt</td>\n",
       "      <td>31</td>\n",
       "      <td>5</td>\n",
       "      <td>2019-05-23</td>\n",
       "      <td>1.92</td>\n",
       "      <td>1</td>\n",
       "      <td>219</td>\n",
       "    </tr>\n",
       "    <tr>\n",
       "      <td>4</td>\n",
       "      <td>28692911</td>\n",
       "      <td>12166742</td>\n",
       "      <td>Yizak</td>\n",
       "      <td>40.62515</td>\n",
       "      <td>-73.94409</td>\n",
       "      <td>Entire home/apt</td>\n",
       "      <td>1</td>\n",
       "      <td>21</td>\n",
       "      <td>2019-07-05</td>\n",
       "      <td>2.26</td>\n",
       "      <td>1</td>\n",
       "      <td>82</td>\n",
       "    </tr>\n",
       "    <tr>\n",
       "      <td>5</td>\n",
       "      <td>28389754</td>\n",
       "      <td>23120620</td>\n",
       "      <td>Jackie</td>\n",
       "      <td>40.73862</td>\n",
       "      <td>-73.80808</td>\n",
       "      <td>Private room</td>\n",
       "      <td>1</td>\n",
       "      <td>2</td>\n",
       "      <td>2019-05-20</td>\n",
       "      <td>0.52</td>\n",
       "      <td>5</td>\n",
       "      <td>90</td>\n",
       "    </tr>\n",
       "    <tr>\n",
       "      <td>6</td>\n",
       "      <td>24348078</td>\n",
       "      <td>176427055</td>\n",
       "      <td>Adam</td>\n",
       "      <td>40.76649</td>\n",
       "      <td>-73.92643</td>\n",
       "      <td>Private room</td>\n",
       "      <td>1</td>\n",
       "      <td>102</td>\n",
       "      <td>2019-07-07</td>\n",
       "      <td>6.77</td>\n",
       "      <td>1</td>\n",
       "      <td>348</td>\n",
       "    </tr>\n",
       "    <tr>\n",
       "      <td>7</td>\n",
       "      <td>4660022</td>\n",
       "      <td>745486</td>\n",
       "      <td>Re</td>\n",
       "      <td>40.72592</td>\n",
       "      <td>-73.99933</td>\n",
       "      <td>Entire home/apt</td>\n",
       "      <td>1</td>\n",
       "      <td>66</td>\n",
       "      <td>2019-06-24</td>\n",
       "      <td>1.18</td>\n",
       "      <td>1</td>\n",
       "      <td>365</td>\n",
       "    </tr>\n",
       "    <tr>\n",
       "      <td>8</td>\n",
       "      <td>23172490</td>\n",
       "      <td>117108525</td>\n",
       "      <td>Sen</td>\n",
       "      <td>40.74759</td>\n",
       "      <td>-73.91446</td>\n",
       "      <td>Private room</td>\n",
       "      <td>1</td>\n",
       "      <td>78</td>\n",
       "      <td>2019-06-28</td>\n",
       "      <td>4.62</td>\n",
       "      <td>2</td>\n",
       "      <td>116</td>\n",
       "    </tr>\n",
       "    <tr>\n",
       "      <td>9</td>\n",
       "      <td>9345056</td>\n",
       "      <td>16963843</td>\n",
       "      <td>Martina</td>\n",
       "      <td>40.69902</td>\n",
       "      <td>-73.92195</td>\n",
       "      <td>Private room</td>\n",
       "      <td>5</td>\n",
       "      <td>28</td>\n",
       "      <td>2018-08-20</td>\n",
       "      <td>1.36</td>\n",
       "      <td>2</td>\n",
       "      <td>0</td>\n",
       "    </tr>\n",
       "  </tbody>\n",
       "</table>\n",
       "</div>"
      ],
      "text/plain": [
       "         id    host_id         host_name  latitude  longitude  \\\n",
       "0  21399885   96664487            Hupeto  40.68742  -73.91628   \n",
       "1  35037136  120111937  Madea And Julian  40.70865  -73.96673   \n",
       "2  13330602   27977872              Dana  40.70716  -74.01155   \n",
       "3  33951037  254472726            Jerick  40.73198  -74.00526   \n",
       "4  28692911   12166742             Yizak  40.62515  -73.94409   \n",
       "5  28389754   23120620            Jackie  40.73862  -73.80808   \n",
       "6  24348078  176427055              Adam  40.76649  -73.92643   \n",
       "7   4660022     745486                Re  40.72592  -73.99933   \n",
       "8  23172490  117108525               Sen  40.74759  -73.91446   \n",
       "9   9345056   16963843           Martina  40.69902  -73.92195   \n",
       "\n",
       "         room_type  minimum_nights  number_of_reviews last_review  \\\n",
       "0  Entire home/apt               3                 26  2019-06-18   \n",
       "1  Entire home/apt              30                  5  2019-06-23   \n",
       "2  Entire home/apt               5                  0         NaN   \n",
       "3  Entire home/apt              31                  5  2019-05-23   \n",
       "4  Entire home/apt               1                 21  2019-07-05   \n",
       "5     Private room               1                  2  2019-05-20   \n",
       "6     Private room               1                102  2019-07-07   \n",
       "7  Entire home/apt               1                 66  2019-06-24   \n",
       "8     Private room               1                 78  2019-06-28   \n",
       "9     Private room               5                 28  2018-08-20   \n",
       "\n",
       "   reviews_per_month  calculated_host_listings_count  availability_365  \n",
       "0               1.41                               3               341  \n",
       "1               3.33                               1               333  \n",
       "2                NaN                               1                 0  \n",
       "3               1.92                               1               219  \n",
       "4               2.26                               1                82  \n",
       "5               0.52                               5                90  \n",
       "6               6.77                               1               348  \n",
       "7               1.18                               1               365  \n",
       "8               4.62                               2               116  \n",
       "9               1.36                               2                 0  "
      ]
     },
     "execution_count": 45,
     "metadata": {},
     "output_type": "execute_result"
    }
   ],
   "source": [
    "train.head(10)"
   ]
  },
  {
   "cell_type": "code",
   "execution_count": 46,
   "metadata": {},
   "outputs": [
    {
     "name": "stdout",
     "output_type": "stream",
     "text": [
      "<class 'pandas.core.frame.DataFrame'>\n",
      "RangeIndex: 7824 entries, 0 to 7823\n",
      "Data columns (total 12 columns):\n",
      "id                                7824 non-null int64\n",
      "host_id                           7824 non-null int64\n",
      "host_name                         7820 non-null object\n",
      "latitude                          7824 non-null float64\n",
      "longitude                         7824 non-null float64\n",
      "room_type                         7824 non-null object\n",
      "minimum_nights                    7824 non-null int64\n",
      "number_of_reviews                 7824 non-null int64\n",
      "last_review                       6295 non-null object\n",
      "reviews_per_month                 6295 non-null float64\n",
      "calculated_host_listings_count    7824 non-null int64\n",
      "availability_365                  7824 non-null int64\n",
      "dtypes: float64(3), int64(6), object(3)\n",
      "memory usage: 733.6+ KB\n"
     ]
    }
   ],
   "source": [
    "train.info()"
   ]
  },
  {
   "cell_type": "code",
   "execution_count": 47,
   "metadata": {},
   "outputs": [
    {
     "data": {
      "text/html": [
       "<div>\n",
       "<style scoped>\n",
       "    .dataframe tbody tr th:only-of-type {\n",
       "        vertical-align: middle;\n",
       "    }\n",
       "\n",
       "    .dataframe tbody tr th {\n",
       "        vertical-align: top;\n",
       "    }\n",
       "\n",
       "    .dataframe thead th {\n",
       "        text-align: right;\n",
       "    }\n",
       "</style>\n",
       "<table border=\"1\" class=\"dataframe\">\n",
       "  <thead>\n",
       "    <tr style=\"text-align: right;\">\n",
       "      <th></th>\n",
       "      <th>id</th>\n",
       "      <th>host_id</th>\n",
       "      <th>latitude</th>\n",
       "      <th>longitude</th>\n",
       "      <th>minimum_nights</th>\n",
       "      <th>number_of_reviews</th>\n",
       "      <th>reviews_per_month</th>\n",
       "      <th>calculated_host_listings_count</th>\n",
       "      <th>availability_365</th>\n",
       "    </tr>\n",
       "  </thead>\n",
       "  <tbody>\n",
       "    <tr>\n",
       "      <td>count</td>\n",
       "      <td>7.824000e+03</td>\n",
       "      <td>7.824000e+03</td>\n",
       "      <td>7824.000000</td>\n",
       "      <td>7824.000000</td>\n",
       "      <td>7824.000000</td>\n",
       "      <td>7824.000000</td>\n",
       "      <td>6295.000000</td>\n",
       "      <td>7824.000000</td>\n",
       "      <td>7824.000000</td>\n",
       "    </tr>\n",
       "    <tr>\n",
       "      <td>mean</td>\n",
       "      <td>1.890081e+07</td>\n",
       "      <td>6.764486e+07</td>\n",
       "      <td>40.729073</td>\n",
       "      <td>-73.951980</td>\n",
       "      <td>7.269427</td>\n",
       "      <td>24.248594</td>\n",
       "      <td>1.380986</td>\n",
       "      <td>6.995527</td>\n",
       "      <td>114.468430</td>\n",
       "    </tr>\n",
       "    <tr>\n",
       "      <td>std</td>\n",
       "      <td>1.104529e+07</td>\n",
       "      <td>7.895703e+07</td>\n",
       "      <td>0.053794</td>\n",
       "      <td>0.046807</td>\n",
       "      <td>21.015574</td>\n",
       "      <td>46.532751</td>\n",
       "      <td>1.647855</td>\n",
       "      <td>32.709043</td>\n",
       "      <td>132.209046</td>\n",
       "    </tr>\n",
       "    <tr>\n",
       "      <td>min</td>\n",
       "      <td>5.099000e+03</td>\n",
       "      <td>2.787000e+03</td>\n",
       "      <td>40.508680</td>\n",
       "      <td>-74.244420</td>\n",
       "      <td>1.000000</td>\n",
       "      <td>0.000000</td>\n",
       "      <td>0.010000</td>\n",
       "      <td>1.000000</td>\n",
       "      <td>0.000000</td>\n",
       "    </tr>\n",
       "    <tr>\n",
       "      <td>25%</td>\n",
       "      <td>9.351911e+06</td>\n",
       "      <td>7.611178e+06</td>\n",
       "      <td>40.690845</td>\n",
       "      <td>-73.983272</td>\n",
       "      <td>1.000000</td>\n",
       "      <td>1.000000</td>\n",
       "      <td>0.185000</td>\n",
       "      <td>1.000000</td>\n",
       "      <td>0.000000</td>\n",
       "    </tr>\n",
       "    <tr>\n",
       "      <td>50%</td>\n",
       "      <td>1.956433e+07</td>\n",
       "      <td>3.042285e+07</td>\n",
       "      <td>40.723535</td>\n",
       "      <td>-73.955800</td>\n",
       "      <td>3.000000</td>\n",
       "      <td>5.000000</td>\n",
       "      <td>0.730000</td>\n",
       "      <td>1.000000</td>\n",
       "      <td>49.000000</td>\n",
       "    </tr>\n",
       "    <tr>\n",
       "      <td>75%</td>\n",
       "      <td>2.919030e+07</td>\n",
       "      <td>1.074344e+08</td>\n",
       "      <td>40.763015</td>\n",
       "      <td>-73.936858</td>\n",
       "      <td>5.000000</td>\n",
       "      <td>24.000000</td>\n",
       "      <td>2.050000</td>\n",
       "      <td>2.000000</td>\n",
       "      <td>229.000000</td>\n",
       "    </tr>\n",
       "    <tr>\n",
       "      <td>max</td>\n",
       "      <td>3.648543e+07</td>\n",
       "      <td>2.741034e+08</td>\n",
       "      <td>40.911670</td>\n",
       "      <td>-73.719280</td>\n",
       "      <td>500.000000</td>\n",
       "      <td>458.000000</td>\n",
       "      <td>16.030000</td>\n",
       "      <td>327.000000</td>\n",
       "      <td>365.000000</td>\n",
       "    </tr>\n",
       "  </tbody>\n",
       "</table>\n",
       "</div>"
      ],
      "text/plain": [
       "                 id       host_id     latitude    longitude  minimum_nights  \\\n",
       "count  7.824000e+03  7.824000e+03  7824.000000  7824.000000     7824.000000   \n",
       "mean   1.890081e+07  6.764486e+07    40.729073   -73.951980        7.269427   \n",
       "std    1.104529e+07  7.895703e+07     0.053794     0.046807       21.015574   \n",
       "min    5.099000e+03  2.787000e+03    40.508680   -74.244420        1.000000   \n",
       "25%    9.351911e+06  7.611178e+06    40.690845   -73.983272        1.000000   \n",
       "50%    1.956433e+07  3.042285e+07    40.723535   -73.955800        3.000000   \n",
       "75%    2.919030e+07  1.074344e+08    40.763015   -73.936858        5.000000   \n",
       "max    3.648543e+07  2.741034e+08    40.911670   -73.719280      500.000000   \n",
       "\n",
       "       number_of_reviews  reviews_per_month  calculated_host_listings_count  \\\n",
       "count        7824.000000        6295.000000                     7824.000000   \n",
       "mean           24.248594           1.380986                        6.995527   \n",
       "std            46.532751           1.647855                       32.709043   \n",
       "min             0.000000           0.010000                        1.000000   \n",
       "25%             1.000000           0.185000                        1.000000   \n",
       "50%             5.000000           0.730000                        1.000000   \n",
       "75%            24.000000           2.050000                        2.000000   \n",
       "max           458.000000          16.030000                      327.000000   \n",
       "\n",
       "       availability_365  \n",
       "count       7824.000000  \n",
       "mean         114.468430  \n",
       "std          132.209046  \n",
       "min            0.000000  \n",
       "25%            0.000000  \n",
       "50%           49.000000  \n",
       "75%          229.000000  \n",
       "max          365.000000  "
      ]
     },
     "execution_count": 47,
     "metadata": {},
     "output_type": "execute_result"
    }
   ],
   "source": [
    "train.describe()"
   ]
  },
  {
   "cell_type": "code",
   "execution_count": 50,
   "metadata": {},
   "outputs": [
    {
     "data": {
      "text/plain": [
       "id                                   0\n",
       "host_id                              0\n",
       "host_name                            4\n",
       "latitude                             0\n",
       "longitude                            0\n",
       "room_type                            0\n",
       "minimum_nights                       0\n",
       "number_of_reviews                    0\n",
       "last_review                       1529\n",
       "reviews_per_month                 1529\n",
       "calculated_host_listings_count       0\n",
       "availability_365                     0\n",
       "dtype: int64"
      ]
     },
     "execution_count": 50,
     "metadata": {},
     "output_type": "execute_result"
    }
   ],
   "source": [
    "train.isna().sum()"
   ]
  },
  {
   "cell_type": "code",
   "execution_count": 51,
   "metadata": {},
   "outputs": [
    {
     "name": "stdout",
     "output_type": "stream",
     "text": [
      "<class 'pandas.core.frame.DataFrame'>\n",
      "RangeIndex: 7824 entries, 0 to 7823\n",
      "Data columns (total 12 columns):\n",
      "id                                7824 non-null int64\n",
      "host_id                           7824 non-null int64\n",
      "host_name                         7820 non-null object\n",
      "latitude                          7824 non-null float64\n",
      "longitude                         7824 non-null float64\n",
      "room_type                         7824 non-null object\n",
      "minimum_nights                    7824 non-null int64\n",
      "number_of_reviews                 7824 non-null int64\n",
      "last_review                       6295 non-null object\n",
      "reviews_per_month                 6295 non-null float64\n",
      "calculated_host_listings_count    7824 non-null int64\n",
      "availability_365                  7824 non-null int64\n",
      "dtypes: float64(3), int64(6), object(3)\n",
      "memory usage: 733.6+ KB\n"
     ]
    }
   ],
   "source": [
    "train.info()"
   ]
  },
  {
   "cell_type": "code",
   "execution_count": 52,
   "metadata": {},
   "outputs": [],
   "source": [
    "continuous = ['minimum_nights ', 'number_of_reviews ', 'calculated_host_listings_count ', 'availability_365 ']\n",
    "categoricals =  ['room_type']"
   ]
  },
  {
   "cell_type": "code",
   "execution_count": null,
   "metadata": {},
   "outputs": [],
   "source": []
  },
  {
   "cell_type": "code",
   "execution_count": 14,
   "metadata": {},
   "outputs": [
    {
     "data": {
      "text/plain": [
       "0"
      ]
     },
     "execution_count": 14,
     "metadata": {},
     "output_type": "execute_result"
    }
   ],
   "source": [
    "train.duplicated().sum()"
   ]
  },
  {
   "cell_type": "code",
   "execution_count": 53,
   "metadata": {},
   "outputs": [
    {
     "data": {
      "text/html": [
       "<div>\n",
       "<style scoped>\n",
       "    .dataframe tbody tr th:only-of-type {\n",
       "        vertical-align: middle;\n",
       "    }\n",
       "\n",
       "    .dataframe tbody tr th {\n",
       "        vertical-align: top;\n",
       "    }\n",
       "\n",
       "    .dataframe thead th {\n",
       "        text-align: right;\n",
       "    }\n",
       "</style>\n",
       "<table border=\"1\" class=\"dataframe\">\n",
       "  <thead>\n",
       "    <tr style=\"text-align: right;\">\n",
       "      <th></th>\n",
       "      <th>room_type</th>\n",
       "      <th>minimum_nights</th>\n",
       "      <th>number_of_reviews</th>\n",
       "      <th>calculated_host_listings_count</th>\n",
       "      <th>availability_365</th>\n",
       "    </tr>\n",
       "  </thead>\n",
       "  <tbody>\n",
       "    <tr>\n",
       "      <td>0</td>\n",
       "      <td>Entire home/apt</td>\n",
       "      <td>3</td>\n",
       "      <td>26</td>\n",
       "      <td>3</td>\n",
       "      <td>341</td>\n",
       "    </tr>\n",
       "    <tr>\n",
       "      <td>1</td>\n",
       "      <td>Entire home/apt</td>\n",
       "      <td>30</td>\n",
       "      <td>5</td>\n",
       "      <td>1</td>\n",
       "      <td>333</td>\n",
       "    </tr>\n",
       "    <tr>\n",
       "      <td>2</td>\n",
       "      <td>Entire home/apt</td>\n",
       "      <td>5</td>\n",
       "      <td>0</td>\n",
       "      <td>1</td>\n",
       "      <td>0</td>\n",
       "    </tr>\n",
       "    <tr>\n",
       "      <td>3</td>\n",
       "      <td>Entire home/apt</td>\n",
       "      <td>31</td>\n",
       "      <td>5</td>\n",
       "      <td>1</td>\n",
       "      <td>219</td>\n",
       "    </tr>\n",
       "    <tr>\n",
       "      <td>4</td>\n",
       "      <td>Entire home/apt</td>\n",
       "      <td>1</td>\n",
       "      <td>21</td>\n",
       "      <td>1</td>\n",
       "      <td>82</td>\n",
       "    </tr>\n",
       "  </tbody>\n",
       "</table>\n",
       "</div>"
      ],
      "text/plain": [
       "         room_type  minimum_nights  number_of_reviews  \\\n",
       "0  Entire home/apt               3                 26   \n",
       "1  Entire home/apt              30                  5   \n",
       "2  Entire home/apt               5                  0   \n",
       "3  Entire home/apt              31                  5   \n",
       "4  Entire home/apt               1                 21   \n",
       "\n",
       "   calculated_host_listings_count  availability_365  \n",
       "0                               3               341  \n",
       "1                               1               333  \n",
       "2                               1                 0  \n",
       "3                               1               219  \n",
       "4                               1                82  "
      ]
     },
     "metadata": {},
     "output_type": "display_data"
    }
   ],
   "source": [
    "df = train.drop(['latitude', 'longitude', 'id', 'host_id', 'host_name', 'last_review', 'reviews_per_month'], axis=1)\n",
    "display(df.head())\n",
    "\n"
   ]
  },
  {
   "cell_type": "code",
   "execution_count": 55,
   "metadata": {},
   "outputs": [
    {
     "data": {
      "text/html": [
       "<div>\n",
       "<style scoped>\n",
       "    .dataframe tbody tr th:only-of-type {\n",
       "        vertical-align: middle;\n",
       "    }\n",
       "\n",
       "    .dataframe tbody tr th {\n",
       "        vertical-align: top;\n",
       "    }\n",
       "\n",
       "    .dataframe thead th {\n",
       "        text-align: right;\n",
       "    }\n",
       "</style>\n",
       "<table border=\"1\" class=\"dataframe\">\n",
       "  <thead>\n",
       "    <tr style=\"text-align: right;\">\n",
       "      <th></th>\n",
       "      <th>minimum_nights</th>\n",
       "      <th>number_of_reviews</th>\n",
       "      <th>calculated_host_listings_count</th>\n",
       "      <th>availability_365</th>\n",
       "      <th>['room_type']_Private room</th>\n",
       "      <th>['room_type']_Shared room</th>\n",
       "    </tr>\n",
       "  </thead>\n",
       "  <tbody>\n",
       "    <tr>\n",
       "      <td>0</td>\n",
       "      <td>3</td>\n",
       "      <td>26</td>\n",
       "      <td>3</td>\n",
       "      <td>341</td>\n",
       "      <td>0</td>\n",
       "      <td>0</td>\n",
       "    </tr>\n",
       "    <tr>\n",
       "      <td>1</td>\n",
       "      <td>30</td>\n",
       "      <td>5</td>\n",
       "      <td>1</td>\n",
       "      <td>333</td>\n",
       "      <td>0</td>\n",
       "      <td>0</td>\n",
       "    </tr>\n",
       "    <tr>\n",
       "      <td>2</td>\n",
       "      <td>5</td>\n",
       "      <td>0</td>\n",
       "      <td>1</td>\n",
       "      <td>0</td>\n",
       "      <td>0</td>\n",
       "      <td>0</td>\n",
       "    </tr>\n",
       "    <tr>\n",
       "      <td>3</td>\n",
       "      <td>31</td>\n",
       "      <td>5</td>\n",
       "      <td>1</td>\n",
       "      <td>219</td>\n",
       "      <td>0</td>\n",
       "      <td>0</td>\n",
       "    </tr>\n",
       "    <tr>\n",
       "      <td>4</td>\n",
       "      <td>1</td>\n",
       "      <td>21</td>\n",
       "      <td>1</td>\n",
       "      <td>82</td>\n",
       "      <td>0</td>\n",
       "      <td>0</td>\n",
       "    </tr>\n",
       "  </tbody>\n",
       "</table>\n",
       "</div>"
      ],
      "text/plain": [
       "   minimum_nights  number_of_reviews  calculated_host_listings_count  \\\n",
       "0               3                 26                               3   \n",
       "1              30                  5                               1   \n",
       "2               5                  0                               1   \n",
       "3              31                  5                               1   \n",
       "4               1                 21                               1   \n",
       "\n",
       "   availability_365  ['room_type']_Private room  ['room_type']_Shared room  \n",
       "0               341                           0                          0  \n",
       "1               333                           0                          0  \n",
       "2                 0                           0                          0  \n",
       "3               219                           0                          0  \n",
       "4                82                           0                          0  "
      ]
     },
     "execution_count": 55,
     "metadata": {},
     "output_type": "execute_result"
    }
   ],
   "source": [
    "dummies = pd.get_dummies(df['room_type'], prefix=categoricals, drop_first=True)\n",
    "\n",
    "\n",
    "\n",
    "X = pd.concat([df, dummies], axis=1)\n",
    "X = X.drop(['room_type'], axis=1)\n",
    "\n",
    "X.head()"
   ]
  },
  {
   "cell_type": "code",
   "execution_count": 56,
   "metadata": {},
   "outputs": [],
   "source": [
    "X = X.drop(X.columns[-1], axis=1)"
   ]
  },
  {
   "cell_type": "code",
   "execution_count": 19,
   "metadata": {},
   "outputs": [],
   "source": [
    "features = X\n"
   ]
  },
  {
   "cell_type": "code",
   "execution_count": 24,
   "metadata": {},
   "outputs": [
    {
     "data": {
      "text/plain": [
       "array([[ 5.01837980e-02],\n",
       "       [-3.05384944e-01],\n",
       "       [ 8.15568631e-02],\n",
       "       [ 1.45246542e-01],\n",
       "       [-1.11956890e+02]])"
      ]
     },
     "execution_count": 24,
     "metadata": {},
     "output_type": "execute_result"
    }
   ],
   "source": [
    "my_model.coef_.reshape(-1,1)"
   ]
  },
  {
   "cell_type": "code",
   "execution_count": 25,
   "metadata": {},
   "outputs": [
    {
     "data": {
      "text/html": [
       "<div>\n",
       "<style scoped>\n",
       "    .dataframe tbody tr th:only-of-type {\n",
       "        vertical-align: middle;\n",
       "    }\n",
       "\n",
       "    .dataframe tbody tr th {\n",
       "        vertical-align: top;\n",
       "    }\n",
       "\n",
       "    .dataframe thead th {\n",
       "        text-align: right;\n",
       "    }\n",
       "</style>\n",
       "<table border=\"1\" class=\"dataframe\">\n",
       "  <thead>\n",
       "    <tr style=\"text-align: right;\">\n",
       "      <th></th>\n",
       "      <th>minimum_nights</th>\n",
       "      <th>number_of_reviews</th>\n",
       "      <th>calculated_host_listings_count</th>\n",
       "      <th>availability_365</th>\n",
       "      <th>['room_type']_Private room</th>\n",
       "    </tr>\n",
       "  </thead>\n",
       "  <tbody>\n",
       "    <tr>\n",
       "      <td>0</td>\n",
       "      <td>0.050184</td>\n",
       "      <td>-0.305385</td>\n",
       "      <td>0.081557</td>\n",
       "      <td>0.145247</td>\n",
       "      <td>-111.95689</td>\n",
       "    </tr>\n",
       "  </tbody>\n",
       "</table>\n",
       "</div>"
      ],
      "text/plain": [
       "   minimum_nights  number_of_reviews  calculated_host_listings_count  \\\n",
       "0        0.050184          -0.305385                        0.081557   \n",
       "\n",
       "   availability_365  ['room_type']_Private room  \n",
       "0          0.145247                  -111.95689  "
      ]
     },
     "execution_count": 25,
     "metadata": {},
     "output_type": "execute_result"
    }
   ],
   "source": [
    "pd.DataFrame(data=my_model.coef_.reshape(1, -1), columns=features.columns)"
   ]
  },
  {
   "cell_type": "code",
   "execution_count": 26,
   "metadata": {},
   "outputs": [
    {
     "data": {
      "text/plain": [
       "array([237.06074261, 272.09692762, 211.16162448, 127.95841448,\n",
       "       213.80386265, 250.78704419, 192.81628294, 214.80802016,\n",
       "       185.41772161, 191.92529048])"
      ]
     },
     "metadata": {},
     "output_type": "display_data"
    },
    {
     "data": {
      "text/plain": [
       "209.78359312233277"
      ]
     },
     "metadata": {},
     "output_type": "display_data"
    },
    {
     "data": {
      "text/plain": [
       "37.74579193463584"
      ]
     },
     "metadata": {},
     "output_type": "display_data"
    }
   ],
   "source": [
    "from sklearn.model_selection import cross_val_score\n",
    "\n",
    "scores = cross_val_score(\n",
    "            my_model, \n",
    "            features,\n",
    "            labels,\n",
    "            cv=10,\n",
    "            scoring=\"neg_mean_squared_error\"\n",
    ")\n",
    "\n",
    "rmse_scores = np.sqrt(-scores)\n",
    "display(rmse_scores)\n",
    "display(rmse_scores.mean())\n",
    "display(rmse_scores.std())"
   ]
  },
  {
   "cell_type": "code",
   "execution_count": 27,
   "metadata": {},
   "outputs": [
    {
     "data": {
      "text/plain": [
       "221.59490965154006"
      ]
     },
     "execution_count": 27,
     "metadata": {},
     "output_type": "execute_result"
    }
   ],
   "source": [
    "y.std()"
   ]
  },
  {
   "cell_type": "code",
   "execution_count": 28,
   "metadata": {},
   "outputs": [],
   "source": [
    "from statsmodels.formula.api import ols"
   ]
  },
  {
   "cell_type": "code",
   "execution_count": 29,
   "metadata": {},
   "outputs": [],
   "source": [
    "y_values = y.values\n",
    "X_values = X.values"
   ]
  },
  {
   "cell_type": "code",
   "execution_count": 36,
   "metadata": {},
   "outputs": [],
   "source": [
    "final = X"
   ]
  },
  {
   "cell_type": "code",
   "execution_count": 37,
   "metadata": {},
   "outputs": [
    {
     "name": "stderr",
     "output_type": "stream",
     "text": [
      "/Users/badmin/opt/anaconda3/envs/learn-env/lib/python3.6/site-packages/numpy/core/fromnumeric.py:2389: FutureWarning: Method .ptp is deprecated and will be removed in a future version. Use numpy.ptp instead.\n",
      "  return ptp(axis=axis, out=out, **kwargs)\n"
     ]
    },
    {
     "data": {
      "text/html": [
       "<table class=\"simpletable\">\n",
       "<caption>OLS Regression Results</caption>\n",
       "<tr>\n",
       "  <th>Dep. Variable:</th>          <td>price</td>      <th>  R-squared (uncentered):</th>       <td>   0.190</td>  \n",
       "</tr>\n",
       "<tr>\n",
       "  <th>Model:</th>                   <td>OLS</td>       <th>  Adj. R-squared (uncentered):</th>  <td>   0.190</td>  \n",
       "</tr>\n",
       "<tr>\n",
       "  <th>Method:</th>             <td>Least Squares</td>  <th>  F-statistic:       </th>           <td>   1469.</td>  \n",
       "</tr>\n",
       "<tr>\n",
       "  <th>Date:</th>             <td>Sun, 26 Apr 2020</td> <th>  Prob (F-statistic):</th>            <td>  0.00</td>   \n",
       "</tr>\n",
       "<tr>\n",
       "  <th>Time:</th>                 <td>15:27:14</td>     <th>  Log-Likelihood:    </th>          <td>-2.1603e+05</td>\n",
       "</tr>\n",
       "<tr>\n",
       "  <th>No. Observations:</th>      <td> 31284</td>      <th>  AIC:               </th>           <td>4.321e+05</td> \n",
       "</tr>\n",
       "<tr>\n",
       "  <th>Df Residuals:</th>          <td> 31279</td>      <th>  BIC:               </th>           <td>4.321e+05</td> \n",
       "</tr>\n",
       "<tr>\n",
       "  <th>Df Model:</th>              <td>     5</td>      <th>                     </th>               <td> </td>     \n",
       "</tr>\n",
       "<tr>\n",
       "  <th>Covariance Type:</th>      <td>nonrobust</td>    <th>                     </th>               <td> </td>     \n",
       "</tr>\n",
       "</table>\n",
       "<table class=\"simpletable\">\n",
       "<tr>\n",
       "                 <td></td>                   <th>coef</th>     <th>std err</th>      <th>t</th>      <th>P>|t|</th>  <th>[0.025</th>    <th>0.975]</th>  \n",
       "</tr>\n",
       "<tr>\n",
       "  <th>minimum_nights</th>                 <td>    1.2591</td> <td>    0.071</td> <td>   17.787</td> <td> 0.000</td> <td>    1.120</td> <td>    1.398</td>\n",
       "</tr>\n",
       "<tr>\n",
       "  <th>number_of_reviews</th>              <td>    0.3573</td> <td>    0.031</td> <td>   11.493</td> <td> 0.000</td> <td>    0.296</td> <td>    0.418</td>\n",
       "</tr>\n",
       "<tr>\n",
       "  <th>calculated_host_listings_count</th> <td>    0.3808</td> <td>    0.043</td> <td>    8.828</td> <td> 0.000</td> <td>    0.296</td> <td>    0.465</td>\n",
       "</tr>\n",
       "<tr>\n",
       "  <th>availability_365</th>               <td>    0.5017</td> <td>    0.010</td> <td>   49.615</td> <td> 0.000</td> <td>    0.482</td> <td>    0.522</td>\n",
       "</tr>\n",
       "<tr>\n",
       "  <th>['room_type']_Private room</th>     <td>   18.1483</td> <td>    2.276</td> <td>    7.975</td> <td> 0.000</td> <td>   13.688</td> <td>   22.609</td>\n",
       "</tr>\n",
       "</table>\n",
       "<table class=\"simpletable\">\n",
       "<tr>\n",
       "  <th>Omnibus:</th>       <td>59013.747</td> <th>  Durbin-Watson:     </th>   <td>   1.841</td>   \n",
       "</tr>\n",
       "<tr>\n",
       "  <th>Prob(Omnibus):</th>  <td> 0.000</td>   <th>  Jarque-Bera (JB):  </th> <td>206754619.870</td>\n",
       "</tr>\n",
       "<tr>\n",
       "  <th>Skew:</th>           <td>14.225</td>   <th>  Prob(JB):          </th>   <td>    0.00</td>   \n",
       "</tr>\n",
       "<tr>\n",
       "  <th>Kurtosis:</th>       <td>400.248</td>  <th>  Cond. No.          </th>   <td>    291.</td>   \n",
       "</tr>\n",
       "</table><br/><br/>Warnings:<br/>[1] Standard Errors assume that the covariance matrix of the errors is correctly specified."
      ],
      "text/plain": [
       "<class 'statsmodels.iolib.summary.Summary'>\n",
       "\"\"\"\n",
       "                                 OLS Regression Results                                \n",
       "=======================================================================================\n",
       "Dep. Variable:                  price   R-squared (uncentered):                   0.190\n",
       "Model:                            OLS   Adj. R-squared (uncentered):              0.190\n",
       "Method:                 Least Squares   F-statistic:                              1469.\n",
       "Date:                Sun, 26 Apr 2020   Prob (F-statistic):                        0.00\n",
       "Time:                        15:27:14   Log-Likelihood:                     -2.1603e+05\n",
       "No. Observations:               31284   AIC:                                  4.321e+05\n",
       "Df Residuals:                   31279   BIC:                                  4.321e+05\n",
       "Df Model:                           5                                                  \n",
       "Covariance Type:            nonrobust                                                  \n",
       "==================================================================================================\n",
       "                                     coef    std err          t      P>|t|      [0.025      0.975]\n",
       "--------------------------------------------------------------------------------------------------\n",
       "minimum_nights                     1.2591      0.071     17.787      0.000       1.120       1.398\n",
       "number_of_reviews                  0.3573      0.031     11.493      0.000       0.296       0.418\n",
       "calculated_host_listings_count     0.3808      0.043      8.828      0.000       0.296       0.465\n",
       "availability_365                   0.5017      0.010     49.615      0.000       0.482       0.522\n",
       "['room_type']_Private room        18.1483      2.276      7.975      0.000      13.688      22.609\n",
       "==============================================================================\n",
       "Omnibus:                    59013.747   Durbin-Watson:                   1.841\n",
       "Prob(Omnibus):                  0.000   Jarque-Bera (JB):        206754619.870\n",
       "Skew:                          14.225   Prob(JB):                         0.00\n",
       "Kurtosis:                     400.248   Cond. No.                         291.\n",
       "==============================================================================\n",
       "\n",
       "Warnings:\n",
       "[1] Standard Errors assume that the covariance matrix of the errors is correctly specified.\n",
       "\"\"\""
      ]
     },
     "execution_count": 37,
     "metadata": {},
     "output_type": "execute_result"
    }
   ],
   "source": [
    "import statsmodels.api as sm\n",
    "df_inter_sm = sm.add_constant(final)\n",
    "model = sm.OLS(y,final)\n",
    "results = model.fit()\n",
    "\n",
    "results.summary()"
   ]
  },
  {
   "cell_type": "code",
   "execution_count": 38,
   "metadata": {},
   "outputs": [
    {
     "data": {
      "text/plain": [
       "array([192.08007592,  80.68377192, 131.97228262, ..., 188.39664586,\n",
       "       193.71307983, 189.94238131])"
      ]
     },
     "execution_count": 38,
     "metadata": {},
     "output_type": "execute_result"
    }
   ],
   "source": [
    "y_hat = my_model.predict(X)\n",
    "y_hat"
   ]
  },
  {
   "cell_type": "code",
   "execution_count": 39,
   "metadata": {},
   "outputs": [
    {
     "data": {
      "text/plain": [
       "(31284,)"
      ]
     },
     "execution_count": 39,
     "metadata": {},
     "output_type": "execute_result"
    }
   ],
   "source": [
    "y_hat.shape"
   ]
  },
  {
   "cell_type": "code",
   "execution_count": 40,
   "metadata": {},
   "outputs": [
    {
     "data": {
      "text/plain": [
       "0    -187.919924\n",
       "1      17.683772\n",
       "2      54.972283\n",
       "3    -207.467478\n",
       "4       6.174437\n",
       "5      27.428571\n",
       "6      50.679490\n",
       "7     125.808352\n",
       "8      23.806145\n",
       "9     -36.293440\n",
       "10      9.244139\n",
       "11   -207.309154\n",
       "12     17.640662\n",
       "13     73.786932\n",
       "14   -182.108419\n",
       "15     24.736047\n",
       "16      7.722984\n",
       "17    152.967700\n",
       "18     35.512416\n",
       "19    102.770006\n",
       "20     50.178182\n",
       "21      2.473899\n",
       "22    106.965182\n",
       "23      7.346462\n",
       "24    -57.309154\n",
       "Name: price, dtype: float64"
      ]
     },
     "execution_count": 40,
     "metadata": {},
     "output_type": "execute_result"
    }
   ],
   "source": [
    "residuals = y_hat - y\n",
    "residuals.head(25)"
   ]
  },
  {
   "cell_type": "code",
   "execution_count": 41,
   "metadata": {},
   "outputs": [
    {
     "data": {
      "text/plain": [
       "(31284,)"
      ]
     },
     "execution_count": 41,
     "metadata": {},
     "output_type": "execute_result"
    }
   ],
   "source": [
    "residuals.shape"
   ]
  },
  {
   "cell_type": "code",
   "execution_count": 42,
   "metadata": {},
   "outputs": [
    {
     "data": {
      "text/plain": [
       "(7824, 12)"
      ]
     },
     "execution_count": 42,
     "metadata": {},
     "output_type": "execute_result"
    }
   ],
   "source": [
    "test.shape"
   ]
  },
  {
   "cell_type": "code",
   "execution_count": 43,
   "metadata": {},
   "outputs": [
    {
     "data": {
      "text/plain": [
       "['my_model_abnb.pkl']"
      ]
     },
     "execution_count": 43,
     "metadata": {},
     "output_type": "execute_result"
    }
   ],
   "source": [
    "import joblib\n",
    "\n",
    "joblib.dump(my_model, \"my_model_abnb.pkl\")"
   ]
  },
  {
   "cell_type": "code",
   "execution_count": null,
   "metadata": {},
   "outputs": [],
   "source": []
  },
  {
   "cell_type": "code",
   "execution_count": null,
   "metadata": {},
   "outputs": [],
   "source": []
  }
 ],
 "metadata": {
  "kernelspec": {
   "display_name": "Python 3",
   "language": "python",
   "name": "python3"
  },
  "language_info": {
   "codemirror_mode": {
    "name": "ipython",
    "version": 3
   },
   "file_extension": ".py",
   "mimetype": "text/x-python",
   "name": "python",
   "nbconvert_exporter": "python",
   "pygments_lexer": "ipython3",
   "version": "3.6.9"
  },
  "toc": {
   "base_numbering": 1,
   "nav_menu": {},
   "number_sections": true,
   "sideBar": true,
   "skip_h1_title": false,
   "title_cell": "Table of Contents",
   "title_sidebar": "Contents",
   "toc_cell": true,
   "toc_position": {},
   "toc_section_display": true,
   "toc_window_display": false
  }
 },
 "nbformat": 4,
 "nbformat_minor": 2
}
