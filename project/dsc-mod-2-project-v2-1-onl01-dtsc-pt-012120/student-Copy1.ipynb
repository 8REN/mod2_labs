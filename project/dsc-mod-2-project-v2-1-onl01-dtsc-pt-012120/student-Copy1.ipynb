{
 "cells": [
  {
   "cell_type": "markdown",
   "metadata": {
    "toc": true
   },
   "source": [
    "<h1>Table of Contents<span class=\"tocSkip\"></span></h1>\n",
    "<div class=\"toc\"><ul class=\"toc-item\"><li><ul class=\"toc-item\"><li><span><a href=\"#Final-Project-Submission\" data-toc-modified-id=\"Final-Project-Submission-0.1\"><span class=\"toc-item-num\">0.1&nbsp;&nbsp;</span>Final Project Submission</a></span></li></ul></li><li><span><a href=\"#data-scrubbing-and-cleaning\" data-toc-modified-id=\"data-scrubbing-and-cleaning-1\"><span class=\"toc-item-num\">1&nbsp;&nbsp;</span>data scrubbing and cleaning</a></span><ul class=\"toc-item\"><li><span><a href=\"#import-modules-and-data\" data-toc-modified-id=\"import-modules-and-data-1.1\"><span class=\"toc-item-num\">1.1&nbsp;&nbsp;</span>import modules and data</a></span></li><li><span><a href=\"#functions\" data-toc-modified-id=\"functions-1.2\"><span class=\"toc-item-num\">1.2&nbsp;&nbsp;</span>functions</a></span></li><li><span><a href=\"#fill-in-missing-values-(NaN)-where-applicable\" data-toc-modified-id=\"fill-in-missing-values-(NaN)-where-applicable-1.3\"><span class=\"toc-item-num\">1.3&nbsp;&nbsp;</span>fill in missing values (NaN) where applicable</a></span><ul class=\"toc-item\"><li><span><a href=\"#assess-whether-renovation-has-direct-impact-on-home-price\" data-toc-modified-id=\"assess-whether-renovation-has-direct-impact-on-home-price-1.3.1\"><span class=\"toc-item-num\">1.3.1&nbsp;&nbsp;</span>assess whether renovation has direct impact on home price</a></span></li></ul></li><li><span><a href=\"#convert-date-column-to-DateTime-format,-then-separate-date-to-month,-day,-year-columns-due-to-datetime-being-unusable-in-regression,-(drop-'data'-column-once-all-necessary-calculations-have-been-done)\" data-toc-modified-id=\"convert-date-column-to-DateTime-format,-then-separate-date-to-month,-day,-year-columns-due-to-datetime-being-unusable-in-regression,-(drop-'data'-column-once-all-necessary-calculations-have-been-done)-1.4\"><span class=\"toc-item-num\">1.4&nbsp;&nbsp;</span>convert date column to DateTime format, then separate date to month, day, year columns due to datetime being unusable in regression, (drop 'data' column once all necessary calculations have been done)</a></span></li><li><span><a href=\"#create-age-column-from-date-of-sale-and-year-built\" data-toc-modified-id=\"create-age-column-from-date-of-sale-and-year-built-1.5\"><span class=\"toc-item-num\">1.5&nbsp;&nbsp;</span>create age column from date of sale and year built</a></span></li><li><span><a href=\"#find-out-if-there-are-historic-homes-on-dataset.-washington-state-qualifies-as-over-50-and-retaining-original-structure.-assess-whether-these-are-abnormalities\" data-toc-modified-id=\"find-out-if-there-are-historic-homes-on-dataset.-washington-state-qualifies-as-over-50-and-retaining-original-structure.-assess-whether-these-are-abnormalities-1.6\"><span class=\"toc-item-num\">1.6&nbsp;&nbsp;</span>find out if there are historic homes on dataset. washington state qualifies as over 50 and retaining original structure. assess whether these are abnormalities</a></span></li><li><span><a href=\"#assess-whether-renovating-a-historic-home-increases-market-value-as-far-as-price\" data-toc-modified-id=\"assess-whether-renovating-a-historic-home-increases-market-value-as-far-as-price-1.7\"><span class=\"toc-item-num\">1.7&nbsp;&nbsp;</span>assess whether renovating a historic home increases market value as far as price</a></span><ul class=\"toc-item\"><li><span><a href=\"#remove-1-million-and-up-price-homes,-as-these-are-outliers-and-1/3-could-qualify-as-historic.-these-are-abnormalities-and-would-possibly-require-a-different-model-to-assess-properly\" data-toc-modified-id=\"remove-1-million-and-up-price-homes,-as-these-are-outliers-and-1/3-could-qualify-as-historic.-these-are-abnormalities-and-would-possibly-require-a-different-model-to-assess-properly-1.7.1\"><span class=\"toc-item-num\">1.7.1&nbsp;&nbsp;</span>remove 1 million and up price homes, as these are outliers and 1/3 could qualify as historic. these are abnormalities and would possibly require a different model to assess properly</a></span></li><li><span><a href=\"#drop-columns-not-to-be-utilized\" data-toc-modified-id=\"drop-columns-not-to-be-utilized-1.7.2\"><span class=\"toc-item-num\">1.7.2&nbsp;&nbsp;</span>drop columns not to be utilized</a></span></li></ul></li><li><span><a href=\"#sqft_basement-column-contains-string-characters,-remove-these-and-convert-to-int-to-match-other-similar-columns\" data-toc-modified-id=\"sqft_basement-column-contains-string-characters,-remove-these-and-convert-to-int-to-match-other-similar-columns-1.8\"><span class=\"toc-item-num\">1.8&nbsp;&nbsp;</span>sqft_basement column contains string characters, remove these and convert to int to match other similar columns</a></span></li><li><span><a href=\"#convert-sq_ft-areas-to-square-meters\" data-toc-modified-id=\"convert-sq_ft-areas-to-square-meters-1.9\"><span class=\"toc-item-num\">1.9&nbsp;&nbsp;</span>convert sq_ft areas to square meters</a></span></li><li><span><a href=\"#bedrooms-outlier-present-as-33-bedroom-house,-appears-to-be-typo-due-to-other-info,-should-be-3-bedrooms-as-this-listing-only-has-1.75-bathrooms\" data-toc-modified-id=\"bedrooms-outlier-present-as-33-bedroom-house,-appears-to-be-typo-due-to-other-info,-should-be-3-bedrooms-as-this-listing-only-has-1.75-bathrooms-1.10\"><span class=\"toc-item-num\">1.10&nbsp;&nbsp;</span>bedrooms outlier present as 33 bedroom house, appears to be typo due to other info, should be 3 bedrooms as this listing only has 1.75 bathrooms</a></span></li><li><span><a href=\"#assessing-grade-category\" data-toc-modified-id=\"assessing-grade-category-1.11\"><span class=\"toc-item-num\">1.11&nbsp;&nbsp;</span>assessing grade category</a></span><ul class=\"toc-item\"><li><span><a href=\"#assess-the-affect-that-the-grade-of-the-house-hs-on-the-sale-value\" data-toc-modified-id=\"assess-the-affect-that-the-grade-of-the-house-hs-on-the-sale-value-1.11.1\"><span class=\"toc-item-num\">1.11.1&nbsp;&nbsp;</span>assess the affect that the grade of the house hs on the sale value</a></span></li></ul></li><li><span><a href=\"#assess-for-duplicates\" data-toc-modified-id=\"assess-for-duplicates-1.12\"><span class=\"toc-item-num\">1.12&nbsp;&nbsp;</span>assess for duplicates</a></span></li><li><span><a href=\"#evaluate-duplicate-ids\" data-toc-modified-id=\"evaluate-duplicate-ids-1.13\"><span class=\"toc-item-num\">1.13&nbsp;&nbsp;</span>evaluate duplicate ids</a></span></li><li><span><a href=\"#use-latitude-and-longitude-in-existing-dataset-to-get-the-distance-from-home-to-Seattle(closest-major-city)\" data-toc-modified-id=\"use-latitude-and-longitude-in-existing-dataset-to-get-the-distance-from-home-to-Seattle(closest-major-city)-1.14\"><span class=\"toc-item-num\">1.14&nbsp;&nbsp;</span>use latitude and longitude in existing dataset to get the distance from home to Seattle(closest major city)</a></span><ul class=\"toc-item\"><li><span><a href=\"#import-geopy-modules\" data-toc-modified-id=\"import-geopy-modules-1.14.1\"><span class=\"toc-item-num\">1.14.1&nbsp;&nbsp;</span>import geopy modules</a></span></li><li><span><a href=\"#use-geopy-to-set-up-points-and-calculate-distance\" data-toc-modified-id=\"use-geopy-to-set-up-points-and-calculate-distance-1.14.2\"><span class=\"toc-item-num\">1.14.2&nbsp;&nbsp;</span>use geopy to set up points and calculate distance</a></span></li><li><span><a href=\"#dropping-columns\" data-toc-modified-id=\"dropping-columns-1.14.3\"><span class=\"toc-item-num\">1.14.3&nbsp;&nbsp;</span>dropping columns</a></span></li></ul></li><li><span><a href=\"#dropping-all-sqft-columns-due-to-conversion-to-metric-system\" data-toc-modified-id=\"dropping-all-sqft-columns-due-to-conversion-to-metric-system-1.15\"><span class=\"toc-item-num\">1.15&nbsp;&nbsp;</span>dropping all sqft columns due to conversion to metric system</a></span></li><li><span><a href=\"#create-id-dataframe-to-attach-once-model-is-complete.-remove-id-from-dataset-as-it-isn't-relevant-but-just-identifies-homes\" data-toc-modified-id=\"create-id-dataframe-to-attach-once-model-is-complete.-remove-id-from-dataset-as-it-isn't-relevant-but-just-identifies-homes-1.16\"><span class=\"toc-item-num\">1.16&nbsp;&nbsp;</span>create id dataframe to attach once model is complete. remove id from dataset as it isn't relevant but just identifies homes</a></span></li></ul></li><li><span><a href=\"#check-for-multicollinearity\" data-toc-modified-id=\"check-for-multicollinearity-2\"><span class=\"toc-item-num\">2&nbsp;&nbsp;</span>check for multicollinearity</a></span><ul class=\"toc-item\"><li><span><a href=\"#heatmap-for-correlation-assessment\" data-toc-modified-id=\"heatmap-for-correlation-assessment-2.1\"><span class=\"toc-item-num\">2.1&nbsp;&nbsp;</span>heatmap for correlation assessment</a></span></li><li><span><a href=\"#create-new-dataframe-to-further-assess-correlation\" data-toc-modified-id=\"create-new-dataframe-to-further-assess-correlation-2.2\"><span class=\"toc-item-num\">2.2&nbsp;&nbsp;</span>create new dataframe to further assess correlation</a></span></li><li><span><a href=\"#scatter-matrix-to-further-assess-multicollinearity\" data-toc-modified-id=\"scatter-matrix-to-further-assess-multicollinearity-2.3\"><span class=\"toc-item-num\">2.3&nbsp;&nbsp;</span>scatter matrix to further assess multicollinearity</a></span><ul class=\"toc-item\"><li><span><a href=\"#assess-for-outliers\" data-toc-modified-id=\"assess-for-outliers-2.3.1\"><span class=\"toc-item-num\">2.3.1&nbsp;&nbsp;</span>assess for outliers</a></span></li></ul></li></ul></li><li><span><a href=\"#data-exploration\" data-toc-modified-id=\"data-exploration-3\"><span class=\"toc-item-num\">3&nbsp;&nbsp;</span>data exploration</a></span><ul class=\"toc-item\"><li><span><a href=\"#histograms\" data-toc-modified-id=\"histograms-3.1\"><span class=\"toc-item-num\">3.1&nbsp;&nbsp;</span>histograms</a></span></li><li><span><a href=\"#pairplot\" data-toc-modified-id=\"pairplot-3.2\"><span class=\"toc-item-num\">3.2&nbsp;&nbsp;</span>pairplot</a></span></li><li><span><a href=\"#kde\" data-toc-modified-id=\"kde-3.3\"><span class=\"toc-item-num\">3.3&nbsp;&nbsp;</span>kde</a></span></li><li><span><a href=\"#check-price-skew,-visualize-tranformed-data,-normalize-price-using-log-transformation\" data-toc-modified-id=\"check-price-skew,-visualize-tranformed-data,-normalize-price-using-log-transformation-3.4\"><span class=\"toc-item-num\">3.4&nbsp;&nbsp;</span>check price skew, visualize tranformed data, normalize price using log transformation</a></span></li><li><span><a href=\"#regression-plots\" data-toc-modified-id=\"regression-plots-3.5\"><span class=\"toc-item-num\">3.5&nbsp;&nbsp;</span>regression plots</a></span></li><li><span><a href=\"#age/price-scatter\" data-toc-modified-id=\"age/price-scatter-3.6\"><span class=\"toc-item-num\">3.6&nbsp;&nbsp;</span>age/price scatter</a></span></li><li><span><a href=\"#distance-to-seattle/price-scatter\" data-toc-modified-id=\"distance-to-seattle/price-scatter-3.7\"><span class=\"toc-item-num\">3.7&nbsp;&nbsp;</span>distance to seattle/price scatter</a></span></li><li><span><a href=\"#visualize-categorical-variables-by-price\" data-toc-modified-id=\"visualize-categorical-variables-by-price-3.8\"><span class=\"toc-item-num\">3.8&nbsp;&nbsp;</span>visualize categorical variables by price</a></span></li></ul></li><li><span><a href=\"#one-hot-encoding,-create-new-df:-dummies\" data-toc-modified-id=\"one-hot-encoding,-create-new-df:-dummies-4\"><span class=\"toc-item-num\">4&nbsp;&nbsp;</span>one hot encoding, create new df: dummies</a></span><ul class=\"toc-item\"><li><span><a href=\"#create-dummy-df\" data-toc-modified-id=\"create-dummy-df-4.1\"><span class=\"toc-item-num\">4.1&nbsp;&nbsp;</span>create dummy df</a></span></li></ul></li><li><span><a href=\"#models\" data-toc-modified-id=\"models-5\"><span class=\"toc-item-num\">5&nbsp;&nbsp;</span>models</a></span><ul class=\"toc-item\"><li><span><a href=\"#import-libraries\" data-toc-modified-id=\"import-libraries-5.1\"><span class=\"toc-item-num\">5.1&nbsp;&nbsp;</span>import libraries</a></span><ul class=\"toc-item\"><li><span><a href=\"#no-dummies-dataframe\" data-toc-modified-id=\"no-dummies-dataframe-5.1.1\"><span class=\"toc-item-num\">5.1.1&nbsp;&nbsp;</span>no dummies dataframe</a></span></li><li><span><a href=\"#df-with-dummies\" data-toc-modified-id=\"df-with-dummies-5.1.2\"><span class=\"toc-item-num\">5.1.2&nbsp;&nbsp;</span>df with dummies</a></span></li></ul></li><li><span><a href=\"#build-model-with-df\" data-toc-modified-id=\"build-model-with-df-5.2\"><span class=\"toc-item-num\">5.2&nbsp;&nbsp;</span>build model with df</a></span><ul class=\"toc-item\"><li><span><a href=\"#no-scaling-to-variables-or-price\" data-toc-modified-id=\"no-scaling-to-variables-or-price-5.2.1\"><span class=\"toc-item-num\">5.2.1&nbsp;&nbsp;</span>no scaling to variables or price</a></span></li><li><span><a href=\"#with-dummies\" data-toc-modified-id=\"with-dummies-5.2.2\"><span class=\"toc-item-num\">5.2.2&nbsp;&nbsp;</span>with dummies</a></span></li><li><span><a href=\"#without-dummies\" data-toc-modified-id=\"without-dummies-5.2.3\"><span class=\"toc-item-num\">5.2.3&nbsp;&nbsp;</span>without dummies</a></span></li></ul></li><li><span><a href=\"#regression-on-datasets-with-dummies\" data-toc-modified-id=\"regression-on-datasets-with-dummies-5.3\"><span class=\"toc-item-num\">5.3&nbsp;&nbsp;</span>regression on datasets with dummies</a></span><ul class=\"toc-item\"><li><span><a href=\"#with-minmax-scaling-applied-to-dataset,-log-transformed-price\" data-toc-modified-id=\"with-minmax-scaling-applied-to-dataset,-log-transformed-price-5.3.1\"><span class=\"toc-item-num\">5.3.1&nbsp;&nbsp;</span>with minmax scaling applied to dataset, log transformed price</a></span></li><li><span><a href=\"#no-scaling-applied-to-continuous,-log-transformed-price\" data-toc-modified-id=\"no-scaling-applied-to-continuous,-log-transformed-price-5.3.2\"><span class=\"toc-item-num\">5.3.2&nbsp;&nbsp;</span>no scaling applied to continuous, log transformed price</a></span></li></ul></li><li><span><a href=\"#dummies-and-no-scaling-on-continuous-data-or-price\" data-toc-modified-id=\"dummies-and-no-scaling-on-continuous-data-or-price-5.4\"><span class=\"toc-item-num\">5.4&nbsp;&nbsp;</span>dummies and no scaling on continuous data or price</a></span><ul class=\"toc-item\"><li><span><a href=\"#with-minmax-scaling-applied-to-continuous,-log-transformed-price\" data-toc-modified-id=\"with-minmax-scaling-applied-to-continuous,-log-transformed-price-5.4.1\"><span class=\"toc-item-num\">5.4.1&nbsp;&nbsp;</span>with minmax scaling applied to continuous, log transformed price</a></span></li></ul></li><li><span><a href=\"#using-model-2,-min-max-scalinng-to-continuous-variables-with-target-=-log-transformed-price\" data-toc-modified-id=\"using-model-2,-min-max-scalinng-to-continuous-variables-with-target-=-log-transformed-price-5.5\"><span class=\"toc-item-num\">5.5&nbsp;&nbsp;</span>using model 2, min max scalinng to continuous variables with target = log transformed price</a></span></li><li><span><a href=\"#train/test-split-data\" data-toc-modified-id=\"train/test-split-data-5.6\"><span class=\"toc-item-num\">5.6&nbsp;&nbsp;</span>train/test split data</a></span><ul class=\"toc-item\"><li><span><a href=\"#visualize-training-data-vs-test-data\" data-toc-modified-id=\"visualize-training-data-vs-test-data-5.6.1\"><span class=\"toc-item-num\">5.6.1&nbsp;&nbsp;</span>visualize training data vs test data</a></span></li></ul></li><li><span><a href=\"#perform-stepwise-selection-on-model-and-review-variable-significance\" data-toc-modified-id=\"perform-stepwise-selection-on-model-and-review-variable-significance-5.7\"><span class=\"toc-item-num\">5.7&nbsp;&nbsp;</span>perform stepwise selection on model and review variable significance</a></span></li><li><span><a href=\"#residuals\" data-toc-modified-id=\"residuals-5.8\"><span class=\"toc-item-num\">5.8&nbsp;&nbsp;</span>residuals</a></span></li></ul></li></ul></div>"
   ]
  },
  {
   "cell_type": "markdown",
   "metadata": {},
   "source": [
    "## Final Project Submission\n",
    "\n",
    "Please fill out:\n",
    "* Student name: Brennan Mathis\n",
    "* Student pace: part time\n",
    "* Scheduled project review date/time: \n",
    "* Instructor name: Victor G\n",
    "* Blog post URL:\n"
   ]
  },
  {
   "cell_type": "markdown",
   "metadata": {},
   "source": [
    "# data scrubbing and cleaning"
   ]
  },
  {
   "cell_type": "markdown",
   "metadata": {},
   "source": [
    "## import modules and data"
   ]
  },
  {
   "cell_type": "code",
   "execution_count": 1,
   "metadata": {},
   "outputs": [],
   "source": [
    "import numpy as np \n",
    "import pandas as pd \n",
    "import seaborn as sns \n",
    "import matplotlib.pyplot as plt\n",
    "import scipy.stats as stats\n",
    "import statsmodels.api as sm"
   ]
  },
  {
   "cell_type": "code",
   "execution_count": 2,
   "metadata": {},
   "outputs": [],
   "source": [
    "data = pd.read_csv(\"kc_house_data.csv\")"
   ]
  },
  {
   "cell_type": "markdown",
   "metadata": {},
   "source": [
    "## functions"
   ]
  },
  {
   "cell_type": "code",
   "execution_count": 3,
   "metadata": {},
   "outputs": [],
   "source": [
    "# normalize values\n",
    "def norm_feat(series):\n",
    "    return (series - series.mean())/series.std()"
   ]
  },
  {
   "cell_type": "code",
   "execution_count": 4,
   "metadata": {},
   "outputs": [],
   "source": [
    "#one hot encode return dummies\n",
    "def one_hot(series):\n",
    "    return (pd.get_dummies(series, prefix=series.name, drop_first=True))"
   ]
  },
  {
   "cell_type": "code",
   "execution_count": 5,
   "metadata": {},
   "outputs": [],
   "source": [
    "# perform log transformation\n",
    "def get_log(series):\n",
    "    return np.log(series)"
   ]
  },
  {
   "cell_type": "markdown",
   "metadata": {},
   "source": [
    "In metric terms a square foot is a square with sides 0.3048 metres in length. \n",
    "One square foot is the equivalent to 0.09290304 square metres"
   ]
  },
  {
   "cell_type": "code",
   "execution_count": 6,
   "metadata": {},
   "outputs": [],
   "source": [
    "#In metric terms a square foot is a square with sides 0.3048 metres in length. \n",
    "#One square foot is the equivalent to 0.09290304 square metres\n",
    "# convert sq feet to sq meters\n",
    "def ft_to_meter(x):\n",
    "    return x * 0.092903"
   ]
  },
  {
   "cell_type": "code",
   "execution_count": 7,
   "metadata": {},
   "outputs": [],
   "source": [
    "# step wise selection to assess p values\n",
    "def stepwise_selection(X, y, \n",
    "                       initial_list=[], \n",
    "                       threshold_in=0.01, \n",
    "                       threshold_out = 0.05, \n",
    "                       verbose=True):\n",
    "    \"\"\" Perform a forward-backward feature selection \n",
    "    based on p-value from statsmodels.api.OLS\n",
    "    Arguments:\n",
    "        X - pandas.DataFrame with candidate features\n",
    "        y - list-like with the target\n",
    "        initial_list - list of features to start with (column names of X)\n",
    "        threshold_in - include a feature if its p-value < threshold_in\n",
    "        threshold_out - exclude a feature if its p-value > threshold_out\n",
    "        verbose - whether to print the sequence of inclusions and exclusions\n",
    "    Returns: list of selected features \n",
    "    Always set threshold_in < threshold_out to avoid infinite looping.\n",
    "    See https://en.wikipedia.org/wiki/Stepwise_regression for the details\n",
    "    \"\"\"\n",
    "    included = list(initial_list)\n",
    "    while True:\n",
    "        changed=False\n",
    "        # forward step\n",
    "        excluded = list(set(X.columns)-set(included))\n",
    "        new_pval = pd.Series(index=excluded)\n",
    "        for new_column in excluded:\n",
    "            model = sm.OLS(y, sm.add_constant(pd.DataFrame(X[included+[new_column]]))).fit()\n",
    "            new_pval[new_column] = model.pvalues[new_column]\n",
    "        best_pval = new_pval.min()\n",
    "        if best_pval < threshold_in:\n",
    "            best_feature = new_pval.idxmin()\n",
    "            included.append(best_feature)\n",
    "            changed=True\n",
    "            if verbose:\n",
    "                print('Add  {:30} with p-value {:.6}'.format(best_feature, best_pval))\n",
    "\n",
    "        # backward step\n",
    "        model = sm.OLS(y, sm.add_constant(pd.DataFrame(X[included]))).fit()\n",
    "        # use all coefs except intercept\n",
    "        pvalues = model.pvalues.iloc[1:]\n",
    "        worst_pval = pvalues.max() # null if pvalues is empty\n",
    "        if worst_pval > threshold_out:\n",
    "            changed=True\n",
    "            worst_feature = pvalues.argmax()\n",
    "            included.remove(worst_feature)\n",
    "            if verbose:\n",
    "                print('Drop {:30} with p-value {:.6}'.format(worst_feature, worst_pval))\n",
    "        if not changed:\n",
    "            break\n",
    "    return included"
   ]
  },
  {
   "cell_type": "code",
   "execution_count": 8,
   "metadata": {},
   "outputs": [],
   "source": [
    "data['price/10000'] = data.price/10000"
   ]
  },
  {
   "cell_type": "markdown",
   "metadata": {},
   "source": [
    "## fill in missing values (NaN) where applicable"
   ]
  },
  {
   "cell_type": "code",
   "execution_count": 9,
   "metadata": {},
   "outputs": [
    {
     "data": {
      "text/plain": [
       "id                  0\n",
       "date                0\n",
       "price               0\n",
       "bedrooms            0\n",
       "bathrooms           0\n",
       "sqft_living         0\n",
       "sqft_lot            0\n",
       "floors              0\n",
       "waterfront       2376\n",
       "view               63\n",
       "condition           0\n",
       "grade               0\n",
       "sqft_above          0\n",
       "sqft_basement       0\n",
       "yr_built            0\n",
       "yr_renovated     3842\n",
       "zipcode             0\n",
       "lat                 0\n",
       "long                0\n",
       "sqft_living15       0\n",
       "sqft_lot15          0\n",
       "price/10000         0\n",
       "dtype: int64"
      ]
     },
     "execution_count": 9,
     "metadata": {},
     "output_type": "execute_result"
    }
   ],
   "source": [
    "data.isna().sum()"
   ]
  },
  {
   "cell_type": "code",
   "execution_count": 10,
   "metadata": {},
   "outputs": [
    {
     "data": {
      "text/plain": [
       "array([nan,  0.,  1.])"
      ]
     },
     "execution_count": 10,
     "metadata": {},
     "output_type": "execute_result"
    }
   ],
   "source": [
    "#fill nan values\n",
    "data.waterfront.unique()"
   ]
  },
  {
   "cell_type": "code",
   "execution_count": 11,
   "metadata": {},
   "outputs": [],
   "source": [
    "data['waterfront'] = data.waterfront.fillna(0)"
   ]
  },
  {
   "cell_type": "code",
   "execution_count": 12,
   "metadata": {},
   "outputs": [],
   "source": [
    "# convert to int\n",
    "data['waterfront'] = data['waterfront'].astype(int)"
   ]
  },
  {
   "cell_type": "code",
   "execution_count": 13,
   "metadata": {},
   "outputs": [],
   "source": [
    "#fill nan values\n",
    "data.yr_renovated = data.yr_renovated.fillna(0)"
   ]
  },
  {
   "cell_type": "markdown",
   "metadata": {},
   "source": [
    "### assess whether renovation has direct impact on home price"
   ]
  },
  {
   "cell_type": "code",
   "execution_count": 14,
   "metadata": {},
   "outputs": [],
   "source": [
    "data.yr_renovated = data.yr_renovated.astype(int)"
   ]
  },
  {
   "cell_type": "code",
   "execution_count": 15,
   "metadata": {},
   "outputs": [],
   "source": [
    "# create dataframes for renovated and non renovated homes for comparison\n",
    "renovated = data[data[\"yr_renovated\"]>1]\n",
    "non_renovated = data[data[\"yr_renovated\"]<1]"
   ]
  },
  {
   "cell_type": "code",
   "execution_count": 16,
   "metadata": {},
   "outputs": [
    {
     "data": {
      "text/plain": [
       "(20853, 22)"
      ]
     },
     "execution_count": 16,
     "metadata": {},
     "output_type": "execute_result"
    }
   ],
   "source": [
    "non_renovated.shape"
   ]
  },
  {
   "cell_type": "code",
   "execution_count": 17,
   "metadata": {},
   "outputs": [
    {
     "data": {
      "text/html": [
       "<div>\n",
       "<style scoped>\n",
       "    .dataframe tbody tr th:only-of-type {\n",
       "        vertical-align: middle;\n",
       "    }\n",
       "\n",
       "    .dataframe tbody tr th {\n",
       "        vertical-align: top;\n",
       "    }\n",
       "\n",
       "    .dataframe thead th {\n",
       "        text-align: right;\n",
       "    }\n",
       "</style>\n",
       "<table border=\"1\" class=\"dataframe\">\n",
       "  <thead>\n",
       "    <tr style=\"text-align: right;\">\n",
       "      <th></th>\n",
       "      <th>id</th>\n",
       "      <th>price</th>\n",
       "      <th>bedrooms</th>\n",
       "      <th>bathrooms</th>\n",
       "      <th>sqft_living</th>\n",
       "      <th>sqft_lot</th>\n",
       "      <th>floors</th>\n",
       "      <th>waterfront</th>\n",
       "      <th>view</th>\n",
       "      <th>condition</th>\n",
       "      <th>grade</th>\n",
       "      <th>sqft_above</th>\n",
       "      <th>yr_built</th>\n",
       "      <th>yr_renovated</th>\n",
       "      <th>zipcode</th>\n",
       "      <th>lat</th>\n",
       "      <th>long</th>\n",
       "      <th>sqft_living15</th>\n",
       "      <th>sqft_lot15</th>\n",
       "      <th>price/10000</th>\n",
       "    </tr>\n",
       "  </thead>\n",
       "  <tbody>\n",
       "    <tr>\n",
       "      <td>count</td>\n",
       "      <td>2.085300e+04</td>\n",
       "      <td>2.085300e+04</td>\n",
       "      <td>20853.000000</td>\n",
       "      <td>20853.000000</td>\n",
       "      <td>20853.000000</td>\n",
       "      <td>2.085300e+04</td>\n",
       "      <td>20853.000000</td>\n",
       "      <td>20853.000000</td>\n",
       "      <td>20791.000000</td>\n",
       "      <td>20853.000000</td>\n",
       "      <td>20853.000000</td>\n",
       "      <td>20853.000000</td>\n",
       "      <td>20853.000000</td>\n",
       "      <td>20853.0</td>\n",
       "      <td>20853.000000</td>\n",
       "      <td>20853.000000</td>\n",
       "      <td>20853.000000</td>\n",
       "      <td>20853.000000</td>\n",
       "      <td>20853.000000</td>\n",
       "      <td>20853.000000</td>\n",
       "    </tr>\n",
       "    <tr>\n",
       "      <td>mean</td>\n",
       "      <td>4.586246e+09</td>\n",
       "      <td>5.321403e+05</td>\n",
       "      <td>3.370115</td>\n",
       "      <td>2.109037</td>\n",
       "      <td>2071.507313</td>\n",
       "      <td>1.505959e+04</td>\n",
       "      <td>1.493718</td>\n",
       "      <td>0.005611</td>\n",
       "      <td>0.220769</td>\n",
       "      <td>3.416631</td>\n",
       "      <td>7.654534</td>\n",
       "      <td>1785.381432</td>\n",
       "      <td>1972.125114</td>\n",
       "      <td>0.0</td>\n",
       "      <td>98077.321345</td>\n",
       "      <td>47.559363</td>\n",
       "      <td>-122.212268</td>\n",
       "      <td>1986.539778</td>\n",
       "      <td>12735.717499</td>\n",
       "      <td>53.214032</td>\n",
       "    </tr>\n",
       "    <tr>\n",
       "      <td>std</td>\n",
       "      <td>2.875507e+09</td>\n",
       "      <td>3.518947e+05</td>\n",
       "      <td>0.920686</td>\n",
       "      <td>0.763118</td>\n",
       "      <td>910.209733</td>\n",
       "      <td>4.152180e+04</td>\n",
       "      <td>0.541274</td>\n",
       "      <td>0.074696</td>\n",
       "      <td>0.741496</td>\n",
       "      <td>0.653691</td>\n",
       "      <td>1.172231</td>\n",
       "      <td>826.815098</td>\n",
       "      <td>28.974784</td>\n",
       "      <td>0.0</td>\n",
       "      <td>53.357658</td>\n",
       "      <td>0.139088</td>\n",
       "      <td>0.140805</td>\n",
       "      <td>684.145745</td>\n",
       "      <td>27311.862519</td>\n",
       "      <td>35.189473</td>\n",
       "    </tr>\n",
       "    <tr>\n",
       "      <td>min</td>\n",
       "      <td>1.000102e+06</td>\n",
       "      <td>7.800000e+04</td>\n",
       "      <td>1.000000</td>\n",
       "      <td>0.500000</td>\n",
       "      <td>370.000000</td>\n",
       "      <td>5.200000e+02</td>\n",
       "      <td>1.000000</td>\n",
       "      <td>0.000000</td>\n",
       "      <td>0.000000</td>\n",
       "      <td>1.000000</td>\n",
       "      <td>3.000000</td>\n",
       "      <td>370.000000</td>\n",
       "      <td>1900.000000</td>\n",
       "      <td>0.0</td>\n",
       "      <td>98001.000000</td>\n",
       "      <td>47.155900</td>\n",
       "      <td>-122.519000</td>\n",
       "      <td>399.000000</td>\n",
       "      <td>651.000000</td>\n",
       "      <td>7.800000</td>\n",
       "    </tr>\n",
       "    <tr>\n",
       "      <td>25%</td>\n",
       "      <td>2.125059e+09</td>\n",
       "      <td>3.200000e+05</td>\n",
       "      <td>3.000000</td>\n",
       "      <td>1.500000</td>\n",
       "      <td>1420.000000</td>\n",
       "      <td>5.050000e+03</td>\n",
       "      <td>1.000000</td>\n",
       "      <td>0.000000</td>\n",
       "      <td>0.000000</td>\n",
       "      <td>3.000000</td>\n",
       "      <td>7.000000</td>\n",
       "      <td>1190.000000</td>\n",
       "      <td>1953.000000</td>\n",
       "      <td>0.0</td>\n",
       "      <td>98032.000000</td>\n",
       "      <td>47.468600</td>\n",
       "      <td>-122.327000</td>\n",
       "      <td>1490.000000</td>\n",
       "      <td>5100.000000</td>\n",
       "      <td>32.000000</td>\n",
       "    </tr>\n",
       "    <tr>\n",
       "      <td>50%</td>\n",
       "      <td>3.904931e+09</td>\n",
       "      <td>4.490000e+05</td>\n",
       "      <td>3.000000</td>\n",
       "      <td>2.250000</td>\n",
       "      <td>1900.000000</td>\n",
       "      <td>7.620000e+03</td>\n",
       "      <td>1.500000</td>\n",
       "      <td>0.000000</td>\n",
       "      <td>0.000000</td>\n",
       "      <td>3.000000</td>\n",
       "      <td>7.000000</td>\n",
       "      <td>1560.000000</td>\n",
       "      <td>1976.000000</td>\n",
       "      <td>0.0</td>\n",
       "      <td>98065.000000</td>\n",
       "      <td>47.570600</td>\n",
       "      <td>-122.227000</td>\n",
       "      <td>1840.000000</td>\n",
       "      <td>7622.000000</td>\n",
       "      <td>44.900000</td>\n",
       "    </tr>\n",
       "    <tr>\n",
       "      <td>75%</td>\n",
       "      <td>7.326200e+09</td>\n",
       "      <td>6.350000e+05</td>\n",
       "      <td>4.000000</td>\n",
       "      <td>2.500000</td>\n",
       "      <td>2540.000000</td>\n",
       "      <td>1.062600e+04</td>\n",
       "      <td>2.000000</td>\n",
       "      <td>0.000000</td>\n",
       "      <td>0.000000</td>\n",
       "      <td>4.000000</td>\n",
       "      <td>8.000000</td>\n",
       "      <td>2210.000000</td>\n",
       "      <td>1998.000000</td>\n",
       "      <td>0.0</td>\n",
       "      <td>98117.000000</td>\n",
       "      <td>47.678300</td>\n",
       "      <td>-122.123000</td>\n",
       "      <td>2360.000000</td>\n",
       "      <td>10061.000000</td>\n",
       "      <td>63.500000</td>\n",
       "    </tr>\n",
       "    <tr>\n",
       "      <td>max</td>\n",
       "      <td>9.900000e+09</td>\n",
       "      <td>6.890000e+06</td>\n",
       "      <td>33.000000</td>\n",
       "      <td>8.000000</td>\n",
       "      <td>13540.000000</td>\n",
       "      <td>1.651359e+06</td>\n",
       "      <td>3.500000</td>\n",
       "      <td>1.000000</td>\n",
       "      <td>4.000000</td>\n",
       "      <td>5.000000</td>\n",
       "      <td>13.000000</td>\n",
       "      <td>9410.000000</td>\n",
       "      <td>2015.000000</td>\n",
       "      <td>0.0</td>\n",
       "      <td>98199.000000</td>\n",
       "      <td>47.777600</td>\n",
       "      <td>-121.315000</td>\n",
       "      <td>6210.000000</td>\n",
       "      <td>871200.000000</td>\n",
       "      <td>689.000000</td>\n",
       "    </tr>\n",
       "  </tbody>\n",
       "</table>\n",
       "</div>"
      ],
      "text/plain": [
       "                 id         price      bedrooms     bathrooms   sqft_living  \\\n",
       "count  2.085300e+04  2.085300e+04  20853.000000  20853.000000  20853.000000   \n",
       "mean   4.586246e+09  5.321403e+05      3.370115      2.109037   2071.507313   \n",
       "std    2.875507e+09  3.518947e+05      0.920686      0.763118    910.209733   \n",
       "min    1.000102e+06  7.800000e+04      1.000000      0.500000    370.000000   \n",
       "25%    2.125059e+09  3.200000e+05      3.000000      1.500000   1420.000000   \n",
       "50%    3.904931e+09  4.490000e+05      3.000000      2.250000   1900.000000   \n",
       "75%    7.326200e+09  6.350000e+05      4.000000      2.500000   2540.000000   \n",
       "max    9.900000e+09  6.890000e+06     33.000000      8.000000  13540.000000   \n",
       "\n",
       "           sqft_lot        floors    waterfront          view     condition  \\\n",
       "count  2.085300e+04  20853.000000  20853.000000  20791.000000  20853.000000   \n",
       "mean   1.505959e+04      1.493718      0.005611      0.220769      3.416631   \n",
       "std    4.152180e+04      0.541274      0.074696      0.741496      0.653691   \n",
       "min    5.200000e+02      1.000000      0.000000      0.000000      1.000000   \n",
       "25%    5.050000e+03      1.000000      0.000000      0.000000      3.000000   \n",
       "50%    7.620000e+03      1.500000      0.000000      0.000000      3.000000   \n",
       "75%    1.062600e+04      2.000000      0.000000      0.000000      4.000000   \n",
       "max    1.651359e+06      3.500000      1.000000      4.000000      5.000000   \n",
       "\n",
       "              grade    sqft_above      yr_built  yr_renovated       zipcode  \\\n",
       "count  20853.000000  20853.000000  20853.000000       20853.0  20853.000000   \n",
       "mean       7.654534   1785.381432   1972.125114           0.0  98077.321345   \n",
       "std        1.172231    826.815098     28.974784           0.0     53.357658   \n",
       "min        3.000000    370.000000   1900.000000           0.0  98001.000000   \n",
       "25%        7.000000   1190.000000   1953.000000           0.0  98032.000000   \n",
       "50%        7.000000   1560.000000   1976.000000           0.0  98065.000000   \n",
       "75%        8.000000   2210.000000   1998.000000           0.0  98117.000000   \n",
       "max       13.000000   9410.000000   2015.000000           0.0  98199.000000   \n",
       "\n",
       "                lat          long  sqft_living15     sqft_lot15   price/10000  \n",
       "count  20853.000000  20853.000000   20853.000000   20853.000000  20853.000000  \n",
       "mean      47.559363   -122.212268    1986.539778   12735.717499     53.214032  \n",
       "std        0.139088      0.140805     684.145745   27311.862519     35.189473  \n",
       "min       47.155900   -122.519000     399.000000     651.000000      7.800000  \n",
       "25%       47.468600   -122.327000    1490.000000    5100.000000     32.000000  \n",
       "50%       47.570600   -122.227000    1840.000000    7622.000000     44.900000  \n",
       "75%       47.678300   -122.123000    2360.000000   10061.000000     63.500000  \n",
       "max       47.777600   -121.315000    6210.000000  871200.000000    689.000000  "
      ]
     },
     "execution_count": 17,
     "metadata": {},
     "output_type": "execute_result"
    }
   ],
   "source": [
    "non_renovated.describe()"
   ]
  },
  {
   "cell_type": "code",
   "execution_count": 18,
   "metadata": {},
   "outputs": [
    {
     "data": {
      "text/plain": [
       "(744, 22)"
      ]
     },
     "execution_count": 18,
     "metadata": {},
     "output_type": "execute_result"
    }
   ],
   "source": [
    "renovated.shape"
   ]
  },
  {
   "cell_type": "code",
   "execution_count": 19,
   "metadata": {},
   "outputs": [
    {
     "data": {
      "text/html": [
       "<div>\n",
       "<style scoped>\n",
       "    .dataframe tbody tr th:only-of-type {\n",
       "        vertical-align: middle;\n",
       "    }\n",
       "\n",
       "    .dataframe tbody tr th {\n",
       "        vertical-align: top;\n",
       "    }\n",
       "\n",
       "    .dataframe thead th {\n",
       "        text-align: right;\n",
       "    }\n",
       "</style>\n",
       "<table border=\"1\" class=\"dataframe\">\n",
       "  <thead>\n",
       "    <tr style=\"text-align: right;\">\n",
       "      <th></th>\n",
       "      <th>id</th>\n",
       "      <th>price</th>\n",
       "      <th>bedrooms</th>\n",
       "      <th>bathrooms</th>\n",
       "      <th>sqft_living</th>\n",
       "      <th>sqft_lot</th>\n",
       "      <th>floors</th>\n",
       "      <th>waterfront</th>\n",
       "      <th>view</th>\n",
       "      <th>condition</th>\n",
       "      <th>grade</th>\n",
       "      <th>sqft_above</th>\n",
       "      <th>yr_built</th>\n",
       "      <th>yr_renovated</th>\n",
       "      <th>zipcode</th>\n",
       "      <th>lat</th>\n",
       "      <th>long</th>\n",
       "      <th>sqft_living15</th>\n",
       "      <th>sqft_lot15</th>\n",
       "      <th>price/10000</th>\n",
       "    </tr>\n",
       "  </thead>\n",
       "  <tbody>\n",
       "    <tr>\n",
       "      <td>count</td>\n",
       "      <td>7.440000e+02</td>\n",
       "      <td>7.440000e+02</td>\n",
       "      <td>744.000000</td>\n",
       "      <td>744.000000</td>\n",
       "      <td>744.000000</td>\n",
       "      <td>744.000000</td>\n",
       "      <td>744.000000</td>\n",
       "      <td>744.000000</td>\n",
       "      <td>743.000000</td>\n",
       "      <td>744.000000</td>\n",
       "      <td>744.000000</td>\n",
       "      <td>744.000000</td>\n",
       "      <td>744.000000</td>\n",
       "      <td>744.000000</td>\n",
       "      <td>744.000000</td>\n",
       "      <td>744.000000</td>\n",
       "      <td>744.000000</td>\n",
       "      <td>744.000000</td>\n",
       "      <td>744.000000</td>\n",
       "      <td>744.000000</td>\n",
       "    </tr>\n",
       "    <tr>\n",
       "      <td>mean</td>\n",
       "      <td>4.418716e+09</td>\n",
       "      <td>7.689019e+05</td>\n",
       "      <td>3.459677</td>\n",
       "      <td>2.306116</td>\n",
       "      <td>2327.377688</td>\n",
       "      <td>16215.530914</td>\n",
       "      <td>1.504704</td>\n",
       "      <td>0.038978</td>\n",
       "      <td>0.600269</td>\n",
       "      <td>3.219086</td>\n",
       "      <td>7.752688</td>\n",
       "      <td>1878.719086</td>\n",
       "      <td>1939.455645</td>\n",
       "      <td>1995.928763</td>\n",
       "      <td>98095.623656</td>\n",
       "      <td>47.580564</td>\n",
       "      <td>-122.262043</td>\n",
       "      <td>1988.877688</td>\n",
       "      <td>13390.768817</td>\n",
       "      <td>76.890189</td>\n",
       "    </tr>\n",
       "    <tr>\n",
       "      <td>std</td>\n",
       "      <td>2.908265e+09</td>\n",
       "      <td>6.271258e+05</td>\n",
       "      <td>1.068823</td>\n",
       "      <td>0.898233</td>\n",
       "      <td>1089.002040</td>\n",
       "      <td>38235.308760</td>\n",
       "      <td>0.493202</td>\n",
       "      <td>0.193674</td>\n",
       "      <td>1.212180</td>\n",
       "      <td>0.520494</td>\n",
       "      <td>1.196954</td>\n",
       "      <td>849.441413</td>\n",
       "      <td>22.088850</td>\n",
       "      <td>15.599946</td>\n",
       "      <td>54.861316</td>\n",
       "      <td>0.120855</td>\n",
       "      <td>0.129586</td>\n",
       "      <td>715.440144</td>\n",
       "      <td>26213.648057</td>\n",
       "      <td>62.712579</td>\n",
       "    </tr>\n",
       "    <tr>\n",
       "      <td>min</td>\n",
       "      <td>3.600057e+06</td>\n",
       "      <td>1.100000e+05</td>\n",
       "      <td>1.000000</td>\n",
       "      <td>0.750000</td>\n",
       "      <td>520.000000</td>\n",
       "      <td>1024.000000</td>\n",
       "      <td>1.000000</td>\n",
       "      <td>0.000000</td>\n",
       "      <td>0.000000</td>\n",
       "      <td>1.000000</td>\n",
       "      <td>4.000000</td>\n",
       "      <td>520.000000</td>\n",
       "      <td>1900.000000</td>\n",
       "      <td>1934.000000</td>\n",
       "      <td>98001.000000</td>\n",
       "      <td>47.196000</td>\n",
       "      <td>-122.497000</td>\n",
       "      <td>828.000000</td>\n",
       "      <td>1281.000000</td>\n",
       "      <td>11.000000</td>\n",
       "    </tr>\n",
       "    <tr>\n",
       "      <td>25%</td>\n",
       "      <td>1.922985e+09</td>\n",
       "      <td>4.122500e+05</td>\n",
       "      <td>3.000000</td>\n",
       "      <td>1.750000</td>\n",
       "      <td>1560.000000</td>\n",
       "      <td>5000.000000</td>\n",
       "      <td>1.000000</td>\n",
       "      <td>0.000000</td>\n",
       "      <td>0.000000</td>\n",
       "      <td>3.000000</td>\n",
       "      <td>7.000000</td>\n",
       "      <td>1267.500000</td>\n",
       "      <td>1921.000000</td>\n",
       "      <td>1987.000000</td>\n",
       "      <td>98040.000000</td>\n",
       "      <td>47.523350</td>\n",
       "      <td>-122.358000</td>\n",
       "      <td>1460.000000</td>\n",
       "      <td>5000.000000</td>\n",
       "      <td>41.225000</td>\n",
       "    </tr>\n",
       "    <tr>\n",
       "      <td>50%</td>\n",
       "      <td>3.899100e+09</td>\n",
       "      <td>6.075020e+05</td>\n",
       "      <td>3.000000</td>\n",
       "      <td>2.250000</td>\n",
       "      <td>2200.000000</td>\n",
       "      <td>7375.000000</td>\n",
       "      <td>1.500000</td>\n",
       "      <td>0.000000</td>\n",
       "      <td>0.000000</td>\n",
       "      <td>3.000000</td>\n",
       "      <td>8.000000</td>\n",
       "      <td>1730.000000</td>\n",
       "      <td>1941.500000</td>\n",
       "      <td>2000.000000</td>\n",
       "      <td>98112.000000</td>\n",
       "      <td>47.602800</td>\n",
       "      <td>-122.292000</td>\n",
       "      <td>1850.000000</td>\n",
       "      <td>7455.000000</td>\n",
       "      <td>60.750200</td>\n",
       "    </tr>\n",
       "    <tr>\n",
       "      <td>75%</td>\n",
       "      <td>7.014200e+09</td>\n",
       "      <td>9.000000e+05</td>\n",
       "      <td>4.000000</td>\n",
       "      <td>2.750000</td>\n",
       "      <td>2872.500000</td>\n",
       "      <td>12670.750000</td>\n",
       "      <td>2.000000</td>\n",
       "      <td>0.000000</td>\n",
       "      <td>0.000000</td>\n",
       "      <td>3.000000</td>\n",
       "      <td>8.000000</td>\n",
       "      <td>2300.000000</td>\n",
       "      <td>1955.000000</td>\n",
       "      <td>2007.250000</td>\n",
       "      <td>98126.000000</td>\n",
       "      <td>47.670950</td>\n",
       "      <td>-122.210000</td>\n",
       "      <td>2380.000000</td>\n",
       "      <td>10925.750000</td>\n",
       "      <td>90.000000</td>\n",
       "    </tr>\n",
       "    <tr>\n",
       "      <td>max</td>\n",
       "      <td>9.829200e+09</td>\n",
       "      <td>7.700000e+06</td>\n",
       "      <td>11.000000</td>\n",
       "      <td>8.000000</td>\n",
       "      <td>12050.000000</td>\n",
       "      <td>478288.000000</td>\n",
       "      <td>3.000000</td>\n",
       "      <td>1.000000</td>\n",
       "      <td>4.000000</td>\n",
       "      <td>5.000000</td>\n",
       "      <td>13.000000</td>\n",
       "      <td>8570.000000</td>\n",
       "      <td>2003.000000</td>\n",
       "      <td>2015.000000</td>\n",
       "      <td>98199.000000</td>\n",
       "      <td>47.777000</td>\n",
       "      <td>-121.359000</td>\n",
       "      <td>5500.000000</td>\n",
       "      <td>310582.000000</td>\n",
       "      <td>770.000000</td>\n",
       "    </tr>\n",
       "  </tbody>\n",
       "</table>\n",
       "</div>"
      ],
      "text/plain": [
       "                 id         price    bedrooms   bathrooms   sqft_living  \\\n",
       "count  7.440000e+02  7.440000e+02  744.000000  744.000000    744.000000   \n",
       "mean   4.418716e+09  7.689019e+05    3.459677    2.306116   2327.377688   \n",
       "std    2.908265e+09  6.271258e+05    1.068823    0.898233   1089.002040   \n",
       "min    3.600057e+06  1.100000e+05    1.000000    0.750000    520.000000   \n",
       "25%    1.922985e+09  4.122500e+05    3.000000    1.750000   1560.000000   \n",
       "50%    3.899100e+09  6.075020e+05    3.000000    2.250000   2200.000000   \n",
       "75%    7.014200e+09  9.000000e+05    4.000000    2.750000   2872.500000   \n",
       "max    9.829200e+09  7.700000e+06   11.000000    8.000000  12050.000000   \n",
       "\n",
       "            sqft_lot      floors  waterfront        view   condition  \\\n",
       "count     744.000000  744.000000  744.000000  743.000000  744.000000   \n",
       "mean    16215.530914    1.504704    0.038978    0.600269    3.219086   \n",
       "std     38235.308760    0.493202    0.193674    1.212180    0.520494   \n",
       "min      1024.000000    1.000000    0.000000    0.000000    1.000000   \n",
       "25%      5000.000000    1.000000    0.000000    0.000000    3.000000   \n",
       "50%      7375.000000    1.500000    0.000000    0.000000    3.000000   \n",
       "75%     12670.750000    2.000000    0.000000    0.000000    3.000000   \n",
       "max    478288.000000    3.000000    1.000000    4.000000    5.000000   \n",
       "\n",
       "            grade   sqft_above     yr_built  yr_renovated       zipcode  \\\n",
       "count  744.000000   744.000000   744.000000    744.000000    744.000000   \n",
       "mean     7.752688  1878.719086  1939.455645   1995.928763  98095.623656   \n",
       "std      1.196954   849.441413    22.088850     15.599946     54.861316   \n",
       "min      4.000000   520.000000  1900.000000   1934.000000  98001.000000   \n",
       "25%      7.000000  1267.500000  1921.000000   1987.000000  98040.000000   \n",
       "50%      8.000000  1730.000000  1941.500000   2000.000000  98112.000000   \n",
       "75%      8.000000  2300.000000  1955.000000   2007.250000  98126.000000   \n",
       "max     13.000000  8570.000000  2003.000000   2015.000000  98199.000000   \n",
       "\n",
       "              lat        long  sqft_living15     sqft_lot15  price/10000  \n",
       "count  744.000000  744.000000     744.000000     744.000000   744.000000  \n",
       "mean    47.580564 -122.262043    1988.877688   13390.768817    76.890189  \n",
       "std      0.120855    0.129586     715.440144   26213.648057    62.712579  \n",
       "min     47.196000 -122.497000     828.000000    1281.000000    11.000000  \n",
       "25%     47.523350 -122.358000    1460.000000    5000.000000    41.225000  \n",
       "50%     47.602800 -122.292000    1850.000000    7455.000000    60.750200  \n",
       "75%     47.670950 -122.210000    2380.000000   10925.750000    90.000000  \n",
       "max     47.777000 -121.359000    5500.000000  310582.000000   770.000000  "
      ]
     },
     "execution_count": 19,
     "metadata": {},
     "output_type": "execute_result"
    }
   ],
   "source": [
    "renovated.describe()"
   ]
  },
  {
   "cell_type": "code",
   "execution_count": 20,
   "metadata": {},
   "outputs": [
    {
     "data": {
      "text/plain": [
       "768901.8924731183"
      ]
     },
     "execution_count": 20,
     "metadata": {},
     "output_type": "execute_result"
    }
   ],
   "source": [
    "# price mean\n",
    "renovated.price.mean()"
   ]
  },
  {
   "cell_type": "code",
   "execution_count": 21,
   "metadata": {},
   "outputs": [
    {
     "data": {
      "text/plain": [
       "7.752688172043011"
      ]
     },
     "execution_count": 21,
     "metadata": {},
     "output_type": "execute_result"
    }
   ],
   "source": [
    "# grade mean\n",
    "renovated.grade.mean()"
   ]
  },
  {
   "cell_type": "code",
   "execution_count": 22,
   "metadata": {},
   "outputs": [
    {
     "data": {
      "text/plain": [
       "627125.7940449169"
      ]
     },
     "execution_count": 22,
     "metadata": {},
     "output_type": "execute_result"
    }
   ],
   "source": [
    "# price standard deviation\n",
    "renovated.price.std()"
   ]
  },
  {
   "cell_type": "code",
   "execution_count": 23,
   "metadata": {},
   "outputs": [
    {
     "data": {
      "text/plain": [
       "532140.319858054"
      ]
     },
     "execution_count": 23,
     "metadata": {},
     "output_type": "execute_result"
    }
   ],
   "source": [
    "# price mean\n",
    "non_renovated.price.mean()"
   ]
  },
  {
   "cell_type": "code",
   "execution_count": 24,
   "metadata": {},
   "outputs": [
    {
     "data": {
      "text/plain": [
       "7.654534119790918"
      ]
     },
     "execution_count": 24,
     "metadata": {},
     "output_type": "execute_result"
    }
   ],
   "source": [
    "# grade mean\n",
    "non_renovated.grade.mean()"
   ]
  },
  {
   "cell_type": "code",
   "execution_count": 25,
   "metadata": {},
   "outputs": [
    {
     "data": {
      "text/plain": [
       "351894.7303060593"
      ]
     },
     "execution_count": 25,
     "metadata": {},
     "output_type": "execute_result"
    }
   ],
   "source": [
    "# price std\n",
    "non_renovated.price.std()"
   ]
  },
  {
   "cell_type": "code",
   "execution_count": 26,
   "metadata": {},
   "outputs": [
    {
     "data": {
      "text/plain": [
       "(9925, 22)"
      ]
     },
     "execution_count": 26,
     "metadata": {},
     "output_type": "execute_result"
    }
   ],
   "source": [
    "# assess the number of non renovated homes over grade 7 (renovated homes grade mean)\n",
    "non_renovated_grade = non_renovated[non_renovated[\"grade\"]>7]\n",
    "non_renovated_grade.shape"
   ]
  },
  {
   "cell_type": "code",
   "execution_count": 27,
   "metadata": {},
   "outputs": [
    {
     "data": {
      "text/plain": [
       "(9925, 22)"
      ]
     },
     "execution_count": 27,
     "metadata": {},
     "output_type": "execute_result"
    }
   ],
   "source": [
    "# assess the number of non renovated homes over grade 7 (renovated homes grade mean)\n",
    "non_renovated_grade = non_renovated[non_renovated[\"grade\"]>7]\n",
    "non_renovated_grade.shape"
   ]
  },
  {
   "cell_type": "code",
   "execution_count": 28,
   "metadata": {},
   "outputs": [
    {
     "data": {
      "text/plain": [
       "0.47595070253680527"
      ]
     },
     "execution_count": 28,
     "metadata": {},
     "output_type": "execute_result"
    }
   ],
   "source": [
    "len(non_renovated_grade)/len(non_renovated)"
   ]
  },
  {
   "cell_type": "code",
   "execution_count": 29,
   "metadata": {},
   "outputs": [
    {
     "data": {
      "text/plain": [
       "0.9655507709404084"
      ]
     },
     "execution_count": 29,
     "metadata": {},
     "output_type": "execute_result"
    }
   ],
   "source": [
    "len(non_renovated)/len(data)"
   ]
  },
  {
   "cell_type": "code",
   "execution_count": 30,
   "metadata": {},
   "outputs": [
    {
     "data": {
      "text/plain": [
       "0.03444922905959161"
      ]
     },
     "execution_count": 30,
     "metadata": {},
     "output_type": "execute_result"
    }
   ],
   "source": [
    "len(renovated)/len(data)"
   ]
  },
  {
   "cell_type": "code",
   "execution_count": 31,
   "metadata": {},
   "outputs": [
    {
     "data": {
      "text/plain": [
       "701337.1032745591"
      ]
     },
     "execution_count": 31,
     "metadata": {},
     "output_type": "execute_result"
    }
   ],
   "source": [
    "# price mean\n",
    "non_renovated_grade.price.mean()"
   ]
  },
  {
   "cell_type": "code",
   "execution_count": null,
   "metadata": {},
   "outputs": [],
   "source": []
  },
  {
   "cell_type": "markdown",
   "metadata": {},
   "source": [
    "i will be dropping the year renovated column due to the fact that many non renovated properties with same grade from king county housing deparment sell for similiar price"
   ]
  },
  {
   "cell_type": "markdown",
   "metadata": {},
   "source": [
    "## convert date column to DateTime format, then separate date to month, day, year columns due to datetime being unusable in regression, (drop 'data' column once all necessary calculations have been done)"
   ]
  },
  {
   "cell_type": "code",
   "execution_count": 32,
   "metadata": {},
   "outputs": [
    {
     "data": {
      "text/plain": [
       "Index(['id', 'date', 'price', 'bedrooms', 'bathrooms', 'sqft_living',\n",
       "       'sqft_lot', 'floors', 'waterfront', 'view', 'condition', 'grade',\n",
       "       'sqft_above', 'sqft_basement', 'yr_built', 'yr_renovated', 'zipcode',\n",
       "       'lat', 'long', 'sqft_living15', 'sqft_lot15', 'price/10000'],\n",
       "      dtype='object')"
      ]
     },
     "execution_count": 32,
     "metadata": {},
     "output_type": "execute_result"
    }
   ],
   "source": [
    "data.columns"
   ]
  },
  {
   "cell_type": "code",
   "execution_count": 33,
   "metadata": {},
   "outputs": [],
   "source": [
    "data['date']= pd.to_datetime(data['date']) "
   ]
  },
  {
   "cell_type": "code",
   "execution_count": 34,
   "metadata": {},
   "outputs": [],
   "source": [
    "data['sale_year'] = data.date.dt.year"
   ]
  },
  {
   "cell_type": "markdown",
   "metadata": {},
   "source": [
    "## create age column from date of sale and year built "
   ]
  },
  {
   "cell_type": "code",
   "execution_count": 35,
   "metadata": {},
   "outputs": [],
   "source": [
    "# subtract the year built from sale year to get age of home when sold\n",
    "data['age'] = data['sale_year'] - (data['yr_built'] - 1)"
   ]
  },
  {
   "cell_type": "code",
   "execution_count": 36,
   "metadata": {},
   "outputs": [],
   "source": [
    "renovated_df = data.loc[data['yr_renovated'] > 1]\n",
    "non_reno_df = data.loc[data['yr_renovated'] < 1]"
   ]
  },
  {
   "cell_type": "markdown",
   "metadata": {},
   "source": [
    "## find out if there are historic homes on dataset. washington state qualifies as over 50 and retaining original structure. assess whether these are abnormalities "
   ]
  },
  {
   "cell_type": "code",
   "execution_count": 37,
   "metadata": {},
   "outputs": [
    {
     "data": {
      "text/html": [
       "<div>\n",
       "<style scoped>\n",
       "    .dataframe tbody tr th:only-of-type {\n",
       "        vertical-align: middle;\n",
       "    }\n",
       "\n",
       "    .dataframe tbody tr th {\n",
       "        vertical-align: top;\n",
       "    }\n",
       "\n",
       "    .dataframe thead th {\n",
       "        text-align: right;\n",
       "    }\n",
       "</style>\n",
       "<table border=\"1\" class=\"dataframe\">\n",
       "  <thead>\n",
       "    <tr style=\"text-align: right;\">\n",
       "      <th></th>\n",
       "      <th>id</th>\n",
       "      <th>date</th>\n",
       "      <th>price</th>\n",
       "      <th>bedrooms</th>\n",
       "      <th>bathrooms</th>\n",
       "      <th>sqft_living</th>\n",
       "      <th>sqft_lot</th>\n",
       "      <th>floors</th>\n",
       "      <th>waterfront</th>\n",
       "      <th>view</th>\n",
       "      <th>...</th>\n",
       "      <th>yr_built</th>\n",
       "      <th>yr_renovated</th>\n",
       "      <th>zipcode</th>\n",
       "      <th>lat</th>\n",
       "      <th>long</th>\n",
       "      <th>sqft_living15</th>\n",
       "      <th>sqft_lot15</th>\n",
       "      <th>price/10000</th>\n",
       "      <th>sale_year</th>\n",
       "      <th>age</th>\n",
       "    </tr>\n",
       "  </thead>\n",
       "  <tbody>\n",
       "    <tr>\n",
       "      <td>1</td>\n",
       "      <td>6414100192</td>\n",
       "      <td>2014-12-09</td>\n",
       "      <td>538000.0</td>\n",
       "      <td>3</td>\n",
       "      <td>2.25</td>\n",
       "      <td>2570</td>\n",
       "      <td>7242</td>\n",
       "      <td>2.0</td>\n",
       "      <td>0</td>\n",
       "      <td>0.0</td>\n",
       "      <td>...</td>\n",
       "      <td>1951</td>\n",
       "      <td>1991</td>\n",
       "      <td>98125</td>\n",
       "      <td>47.7210</td>\n",
       "      <td>-122.319</td>\n",
       "      <td>1690</td>\n",
       "      <td>7639</td>\n",
       "      <td>53.8000</td>\n",
       "      <td>2014</td>\n",
       "      <td>64</td>\n",
       "    </tr>\n",
       "    <tr>\n",
       "      <td>35</td>\n",
       "      <td>9547205180</td>\n",
       "      <td>2014-06-13</td>\n",
       "      <td>696000.0</td>\n",
       "      <td>3</td>\n",
       "      <td>2.50</td>\n",
       "      <td>2300</td>\n",
       "      <td>3060</td>\n",
       "      <td>1.5</td>\n",
       "      <td>0</td>\n",
       "      <td>0.0</td>\n",
       "      <td>...</td>\n",
       "      <td>1930</td>\n",
       "      <td>2002</td>\n",
       "      <td>98115</td>\n",
       "      <td>47.6827</td>\n",
       "      <td>-122.310</td>\n",
       "      <td>1590</td>\n",
       "      <td>3264</td>\n",
       "      <td>69.6000</td>\n",
       "      <td>2014</td>\n",
       "      <td>85</td>\n",
       "    </tr>\n",
       "    <tr>\n",
       "      <td>95</td>\n",
       "      <td>1483300570</td>\n",
       "      <td>2014-09-08</td>\n",
       "      <td>905000.0</td>\n",
       "      <td>4</td>\n",
       "      <td>2.50</td>\n",
       "      <td>3300</td>\n",
       "      <td>10250</td>\n",
       "      <td>1.0</td>\n",
       "      <td>0</td>\n",
       "      <td>0.0</td>\n",
       "      <td>...</td>\n",
       "      <td>1946</td>\n",
       "      <td>1991</td>\n",
       "      <td>98040</td>\n",
       "      <td>47.5873</td>\n",
       "      <td>-122.249</td>\n",
       "      <td>1950</td>\n",
       "      <td>6045</td>\n",
       "      <td>90.5000</td>\n",
       "      <td>2014</td>\n",
       "      <td>69</td>\n",
       "    </tr>\n",
       "    <tr>\n",
       "      <td>103</td>\n",
       "      <td>2450000295</td>\n",
       "      <td>2014-10-07</td>\n",
       "      <td>1090000.0</td>\n",
       "      <td>3</td>\n",
       "      <td>2.50</td>\n",
       "      <td>2920</td>\n",
       "      <td>8113</td>\n",
       "      <td>2.0</td>\n",
       "      <td>0</td>\n",
       "      <td>0.0</td>\n",
       "      <td>...</td>\n",
       "      <td>1950</td>\n",
       "      <td>2010</td>\n",
       "      <td>98004</td>\n",
       "      <td>47.5814</td>\n",
       "      <td>-122.196</td>\n",
       "      <td>2370</td>\n",
       "      <td>8113</td>\n",
       "      <td>109.0000</td>\n",
       "      <td>2014</td>\n",
       "      <td>65</td>\n",
       "    </tr>\n",
       "    <tr>\n",
       "      <td>125</td>\n",
       "      <td>4389200955</td>\n",
       "      <td>2015-03-02</td>\n",
       "      <td>1450000.0</td>\n",
       "      <td>4</td>\n",
       "      <td>2.75</td>\n",
       "      <td>2750</td>\n",
       "      <td>17789</td>\n",
       "      <td>1.5</td>\n",
       "      <td>0</td>\n",
       "      <td>0.0</td>\n",
       "      <td>...</td>\n",
       "      <td>1914</td>\n",
       "      <td>1992</td>\n",
       "      <td>98004</td>\n",
       "      <td>47.6141</td>\n",
       "      <td>-122.212</td>\n",
       "      <td>3060</td>\n",
       "      <td>11275</td>\n",
       "      <td>145.0000</td>\n",
       "      <td>2015</td>\n",
       "      <td>102</td>\n",
       "    </tr>\n",
       "    <tr>\n",
       "      <td>...</td>\n",
       "      <td>...</td>\n",
       "      <td>...</td>\n",
       "      <td>...</td>\n",
       "      <td>...</td>\n",
       "      <td>...</td>\n",
       "      <td>...</td>\n",
       "      <td>...</td>\n",
       "      <td>...</td>\n",
       "      <td>...</td>\n",
       "      <td>...</td>\n",
       "      <td>...</td>\n",
       "      <td>...</td>\n",
       "      <td>...</td>\n",
       "      <td>...</td>\n",
       "      <td>...</td>\n",
       "      <td>...</td>\n",
       "      <td>...</td>\n",
       "      <td>...</td>\n",
       "      <td>...</td>\n",
       "      <td>...</td>\n",
       "      <td>...</td>\n",
       "    </tr>\n",
       "    <tr>\n",
       "      <td>19472</td>\n",
       "      <td>8075400530</td>\n",
       "      <td>2014-06-27</td>\n",
       "      <td>234000.0</td>\n",
       "      <td>4</td>\n",
       "      <td>1.00</td>\n",
       "      <td>1390</td>\n",
       "      <td>18000</td>\n",
       "      <td>1.0</td>\n",
       "      <td>0</td>\n",
       "      <td>0.0</td>\n",
       "      <td>...</td>\n",
       "      <td>1955</td>\n",
       "      <td>2013</td>\n",
       "      <td>98032</td>\n",
       "      <td>47.3885</td>\n",
       "      <td>-122.284</td>\n",
       "      <td>1390</td>\n",
       "      <td>18000</td>\n",
       "      <td>23.4000</td>\n",
       "      <td>2014</td>\n",
       "      <td>60</td>\n",
       "    </tr>\n",
       "    <tr>\n",
       "      <td>19497</td>\n",
       "      <td>6821101285</td>\n",
       "      <td>2014-08-14</td>\n",
       "      <td>819000.0</td>\n",
       "      <td>3</td>\n",
       "      <td>1.75</td>\n",
       "      <td>1850</td>\n",
       "      <td>6000</td>\n",
       "      <td>1.5</td>\n",
       "      <td>0</td>\n",
       "      <td>0.0</td>\n",
       "      <td>...</td>\n",
       "      <td>1913</td>\n",
       "      <td>1999</td>\n",
       "      <td>98199</td>\n",
       "      <td>47.6528</td>\n",
       "      <td>-122.401</td>\n",
       "      <td>1540</td>\n",
       "      <td>6000</td>\n",
       "      <td>81.9000</td>\n",
       "      <td>2014</td>\n",
       "      <td>102</td>\n",
       "    </tr>\n",
       "    <tr>\n",
       "      <td>19524</td>\n",
       "      <td>923000115</td>\n",
       "      <td>2014-10-29</td>\n",
       "      <td>588000.0</td>\n",
       "      <td>3</td>\n",
       "      <td>1.75</td>\n",
       "      <td>2310</td>\n",
       "      <td>7620</td>\n",
       "      <td>2.0</td>\n",
       "      <td>0</td>\n",
       "      <td>0.0</td>\n",
       "      <td>...</td>\n",
       "      <td>1942</td>\n",
       "      <td>1988</td>\n",
       "      <td>98177</td>\n",
       "      <td>47.7266</td>\n",
       "      <td>-122.363</td>\n",
       "      <td>2200</td>\n",
       "      <td>7672</td>\n",
       "      <td>58.8000</td>\n",
       "      <td>2014</td>\n",
       "      <td>73</td>\n",
       "    </tr>\n",
       "    <tr>\n",
       "      <td>19602</td>\n",
       "      <td>6392000625</td>\n",
       "      <td>2014-07-12</td>\n",
       "      <td>451000.0</td>\n",
       "      <td>2</td>\n",
       "      <td>1.00</td>\n",
       "      <td>900</td>\n",
       "      <td>6000</td>\n",
       "      <td>1.0</td>\n",
       "      <td>0</td>\n",
       "      <td>0.0</td>\n",
       "      <td>...</td>\n",
       "      <td>1944</td>\n",
       "      <td>2004</td>\n",
       "      <td>98115</td>\n",
       "      <td>47.6855</td>\n",
       "      <td>-122.289</td>\n",
       "      <td>1460</td>\n",
       "      <td>4800</td>\n",
       "      <td>45.1000</td>\n",
       "      <td>2014</td>\n",
       "      <td>71</td>\n",
       "    </tr>\n",
       "    <tr>\n",
       "      <td>20428</td>\n",
       "      <td>4305600360</td>\n",
       "      <td>2015-02-25</td>\n",
       "      <td>500012.0</td>\n",
       "      <td>4</td>\n",
       "      <td>2.50</td>\n",
       "      <td>2400</td>\n",
       "      <td>9612</td>\n",
       "      <td>1.0</td>\n",
       "      <td>0</td>\n",
       "      <td>0.0</td>\n",
       "      <td>...</td>\n",
       "      <td>1962</td>\n",
       "      <td>2009</td>\n",
       "      <td>98059</td>\n",
       "      <td>47.4799</td>\n",
       "      <td>-122.127</td>\n",
       "      <td>2430</td>\n",
       "      <td>5539</td>\n",
       "      <td>50.0012</td>\n",
       "      <td>2015</td>\n",
       "      <td>54</td>\n",
       "    </tr>\n",
       "  </tbody>\n",
       "</table>\n",
       "<p>642 rows × 24 columns</p>\n",
       "</div>"
      ],
      "text/plain": [
       "               id       date      price  bedrooms  bathrooms  sqft_living  \\\n",
       "1      6414100192 2014-12-09   538000.0         3       2.25         2570   \n",
       "35     9547205180 2014-06-13   696000.0         3       2.50         2300   \n",
       "95     1483300570 2014-09-08   905000.0         4       2.50         3300   \n",
       "103    2450000295 2014-10-07  1090000.0         3       2.50         2920   \n",
       "125    4389200955 2015-03-02  1450000.0         4       2.75         2750   \n",
       "...           ...        ...        ...       ...        ...          ...   \n",
       "19472  8075400530 2014-06-27   234000.0         4       1.00         1390   \n",
       "19497  6821101285 2014-08-14   819000.0         3       1.75         1850   \n",
       "19524   923000115 2014-10-29   588000.0         3       1.75         2310   \n",
       "19602  6392000625 2014-07-12   451000.0         2       1.00          900   \n",
       "20428  4305600360 2015-02-25   500012.0         4       2.50         2400   \n",
       "\n",
       "       sqft_lot  floors  waterfront  view  ...  yr_built  yr_renovated  \\\n",
       "1          7242     2.0           0   0.0  ...      1951          1991   \n",
       "35         3060     1.5           0   0.0  ...      1930          2002   \n",
       "95        10250     1.0           0   0.0  ...      1946          1991   \n",
       "103        8113     2.0           0   0.0  ...      1950          2010   \n",
       "125       17789     1.5           0   0.0  ...      1914          1992   \n",
       "...         ...     ...         ...   ...  ...       ...           ...   \n",
       "19472     18000     1.0           0   0.0  ...      1955          2013   \n",
       "19497      6000     1.5           0   0.0  ...      1913          1999   \n",
       "19524      7620     2.0           0   0.0  ...      1942          1988   \n",
       "19602      6000     1.0           0   0.0  ...      1944          2004   \n",
       "20428      9612     1.0           0   0.0  ...      1962          2009   \n",
       "\n",
       "       zipcode      lat     long  sqft_living15  sqft_lot15  price/10000  \\\n",
       "1        98125  47.7210 -122.319           1690        7639      53.8000   \n",
       "35       98115  47.6827 -122.310           1590        3264      69.6000   \n",
       "95       98040  47.5873 -122.249           1950        6045      90.5000   \n",
       "103      98004  47.5814 -122.196           2370        8113     109.0000   \n",
       "125      98004  47.6141 -122.212           3060       11275     145.0000   \n",
       "...        ...      ...      ...            ...         ...          ...   \n",
       "19472    98032  47.3885 -122.284           1390       18000      23.4000   \n",
       "19497    98199  47.6528 -122.401           1540        6000      81.9000   \n",
       "19524    98177  47.7266 -122.363           2200        7672      58.8000   \n",
       "19602    98115  47.6855 -122.289           1460        4800      45.1000   \n",
       "20428    98059  47.4799 -122.127           2430        5539      50.0012   \n",
       "\n",
       "       sale_year  age  \n",
       "1           2014   64  \n",
       "35          2014   85  \n",
       "95          2014   69  \n",
       "103         2014   65  \n",
       "125         2015  102  \n",
       "...          ...  ...  \n",
       "19472       2014   60  \n",
       "19497       2014  102  \n",
       "19524       2014   73  \n",
       "19602       2014   71  \n",
       "20428       2015   54  \n",
       "\n",
       "[642 rows x 24 columns]"
      ]
     },
     "execution_count": 37,
     "metadata": {},
     "output_type": "execute_result"
    }
   ],
   "source": [
    "ren_historic_df = data[(data.age > 50) & (data.yr_renovated > 1)]\n",
    "ren_historic_df"
   ]
  },
  {
   "cell_type": "code",
   "execution_count": 38,
   "metadata": {},
   "outputs": [
    {
     "data": {
      "text/html": [
       "<div>\n",
       "<style scoped>\n",
       "    .dataframe tbody tr th:only-of-type {\n",
       "        vertical-align: middle;\n",
       "    }\n",
       "\n",
       "    .dataframe tbody tr th {\n",
       "        vertical-align: top;\n",
       "    }\n",
       "\n",
       "    .dataframe thead th {\n",
       "        text-align: right;\n",
       "    }\n",
       "</style>\n",
       "<table border=\"1\" class=\"dataframe\">\n",
       "  <thead>\n",
       "    <tr style=\"text-align: right;\">\n",
       "      <th></th>\n",
       "      <th>id</th>\n",
       "      <th>price</th>\n",
       "      <th>bedrooms</th>\n",
       "      <th>bathrooms</th>\n",
       "      <th>sqft_living</th>\n",
       "      <th>sqft_lot</th>\n",
       "      <th>floors</th>\n",
       "      <th>waterfront</th>\n",
       "      <th>view</th>\n",
       "      <th>condition</th>\n",
       "      <th>...</th>\n",
       "      <th>yr_built</th>\n",
       "      <th>yr_renovated</th>\n",
       "      <th>zipcode</th>\n",
       "      <th>lat</th>\n",
       "      <th>long</th>\n",
       "      <th>sqft_living15</th>\n",
       "      <th>sqft_lot15</th>\n",
       "      <th>price/10000</th>\n",
       "      <th>sale_year</th>\n",
       "      <th>age</th>\n",
       "    </tr>\n",
       "  </thead>\n",
       "  <tbody>\n",
       "    <tr>\n",
       "      <td>count</td>\n",
       "      <td>6.420000e+02</td>\n",
       "      <td>6.420000e+02</td>\n",
       "      <td>642.000000</td>\n",
       "      <td>642.000000</td>\n",
       "      <td>642.00000</td>\n",
       "      <td>642.000000</td>\n",
       "      <td>642.000000</td>\n",
       "      <td>642.000000</td>\n",
       "      <td>641.000000</td>\n",
       "      <td>642.000000</td>\n",
       "      <td>...</td>\n",
       "      <td>642.000000</td>\n",
       "      <td>642.000000</td>\n",
       "      <td>642.000000</td>\n",
       "      <td>642.000000</td>\n",
       "      <td>642.000000</td>\n",
       "      <td>642.000000</td>\n",
       "      <td>642.000000</td>\n",
       "      <td>642.000000</td>\n",
       "      <td>642.000000</td>\n",
       "      <td>642.000000</td>\n",
       "    </tr>\n",
       "    <tr>\n",
       "      <td>mean</td>\n",
       "      <td>4.420703e+09</td>\n",
       "      <td>7.567015e+05</td>\n",
       "      <td>3.439252</td>\n",
       "      <td>2.266745</td>\n",
       "      <td>2284.76947</td>\n",
       "      <td>15300.685358</td>\n",
       "      <td>1.500000</td>\n",
       "      <td>0.034268</td>\n",
       "      <td>0.597504</td>\n",
       "      <td>3.239875</td>\n",
       "      <td>...</td>\n",
       "      <td>1933.904984</td>\n",
       "      <td>1994.738318</td>\n",
       "      <td>98099.755452</td>\n",
       "      <td>47.587178</td>\n",
       "      <td>-122.275407</td>\n",
       "      <td>1951.761682</td>\n",
       "      <td>12584.098131</td>\n",
       "      <td>75.670153</td>\n",
       "      <td>2014.274143</td>\n",
       "      <td>81.369159</td>\n",
       "    </tr>\n",
       "    <tr>\n",
       "      <td>std</td>\n",
       "      <td>2.903391e+09</td>\n",
       "      <td>6.206395e+05</td>\n",
       "      <td>1.094684</td>\n",
       "      <td>0.888923</td>\n",
       "      <td>1049.53633</td>\n",
       "      <td>38856.642185</td>\n",
       "      <td>0.484551</td>\n",
       "      <td>0.182058</td>\n",
       "      <td>1.202962</td>\n",
       "      <td>0.540207</td>\n",
       "      <td>...</td>\n",
       "      <td>18.187668</td>\n",
       "      <td>16.174942</td>\n",
       "      <td>53.636650</td>\n",
       "      <td>0.117805</td>\n",
       "      <td>0.121197</td>\n",
       "      <td>694.879391</td>\n",
       "      <td>25877.346653</td>\n",
       "      <td>62.063951</td>\n",
       "      <td>0.446429</td>\n",
       "      <td>18.188796</td>\n",
       "    </tr>\n",
       "    <tr>\n",
       "      <td>min</td>\n",
       "      <td>3.600057e+06</td>\n",
       "      <td>1.340000e+05</td>\n",
       "      <td>1.000000</td>\n",
       "      <td>0.750000</td>\n",
       "      <td>520.00000</td>\n",
       "      <td>1033.000000</td>\n",
       "      <td>1.000000</td>\n",
       "      <td>0.000000</td>\n",
       "      <td>0.000000</td>\n",
       "      <td>1.000000</td>\n",
       "      <td>...</td>\n",
       "      <td>1900.000000</td>\n",
       "      <td>1934.000000</td>\n",
       "      <td>98001.000000</td>\n",
       "      <td>47.196000</td>\n",
       "      <td>-122.497000</td>\n",
       "      <td>830.000000</td>\n",
       "      <td>1281.000000</td>\n",
       "      <td>13.400000</td>\n",
       "      <td>2014.000000</td>\n",
       "      <td>51.000000</td>\n",
       "    </tr>\n",
       "    <tr>\n",
       "      <td>25%</td>\n",
       "      <td>1.912710e+09</td>\n",
       "      <td>4.117500e+05</td>\n",
       "      <td>3.000000</td>\n",
       "      <td>1.750000</td>\n",
       "      <td>1540.00000</td>\n",
       "      <td>4803.750000</td>\n",
       "      <td>1.000000</td>\n",
       "      <td>0.000000</td>\n",
       "      <td>0.000000</td>\n",
       "      <td>3.000000</td>\n",
       "      <td>...</td>\n",
       "      <td>1918.250000</td>\n",
       "      <td>1985.000000</td>\n",
       "      <td>98052.000000</td>\n",
       "      <td>47.529475</td>\n",
       "      <td>-122.361000</td>\n",
       "      <td>1440.000000</td>\n",
       "      <td>5000.000000</td>\n",
       "      <td>41.175000</td>\n",
       "      <td>2014.000000</td>\n",
       "      <td>65.000000</td>\n",
       "    </tr>\n",
       "    <tr>\n",
       "      <td>50%</td>\n",
       "      <td>3.980950e+09</td>\n",
       "      <td>6.084520e+05</td>\n",
       "      <td>3.000000</td>\n",
       "      <td>2.000000</td>\n",
       "      <td>2180.00000</td>\n",
       "      <td>7082.500000</td>\n",
       "      <td>1.500000</td>\n",
       "      <td>0.000000</td>\n",
       "      <td>0.000000</td>\n",
       "      <td>3.000000</td>\n",
       "      <td>...</td>\n",
       "      <td>1936.500000</td>\n",
       "      <td>1998.000000</td>\n",
       "      <td>98115.000000</td>\n",
       "      <td>47.609950</td>\n",
       "      <td>-122.302500</td>\n",
       "      <td>1810.000000</td>\n",
       "      <td>7000.000000</td>\n",
       "      <td>60.845200</td>\n",
       "      <td>2014.000000</td>\n",
       "      <td>79.000000</td>\n",
       "    </tr>\n",
       "    <tr>\n",
       "      <td>75%</td>\n",
       "      <td>7.012701e+09</td>\n",
       "      <td>8.931250e+05</td>\n",
       "      <td>4.000000</td>\n",
       "      <td>2.750000</td>\n",
       "      <td>2802.25000</td>\n",
       "      <td>11622.000000</td>\n",
       "      <td>2.000000</td>\n",
       "      <td>0.000000</td>\n",
       "      <td>0.000000</td>\n",
       "      <td>3.000000</td>\n",
       "      <td>...</td>\n",
       "      <td>1950.000000</td>\n",
       "      <td>2007.000000</td>\n",
       "      <td>98133.000000</td>\n",
       "      <td>47.673925</td>\n",
       "      <td>-122.221000</td>\n",
       "      <td>2340.000000</td>\n",
       "      <td>10264.750000</td>\n",
       "      <td>89.312500</td>\n",
       "      <td>2015.000000</td>\n",
       "      <td>97.000000</td>\n",
       "    </tr>\n",
       "    <tr>\n",
       "      <td>max</td>\n",
       "      <td>9.828702e+09</td>\n",
       "      <td>7.700000e+06</td>\n",
       "      <td>11.000000</td>\n",
       "      <td>8.000000</td>\n",
       "      <td>12050.00000</td>\n",
       "      <td>478288.000000</td>\n",
       "      <td>3.000000</td>\n",
       "      <td>1.000000</td>\n",
       "      <td>4.000000</td>\n",
       "      <td>5.000000</td>\n",
       "      <td>...</td>\n",
       "      <td>1965.000000</td>\n",
       "      <td>2015.000000</td>\n",
       "      <td>98199.000000</td>\n",
       "      <td>47.776300</td>\n",
       "      <td>-121.359000</td>\n",
       "      <td>5500.000000</td>\n",
       "      <td>310582.000000</td>\n",
       "      <td>770.000000</td>\n",
       "      <td>2015.000000</td>\n",
       "      <td>116.000000</td>\n",
       "    </tr>\n",
       "  </tbody>\n",
       "</table>\n",
       "<p>8 rows × 22 columns</p>\n",
       "</div>"
      ],
      "text/plain": [
       "                 id         price    bedrooms   bathrooms  sqft_living  \\\n",
       "count  6.420000e+02  6.420000e+02  642.000000  642.000000    642.00000   \n",
       "mean   4.420703e+09  7.567015e+05    3.439252    2.266745   2284.76947   \n",
       "std    2.903391e+09  6.206395e+05    1.094684    0.888923   1049.53633   \n",
       "min    3.600057e+06  1.340000e+05    1.000000    0.750000    520.00000   \n",
       "25%    1.912710e+09  4.117500e+05    3.000000    1.750000   1540.00000   \n",
       "50%    3.980950e+09  6.084520e+05    3.000000    2.000000   2180.00000   \n",
       "75%    7.012701e+09  8.931250e+05    4.000000    2.750000   2802.25000   \n",
       "max    9.828702e+09  7.700000e+06   11.000000    8.000000  12050.00000   \n",
       "\n",
       "            sqft_lot      floors  waterfront        view   condition  ...  \\\n",
       "count     642.000000  642.000000  642.000000  641.000000  642.000000  ...   \n",
       "mean    15300.685358    1.500000    0.034268    0.597504    3.239875  ...   \n",
       "std     38856.642185    0.484551    0.182058    1.202962    0.540207  ...   \n",
       "min      1033.000000    1.000000    0.000000    0.000000    1.000000  ...   \n",
       "25%      4803.750000    1.000000    0.000000    0.000000    3.000000  ...   \n",
       "50%      7082.500000    1.500000    0.000000    0.000000    3.000000  ...   \n",
       "75%     11622.000000    2.000000    0.000000    0.000000    3.000000  ...   \n",
       "max    478288.000000    3.000000    1.000000    4.000000    5.000000  ...   \n",
       "\n",
       "          yr_built  yr_renovated       zipcode         lat        long  \\\n",
       "count   642.000000    642.000000    642.000000  642.000000  642.000000   \n",
       "mean   1933.904984   1994.738318  98099.755452   47.587178 -122.275407   \n",
       "std      18.187668     16.174942     53.636650    0.117805    0.121197   \n",
       "min    1900.000000   1934.000000  98001.000000   47.196000 -122.497000   \n",
       "25%    1918.250000   1985.000000  98052.000000   47.529475 -122.361000   \n",
       "50%    1936.500000   1998.000000  98115.000000   47.609950 -122.302500   \n",
       "75%    1950.000000   2007.000000  98133.000000   47.673925 -122.221000   \n",
       "max    1965.000000   2015.000000  98199.000000   47.776300 -121.359000   \n",
       "\n",
       "       sqft_living15     sqft_lot15  price/10000    sale_year         age  \n",
       "count     642.000000     642.000000   642.000000   642.000000  642.000000  \n",
       "mean     1951.761682   12584.098131    75.670153  2014.274143   81.369159  \n",
       "std       694.879391   25877.346653    62.063951     0.446429   18.188796  \n",
       "min       830.000000    1281.000000    13.400000  2014.000000   51.000000  \n",
       "25%      1440.000000    5000.000000    41.175000  2014.000000   65.000000  \n",
       "50%      1810.000000    7000.000000    60.845200  2014.000000   79.000000  \n",
       "75%      2340.000000   10264.750000    89.312500  2015.000000   97.000000  \n",
       "max      5500.000000  310582.000000   770.000000  2015.000000  116.000000  \n",
       "\n",
       "[8 rows x 22 columns]"
      ]
     },
     "execution_count": 38,
     "metadata": {},
     "output_type": "execute_result"
    }
   ],
   "source": [
    "ren_historic_df.describe()"
   ]
  },
  {
   "cell_type": "code",
   "execution_count": 39,
   "metadata": {},
   "outputs": [
    {
     "data": {
      "text/plain": [
       "756701.5327102804"
      ]
     },
     "execution_count": 39,
     "metadata": {},
     "output_type": "execute_result"
    }
   ],
   "source": [
    "ren_historic_df.price.mean()"
   ]
  },
  {
   "cell_type": "code",
   "execution_count": 40,
   "metadata": {},
   "outputs": [
    {
     "data": {
      "text/html": [
       "<div>\n",
       "<style scoped>\n",
       "    .dataframe tbody tr th:only-of-type {\n",
       "        vertical-align: middle;\n",
       "    }\n",
       "\n",
       "    .dataframe tbody tr th {\n",
       "        vertical-align: top;\n",
       "    }\n",
       "\n",
       "    .dataframe thead th {\n",
       "        text-align: right;\n",
       "    }\n",
       "</style>\n",
       "<table border=\"1\" class=\"dataframe\">\n",
       "  <thead>\n",
       "    <tr style=\"text-align: right;\">\n",
       "      <th></th>\n",
       "      <th>id</th>\n",
       "      <th>date</th>\n",
       "      <th>price</th>\n",
       "      <th>bedrooms</th>\n",
       "      <th>bathrooms</th>\n",
       "      <th>sqft_living</th>\n",
       "      <th>sqft_lot</th>\n",
       "      <th>floors</th>\n",
       "      <th>waterfront</th>\n",
       "      <th>view</th>\n",
       "      <th>...</th>\n",
       "      <th>yr_built</th>\n",
       "      <th>yr_renovated</th>\n",
       "      <th>zipcode</th>\n",
       "      <th>lat</th>\n",
       "      <th>long</th>\n",
       "      <th>sqft_living15</th>\n",
       "      <th>sqft_lot15</th>\n",
       "      <th>price/10000</th>\n",
       "      <th>sale_year</th>\n",
       "      <th>age</th>\n",
       "    </tr>\n",
       "  </thead>\n",
       "  <tbody>\n",
       "    <tr>\n",
       "      <td>0</td>\n",
       "      <td>7129300520</td>\n",
       "      <td>2014-10-13</td>\n",
       "      <td>221900.0</td>\n",
       "      <td>3</td>\n",
       "      <td>1.0</td>\n",
       "      <td>1180</td>\n",
       "      <td>5650</td>\n",
       "      <td>1.0</td>\n",
       "      <td>0</td>\n",
       "      <td>0.0</td>\n",
       "      <td>...</td>\n",
       "      <td>1955</td>\n",
       "      <td>0</td>\n",
       "      <td>98178</td>\n",
       "      <td>47.5112</td>\n",
       "      <td>-122.257</td>\n",
       "      <td>1340</td>\n",
       "      <td>5650</td>\n",
       "      <td>22.190</td>\n",
       "      <td>2014</td>\n",
       "      <td>60</td>\n",
       "    </tr>\n",
       "    <tr>\n",
       "      <td>2</td>\n",
       "      <td>5631500400</td>\n",
       "      <td>2015-02-25</td>\n",
       "      <td>180000.0</td>\n",
       "      <td>2</td>\n",
       "      <td>1.0</td>\n",
       "      <td>770</td>\n",
       "      <td>10000</td>\n",
       "      <td>1.0</td>\n",
       "      <td>0</td>\n",
       "      <td>0.0</td>\n",
       "      <td>...</td>\n",
       "      <td>1933</td>\n",
       "      <td>0</td>\n",
       "      <td>98028</td>\n",
       "      <td>47.7379</td>\n",
       "      <td>-122.233</td>\n",
       "      <td>2720</td>\n",
       "      <td>8062</td>\n",
       "      <td>18.000</td>\n",
       "      <td>2015</td>\n",
       "      <td>83</td>\n",
       "    </tr>\n",
       "    <tr>\n",
       "      <td>7</td>\n",
       "      <td>2008000270</td>\n",
       "      <td>2015-01-15</td>\n",
       "      <td>291850.0</td>\n",
       "      <td>3</td>\n",
       "      <td>1.5</td>\n",
       "      <td>1060</td>\n",
       "      <td>9711</td>\n",
       "      <td>1.0</td>\n",
       "      <td>0</td>\n",
       "      <td>NaN</td>\n",
       "      <td>...</td>\n",
       "      <td>1963</td>\n",
       "      <td>0</td>\n",
       "      <td>98198</td>\n",
       "      <td>47.4095</td>\n",
       "      <td>-122.315</td>\n",
       "      <td>1650</td>\n",
       "      <td>9711</td>\n",
       "      <td>29.185</td>\n",
       "      <td>2015</td>\n",
       "      <td>53</td>\n",
       "    </tr>\n",
       "    <tr>\n",
       "      <td>8</td>\n",
       "      <td>2414600126</td>\n",
       "      <td>2015-04-15</td>\n",
       "      <td>229500.0</td>\n",
       "      <td>3</td>\n",
       "      <td>1.0</td>\n",
       "      <td>1780</td>\n",
       "      <td>7470</td>\n",
       "      <td>1.0</td>\n",
       "      <td>0</td>\n",
       "      <td>0.0</td>\n",
       "      <td>...</td>\n",
       "      <td>1960</td>\n",
       "      <td>0</td>\n",
       "      <td>98146</td>\n",
       "      <td>47.5123</td>\n",
       "      <td>-122.337</td>\n",
       "      <td>1780</td>\n",
       "      <td>8113</td>\n",
       "      <td>22.950</td>\n",
       "      <td>2015</td>\n",
       "      <td>56</td>\n",
       "    </tr>\n",
       "    <tr>\n",
       "      <td>10</td>\n",
       "      <td>1736800520</td>\n",
       "      <td>2015-04-03</td>\n",
       "      <td>662500.0</td>\n",
       "      <td>3</td>\n",
       "      <td>2.5</td>\n",
       "      <td>3560</td>\n",
       "      <td>9796</td>\n",
       "      <td>1.0</td>\n",
       "      <td>0</td>\n",
       "      <td>0.0</td>\n",
       "      <td>...</td>\n",
       "      <td>1965</td>\n",
       "      <td>0</td>\n",
       "      <td>98007</td>\n",
       "      <td>47.6007</td>\n",
       "      <td>-122.145</td>\n",
       "      <td>2210</td>\n",
       "      <td>8925</td>\n",
       "      <td>66.250</td>\n",
       "      <td>2015</td>\n",
       "      <td>51</td>\n",
       "    </tr>\n",
       "    <tr>\n",
       "      <td>...</td>\n",
       "      <td>...</td>\n",
       "      <td>...</td>\n",
       "      <td>...</td>\n",
       "      <td>...</td>\n",
       "      <td>...</td>\n",
       "      <td>...</td>\n",
       "      <td>...</td>\n",
       "      <td>...</td>\n",
       "      <td>...</td>\n",
       "      <td>...</td>\n",
       "      <td>...</td>\n",
       "      <td>...</td>\n",
       "      <td>...</td>\n",
       "      <td>...</td>\n",
       "      <td>...</td>\n",
       "      <td>...</td>\n",
       "      <td>...</td>\n",
       "      <td>...</td>\n",
       "      <td>...</td>\n",
       "      <td>...</td>\n",
       "      <td>...</td>\n",
       "    </tr>\n",
       "    <tr>\n",
       "      <td>21287</td>\n",
       "      <td>522059130</td>\n",
       "      <td>2015-04-29</td>\n",
       "      <td>465000.0</td>\n",
       "      <td>3</td>\n",
       "      <td>1.0</td>\n",
       "      <td>1150</td>\n",
       "      <td>18200</td>\n",
       "      <td>1.0</td>\n",
       "      <td>0</td>\n",
       "      <td>0.0</td>\n",
       "      <td>...</td>\n",
       "      <td>1959</td>\n",
       "      <td>0</td>\n",
       "      <td>98058</td>\n",
       "      <td>47.4262</td>\n",
       "      <td>-122.187</td>\n",
       "      <td>1714</td>\n",
       "      <td>18200</td>\n",
       "      <td>46.500</td>\n",
       "      <td>2015</td>\n",
       "      <td>57</td>\n",
       "    </tr>\n",
       "    <tr>\n",
       "      <td>21316</td>\n",
       "      <td>9266700190</td>\n",
       "      <td>2015-05-11</td>\n",
       "      <td>245000.0</td>\n",
       "      <td>1</td>\n",
       "      <td>1.0</td>\n",
       "      <td>390</td>\n",
       "      <td>2000</td>\n",
       "      <td>1.0</td>\n",
       "      <td>0</td>\n",
       "      <td>0.0</td>\n",
       "      <td>...</td>\n",
       "      <td>1920</td>\n",
       "      <td>0</td>\n",
       "      <td>98103</td>\n",
       "      <td>47.6938</td>\n",
       "      <td>-122.347</td>\n",
       "      <td>1340</td>\n",
       "      <td>5100</td>\n",
       "      <td>24.500</td>\n",
       "      <td>2015</td>\n",
       "      <td>96</td>\n",
       "    </tr>\n",
       "    <tr>\n",
       "      <td>21327</td>\n",
       "      <td>2924079034</td>\n",
       "      <td>2014-09-25</td>\n",
       "      <td>332220.0</td>\n",
       "      <td>3</td>\n",
       "      <td>1.5</td>\n",
       "      <td>2580</td>\n",
       "      <td>47480</td>\n",
       "      <td>1.0</td>\n",
       "      <td>0</td>\n",
       "      <td>0.0</td>\n",
       "      <td>...</td>\n",
       "      <td>1953</td>\n",
       "      <td>0</td>\n",
       "      <td>98024</td>\n",
       "      <td>47.5333</td>\n",
       "      <td>-121.933</td>\n",
       "      <td>1760</td>\n",
       "      <td>48181</td>\n",
       "      <td>33.222</td>\n",
       "      <td>2014</td>\n",
       "      <td>62</td>\n",
       "    </tr>\n",
       "    <tr>\n",
       "      <td>21454</td>\n",
       "      <td>121039156</td>\n",
       "      <td>2015-01-09</td>\n",
       "      <td>249000.0</td>\n",
       "      <td>3</td>\n",
       "      <td>1.0</td>\n",
       "      <td>1030</td>\n",
       "      <td>24750</td>\n",
       "      <td>1.0</td>\n",
       "      <td>0</td>\n",
       "      <td>2.0</td>\n",
       "      <td>...</td>\n",
       "      <td>1943</td>\n",
       "      <td>0</td>\n",
       "      <td>98023</td>\n",
       "      <td>47.3343</td>\n",
       "      <td>-122.362</td>\n",
       "      <td>2810</td>\n",
       "      <td>28800</td>\n",
       "      <td>24.900</td>\n",
       "      <td>2015</td>\n",
       "      <td>73</td>\n",
       "    </tr>\n",
       "    <tr>\n",
       "      <td>21567</td>\n",
       "      <td>2025049203</td>\n",
       "      <td>2014-06-10</td>\n",
       "      <td>399950.0</td>\n",
       "      <td>2</td>\n",
       "      <td>1.0</td>\n",
       "      <td>710</td>\n",
       "      <td>1157</td>\n",
       "      <td>2.0</td>\n",
       "      <td>0</td>\n",
       "      <td>0.0</td>\n",
       "      <td>...</td>\n",
       "      <td>1943</td>\n",
       "      <td>0</td>\n",
       "      <td>98102</td>\n",
       "      <td>47.6413</td>\n",
       "      <td>-122.329</td>\n",
       "      <td>1370</td>\n",
       "      <td>1173</td>\n",
       "      <td>39.995</td>\n",
       "      <td>2014</td>\n",
       "      <td>72</td>\n",
       "    </tr>\n",
       "  </tbody>\n",
       "</table>\n",
       "<p>8015 rows × 24 columns</p>\n",
       "</div>"
      ],
      "text/plain": [
       "               id       date     price  bedrooms  bathrooms  sqft_living  \\\n",
       "0      7129300520 2014-10-13  221900.0         3        1.0         1180   \n",
       "2      5631500400 2015-02-25  180000.0         2        1.0          770   \n",
       "7      2008000270 2015-01-15  291850.0         3        1.5         1060   \n",
       "8      2414600126 2015-04-15  229500.0         3        1.0         1780   \n",
       "10     1736800520 2015-04-03  662500.0         3        2.5         3560   \n",
       "...           ...        ...       ...       ...        ...          ...   \n",
       "21287   522059130 2015-04-29  465000.0         3        1.0         1150   \n",
       "21316  9266700190 2015-05-11  245000.0         1        1.0          390   \n",
       "21327  2924079034 2014-09-25  332220.0         3        1.5         2580   \n",
       "21454   121039156 2015-01-09  249000.0         3        1.0         1030   \n",
       "21567  2025049203 2014-06-10  399950.0         2        1.0          710   \n",
       "\n",
       "       sqft_lot  floors  waterfront  view  ...  yr_built  yr_renovated  \\\n",
       "0          5650     1.0           0   0.0  ...      1955             0   \n",
       "2         10000     1.0           0   0.0  ...      1933             0   \n",
       "7          9711     1.0           0   NaN  ...      1963             0   \n",
       "8          7470     1.0           0   0.0  ...      1960             0   \n",
       "10         9796     1.0           0   0.0  ...      1965             0   \n",
       "...         ...     ...         ...   ...  ...       ...           ...   \n",
       "21287     18200     1.0           0   0.0  ...      1959             0   \n",
       "21316      2000     1.0           0   0.0  ...      1920             0   \n",
       "21327     47480     1.0           0   0.0  ...      1953             0   \n",
       "21454     24750     1.0           0   2.0  ...      1943             0   \n",
       "21567      1157     2.0           0   0.0  ...      1943             0   \n",
       "\n",
       "       zipcode      lat     long  sqft_living15  sqft_lot15  price/10000  \\\n",
       "0        98178  47.5112 -122.257           1340        5650       22.190   \n",
       "2        98028  47.7379 -122.233           2720        8062       18.000   \n",
       "7        98198  47.4095 -122.315           1650        9711       29.185   \n",
       "8        98146  47.5123 -122.337           1780        8113       22.950   \n",
       "10       98007  47.6007 -122.145           2210        8925       66.250   \n",
       "...        ...      ...      ...            ...         ...          ...   \n",
       "21287    98058  47.4262 -122.187           1714       18200       46.500   \n",
       "21316    98103  47.6938 -122.347           1340        5100       24.500   \n",
       "21327    98024  47.5333 -121.933           1760       48181       33.222   \n",
       "21454    98023  47.3343 -122.362           2810       28800       24.900   \n",
       "21567    98102  47.6413 -122.329           1370        1173       39.995   \n",
       "\n",
       "       sale_year  age  \n",
       "0           2014   60  \n",
       "2           2015   83  \n",
       "7           2015   53  \n",
       "8           2015   56  \n",
       "10          2015   51  \n",
       "...          ...  ...  \n",
       "21287       2015   57  \n",
       "21316       2015   96  \n",
       "21327       2014   62  \n",
       "21454       2015   73  \n",
       "21567       2014   72  \n",
       "\n",
       "[8015 rows x 24 columns]"
      ]
     },
     "execution_count": 40,
     "metadata": {},
     "output_type": "execute_result"
    }
   ],
   "source": [
    "non_ren_historic_df =  data[(data.age > 50) & (data.yr_renovated < 1)]\n",
    "non_ren_historic_df"
   ]
  },
  {
   "cell_type": "code",
   "execution_count": 41,
   "metadata": {},
   "outputs": [
    {
     "data": {
      "text/html": [
       "<div>\n",
       "<style scoped>\n",
       "    .dataframe tbody tr th:only-of-type {\n",
       "        vertical-align: middle;\n",
       "    }\n",
       "\n",
       "    .dataframe tbody tr th {\n",
       "        vertical-align: top;\n",
       "    }\n",
       "\n",
       "    .dataframe thead th {\n",
       "        text-align: right;\n",
       "    }\n",
       "</style>\n",
       "<table border=\"1\" class=\"dataframe\">\n",
       "  <thead>\n",
       "    <tr style=\"text-align: right;\">\n",
       "      <th></th>\n",
       "      <th>id</th>\n",
       "      <th>price</th>\n",
       "      <th>bedrooms</th>\n",
       "      <th>bathrooms</th>\n",
       "      <th>sqft_living</th>\n",
       "      <th>sqft_lot</th>\n",
       "      <th>floors</th>\n",
       "      <th>waterfront</th>\n",
       "      <th>view</th>\n",
       "      <th>condition</th>\n",
       "      <th>...</th>\n",
       "      <th>yr_built</th>\n",
       "      <th>yr_renovated</th>\n",
       "      <th>zipcode</th>\n",
       "      <th>lat</th>\n",
       "      <th>long</th>\n",
       "      <th>sqft_living15</th>\n",
       "      <th>sqft_lot15</th>\n",
       "      <th>price/10000</th>\n",
       "      <th>sale_year</th>\n",
       "      <th>age</th>\n",
       "    </tr>\n",
       "  </thead>\n",
       "  <tbody>\n",
       "    <tr>\n",
       "      <td>count</td>\n",
       "      <td>8.015000e+03</td>\n",
       "      <td>8.015000e+03</td>\n",
       "      <td>8015.000000</td>\n",
       "      <td>8015.000000</td>\n",
       "      <td>8015.000000</td>\n",
       "      <td>8.015000e+03</td>\n",
       "      <td>8015.000000</td>\n",
       "      <td>8015.000000</td>\n",
       "      <td>7987.000000</td>\n",
       "      <td>8015.000000</td>\n",
       "      <td>...</td>\n",
       "      <td>8015.000000</td>\n",
       "      <td>8015.0</td>\n",
       "      <td>8015.000000</td>\n",
       "      <td>8015.000000</td>\n",
       "      <td>8015.000000</td>\n",
       "      <td>8015.000000</td>\n",
       "      <td>8015.000000</td>\n",
       "      <td>8015.000000</td>\n",
       "      <td>8015.000000</td>\n",
       "      <td>8015.000000</td>\n",
       "    </tr>\n",
       "    <tr>\n",
       "      <td>mean</td>\n",
       "      <td>4.469057e+09</td>\n",
       "      <td>4.966354e+05</td>\n",
       "      <td>3.174298</td>\n",
       "      <td>1.618590</td>\n",
       "      <td>1696.627199</td>\n",
       "      <td>1.119232e+04</td>\n",
       "      <td>1.190643</td>\n",
       "      <td>0.007611</td>\n",
       "      <td>0.261800</td>\n",
       "      <td>3.657268</td>\n",
       "      <td>...</td>\n",
       "      <td>1941.526263</td>\n",
       "      <td>0.0</td>\n",
       "      <td>98105.456893</td>\n",
       "      <td>47.586820</td>\n",
       "      <td>-122.288600</td>\n",
       "      <td>1703.783157</td>\n",
       "      <td>9412.897817</td>\n",
       "      <td>49.663538</td>\n",
       "      <td>2014.332002</td>\n",
       "      <td>73.805739</td>\n",
       "    </tr>\n",
       "    <tr>\n",
       "      <td>std</td>\n",
       "      <td>2.816738e+09</td>\n",
       "      <td>3.166074e+05</td>\n",
       "      <td>1.044523</td>\n",
       "      <td>0.654423</td>\n",
       "      <td>724.842751</td>\n",
       "      <td>3.413447e+04</td>\n",
       "      <td>0.337750</td>\n",
       "      <td>0.086912</td>\n",
       "      <td>0.788216</td>\n",
       "      <td>0.763164</td>\n",
       "      <td>...</td>\n",
       "      <td>17.983807</td>\n",
       "      <td>0.0</td>\n",
       "      <td>53.911632</td>\n",
       "      <td>0.119622</td>\n",
       "      <td>0.098689</td>\n",
       "      <td>523.944732</td>\n",
       "      <td>17228.379012</td>\n",
       "      <td>31.660744</td>\n",
       "      <td>0.470961</td>\n",
       "      <td>17.973924</td>\n",
       "    </tr>\n",
       "    <tr>\n",
       "      <td>min</td>\n",
       "      <td>1.200019e+06</td>\n",
       "      <td>7.800000e+04</td>\n",
       "      <td>1.000000</td>\n",
       "      <td>0.500000</td>\n",
       "      <td>370.000000</td>\n",
       "      <td>5.200000e+02</td>\n",
       "      <td>1.000000</td>\n",
       "      <td>0.000000</td>\n",
       "      <td>0.000000</td>\n",
       "      <td>1.000000</td>\n",
       "      <td>...</td>\n",
       "      <td>1900.000000</td>\n",
       "      <td>0.0</td>\n",
       "      <td>98001.000000</td>\n",
       "      <td>47.155900</td>\n",
       "      <td>-122.514000</td>\n",
       "      <td>460.000000</td>\n",
       "      <td>660.000000</td>\n",
       "      <td>7.800000</td>\n",
       "      <td>2014.000000</td>\n",
       "      <td>51.000000</td>\n",
       "    </tr>\n",
       "    <tr>\n",
       "      <td>25%</td>\n",
       "      <td>2.061450e+09</td>\n",
       "      <td>2.950000e+05</td>\n",
       "      <td>3.000000</td>\n",
       "      <td>1.000000</td>\n",
       "      <td>1170.000000</td>\n",
       "      <td>5.000000e+03</td>\n",
       "      <td>1.000000</td>\n",
       "      <td>0.000000</td>\n",
       "      <td>0.000000</td>\n",
       "      <td>3.000000</td>\n",
       "      <td>...</td>\n",
       "      <td>1926.000000</td>\n",
       "      <td>0.0</td>\n",
       "      <td>98058.500000</td>\n",
       "      <td>47.509200</td>\n",
       "      <td>-122.355000</td>\n",
       "      <td>1340.000000</td>\n",
       "      <td>5000.000000</td>\n",
       "      <td>29.500000</td>\n",
       "      <td>2014.000000</td>\n",
       "      <td>59.000000</td>\n",
       "    </tr>\n",
       "    <tr>\n",
       "      <td>50%</td>\n",
       "      <td>3.935900e+09</td>\n",
       "      <td>4.250000e+05</td>\n",
       "      <td>3.000000</td>\n",
       "      <td>1.500000</td>\n",
       "      <td>1570.000000</td>\n",
       "      <td>7.200000e+03</td>\n",
       "      <td>1.000000</td>\n",
       "      <td>0.000000</td>\n",
       "      <td>0.000000</td>\n",
       "      <td>4.000000</td>\n",
       "      <td>...</td>\n",
       "      <td>1947.000000</td>\n",
       "      <td>0.0</td>\n",
       "      <td>98116.000000</td>\n",
       "      <td>47.600700</td>\n",
       "      <td>-122.308000</td>\n",
       "      <td>1600.000000</td>\n",
       "      <td>7200.000000</td>\n",
       "      <td>42.500000</td>\n",
       "      <td>2014.000000</td>\n",
       "      <td>68.000000</td>\n",
       "    </tr>\n",
       "    <tr>\n",
       "      <td>75%</td>\n",
       "      <td>7.132801e+09</td>\n",
       "      <td>6.000000e+05</td>\n",
       "      <td>4.000000</td>\n",
       "      <td>2.000000</td>\n",
       "      <td>2080.000000</td>\n",
       "      <td>9.600000e+03</td>\n",
       "      <td>1.500000</td>\n",
       "      <td>0.000000</td>\n",
       "      <td>0.000000</td>\n",
       "      <td>4.000000</td>\n",
       "      <td>...</td>\n",
       "      <td>1956.000000</td>\n",
       "      <td>0.0</td>\n",
       "      <td>98136.000000</td>\n",
       "      <td>47.682700</td>\n",
       "      <td>-122.255000</td>\n",
       "      <td>1950.000000</td>\n",
       "      <td>9146.500000</td>\n",
       "      <td>60.000000</td>\n",
       "      <td>2015.000000</td>\n",
       "      <td>89.000000</td>\n",
       "    </tr>\n",
       "    <tr>\n",
       "      <td>max</td>\n",
       "      <td>9.900000e+09</td>\n",
       "      <td>3.650000e+06</td>\n",
       "      <td>33.000000</td>\n",
       "      <td>6.750000</td>\n",
       "      <td>7710.000000</td>\n",
       "      <td>1.651359e+06</td>\n",
       "      <td>3.500000</td>\n",
       "      <td>1.000000</td>\n",
       "      <td>4.000000</td>\n",
       "      <td>5.000000</td>\n",
       "      <td>...</td>\n",
       "      <td>1965.000000</td>\n",
       "      <td>0.0</td>\n",
       "      <td>98199.000000</td>\n",
       "      <td>47.777600</td>\n",
       "      <td>-121.315000</td>\n",
       "      <td>4950.000000</td>\n",
       "      <td>425581.000000</td>\n",
       "      <td>365.000000</td>\n",
       "      <td>2015.000000</td>\n",
       "      <td>116.000000</td>\n",
       "    </tr>\n",
       "  </tbody>\n",
       "</table>\n",
       "<p>8 rows × 22 columns</p>\n",
       "</div>"
      ],
      "text/plain": [
       "                 id         price     bedrooms    bathrooms  sqft_living  \\\n",
       "count  8.015000e+03  8.015000e+03  8015.000000  8015.000000  8015.000000   \n",
       "mean   4.469057e+09  4.966354e+05     3.174298     1.618590  1696.627199   \n",
       "std    2.816738e+09  3.166074e+05     1.044523     0.654423   724.842751   \n",
       "min    1.200019e+06  7.800000e+04     1.000000     0.500000   370.000000   \n",
       "25%    2.061450e+09  2.950000e+05     3.000000     1.000000  1170.000000   \n",
       "50%    3.935900e+09  4.250000e+05     3.000000     1.500000  1570.000000   \n",
       "75%    7.132801e+09  6.000000e+05     4.000000     2.000000  2080.000000   \n",
       "max    9.900000e+09  3.650000e+06    33.000000     6.750000  7710.000000   \n",
       "\n",
       "           sqft_lot       floors   waterfront         view    condition  ...  \\\n",
       "count  8.015000e+03  8015.000000  8015.000000  7987.000000  8015.000000  ...   \n",
       "mean   1.119232e+04     1.190643     0.007611     0.261800     3.657268  ...   \n",
       "std    3.413447e+04     0.337750     0.086912     0.788216     0.763164  ...   \n",
       "min    5.200000e+02     1.000000     0.000000     0.000000     1.000000  ...   \n",
       "25%    5.000000e+03     1.000000     0.000000     0.000000     3.000000  ...   \n",
       "50%    7.200000e+03     1.000000     0.000000     0.000000     4.000000  ...   \n",
       "75%    9.600000e+03     1.500000     0.000000     0.000000     4.000000  ...   \n",
       "max    1.651359e+06     3.500000     1.000000     4.000000     5.000000  ...   \n",
       "\n",
       "          yr_built  yr_renovated       zipcode          lat         long  \\\n",
       "count  8015.000000        8015.0   8015.000000  8015.000000  8015.000000   \n",
       "mean   1941.526263           0.0  98105.456893    47.586820  -122.288600   \n",
       "std      17.983807           0.0     53.911632     0.119622     0.098689   \n",
       "min    1900.000000           0.0  98001.000000    47.155900  -122.514000   \n",
       "25%    1926.000000           0.0  98058.500000    47.509200  -122.355000   \n",
       "50%    1947.000000           0.0  98116.000000    47.600700  -122.308000   \n",
       "75%    1956.000000           0.0  98136.000000    47.682700  -122.255000   \n",
       "max    1965.000000           0.0  98199.000000    47.777600  -121.315000   \n",
       "\n",
       "       sqft_living15     sqft_lot15  price/10000    sale_year          age  \n",
       "count    8015.000000    8015.000000  8015.000000  8015.000000  8015.000000  \n",
       "mean     1703.783157    9412.897817    49.663538  2014.332002    73.805739  \n",
       "std       523.944732   17228.379012    31.660744     0.470961    17.973924  \n",
       "min       460.000000     660.000000     7.800000  2014.000000    51.000000  \n",
       "25%      1340.000000    5000.000000    29.500000  2014.000000    59.000000  \n",
       "50%      1600.000000    7200.000000    42.500000  2014.000000    68.000000  \n",
       "75%      1950.000000    9146.500000    60.000000  2015.000000    89.000000  \n",
       "max      4950.000000  425581.000000   365.000000  2015.000000   116.000000  \n",
       "\n",
       "[8 rows x 22 columns]"
      ]
     },
     "execution_count": 41,
     "metadata": {},
     "output_type": "execute_result"
    }
   ],
   "source": [
    "non_ren_historic_df.describe()"
   ]
  },
  {
   "cell_type": "code",
   "execution_count": 42,
   "metadata": {},
   "outputs": [
    {
     "data": {
      "text/plain": [
       "496635.38477854023"
      ]
     },
     "execution_count": 42,
     "metadata": {},
     "output_type": "execute_result"
    }
   ],
   "source": [
    "non_ren_historic_df.price.mean()"
   ]
  },
  {
   "cell_type": "code",
   "execution_count": 43,
   "metadata": {},
   "outputs": [
    {
     "data": {
      "text/plain": [
       "id               3.935900e+09\n",
       "price            4.250000e+05\n",
       "bedrooms         3.000000e+00\n",
       "bathrooms        1.500000e+00\n",
       "sqft_living      1.570000e+03\n",
       "sqft_lot         7.200000e+03\n",
       "floors           1.000000e+00\n",
       "waterfront       0.000000e+00\n",
       "view             0.000000e+00\n",
       "condition        4.000000e+00\n",
       "grade            7.000000e+00\n",
       "sqft_above       1.260000e+03\n",
       "yr_built         1.947000e+03\n",
       "yr_renovated     0.000000e+00\n",
       "zipcode          9.811600e+04\n",
       "lat              4.760070e+01\n",
       "long            -1.223080e+02\n",
       "sqft_living15    1.600000e+03\n",
       "sqft_lot15       7.200000e+03\n",
       "price/10000      4.250000e+01\n",
       "sale_year        2.014000e+03\n",
       "age              6.800000e+01\n",
       "dtype: float64"
      ]
     },
     "execution_count": 43,
     "metadata": {},
     "output_type": "execute_result"
    }
   ],
   "source": [
    "non_ren_historic_df.median()"
   ]
  },
  {
   "cell_type": "code",
   "execution_count": 44,
   "metadata": {},
   "outputs": [
    {
     "data": {
      "text/html": [
       "<div>\n",
       "<style scoped>\n",
       "    .dataframe tbody tr th:only-of-type {\n",
       "        vertical-align: middle;\n",
       "    }\n",
       "\n",
       "    .dataframe tbody tr th {\n",
       "        vertical-align: top;\n",
       "    }\n",
       "\n",
       "    .dataframe thead th {\n",
       "        text-align: right;\n",
       "    }\n",
       "</style>\n",
       "<table border=\"1\" class=\"dataframe\">\n",
       "  <thead>\n",
       "    <tr style=\"text-align: right;\">\n",
       "      <th></th>\n",
       "      <th>id</th>\n",
       "      <th>date</th>\n",
       "      <th>price</th>\n",
       "      <th>bedrooms</th>\n",
       "      <th>bathrooms</th>\n",
       "      <th>sqft_living</th>\n",
       "      <th>sqft_lot</th>\n",
       "      <th>floors</th>\n",
       "      <th>waterfront</th>\n",
       "      <th>view</th>\n",
       "      <th>...</th>\n",
       "      <th>yr_built</th>\n",
       "      <th>yr_renovated</th>\n",
       "      <th>zipcode</th>\n",
       "      <th>lat</th>\n",
       "      <th>long</th>\n",
       "      <th>sqft_living15</th>\n",
       "      <th>sqft_lot15</th>\n",
       "      <th>price/10000</th>\n",
       "      <th>sale_year</th>\n",
       "      <th>age</th>\n",
       "    </tr>\n",
       "  </thead>\n",
       "  <tbody>\n",
       "    <tr>\n",
       "      <td>125</td>\n",
       "      <td>4389200955</td>\n",
       "      <td>2015-03-02</td>\n",
       "      <td>1450000.0</td>\n",
       "      <td>4</td>\n",
       "      <td>2.75</td>\n",
       "      <td>2750</td>\n",
       "      <td>17789</td>\n",
       "      <td>1.5</td>\n",
       "      <td>0</td>\n",
       "      <td>0.0</td>\n",
       "      <td>...</td>\n",
       "      <td>1914</td>\n",
       "      <td>1992</td>\n",
       "      <td>98004</td>\n",
       "      <td>47.6141</td>\n",
       "      <td>-122.212</td>\n",
       "      <td>3060</td>\n",
       "      <td>11275</td>\n",
       "      <td>145.0</td>\n",
       "      <td>2015</td>\n",
       "      <td>102</td>\n",
       "    </tr>\n",
       "    <tr>\n",
       "      <td>282</td>\n",
       "      <td>7424700045</td>\n",
       "      <td>2015-05-13</td>\n",
       "      <td>2050000.0</td>\n",
       "      <td>5</td>\n",
       "      <td>3.00</td>\n",
       "      <td>3830</td>\n",
       "      <td>8480</td>\n",
       "      <td>2.0</td>\n",
       "      <td>0</td>\n",
       "      <td>1.0</td>\n",
       "      <td>...</td>\n",
       "      <td>1905</td>\n",
       "      <td>1994</td>\n",
       "      <td>98122</td>\n",
       "      <td>47.6166</td>\n",
       "      <td>-122.287</td>\n",
       "      <td>3050</td>\n",
       "      <td>7556</td>\n",
       "      <td>205.0</td>\n",
       "      <td>2015</td>\n",
       "      <td>111</td>\n",
       "    </tr>\n",
       "    <tr>\n",
       "      <td>779</td>\n",
       "      <td>1954700695</td>\n",
       "      <td>2014-06-12</td>\n",
       "      <td>2250000.0</td>\n",
       "      <td>5</td>\n",
       "      <td>4.25</td>\n",
       "      <td>4860</td>\n",
       "      <td>9453</td>\n",
       "      <td>1.5</td>\n",
       "      <td>0</td>\n",
       "      <td>1.0</td>\n",
       "      <td>...</td>\n",
       "      <td>1905</td>\n",
       "      <td>0</td>\n",
       "      <td>98112</td>\n",
       "      <td>47.6196</td>\n",
       "      <td>-122.286</td>\n",
       "      <td>3150</td>\n",
       "      <td>8557</td>\n",
       "      <td>225.0</td>\n",
       "      <td>2014</td>\n",
       "      <td>110</td>\n",
       "    </tr>\n",
       "    <tr>\n",
       "      <td>1326</td>\n",
       "      <td>4232400860</td>\n",
       "      <td>2014-06-30</td>\n",
       "      <td>1200000.0</td>\n",
       "      <td>4</td>\n",
       "      <td>2.00</td>\n",
       "      <td>2120</td>\n",
       "      <td>3360</td>\n",
       "      <td>2.0</td>\n",
       "      <td>0</td>\n",
       "      <td>0.0</td>\n",
       "      <td>...</td>\n",
       "      <td>1905</td>\n",
       "      <td>0</td>\n",
       "      <td>98112</td>\n",
       "      <td>47.6227</td>\n",
       "      <td>-122.310</td>\n",
       "      <td>2090</td>\n",
       "      <td>3600</td>\n",
       "      <td>120.0</td>\n",
       "      <td>2014</td>\n",
       "      <td>110</td>\n",
       "    </tr>\n",
       "    <tr>\n",
       "      <td>1704</td>\n",
       "      <td>1336300445</td>\n",
       "      <td>2015-04-22</td>\n",
       "      <td>1270000.0</td>\n",
       "      <td>4</td>\n",
       "      <td>3.00</td>\n",
       "      <td>3130</td>\n",
       "      <td>2646</td>\n",
       "      <td>2.5</td>\n",
       "      <td>0</td>\n",
       "      <td>0.0</td>\n",
       "      <td>...</td>\n",
       "      <td>1906</td>\n",
       "      <td>0</td>\n",
       "      <td>98102</td>\n",
       "      <td>47.6272</td>\n",
       "      <td>-122.316</td>\n",
       "      <td>2920</td>\n",
       "      <td>4500</td>\n",
       "      <td>127.0</td>\n",
       "      <td>2015</td>\n",
       "      <td>110</td>\n",
       "    </tr>\n",
       "    <tr>\n",
       "      <td>...</td>\n",
       "      <td>...</td>\n",
       "      <td>...</td>\n",
       "      <td>...</td>\n",
       "      <td>...</td>\n",
       "      <td>...</td>\n",
       "      <td>...</td>\n",
       "      <td>...</td>\n",
       "      <td>...</td>\n",
       "      <td>...</td>\n",
       "      <td>...</td>\n",
       "      <td>...</td>\n",
       "      <td>...</td>\n",
       "      <td>...</td>\n",
       "      <td>...</td>\n",
       "      <td>...</td>\n",
       "      <td>...</td>\n",
       "      <td>...</td>\n",
       "      <td>...</td>\n",
       "      <td>...</td>\n",
       "      <td>...</td>\n",
       "      <td>...</td>\n",
       "    </tr>\n",
       "    <tr>\n",
       "      <td>18908</td>\n",
       "      <td>809002290</td>\n",
       "      <td>2014-05-19</td>\n",
       "      <td>1190000.0</td>\n",
       "      <td>4</td>\n",
       "      <td>3.00</td>\n",
       "      <td>2240</td>\n",
       "      <td>6000</td>\n",
       "      <td>1.5</td>\n",
       "      <td>0</td>\n",
       "      <td>0.0</td>\n",
       "      <td>...</td>\n",
       "      <td>1914</td>\n",
       "      <td>0</td>\n",
       "      <td>98109</td>\n",
       "      <td>47.6369</td>\n",
       "      <td>-122.350</td>\n",
       "      <td>2240</td>\n",
       "      <td>4250</td>\n",
       "      <td>119.0</td>\n",
       "      <td>2014</td>\n",
       "      <td>101</td>\n",
       "    </tr>\n",
       "    <tr>\n",
       "      <td>19118</td>\n",
       "      <td>7151700360</td>\n",
       "      <td>2014-12-11</td>\n",
       "      <td>1030000.0</td>\n",
       "      <td>5</td>\n",
       "      <td>3.25</td>\n",
       "      <td>2680</td>\n",
       "      <td>3011</td>\n",
       "      <td>2.0</td>\n",
       "      <td>0</td>\n",
       "      <td>0.0</td>\n",
       "      <td>...</td>\n",
       "      <td>1910</td>\n",
       "      <td>0</td>\n",
       "      <td>98122</td>\n",
       "      <td>47.6115</td>\n",
       "      <td>-122.287</td>\n",
       "      <td>3440</td>\n",
       "      <td>5165</td>\n",
       "      <td>103.0</td>\n",
       "      <td>2014</td>\n",
       "      <td>105</td>\n",
       "    </tr>\n",
       "    <tr>\n",
       "      <td>19257</td>\n",
       "      <td>1337300145</td>\n",
       "      <td>2014-07-21</td>\n",
       "      <td>1800000.0</td>\n",
       "      <td>4</td>\n",
       "      <td>2.50</td>\n",
       "      <td>3320</td>\n",
       "      <td>8325</td>\n",
       "      <td>2.5</td>\n",
       "      <td>0</td>\n",
       "      <td>0.0</td>\n",
       "      <td>...</td>\n",
       "      <td>1905</td>\n",
       "      <td>0</td>\n",
       "      <td>98112</td>\n",
       "      <td>47.6263</td>\n",
       "      <td>-122.314</td>\n",
       "      <td>3680</td>\n",
       "      <td>6050</td>\n",
       "      <td>180.0</td>\n",
       "      <td>2014</td>\n",
       "      <td>110</td>\n",
       "    </tr>\n",
       "    <tr>\n",
       "      <td>19261</td>\n",
       "      <td>2397100705</td>\n",
       "      <td>2014-07-14</td>\n",
       "      <td>1520000.0</td>\n",
       "      <td>4</td>\n",
       "      <td>4.25</td>\n",
       "      <td>3650</td>\n",
       "      <td>5328</td>\n",
       "      <td>1.5</td>\n",
       "      <td>0</td>\n",
       "      <td>0.0</td>\n",
       "      <td>...</td>\n",
       "      <td>1907</td>\n",
       "      <td>2014</td>\n",
       "      <td>98119</td>\n",
       "      <td>47.6380</td>\n",
       "      <td>-122.362</td>\n",
       "      <td>1710</td>\n",
       "      <td>3600</td>\n",
       "      <td>152.0</td>\n",
       "      <td>2014</td>\n",
       "      <td>108</td>\n",
       "    </tr>\n",
       "    <tr>\n",
       "      <td>19510</td>\n",
       "      <td>7011201325</td>\n",
       "      <td>2014-10-28</td>\n",
       "      <td>1010000.0</td>\n",
       "      <td>4</td>\n",
       "      <td>2.75</td>\n",
       "      <td>2940</td>\n",
       "      <td>5400</td>\n",
       "      <td>1.5</td>\n",
       "      <td>0</td>\n",
       "      <td>2.0</td>\n",
       "      <td>...</td>\n",
       "      <td>1910</td>\n",
       "      <td>0</td>\n",
       "      <td>98119</td>\n",
       "      <td>47.6366</td>\n",
       "      <td>-122.369</td>\n",
       "      <td>1970</td>\n",
       "      <td>2008</td>\n",
       "      <td>101.0</td>\n",
       "      <td>2014</td>\n",
       "      <td>105</td>\n",
       "    </tr>\n",
       "  </tbody>\n",
       "</table>\n",
       "<p>102 rows × 24 columns</p>\n",
       "</div>"
      ],
      "text/plain": [
       "               id       date      price  bedrooms  bathrooms  sqft_living  \\\n",
       "125    4389200955 2015-03-02  1450000.0         4       2.75         2750   \n",
       "282    7424700045 2015-05-13  2050000.0         5       3.00         3830   \n",
       "779    1954700695 2014-06-12  2250000.0         5       4.25         4860   \n",
       "1326   4232400860 2014-06-30  1200000.0         4       2.00         2120   \n",
       "1704   1336300445 2015-04-22  1270000.0         4       3.00         3130   \n",
       "...           ...        ...        ...       ...        ...          ...   \n",
       "18908   809002290 2014-05-19  1190000.0         4       3.00         2240   \n",
       "19118  7151700360 2014-12-11  1030000.0         5       3.25         2680   \n",
       "19257  1337300145 2014-07-21  1800000.0         4       2.50         3320   \n",
       "19261  2397100705 2014-07-14  1520000.0         4       4.25         3650   \n",
       "19510  7011201325 2014-10-28  1010000.0         4       2.75         2940   \n",
       "\n",
       "       sqft_lot  floors  waterfront  view  ...  yr_built  yr_renovated  \\\n",
       "125       17789     1.5           0   0.0  ...      1914          1992   \n",
       "282        8480     2.0           0   1.0  ...      1905          1994   \n",
       "779        9453     1.5           0   1.0  ...      1905             0   \n",
       "1326       3360     2.0           0   0.0  ...      1905             0   \n",
       "1704       2646     2.5           0   0.0  ...      1906             0   \n",
       "...         ...     ...         ...   ...  ...       ...           ...   \n",
       "18908      6000     1.5           0   0.0  ...      1914             0   \n",
       "19118      3011     2.0           0   0.0  ...      1910             0   \n",
       "19257      8325     2.5           0   0.0  ...      1905             0   \n",
       "19261      5328     1.5           0   0.0  ...      1907          2014   \n",
       "19510      5400     1.5           0   2.0  ...      1910             0   \n",
       "\n",
       "       zipcode      lat     long  sqft_living15  sqft_lot15  price/10000  \\\n",
       "125      98004  47.6141 -122.212           3060       11275        145.0   \n",
       "282      98122  47.6166 -122.287           3050        7556        205.0   \n",
       "779      98112  47.6196 -122.286           3150        8557        225.0   \n",
       "1326     98112  47.6227 -122.310           2090        3600        120.0   \n",
       "1704     98102  47.6272 -122.316           2920        4500        127.0   \n",
       "...        ...      ...      ...            ...         ...          ...   \n",
       "18908    98109  47.6369 -122.350           2240        4250        119.0   \n",
       "19118    98122  47.6115 -122.287           3440        5165        103.0   \n",
       "19257    98112  47.6263 -122.314           3680        6050        180.0   \n",
       "19261    98119  47.6380 -122.362           1710        3600        152.0   \n",
       "19510    98119  47.6366 -122.369           1970        2008        101.0   \n",
       "\n",
       "       sale_year  age  \n",
       "125         2015  102  \n",
       "282         2015  111  \n",
       "779         2014  110  \n",
       "1326        2014  110  \n",
       "1704        2015  110  \n",
       "...          ...  ...  \n",
       "18908       2014  101  \n",
       "19118       2014  105  \n",
       "19257       2014  110  \n",
       "19261       2014  108  \n",
       "19510       2014  105  \n",
       "\n",
       "[102 rows x 24 columns]"
      ]
     },
     "execution_count": 44,
     "metadata": {},
     "output_type": "execute_result"
    }
   ],
   "source": [
    "historic_df_mil =  data[(data.age > 100) & (data.price > 1000000)]\n",
    "historic_df_mil"
   ]
  },
  {
   "cell_type": "code",
   "execution_count": 45,
   "metadata": {},
   "outputs": [
    {
     "data": {
      "text/html": [
       "<div>\n",
       "<style scoped>\n",
       "    .dataframe tbody tr th:only-of-type {\n",
       "        vertical-align: middle;\n",
       "    }\n",
       "\n",
       "    .dataframe tbody tr th {\n",
       "        vertical-align: top;\n",
       "    }\n",
       "\n",
       "    .dataframe thead th {\n",
       "        text-align: right;\n",
       "    }\n",
       "</style>\n",
       "<table border=\"1\" class=\"dataframe\">\n",
       "  <thead>\n",
       "    <tr style=\"text-align: right;\">\n",
       "      <th></th>\n",
       "      <th>id</th>\n",
       "      <th>date</th>\n",
       "      <th>price</th>\n",
       "      <th>bedrooms</th>\n",
       "      <th>bathrooms</th>\n",
       "      <th>sqft_living</th>\n",
       "      <th>sqft_lot</th>\n",
       "      <th>floors</th>\n",
       "      <th>waterfront</th>\n",
       "      <th>view</th>\n",
       "      <th>...</th>\n",
       "      <th>yr_built</th>\n",
       "      <th>yr_renovated</th>\n",
       "      <th>zipcode</th>\n",
       "      <th>lat</th>\n",
       "      <th>long</th>\n",
       "      <th>sqft_living15</th>\n",
       "      <th>sqft_lot15</th>\n",
       "      <th>price/10000</th>\n",
       "      <th>sale_year</th>\n",
       "      <th>age</th>\n",
       "    </tr>\n",
       "  </thead>\n",
       "  <tbody>\n",
       "    <tr>\n",
       "      <td>5</td>\n",
       "      <td>7237550310</td>\n",
       "      <td>2014-05-12</td>\n",
       "      <td>1230000.0</td>\n",
       "      <td>4</td>\n",
       "      <td>4.50</td>\n",
       "      <td>5420</td>\n",
       "      <td>101930</td>\n",
       "      <td>1.0</td>\n",
       "      <td>0</td>\n",
       "      <td>0.0</td>\n",
       "      <td>...</td>\n",
       "      <td>2001</td>\n",
       "      <td>0</td>\n",
       "      <td>98053</td>\n",
       "      <td>47.6561</td>\n",
       "      <td>-122.005</td>\n",
       "      <td>4760</td>\n",
       "      <td>101930</td>\n",
       "      <td>123.0</td>\n",
       "      <td>2014</td>\n",
       "      <td>14</td>\n",
       "    </tr>\n",
       "    <tr>\n",
       "      <td>21</td>\n",
       "      <td>2524049179</td>\n",
       "      <td>2014-08-26</td>\n",
       "      <td>2000000.0</td>\n",
       "      <td>3</td>\n",
       "      <td>2.75</td>\n",
       "      <td>3050</td>\n",
       "      <td>44867</td>\n",
       "      <td>1.0</td>\n",
       "      <td>0</td>\n",
       "      <td>4.0</td>\n",
       "      <td>...</td>\n",
       "      <td>1968</td>\n",
       "      <td>0</td>\n",
       "      <td>98040</td>\n",
       "      <td>47.5316</td>\n",
       "      <td>-122.233</td>\n",
       "      <td>4110</td>\n",
       "      <td>20336</td>\n",
       "      <td>200.0</td>\n",
       "      <td>2014</td>\n",
       "      <td>47</td>\n",
       "    </tr>\n",
       "    <tr>\n",
       "      <td>49</td>\n",
       "      <td>822039084</td>\n",
       "      <td>2015-03-11</td>\n",
       "      <td>1350000.0</td>\n",
       "      <td>3</td>\n",
       "      <td>2.50</td>\n",
       "      <td>2753</td>\n",
       "      <td>65005</td>\n",
       "      <td>1.0</td>\n",
       "      <td>1</td>\n",
       "      <td>2.0</td>\n",
       "      <td>...</td>\n",
       "      <td>1953</td>\n",
       "      <td>0</td>\n",
       "      <td>98070</td>\n",
       "      <td>47.4041</td>\n",
       "      <td>-122.451</td>\n",
       "      <td>2680</td>\n",
       "      <td>72513</td>\n",
       "      <td>135.0</td>\n",
       "      <td>2015</td>\n",
       "      <td>63</td>\n",
       "    </tr>\n",
       "    <tr>\n",
       "      <td>69</td>\n",
       "      <td>1802000060</td>\n",
       "      <td>2014-06-12</td>\n",
       "      <td>1330000.0</td>\n",
       "      <td>5</td>\n",
       "      <td>2.25</td>\n",
       "      <td>3200</td>\n",
       "      <td>20158</td>\n",
       "      <td>1.0</td>\n",
       "      <td>0</td>\n",
       "      <td>0.0</td>\n",
       "      <td>...</td>\n",
       "      <td>1965</td>\n",
       "      <td>0</td>\n",
       "      <td>98004</td>\n",
       "      <td>47.6303</td>\n",
       "      <td>-122.215</td>\n",
       "      <td>3390</td>\n",
       "      <td>20158</td>\n",
       "      <td>133.0</td>\n",
       "      <td>2014</td>\n",
       "      <td>50</td>\n",
       "    </tr>\n",
       "    <tr>\n",
       "      <td>70</td>\n",
       "      <td>1525059190</td>\n",
       "      <td>2014-09-12</td>\n",
       "      <td>1040000.0</td>\n",
       "      <td>5</td>\n",
       "      <td>3.25</td>\n",
       "      <td>4770</td>\n",
       "      <td>50094</td>\n",
       "      <td>1.0</td>\n",
       "      <td>0</td>\n",
       "      <td>0.0</td>\n",
       "      <td>...</td>\n",
       "      <td>1973</td>\n",
       "      <td>0</td>\n",
       "      <td>98005</td>\n",
       "      <td>47.6525</td>\n",
       "      <td>-122.160</td>\n",
       "      <td>3530</td>\n",
       "      <td>38917</td>\n",
       "      <td>104.0</td>\n",
       "      <td>2014</td>\n",
       "      <td>42</td>\n",
       "    </tr>\n",
       "    <tr>\n",
       "      <td>...</td>\n",
       "      <td>...</td>\n",
       "      <td>...</td>\n",
       "      <td>...</td>\n",
       "      <td>...</td>\n",
       "      <td>...</td>\n",
       "      <td>...</td>\n",
       "      <td>...</td>\n",
       "      <td>...</td>\n",
       "      <td>...</td>\n",
       "      <td>...</td>\n",
       "      <td>...</td>\n",
       "      <td>...</td>\n",
       "      <td>...</td>\n",
       "      <td>...</td>\n",
       "      <td>...</td>\n",
       "      <td>...</td>\n",
       "      <td>...</td>\n",
       "      <td>...</td>\n",
       "      <td>...</td>\n",
       "      <td>...</td>\n",
       "      <td>...</td>\n",
       "    </tr>\n",
       "    <tr>\n",
       "      <td>21574</td>\n",
       "      <td>7430200100</td>\n",
       "      <td>2014-05-14</td>\n",
       "      <td>1220000.0</td>\n",
       "      <td>4</td>\n",
       "      <td>3.50</td>\n",
       "      <td>4910</td>\n",
       "      <td>9444</td>\n",
       "      <td>1.5</td>\n",
       "      <td>0</td>\n",
       "      <td>0.0</td>\n",
       "      <td>...</td>\n",
       "      <td>2007</td>\n",
       "      <td>0</td>\n",
       "      <td>98074</td>\n",
       "      <td>47.6502</td>\n",
       "      <td>-122.066</td>\n",
       "      <td>4560</td>\n",
       "      <td>11063</td>\n",
       "      <td>122.0</td>\n",
       "      <td>2014</td>\n",
       "      <td>8</td>\n",
       "    </tr>\n",
       "    <tr>\n",
       "      <td>21577</td>\n",
       "      <td>8672200110</td>\n",
       "      <td>2015-03-17</td>\n",
       "      <td>1090000.0</td>\n",
       "      <td>5</td>\n",
       "      <td>3.75</td>\n",
       "      <td>4170</td>\n",
       "      <td>8142</td>\n",
       "      <td>2.0</td>\n",
       "      <td>0</td>\n",
       "      <td>2.0</td>\n",
       "      <td>...</td>\n",
       "      <td>2006</td>\n",
       "      <td>0</td>\n",
       "      <td>98056</td>\n",
       "      <td>47.5354</td>\n",
       "      <td>-122.181</td>\n",
       "      <td>3030</td>\n",
       "      <td>7980</td>\n",
       "      <td>109.0</td>\n",
       "      <td>2015</td>\n",
       "      <td>10</td>\n",
       "    </tr>\n",
       "    <tr>\n",
       "      <td>21581</td>\n",
       "      <td>191100405</td>\n",
       "      <td>2015-04-21</td>\n",
       "      <td>1580000.0</td>\n",
       "      <td>4</td>\n",
       "      <td>3.25</td>\n",
       "      <td>3410</td>\n",
       "      <td>10125</td>\n",
       "      <td>2.0</td>\n",
       "      <td>0</td>\n",
       "      <td>0.0</td>\n",
       "      <td>...</td>\n",
       "      <td>2007</td>\n",
       "      <td>0</td>\n",
       "      <td>98040</td>\n",
       "      <td>47.5653</td>\n",
       "      <td>-122.223</td>\n",
       "      <td>2290</td>\n",
       "      <td>10125</td>\n",
       "      <td>158.0</td>\n",
       "      <td>2015</td>\n",
       "      <td>9</td>\n",
       "    </tr>\n",
       "    <tr>\n",
       "      <td>21584</td>\n",
       "      <td>249000205</td>\n",
       "      <td>2014-10-15</td>\n",
       "      <td>1540000.0</td>\n",
       "      <td>5</td>\n",
       "      <td>3.75</td>\n",
       "      <td>4470</td>\n",
       "      <td>8088</td>\n",
       "      <td>2.0</td>\n",
       "      <td>0</td>\n",
       "      <td>0.0</td>\n",
       "      <td>...</td>\n",
       "      <td>2008</td>\n",
       "      <td>0</td>\n",
       "      <td>98004</td>\n",
       "      <td>47.6321</td>\n",
       "      <td>-122.200</td>\n",
       "      <td>2780</td>\n",
       "      <td>8964</td>\n",
       "      <td>154.0</td>\n",
       "      <td>2014</td>\n",
       "      <td>7</td>\n",
       "    </tr>\n",
       "    <tr>\n",
       "      <td>21590</td>\n",
       "      <td>7936000429</td>\n",
       "      <td>2015-03-26</td>\n",
       "      <td>1010000.0</td>\n",
       "      <td>4</td>\n",
       "      <td>3.50</td>\n",
       "      <td>3510</td>\n",
       "      <td>7200</td>\n",
       "      <td>2.0</td>\n",
       "      <td>0</td>\n",
       "      <td>0.0</td>\n",
       "      <td>...</td>\n",
       "      <td>2009</td>\n",
       "      <td>0</td>\n",
       "      <td>98136</td>\n",
       "      <td>47.5537</td>\n",
       "      <td>-122.398</td>\n",
       "      <td>2050</td>\n",
       "      <td>6200</td>\n",
       "      <td>101.0</td>\n",
       "      <td>2015</td>\n",
       "      <td>7</td>\n",
       "    </tr>\n",
       "  </tbody>\n",
       "</table>\n",
       "<p>1458 rows × 24 columns</p>\n",
       "</div>"
      ],
      "text/plain": [
       "               id       date      price  bedrooms  bathrooms  sqft_living  \\\n",
       "5      7237550310 2014-05-12  1230000.0         4       4.50         5420   \n",
       "21     2524049179 2014-08-26  2000000.0         3       2.75         3050   \n",
       "49      822039084 2015-03-11  1350000.0         3       2.50         2753   \n",
       "69     1802000060 2014-06-12  1330000.0         5       2.25         3200   \n",
       "70     1525059190 2014-09-12  1040000.0         5       3.25         4770   \n",
       "...           ...        ...        ...       ...        ...          ...   \n",
       "21574  7430200100 2014-05-14  1220000.0         4       3.50         4910   \n",
       "21577  8672200110 2015-03-17  1090000.0         5       3.75         4170   \n",
       "21581   191100405 2015-04-21  1580000.0         4       3.25         3410   \n",
       "21584   249000205 2014-10-15  1540000.0         5       3.75         4470   \n",
       "21590  7936000429 2015-03-26  1010000.0         4       3.50         3510   \n",
       "\n",
       "       sqft_lot  floors  waterfront  view  ...  yr_built  yr_renovated  \\\n",
       "5        101930     1.0           0   0.0  ...      2001             0   \n",
       "21        44867     1.0           0   4.0  ...      1968             0   \n",
       "49        65005     1.0           1   2.0  ...      1953             0   \n",
       "69        20158     1.0           0   0.0  ...      1965             0   \n",
       "70        50094     1.0           0   0.0  ...      1973             0   \n",
       "...         ...     ...         ...   ...  ...       ...           ...   \n",
       "21574      9444     1.5           0   0.0  ...      2007             0   \n",
       "21577      8142     2.0           0   2.0  ...      2006             0   \n",
       "21581     10125     2.0           0   0.0  ...      2007             0   \n",
       "21584      8088     2.0           0   0.0  ...      2008             0   \n",
       "21590      7200     2.0           0   0.0  ...      2009             0   \n",
       "\n",
       "       zipcode      lat     long  sqft_living15  sqft_lot15  price/10000  \\\n",
       "5        98053  47.6561 -122.005           4760      101930        123.0   \n",
       "21       98040  47.5316 -122.233           4110       20336        200.0   \n",
       "49       98070  47.4041 -122.451           2680       72513        135.0   \n",
       "69       98004  47.6303 -122.215           3390       20158        133.0   \n",
       "70       98005  47.6525 -122.160           3530       38917        104.0   \n",
       "...        ...      ...      ...            ...         ...          ...   \n",
       "21574    98074  47.6502 -122.066           4560       11063        122.0   \n",
       "21577    98056  47.5354 -122.181           3030        7980        109.0   \n",
       "21581    98040  47.5653 -122.223           2290       10125        158.0   \n",
       "21584    98004  47.6321 -122.200           2780        8964        154.0   \n",
       "21590    98136  47.5537 -122.398           2050        6200        101.0   \n",
       "\n",
       "       sale_year  age  \n",
       "5           2014   14  \n",
       "21          2014   47  \n",
       "49          2015   63  \n",
       "69          2014   50  \n",
       "70          2014   42  \n",
       "...          ...  ...  \n",
       "21574       2014    8  \n",
       "21577       2015   10  \n",
       "21581       2015    9  \n",
       "21584       2014    7  \n",
       "21590       2015    7  \n",
       "\n",
       "[1458 rows x 24 columns]"
      ]
     },
     "execution_count": 45,
     "metadata": {},
     "output_type": "execute_result"
    }
   ],
   "source": [
    "data_mil_df = data.loc[data['price'] > 1000000]\n",
    "data_mil_df"
   ]
  },
  {
   "cell_type": "code",
   "execution_count": 46,
   "metadata": {},
   "outputs": [
    {
     "data": {
      "text/plain": [
       "0.06995884773662552"
      ]
     },
     "execution_count": 46,
     "metadata": {},
     "output_type": "execute_result"
    }
   ],
   "source": [
    "len(historic_df_mil)/len(data_mil_df)"
   ]
  },
  {
   "cell_type": "markdown",
   "metadata": {},
   "source": [
    "## assess whether renovating a historic home increases market value as far as price"
   ]
  },
  {
   "cell_type": "code",
   "execution_count": 47,
   "metadata": {},
   "outputs": [
    {
     "data": {
      "image/png": "[encoded data removed]",
      "text/plain": [
       "<Figure size 432x288 with 1 Axes>"
      ]
     },
     "metadata": {
      "needs_background": "light"
     },
     "output_type": "display_data"
    }
   ],
   "source": [
    "sns.kdeplot(non_ren_historic_df['price/10000'], color='y', shade=True, Label='Non-Renovated Historic Homes')\n",
    "sns.kdeplot(ren_historic_df['price/10000'], color='b', shade=True, Label='Renovated Historic Homes') \n",
    "\n",
    "plt.xlabel('price/10000') \n",
    "plt.ylabel('Probability Density') \n",
    "plt.show()"
   ]
  },
  {
   "cell_type": "markdown",
   "metadata": {},
   "source": [
    "1/3 of the properties with listed price over 1 million dollars qualifies as possible historic home "
   ]
  },
  {
   "cell_type": "markdown",
   "metadata": {},
   "source": [
    "### remove 1 million and up price homes, as these are outliers and 1/3 could qualify as historic. these are abnormalities and would possibly require a different model to assess properly"
   ]
  },
  {
   "cell_type": "code",
   "execution_count": 48,
   "metadata": {},
   "outputs": [],
   "source": [
    "# set df to include only homes under 1 million dollars\n",
    "#data = data[data.price < 999999]"
   ]
  },
  {
   "cell_type": "markdown",
   "metadata": {},
   "source": [
    "### drop columns not to be utilized"
   ]
  },
  {
   "cell_type": "code",
   "execution_count": 49,
   "metadata": {},
   "outputs": [],
   "source": [
    "data.drop(['yr_renovated', 'waterfront', 'view'], axis=1, inplace=True)"
   ]
  },
  {
   "cell_type": "markdown",
   "metadata": {},
   "source": [
    "## sqft_basement column contains string characters, remove these and convert to int to match other similar columns"
   ]
  },
  {
   "cell_type": "code",
   "execution_count": 50,
   "metadata": {},
   "outputs": [],
   "source": [
    "#convert to int format, coercing strings to 0\n",
    "data['sqft_basement'] = pd.to_numeric(data['sqft_basement'], \n",
    "                        downcast= 'integer', errors ='coerce')"
   ]
  },
  {
   "cell_type": "code",
   "execution_count": 51,
   "metadata": {},
   "outputs": [],
   "source": [
    "# replace missing values using data provided for homes without nan values\n",
    "# sqft_basement + sqft_above = sqft_living\n",
    "data['sqft_basement'] = data['sqft_basement'].fillna(data['sqft_living'] \n",
    "                             - data['sqft_above'])\n",
    "data['sqft_basement'] = data['sqft_basement'].astype(int)"
   ]
  },
  {
   "cell_type": "markdown",
   "metadata": {},
   "source": [
    "this column will probably be dropped due to direct correlation to sqft_living (and sqft_above )"
   ]
  },
  {
   "cell_type": "markdown",
   "metadata": {},
   "source": [
    "## convert sq_ft areas to square meters"
   ]
  },
  {
   "cell_type": "code",
   "execution_count": 52,
   "metadata": {},
   "outputs": [],
   "source": [
    "# ft_to_meters \n",
    "data['sqm_living'] = ft_to_meter(data.sqft_living)\n",
    "data['sqm_living15'] = ft_to_meter(data.sqft_living15)\n",
    "data['sqm_lot'] = ft_to_meter(data.sqft_lot)\n",
    "data['sqm_lot15'] = ft_to_meter(data.sqft_lot15)"
   ]
  },
  {
   "cell_type": "markdown",
   "metadata": {},
   "source": [
    "omitting sqft_above and sqft_basement due to correlation with sqft_living, and will most likely be dropped"
   ]
  },
  {
   "cell_type": "markdown",
   "metadata": {},
   "source": [
    "##  bedrooms outlier present as 33 bedroom house, appears to be typo due to other info, should be 3 bedrooms as this listing only has 1.75 bathrooms"
   ]
  },
  {
   "cell_type": "code",
   "execution_count": 53,
   "metadata": {},
   "outputs": [
    {
     "data": {
      "text/plain": [
       "count    21597.000000\n",
       "mean         3.373200\n",
       "std          0.926299\n",
       "min          1.000000\n",
       "25%          3.000000\n",
       "50%          3.000000\n",
       "75%          4.000000\n",
       "max         33.000000\n",
       "Name: bedrooms, dtype: float64"
      ]
     },
     "execution_count": 53,
     "metadata": {},
     "output_type": "execute_result"
    }
   ],
   "source": [
    "data['bedrooms'].describe()"
   ]
  },
  {
   "cell_type": "code",
   "execution_count": 54,
   "metadata": {},
   "outputs": [
    {
     "data": {
      "text/html": [
       "<div>\n",
       "<style scoped>\n",
       "    .dataframe tbody tr th:only-of-type {\n",
       "        vertical-align: middle;\n",
       "    }\n",
       "\n",
       "    .dataframe tbody tr th {\n",
       "        vertical-align: top;\n",
       "    }\n",
       "\n",
       "    .dataframe thead th {\n",
       "        text-align: right;\n",
       "    }\n",
       "</style>\n",
       "<table border=\"1\" class=\"dataframe\">\n",
       "  <thead>\n",
       "    <tr style=\"text-align: right;\">\n",
       "      <th></th>\n",
       "      <th>id</th>\n",
       "      <th>date</th>\n",
       "      <th>price</th>\n",
       "      <th>bedrooms</th>\n",
       "      <th>bathrooms</th>\n",
       "      <th>sqft_living</th>\n",
       "      <th>sqft_lot</th>\n",
       "      <th>floors</th>\n",
       "      <th>condition</th>\n",
       "      <th>grade</th>\n",
       "      <th>...</th>\n",
       "      <th>long</th>\n",
       "      <th>sqft_living15</th>\n",
       "      <th>sqft_lot15</th>\n",
       "      <th>price/10000</th>\n",
       "      <th>sale_year</th>\n",
       "      <th>age</th>\n",
       "      <th>sqm_living</th>\n",
       "      <th>sqm_living15</th>\n",
       "      <th>sqm_lot</th>\n",
       "      <th>sqm_lot15</th>\n",
       "    </tr>\n",
       "  </thead>\n",
       "  <tbody>\n",
       "    <tr>\n",
       "      <td>15856</td>\n",
       "      <td>2402100895</td>\n",
       "      <td>2014-06-25</td>\n",
       "      <td>640000.0</td>\n",
       "      <td>33</td>\n",
       "      <td>1.75</td>\n",
       "      <td>1620</td>\n",
       "      <td>6000</td>\n",
       "      <td>1.0</td>\n",
       "      <td>5</td>\n",
       "      <td>7</td>\n",
       "      <td>...</td>\n",
       "      <td>-122.331</td>\n",
       "      <td>1330</td>\n",
       "      <td>4700</td>\n",
       "      <td>64.0</td>\n",
       "      <td>2014</td>\n",
       "      <td>68</td>\n",
       "      <td>150.50286</td>\n",
       "      <td>123.56099</td>\n",
       "      <td>557.418</td>\n",
       "      <td>436.6441</td>\n",
       "    </tr>\n",
       "  </tbody>\n",
       "</table>\n",
       "<p>1 rows × 25 columns</p>\n",
       "</div>"
      ],
      "text/plain": [
       "               id       date     price  bedrooms  bathrooms  sqft_living  \\\n",
       "15856  2402100895 2014-06-25  640000.0        33       1.75         1620   \n",
       "\n",
       "       sqft_lot  floors  condition  grade  ...     long  sqft_living15  \\\n",
       "15856      6000     1.0          5      7  ... -122.331           1330   \n",
       "\n",
       "       sqft_lot15  price/10000  sale_year  age  sqm_living  sqm_living15  \\\n",
       "15856        4700         64.0       2014   68   150.50286     123.56099   \n",
       "\n",
       "       sqm_lot  sqm_lot15  \n",
       "15856  557.418   436.6441  \n",
       "\n",
       "[1 rows x 25 columns]"
      ]
     },
     "execution_count": 54,
     "metadata": {},
     "output_type": "execute_result"
    }
   ],
   "source": [
    "data.loc[data[\"bedrooms\"] == 33]"
   ]
  },
  {
   "cell_type": "code",
   "execution_count": 55,
   "metadata": {},
   "outputs": [],
   "source": [
    "data[\"bedrooms\"].replace({33: 3}, inplace=True)"
   ]
  },
  {
   "cell_type": "code",
   "execution_count": null,
   "metadata": {},
   "outputs": [],
   "source": []
  },
  {
   "cell_type": "code",
   "execution_count": 56,
   "metadata": {},
   "outputs": [],
   "source": [
    "data = data[data.bathrooms < 6]\n",
    "data = data[data.bedrooms < 8]"
   ]
  },
  {
   "cell_type": "code",
   "execution_count": 57,
   "metadata": {},
   "outputs": [
    {
     "data": {
      "text/plain": [
       "(21560, 25)"
      ]
     },
     "execution_count": 57,
     "metadata": {},
     "output_type": "execute_result"
    }
   ],
   "source": [
    "data.shape"
   ]
  },
  {
   "cell_type": "code",
   "execution_count": 58,
   "metadata": {},
   "outputs": [
    {
     "data": {
      "image/png": "[encoded data removed]",
      "text/plain": [
       "<Figure size 1296x720 with 1 Axes>"
      ]
     },
     "metadata": {
      "needs_background": "light"
     },
     "output_type": "display_data"
    }
   ],
   "source": [
    "plt.figure(figsize=(18,10))\n",
    "sns.violinplot(x=\"bedrooms\", y=\"price/10000\",\n",
    "                    data=data, palette=\"muted\")\n",
    "plt.xlabel('Bedrooms') \n",
    "plt.ylabel('Price') \n",
    "plt.title('Number of Bedrooms Affect on Value')\n",
    "plt.show()"
   ]
  },
  {
   "cell_type": "code",
   "execution_count": 94,
   "metadata": {},
   "outputs": [
    {
     "name": "stdout",
     "output_type": "stream",
     "text": [
      "344482.2876712329\n",
      "408986.02241641335\n",
      "467791.7164515468\n",
      "636719.1722780935\n",
      "636719.1722780935\n",
      "777585.3123425692\n",
      "764970.3886792453\n"
     ]
    }
   ],
   "source": [
    "bed1 = data.loc[(data['bedrooms'] == 1)]\n",
    "bed2 = data.loc[(data['bedrooms'] == 2)]\n",
    "bed3 = data.loc[(data['bedrooms'] == 3)]\n",
    "bed4 = data.loc[(data['bedrooms'] ==4)]\n",
    "bed5 = data.loc[(data['bedrooms']==5)]\n",
    "bed6 = data.loc[(data['bedrooms']==6)]\n",
    "print(bed1.price.mean())\n",
    "print(bed2.price.mean())\n",
    "print(bed3.price.mean())\n",
    "print(bed4.price.mean())\n",
    "print(bed4.price.mean())\n",
    "print(bed5.price.mean())\n",
    "print(bed6.price.mean())"
   ]
  },
  {
   "cell_type": "markdown",
   "metadata": {},
   "source": [
    "## assessing grade category"
   ]
  },
  {
   "cell_type": "markdown",
   "metadata": {},
   "source": [
    "* from king county website regarding grade category\n",
    "\n",
    "Represents the construction quality of improvements. Grades run from grade 1 to 13. Generally defined as:\n",
    "\n",
    "1-3 Falls short of minimum building standards. Normally cabin or inferior structure.\n",
    "\n",
    "4 Generally older, low quality construction. Does not meet code.\n",
    "\n",
    "5 Low construction costs and workmanship. Small, simple design.\n",
    "\n",
    "6 Lowest grade currently meeting building code. Low quality materials and simple designs.\n",
    "\n",
    "7 Average grade of construction and design. Commonly seen in plats and older sub-divisions.\n",
    "\n",
    "8 Just above average in construction and design. Usually better materials in both the exterior and interior finish work.\n",
    "\n",
    "9 Better architectural design with extra interior and exterior design and quality.\n",
    "\n",
    "10 Homes of this quality generally have high quality features. Finish work is better and more design quality is seen in the floor plans. Generally have a larger square footage.\n",
    "\n",
    "11 Custom design and higher quality finish work with added amenities of solid woods, bathroom fixtures and more luxurious options.\n",
    "\n",
    "12 Custom design and excellent builders. All materials are of the highest quality and all conveniences are present.\n",
    "\n",
    "13 Generally custom designed and built. Mansion level. Large amount of highest quality cabinet work, wood trim, marble, entry ways etc."
   ]
  },
  {
   "cell_type": "code",
   "execution_count": 59,
   "metadata": {},
   "outputs": [],
   "source": [
    "#removing homes that do not meet code\n",
    "data = data[data.grade > 5]"
   ]
  },
  {
   "cell_type": "markdown",
   "metadata": {},
   "source": [
    "### assess the affect that the grade of the house hs on the sale value"
   ]
  },
  {
   "cell_type": "code",
   "execution_count": 60,
   "metadata": {},
   "outputs": [
    {
     "data": {
      "image/png": "[encoded data removed]",
      "text/plain": [
       "<Figure size 1296x720 with 1 Axes>"
      ]
     },
     "metadata": {
      "needs_background": "light"
     },
     "output_type": "display_data"
    }
   ],
   "source": [
    "plt.figure(figsize=(18,10))\n",
    "sns.violinplot(x=\"grade\", y=\"price/10000\",\n",
    "                    data=data, palette=\"muted\")\n",
    "plt.xlabel('Grade') \n",
    "plt.ylabel('Price') \n",
    "plt.title('Home Grade Affect on Value')\n",
    "plt.show()"
   ]
  },
  {
   "cell_type": "markdown",
   "metadata": {},
   "source": [
    "## assess for duplicates"
   ]
  },
  {
   "cell_type": "code",
   "execution_count": 61,
   "metadata": {},
   "outputs": [
    {
     "data": {
      "text/plain": [
       "id               21121\n",
       "date               372\n",
       "price             3567\n",
       "bedrooms             7\n",
       "bathrooms           22\n",
       "sqft_living       1007\n",
       "sqft_lot          9684\n",
       "floors               6\n",
       "condition            5\n",
       "grade                8\n",
       "sqft_above         923\n",
       "sqft_basement      300\n",
       "yr_built           116\n",
       "zipcode             70\n",
       "lat               5014\n",
       "long               744\n",
       "sqft_living15      771\n",
       "sqft_lot15        8615\n",
       "price/10000       3567\n",
       "sale_year            2\n",
       "age                117\n",
       "sqm_living        1007\n",
       "sqm_living15       771\n",
       "sqm_lot           9684\n",
       "sqm_lot15         8615\n",
       "dtype: int64"
      ]
     },
     "execution_count": 61,
     "metadata": {},
     "output_type": "execute_result"
    }
   ],
   "source": [
    "data.nunique()"
   ]
  },
  {
   "cell_type": "markdown",
   "metadata": {},
   "source": [
    "## evaluate duplicate ids "
   ]
  },
  {
   "cell_type": "code",
   "execution_count": 62,
   "metadata": {},
   "outputs": [],
   "source": [
    "dups = data[data['id'].duplicated(keep=False)]"
   ]
  },
  {
   "cell_type": "code",
   "execution_count": 63,
   "metadata": {},
   "outputs": [
    {
     "data": {
      "text/html": [
       "<div>\n",
       "<style scoped>\n",
       "    .dataframe tbody tr th:only-of-type {\n",
       "        vertical-align: middle;\n",
       "    }\n",
       "\n",
       "    .dataframe tbody tr th {\n",
       "        vertical-align: top;\n",
       "    }\n",
       "\n",
       "    .dataframe thead th {\n",
       "        text-align: right;\n",
       "    }\n",
       "</style>\n",
       "<table border=\"1\" class=\"dataframe\">\n",
       "  <thead>\n",
       "    <tr style=\"text-align: right;\">\n",
       "      <th></th>\n",
       "      <th>id</th>\n",
       "      <th>date</th>\n",
       "      <th>price</th>\n",
       "      <th>bedrooms</th>\n",
       "      <th>bathrooms</th>\n",
       "      <th>sqft_living</th>\n",
       "      <th>sqft_lot</th>\n",
       "      <th>floors</th>\n",
       "      <th>condition</th>\n",
       "      <th>grade</th>\n",
       "      <th>...</th>\n",
       "      <th>long</th>\n",
       "      <th>sqft_living15</th>\n",
       "      <th>sqft_lot15</th>\n",
       "      <th>price/10000</th>\n",
       "      <th>sale_year</th>\n",
       "      <th>age</th>\n",
       "      <th>sqm_living</th>\n",
       "      <th>sqm_living15</th>\n",
       "      <th>sqm_lot</th>\n",
       "      <th>sqm_lot15</th>\n",
       "    </tr>\n",
       "  </thead>\n",
       "  <tbody>\n",
       "    <tr>\n",
       "      <td>93</td>\n",
       "      <td>6021501535</td>\n",
       "      <td>2014-07-25</td>\n",
       "      <td>430000.0</td>\n",
       "      <td>3</td>\n",
       "      <td>1.50</td>\n",
       "      <td>1580</td>\n",
       "      <td>5000</td>\n",
       "      <td>1.0</td>\n",
       "      <td>3</td>\n",
       "      <td>8</td>\n",
       "      <td>...</td>\n",
       "      <td>-122.386</td>\n",
       "      <td>1570</td>\n",
       "      <td>4500</td>\n",
       "      <td>43.0</td>\n",
       "      <td>2014</td>\n",
       "      <td>76</td>\n",
       "      <td>146.78674</td>\n",
       "      <td>145.85771</td>\n",
       "      <td>464.515000</td>\n",
       "      <td>418.063500</td>\n",
       "    </tr>\n",
       "    <tr>\n",
       "      <td>94</td>\n",
       "      <td>6021501535</td>\n",
       "      <td>2014-12-23</td>\n",
       "      <td>700000.0</td>\n",
       "      <td>3</td>\n",
       "      <td>1.50</td>\n",
       "      <td>1580</td>\n",
       "      <td>5000</td>\n",
       "      <td>1.0</td>\n",
       "      <td>3</td>\n",
       "      <td>8</td>\n",
       "      <td>...</td>\n",
       "      <td>-122.386</td>\n",
       "      <td>1570</td>\n",
       "      <td>4500</td>\n",
       "      <td>70.0</td>\n",
       "      <td>2014</td>\n",
       "      <td>76</td>\n",
       "      <td>146.78674</td>\n",
       "      <td>145.85771</td>\n",
       "      <td>464.515000</td>\n",
       "      <td>418.063500</td>\n",
       "    </tr>\n",
       "    <tr>\n",
       "      <td>313</td>\n",
       "      <td>4139480200</td>\n",
       "      <td>2014-06-18</td>\n",
       "      <td>1380000.0</td>\n",
       "      <td>4</td>\n",
       "      <td>3.25</td>\n",
       "      <td>4290</td>\n",
       "      <td>12103</td>\n",
       "      <td>1.0</td>\n",
       "      <td>3</td>\n",
       "      <td>11</td>\n",
       "      <td>...</td>\n",
       "      <td>-122.102</td>\n",
       "      <td>3860</td>\n",
       "      <td>11244</td>\n",
       "      <td>138.0</td>\n",
       "      <td>2014</td>\n",
       "      <td>18</td>\n",
       "      <td>398.55387</td>\n",
       "      <td>358.60558</td>\n",
       "      <td>1124.405009</td>\n",
       "      <td>1044.601332</td>\n",
       "    </tr>\n",
       "    <tr>\n",
       "      <td>314</td>\n",
       "      <td>4139480200</td>\n",
       "      <td>2014-12-09</td>\n",
       "      <td>1400000.0</td>\n",
       "      <td>4</td>\n",
       "      <td>3.25</td>\n",
       "      <td>4290</td>\n",
       "      <td>12103</td>\n",
       "      <td>1.0</td>\n",
       "      <td>3</td>\n",
       "      <td>11</td>\n",
       "      <td>...</td>\n",
       "      <td>-122.102</td>\n",
       "      <td>3860</td>\n",
       "      <td>11244</td>\n",
       "      <td>140.0</td>\n",
       "      <td>2014</td>\n",
       "      <td>18</td>\n",
       "      <td>398.55387</td>\n",
       "      <td>358.60558</td>\n",
       "      <td>1124.405009</td>\n",
       "      <td>1044.601332</td>\n",
       "    </tr>\n",
       "    <tr>\n",
       "      <td>324</td>\n",
       "      <td>7520000520</td>\n",
       "      <td>2014-09-05</td>\n",
       "      <td>232000.0</td>\n",
       "      <td>2</td>\n",
       "      <td>1.00</td>\n",
       "      <td>1240</td>\n",
       "      <td>12092</td>\n",
       "      <td>1.0</td>\n",
       "      <td>3</td>\n",
       "      <td>6</td>\n",
       "      <td>...</td>\n",
       "      <td>-122.352</td>\n",
       "      <td>1820</td>\n",
       "      <td>7460</td>\n",
       "      <td>23.2</td>\n",
       "      <td>2014</td>\n",
       "      <td>93</td>\n",
       "      <td>115.19972</td>\n",
       "      <td>169.08346</td>\n",
       "      <td>1123.383076</td>\n",
       "      <td>693.056380</td>\n",
       "    </tr>\n",
       "  </tbody>\n",
       "</table>\n",
       "<p>5 rows × 25 columns</p>\n",
       "</div>"
      ],
      "text/plain": [
       "             id       date      price  bedrooms  bathrooms  sqft_living  \\\n",
       "93   6021501535 2014-07-25   430000.0         3       1.50         1580   \n",
       "94   6021501535 2014-12-23   700000.0         3       1.50         1580   \n",
       "313  4139480200 2014-06-18  1380000.0         4       3.25         4290   \n",
       "314  4139480200 2014-12-09  1400000.0         4       3.25         4290   \n",
       "324  7520000520 2014-09-05   232000.0         2       1.00         1240   \n",
       "\n",
       "     sqft_lot  floors  condition  grade  ...     long  sqft_living15  \\\n",
       "93       5000     1.0          3      8  ... -122.386           1570   \n",
       "94       5000     1.0          3      8  ... -122.386           1570   \n",
       "313     12103     1.0          3     11  ... -122.102           3860   \n",
       "314     12103     1.0          3     11  ... -122.102           3860   \n",
       "324     12092     1.0          3      6  ... -122.352           1820   \n",
       "\n",
       "     sqft_lot15  price/10000  sale_year  age  sqm_living  sqm_living15  \\\n",
       "93         4500         43.0       2014   76   146.78674     145.85771   \n",
       "94         4500         70.0       2014   76   146.78674     145.85771   \n",
       "313       11244        138.0       2014   18   398.55387     358.60558   \n",
       "314       11244        140.0       2014   18   398.55387     358.60558   \n",
       "324        7460         23.2       2014   93   115.19972     169.08346   \n",
       "\n",
       "         sqm_lot    sqm_lot15  \n",
       "93    464.515000   418.063500  \n",
       "94    464.515000   418.063500  \n",
       "313  1124.405009  1044.601332  \n",
       "314  1124.405009  1044.601332  \n",
       "324  1123.383076   693.056380  \n",
       "\n",
       "[5 rows x 25 columns]"
      ]
     },
     "execution_count": 63,
     "metadata": {},
     "output_type": "execute_result"
    }
   ],
   "source": [
    "dups.head()"
   ]
  },
  {
   "cell_type": "markdown",
   "metadata": {},
   "source": [
    "these occurences are from when the house was turned over and sold again, so I am keeping these rows"
   ]
  },
  {
   "cell_type": "markdown",
   "metadata": {},
   "source": [
    "## use latitude and longitude in existing dataset to get the distance from home to Seattle(closest major city)"
   ]
  },
  {
   "cell_type": "markdown",
   "metadata": {},
   "source": [
    "### import geopy modules"
   ]
  },
  {
   "cell_type": "code",
   "execution_count": 64,
   "metadata": {},
   "outputs": [],
   "source": [
    "from geopy.distance import geodesic\n",
    "from geopy import Point"
   ]
  },
  {
   "cell_type": "code",
   "execution_count": 65,
   "metadata": {},
   "outputs": [],
   "source": [
    "#seattle coordinates\n",
    "seattle_lat = 47.3635\n",
    "seattle_long = -122.1959\n",
    "seattle_point = Point(latitude=seattle_lat, longitude =seattle_long)\n"
   ]
  },
  {
   "cell_type": "markdown",
   "metadata": {},
   "source": [
    "### use geopy to set up points and calculate distance"
   ]
  },
  {
   "cell_type": "code",
   "execution_count": 66,
   "metadata": {},
   "outputs": [],
   "source": [
    "#create points for each home using longitude and latitude\n",
    "data['point'] = data.apply(lambda row: Point(latitude=row['lat'], \n",
    "                                             longitude=row['long']), axis=1)"
   ]
  },
  {
   "cell_type": "code",
   "execution_count": 67,
   "metadata": {},
   "outputs": [],
   "source": [
    "# get distance in km from point to seattle\n",
    "data['distance_seattle'] = data.apply(lambda row: \n",
    "                                      geodesic(row['point'], \n",
    "                                      seattle_point).km, axis=1)\n"
   ]
  },
  {
   "cell_type": "code",
   "execution_count": 68,
   "metadata": {},
   "outputs": [],
   "source": [
    "# round distance to seattle values for simplicity\n",
    "data['distance_seattle'] = data['distance_seattle'].round(3)"
   ]
  },
  {
   "cell_type": "code",
   "execution_count": 69,
   "metadata": {},
   "outputs": [
    {
     "data": {
      "text/plain": [
       "id                           int64\n",
       "date                datetime64[ns]\n",
       "price                      float64\n",
       "bedrooms                     int64\n",
       "bathrooms                  float64\n",
       "sqft_living                  int64\n",
       "sqft_lot                     int64\n",
       "floors                     float64\n",
       "condition                    int64\n",
       "grade                        int64\n",
       "sqft_above                   int64\n",
       "sqft_basement                int64\n",
       "yr_built                     int64\n",
       "zipcode                      int64\n",
       "lat                        float64\n",
       "long                       float64\n",
       "sqft_living15                int64\n",
       "sqft_lot15                   int64\n",
       "price/10000                float64\n",
       "sale_year                    int64\n",
       "age                          int64\n",
       "sqm_living                 float64\n",
       "sqm_living15               float64\n",
       "sqm_lot                    float64\n",
       "sqm_lot15                  float64\n",
       "point                       object\n",
       "distance_seattle           float64\n",
       "dtype: object"
      ]
     },
     "execution_count": 69,
     "metadata": {},
     "output_type": "execute_result"
    }
   ],
   "source": [
    "data.dtypes"
   ]
  },
  {
   "cell_type": "markdown",
   "metadata": {},
   "source": [
    "### dropping columns "
   ]
  },
  {
   "cell_type": "markdown",
   "metadata": {},
   "source": [
    "dropping point, lat and long columns, derived data needed from these for distance to seattle"
   ]
  },
  {
   "cell_type": "code",
   "execution_count": 70,
   "metadata": {},
   "outputs": [],
   "source": [
    "data.drop(['point', 'lat', 'long'], axis=1, inplace=True)"
   ]
  },
  {
   "cell_type": "markdown",
   "metadata": {},
   "source": [
    "drop date column due to derived data needed and this column will just cause issues. also dropping view column, as it just tells if the home has been viewed according to documentation. yr_built and sale_year used for age column and can be dropped as well. # drop condition due to the fact that it is contingent on perspective, whereas \n",
    "the 'grade' category is qualified by king county as an official rating  \n",
    "regarding the home inspection and quality of materials"
   ]
  },
  {
   "cell_type": "code",
   "execution_count": 71,
   "metadata": {},
   "outputs": [],
   "source": [
    "data.drop(['date', 'sale_year', 'yr_built', 'zipcode', ], axis=1, inplace=True)"
   ]
  },
  {
   "cell_type": "code",
   "execution_count": 72,
   "metadata": {},
   "outputs": [
    {
     "data": {
      "text/html": [
       "<div>\n",
       "<style scoped>\n",
       "    .dataframe tbody tr th:only-of-type {\n",
       "        vertical-align: middle;\n",
       "    }\n",
       "\n",
       "    .dataframe tbody tr th {\n",
       "        vertical-align: top;\n",
       "    }\n",
       "\n",
       "    .dataframe thead th {\n",
       "        text-align: right;\n",
       "    }\n",
       "</style>\n",
       "<table border=\"1\" class=\"dataframe\">\n",
       "  <thead>\n",
       "    <tr style=\"text-align: right;\">\n",
       "      <th></th>\n",
       "      <th>id</th>\n",
       "      <th>price</th>\n",
       "      <th>bedrooms</th>\n",
       "      <th>bathrooms</th>\n",
       "      <th>sqft_living</th>\n",
       "      <th>sqft_lot</th>\n",
       "      <th>floors</th>\n",
       "      <th>condition</th>\n",
       "      <th>grade</th>\n",
       "      <th>sqft_above</th>\n",
       "      <th>sqft_basement</th>\n",
       "      <th>sqft_living15</th>\n",
       "      <th>sqft_lot15</th>\n",
       "      <th>price/10000</th>\n",
       "      <th>age</th>\n",
       "      <th>sqm_living</th>\n",
       "      <th>sqm_living15</th>\n",
       "      <th>sqm_lot</th>\n",
       "      <th>sqm_lot15</th>\n",
       "      <th>distance_seattle</th>\n",
       "    </tr>\n",
       "  </thead>\n",
       "  <tbody>\n",
       "    <tr>\n",
       "      <td>count</td>\n",
       "      <td>2.129000e+04</td>\n",
       "      <td>2.129000e+04</td>\n",
       "      <td>21290.000000</td>\n",
       "      <td>21290.000000</td>\n",
       "      <td>21290.000000</td>\n",
       "      <td>2.129000e+04</td>\n",
       "      <td>21290.000000</td>\n",
       "      <td>21290.000000</td>\n",
       "      <td>21290.000000</td>\n",
       "      <td>21290.000000</td>\n",
       "      <td>21290.000000</td>\n",
       "      <td>21290.000000</td>\n",
       "      <td>21290.000000</td>\n",
       "      <td>21290.000000</td>\n",
       "      <td>21290.000000</td>\n",
       "      <td>21290.000000</td>\n",
       "      <td>21290.000000</td>\n",
       "      <td>21290.000000</td>\n",
       "      <td>21290.000000</td>\n",
       "      <td>21290.000000</td>\n",
       "    </tr>\n",
       "    <tr>\n",
       "      <td>mean</td>\n",
       "      <td>4.588323e+09</td>\n",
       "      <td>5.416842e+05</td>\n",
       "      <td>3.378206</td>\n",
       "      <td>2.124096</td>\n",
       "      <td>2088.705308</td>\n",
       "      <td>1.496657e+04</td>\n",
       "      <td>1.498614</td>\n",
       "      <td>3.409347</td>\n",
       "      <td>7.689854</td>\n",
       "      <td>1795.741240</td>\n",
       "      <td>292.964068</td>\n",
       "      <td>1992.820244</td>\n",
       "      <td>12696.101033</td>\n",
       "      <td>54.168418</td>\n",
       "      <td>43.859887</td>\n",
       "      <td>194.046989</td>\n",
       "      <td>185.138979</td>\n",
       "      <td>1390.439107</td>\n",
       "      <td>1179.505874</td>\n",
       "      <td>26.189586</td>\n",
       "    </tr>\n",
       "    <tr>\n",
       "      <td>std</td>\n",
       "      <td>2.875444e+09</td>\n",
       "      <td>3.559107e+05</td>\n",
       "      <td>0.876215</td>\n",
       "      <td>0.752897</td>\n",
       "      <td>896.601961</td>\n",
       "      <td>4.052542e+04</td>\n",
       "      <td>0.540362</td>\n",
       "      <td>0.646265</td>\n",
       "      <td>1.132309</td>\n",
       "      <td>816.543074</td>\n",
       "      <td>439.651068</td>\n",
       "      <td>682.952422</td>\n",
       "      <td>27104.320837</td>\n",
       "      <td>35.591074</td>\n",
       "      <td>29.194971</td>\n",
       "      <td>83.297012</td>\n",
       "      <td>63.448329</td>\n",
       "      <td>3764.933210</td>\n",
       "      <td>2518.072719</td>\n",
       "      <td>12.087126</td>\n",
       "    </tr>\n",
       "    <tr>\n",
       "      <td>min</td>\n",
       "      <td>1.000102e+06</td>\n",
       "      <td>8.200000e+04</td>\n",
       "      <td>1.000000</td>\n",
       "      <td>0.500000</td>\n",
       "      <td>390.000000</td>\n",
       "      <td>5.200000e+02</td>\n",
       "      <td>1.000000</td>\n",
       "      <td>1.000000</td>\n",
       "      <td>6.000000</td>\n",
       "      <td>390.000000</td>\n",
       "      <td>0.000000</td>\n",
       "      <td>399.000000</td>\n",
       "      <td>651.000000</td>\n",
       "      <td>8.200000</td>\n",
       "      <td>0.000000</td>\n",
       "      <td>36.232170</td>\n",
       "      <td>37.068297</td>\n",
       "      <td>48.309560</td>\n",
       "      <td>60.479853</td>\n",
       "      <td>0.196000</td>\n",
       "    </tr>\n",
       "    <tr>\n",
       "      <td>25%</td>\n",
       "      <td>2.126049e+09</td>\n",
       "      <td>3.250000e+05</td>\n",
       "      <td>3.000000</td>\n",
       "      <td>1.750000</td>\n",
       "      <td>1440.000000</td>\n",
       "      <td>5.040000e+03</td>\n",
       "      <td>1.000000</td>\n",
       "      <td>3.000000</td>\n",
       "      <td>7.000000</td>\n",
       "      <td>1200.000000</td>\n",
       "      <td>0.000000</td>\n",
       "      <td>1490.000000</td>\n",
       "      <td>5100.000000</td>\n",
       "      <td>32.500000</td>\n",
       "      <td>18.000000</td>\n",
       "      <td>133.780320</td>\n",
       "      <td>138.425470</td>\n",
       "      <td>468.231120</td>\n",
       "      <td>473.805300</td>\n",
       "      <td>15.593250</td>\n",
       "    </tr>\n",
       "    <tr>\n",
       "      <td>50%</td>\n",
       "      <td>3.905035e+09</td>\n",
       "      <td>4.530000e+05</td>\n",
       "      <td>3.000000</td>\n",
       "      <td>2.250000</td>\n",
       "      <td>1930.000000</td>\n",
       "      <td>7.620000e+03</td>\n",
       "      <td>1.500000</td>\n",
       "      <td>3.000000</td>\n",
       "      <td>7.000000</td>\n",
       "      <td>1570.000000</td>\n",
       "      <td>0.000000</td>\n",
       "      <td>1850.000000</td>\n",
       "      <td>7620.000000</td>\n",
       "      <td>45.300000</td>\n",
       "      <td>40.000000</td>\n",
       "      <td>179.302790</td>\n",
       "      <td>171.870550</td>\n",
       "      <td>707.920860</td>\n",
       "      <td>707.920860</td>\n",
       "      <td>26.893000</td>\n",
       "    </tr>\n",
       "    <tr>\n",
       "      <td>75%</td>\n",
       "      <td>7.327802e+09</td>\n",
       "      <td>6.480000e+05</td>\n",
       "      <td>4.000000</td>\n",
       "      <td>2.500000</td>\n",
       "      <td>2550.000000</td>\n",
       "      <td>1.064500e+04</td>\n",
       "      <td>2.000000</td>\n",
       "      <td>4.000000</td>\n",
       "      <td>8.000000</td>\n",
       "      <td>2220.000000</td>\n",
       "      <td>570.000000</td>\n",
       "      <td>2370.000000</td>\n",
       "      <td>10070.750000</td>\n",
       "      <td>64.800000</td>\n",
       "      <td>63.000000</td>\n",
       "      <td>236.902650</td>\n",
       "      <td>220.180110</td>\n",
       "      <td>988.952435</td>\n",
       "      <td>935.602887</td>\n",
       "      <td>36.668250</td>\n",
       "    </tr>\n",
       "    <tr>\n",
       "      <td>max</td>\n",
       "      <td>9.900000e+09</td>\n",
       "      <td>7.060000e+06</td>\n",
       "      <td>7.000000</td>\n",
       "      <td>5.750000</td>\n",
       "      <td>10040.000000</td>\n",
       "      <td>1.651359e+06</td>\n",
       "      <td>3.500000</td>\n",
       "      <td>5.000000</td>\n",
       "      <td>13.000000</td>\n",
       "      <td>7880.000000</td>\n",
       "      <td>3500.000000</td>\n",
       "      <td>6210.000000</td>\n",
       "      <td>871200.000000</td>\n",
       "      <td>706.000000</td>\n",
       "      <td>116.000000</td>\n",
       "      <td>932.746120</td>\n",
       "      <td>576.927630</td>\n",
       "      <td>153416.205177</td>\n",
       "      <td>80937.093600</td>\n",
       "      <td>76.866000</td>\n",
       "    </tr>\n",
       "  </tbody>\n",
       "</table>\n",
       "</div>"
      ],
      "text/plain": [
       "                 id         price      bedrooms     bathrooms   sqft_living  \\\n",
       "count  2.129000e+04  2.129000e+04  21290.000000  21290.000000  21290.000000   \n",
       "mean   4.588323e+09  5.416842e+05      3.378206      2.124096   2088.705308   \n",
       "std    2.875444e+09  3.559107e+05      0.876215      0.752897    896.601961   \n",
       "min    1.000102e+06  8.200000e+04      1.000000      0.500000    390.000000   \n",
       "25%    2.126049e+09  3.250000e+05      3.000000      1.750000   1440.000000   \n",
       "50%    3.905035e+09  4.530000e+05      3.000000      2.250000   1930.000000   \n",
       "75%    7.327802e+09  6.480000e+05      4.000000      2.500000   2550.000000   \n",
       "max    9.900000e+09  7.060000e+06      7.000000      5.750000  10040.000000   \n",
       "\n",
       "           sqft_lot        floors     condition         grade    sqft_above  \\\n",
       "count  2.129000e+04  21290.000000  21290.000000  21290.000000  21290.000000   \n",
       "mean   1.496657e+04      1.498614      3.409347      7.689854   1795.741240   \n",
       "std    4.052542e+04      0.540362      0.646265      1.132309    816.543074   \n",
       "min    5.200000e+02      1.000000      1.000000      6.000000    390.000000   \n",
       "25%    5.040000e+03      1.000000      3.000000      7.000000   1200.000000   \n",
       "50%    7.620000e+03      1.500000      3.000000      7.000000   1570.000000   \n",
       "75%    1.064500e+04      2.000000      4.000000      8.000000   2220.000000   \n",
       "max    1.651359e+06      3.500000      5.000000     13.000000   7880.000000   \n",
       "\n",
       "       sqft_basement  sqft_living15     sqft_lot15   price/10000  \\\n",
       "count   21290.000000   21290.000000   21290.000000  21290.000000   \n",
       "mean      292.964068    1992.820244   12696.101033     54.168418   \n",
       "std       439.651068     682.952422   27104.320837     35.591074   \n",
       "min         0.000000     399.000000     651.000000      8.200000   \n",
       "25%         0.000000    1490.000000    5100.000000     32.500000   \n",
       "50%         0.000000    1850.000000    7620.000000     45.300000   \n",
       "75%       570.000000    2370.000000   10070.750000     64.800000   \n",
       "max      3500.000000    6210.000000  871200.000000    706.000000   \n",
       "\n",
       "                age    sqm_living  sqm_living15        sqm_lot     sqm_lot15  \\\n",
       "count  21290.000000  21290.000000  21290.000000   21290.000000  21290.000000   \n",
       "mean      43.859887    194.046989    185.138979    1390.439107   1179.505874   \n",
       "std       29.194971     83.297012     63.448329    3764.933210   2518.072719   \n",
       "min        0.000000     36.232170     37.068297      48.309560     60.479853   \n",
       "25%       18.000000    133.780320    138.425470     468.231120    473.805300   \n",
       "50%       40.000000    179.302790    171.870550     707.920860    707.920860   \n",
       "75%       63.000000    236.902650    220.180110     988.952435    935.602887   \n",
       "max      116.000000    932.746120    576.927630  153416.205177  80937.093600   \n",
       "\n",
       "       distance_seattle  \n",
       "count      21290.000000  \n",
       "mean          26.189586  \n",
       "std           12.087126  \n",
       "min            0.196000  \n",
       "25%           15.593250  \n",
       "50%           26.893000  \n",
       "75%           36.668250  \n",
       "max           76.866000  "
      ]
     },
     "execution_count": 72,
     "metadata": {},
     "output_type": "execute_result"
    }
   ],
   "source": [
    "data.describe()"
   ]
  },
  {
   "cell_type": "markdown",
   "metadata": {},
   "source": [
    "## dropping all sqft columns due to conversion to metric system\n",
    "#dropping correlating columns above and basement\n",
    "data.drop(['sqft_basement', 'sqft_lot15', 'sqft_above', 'sqft_living', 'sqft_lot',\n",
    "           'sqft_living15'], axis=1, inplace=True)"
   ]
  },
  {
   "cell_type": "code",
   "execution_count": 73,
   "metadata": {},
   "outputs": [],
   "source": [
    "data.drop(['sqft_living', 'sqft_lot', 'sqft_living15','sqft_above', 'sqft_basement',\n",
    "       'sqft_lot15', 'floors'], axis=1,inplace=True)"
   ]
  },
  {
   "cell_type": "code",
   "execution_count": 74,
   "metadata": {},
   "outputs": [],
   "source": [
    "data.drop(['sqm_lot15'], axis=1,inplace=True)"
   ]
  },
  {
   "cell_type": "markdown",
   "metadata": {},
   "source": [
    "## create id dataframe to attach once model is complete. remove id from dataset as it isn't relevant but just identifies homes"
   ]
  },
  {
   "cell_type": "code",
   "execution_count": 75,
   "metadata": {},
   "outputs": [],
   "source": [
    "id_df = data['id']"
   ]
  },
  {
   "cell_type": "code",
   "execution_count": 76,
   "metadata": {},
   "outputs": [],
   "source": [
    "data.drop(['id'], axis=1, inplace=True)"
   ]
  },
  {
   "cell_type": "markdown",
   "metadata": {},
   "source": [
    "# check for multicollinearity"
   ]
  },
  {
   "cell_type": "code",
   "execution_count": 77,
   "metadata": {},
   "outputs": [
    {
     "data": {
      "text/html": [
       "<div>\n",
       "<style scoped>\n",
       "    .dataframe tbody tr th:only-of-type {\n",
       "        vertical-align: middle;\n",
       "    }\n",
       "\n",
       "    .dataframe tbody tr th {\n",
       "        vertical-align: top;\n",
       "    }\n",
       "\n",
       "    .dataframe thead th {\n",
       "        text-align: right;\n",
       "    }\n",
       "</style>\n",
       "<table border=\"1\" class=\"dataframe\">\n",
       "  <thead>\n",
       "    <tr style=\"text-align: right;\">\n",
       "      <th></th>\n",
       "      <th>price</th>\n",
       "      <th>bedrooms</th>\n",
       "      <th>bathrooms</th>\n",
       "      <th>condition</th>\n",
       "      <th>grade</th>\n",
       "      <th>price/10000</th>\n",
       "      <th>age</th>\n",
       "      <th>sqm_living</th>\n",
       "      <th>sqm_living15</th>\n",
       "      <th>sqm_lot</th>\n",
       "      <th>distance_seattle</th>\n",
       "    </tr>\n",
       "  </thead>\n",
       "  <tbody>\n",
       "    <tr>\n",
       "      <td>price</td>\n",
       "      <td>1.000000</td>\n",
       "      <td>0.307259</td>\n",
       "      <td>0.511057</td>\n",
       "      <td>0.038186</td>\n",
       "      <td>0.674691</td>\n",
       "      <td>1.000000</td>\n",
       "      <td>-0.043813</td>\n",
       "      <td>0.693434</td>\n",
       "      <td>0.586848</td>\n",
       "      <td>0.093471</td>\n",
       "      <td>0.269190</td>\n",
       "    </tr>\n",
       "    <tr>\n",
       "      <td>bedrooms</td>\n",
       "      <td>0.307259</td>\n",
       "      <td>1.000000</td>\n",
       "      <td>0.515850</td>\n",
       "      <td>0.024548</td>\n",
       "      <td>0.350600</td>\n",
       "      <td>0.307259</td>\n",
       "      <td>-0.155313</td>\n",
       "      <td>0.587698</td>\n",
       "      <td>0.404389</td>\n",
       "      <td>0.038217</td>\n",
       "      <td>-0.049797</td>\n",
       "    </tr>\n",
       "    <tr>\n",
       "      <td>bathrooms</td>\n",
       "      <td>0.511057</td>\n",
       "      <td>0.515850</td>\n",
       "      <td>1.000000</td>\n",
       "      <td>-0.129240</td>\n",
       "      <td>0.655894</td>\n",
       "      <td>0.511057</td>\n",
       "      <td>-0.506834</td>\n",
       "      <td>0.744670</td>\n",
       "      <td>0.566018</td>\n",
       "      <td>0.092038</td>\n",
       "      <td>0.010010</td>\n",
       "    </tr>\n",
       "    <tr>\n",
       "      <td>condition</td>\n",
       "      <td>0.038186</td>\n",
       "      <td>0.024548</td>\n",
       "      <td>-0.129240</td>\n",
       "      <td>1.000000</td>\n",
       "      <td>-0.152906</td>\n",
       "      <td>0.038186</td>\n",
       "      <td>0.367736</td>\n",
       "      <td>-0.060814</td>\n",
       "      <td>-0.093560</td>\n",
       "      <td>-0.006064</td>\n",
       "      <td>-0.024318</td>\n",
       "    </tr>\n",
       "    <tr>\n",
       "      <td>grade</td>\n",
       "      <td>0.674691</td>\n",
       "      <td>0.350600</td>\n",
       "      <td>0.655894</td>\n",
       "      <td>-0.152906</td>\n",
       "      <td>1.000000</td>\n",
       "      <td>0.674691</td>\n",
       "      <td>-0.434868</td>\n",
       "      <td>0.761467</td>\n",
       "      <td>0.717650</td>\n",
       "      <td>0.125534</td>\n",
       "      <td>0.091007</td>\n",
       "    </tr>\n",
       "    <tr>\n",
       "      <td>price/10000</td>\n",
       "      <td>1.000000</td>\n",
       "      <td>0.307259</td>\n",
       "      <td>0.511057</td>\n",
       "      <td>0.038186</td>\n",
       "      <td>0.674691</td>\n",
       "      <td>1.000000</td>\n",
       "      <td>-0.043813</td>\n",
       "      <td>0.693434</td>\n",
       "      <td>0.586848</td>\n",
       "      <td>0.093471</td>\n",
       "      <td>0.269190</td>\n",
       "    </tr>\n",
       "    <tr>\n",
       "      <td>age</td>\n",
       "      <td>-0.043813</td>\n",
       "      <td>-0.155313</td>\n",
       "      <td>-0.506834</td>\n",
       "      <td>0.367736</td>\n",
       "      <td>-0.434868</td>\n",
       "      <td>-0.043813</td>\n",
       "      <td>1.000000</td>\n",
       "      <td>-0.312988</td>\n",
       "      <td>-0.319943</td>\n",
       "      <td>-0.055999</td>\n",
       "      <td>0.126605</td>\n",
       "    </tr>\n",
       "    <tr>\n",
       "      <td>sqm_living</td>\n",
       "      <td>0.693434</td>\n",
       "      <td>0.587698</td>\n",
       "      <td>0.744670</td>\n",
       "      <td>-0.060814</td>\n",
       "      <td>0.761467</td>\n",
       "      <td>0.693434</td>\n",
       "      <td>-0.312988</td>\n",
       "      <td>1.000000</td>\n",
       "      <td>0.759294</td>\n",
       "      <td>0.179576</td>\n",
       "      <td>0.032829</td>\n",
       "    </tr>\n",
       "    <tr>\n",
       "      <td>sqm_living15</td>\n",
       "      <td>0.586848</td>\n",
       "      <td>0.404389</td>\n",
       "      <td>0.566018</td>\n",
       "      <td>-0.093560</td>\n",
       "      <td>0.717650</td>\n",
       "      <td>0.586848</td>\n",
       "      <td>-0.319943</td>\n",
       "      <td>0.759294</td>\n",
       "      <td>1.000000</td>\n",
       "      <td>0.147238</td>\n",
       "      <td>0.025734</td>\n",
       "    </tr>\n",
       "    <tr>\n",
       "      <td>sqm_lot</td>\n",
       "      <td>0.093471</td>\n",
       "      <td>0.038217</td>\n",
       "      <td>0.092038</td>\n",
       "      <td>-0.006064</td>\n",
       "      <td>0.125534</td>\n",
       "      <td>0.093471</td>\n",
       "      <td>-0.055999</td>\n",
       "      <td>0.179576</td>\n",
       "      <td>0.147238</td>\n",
       "      <td>1.000000</td>\n",
       "      <td>-0.005043</td>\n",
       "    </tr>\n",
       "    <tr>\n",
       "      <td>distance_seattle</td>\n",
       "      <td>0.269190</td>\n",
       "      <td>-0.049797</td>\n",
       "      <td>0.010010</td>\n",
       "      <td>-0.024318</td>\n",
       "      <td>0.091007</td>\n",
       "      <td>0.269190</td>\n",
       "      <td>0.126605</td>\n",
       "      <td>0.032829</td>\n",
       "      <td>0.025734</td>\n",
       "      <td>-0.005043</td>\n",
       "      <td>1.000000</td>\n",
       "    </tr>\n",
       "  </tbody>\n",
       "</table>\n",
       "</div>"
      ],
      "text/plain": [
       "                     price  bedrooms  bathrooms  condition     grade  \\\n",
       "price             1.000000  0.307259   0.511057   0.038186  0.674691   \n",
       "bedrooms          0.307259  1.000000   0.515850   0.024548  0.350600   \n",
       "bathrooms         0.511057  0.515850   1.000000  -0.129240  0.655894   \n",
       "condition         0.038186  0.024548  -0.129240   1.000000 -0.152906   \n",
       "grade             0.674691  0.350600   0.655894  -0.152906  1.000000   \n",
       "price/10000       1.000000  0.307259   0.511057   0.038186  0.674691   \n",
       "age              -0.043813 -0.155313  -0.506834   0.367736 -0.434868   \n",
       "sqm_living        0.693434  0.587698   0.744670  -0.060814  0.761467   \n",
       "sqm_living15      0.586848  0.404389   0.566018  -0.093560  0.717650   \n",
       "sqm_lot           0.093471  0.038217   0.092038  -0.006064  0.125534   \n",
       "distance_seattle  0.269190 -0.049797   0.010010  -0.024318  0.091007   \n",
       "\n",
       "                  price/10000       age  sqm_living  sqm_living15   sqm_lot  \\\n",
       "price                1.000000 -0.043813    0.693434      0.586848  0.093471   \n",
       "bedrooms             0.307259 -0.155313    0.587698      0.404389  0.038217   \n",
       "bathrooms            0.511057 -0.506834    0.744670      0.566018  0.092038   \n",
       "condition            0.038186  0.367736   -0.060814     -0.093560 -0.006064   \n",
       "grade                0.674691 -0.434868    0.761467      0.717650  0.125534   \n",
       "price/10000          1.000000 -0.043813    0.693434      0.586848  0.093471   \n",
       "age                 -0.043813  1.000000   -0.312988     -0.319943 -0.055999   \n",
       "sqm_living           0.693434 -0.312988    1.000000      0.759294  0.179576   \n",
       "sqm_living15         0.586848 -0.319943    0.759294      1.000000  0.147238   \n",
       "sqm_lot              0.093471 -0.055999    0.179576      0.147238  1.000000   \n",
       "distance_seattle     0.269190  0.126605    0.032829      0.025734 -0.005043   \n",
       "\n",
       "                  distance_seattle  \n",
       "price                     0.269190  \n",
       "bedrooms                 -0.049797  \n",
       "bathrooms                 0.010010  \n",
       "condition                -0.024318  \n",
       "grade                     0.091007  \n",
       "price/10000               0.269190  \n",
       "age                       0.126605  \n",
       "sqm_living                0.032829  \n",
       "sqm_living15              0.025734  \n",
       "sqm_lot                  -0.005043  \n",
       "distance_seattle          1.000000  "
      ]
     },
     "execution_count": 77,
     "metadata": {},
     "output_type": "execute_result"
    }
   ],
   "source": [
    "data.corr()"
   ]
  },
  {
   "cell_type": "code",
   "execution_count": null,
   "metadata": {
    "scrolled": false
   },
   "outputs": [],
   "source": [
    "abs(data.corr()) > 0.75"
   ]
  },
  {
   "cell_type": "markdown",
   "metadata": {},
   "source": [
    " HIGHLY CORRELATED VARIABLES OVER 0.75:\n",
    " \n",
    " sqft_living/bathrooms\n",
    " sqft_above/sqft_living\n",
    " bathrooms/sqft_living\n",
    " bathrooms/sqft_above\n",
    " sqft_living/sqft_living15\n",
    " sqft_living/sqft_above\n",
    " sqft_living15/sqft_above\n",
    " sqft_lot/sqft_lot15\n",
    "Consider dropping redundant variables"
   ]
  },
  {
   "cell_type": "markdown",
   "metadata": {},
   "source": [
    "## heatmap for correlation assessment"
   ]
  },
  {
   "cell_type": "code",
   "execution_count": null,
   "metadata": {},
   "outputs": [],
   "source": [
    "fig, ax = plt.subplots(figsize=(18,12))\n",
    "sns.heatmap(data.corr(), annot = True,  fmt='.2g', vmin=-1, vmax=1, center= 0, \n",
    "            cmap= 'coolwarm', linewidths=1, linecolor='black')"
   ]
  },
  {
   "cell_type": "markdown",
   "metadata": {},
   "source": [
    "## create new dataframe to further assess correlation"
   ]
  },
  {
   "cell_type": "code",
   "execution_count": null,
   "metadata": {},
   "outputs": [],
   "source": [
    "data_before = data.copy()\n",
    "data_before.drop(['price'], axis=1, inplace=True)"
   ]
  },
  {
   "cell_type": "code",
   "execution_count": null,
   "metadata": {},
   "outputs": [],
   "source": [
    "import statsmodels.api as sm\n",
    "from statsmodels.stats.outliers_influence import variance_inflation_factor\n",
    "\n",
    "X1 = sm.tools.add_constant(data_before)\n",
    "                          \n",
    "series_before = pd.Series([variance_inflation_factor(X1.values, i) for i in range(X1.shape[1])], index = X1.columns)\n",
    "\n",
    "print('data before')\n",
    "\n",
    "\n",
    "display(series_before)"
   ]
  },
  {
   "cell_type": "markdown",
   "metadata": {},
   "source": [
    "no columns over 5, no need to reassess"
   ]
  },
  {
   "cell_type": "markdown",
   "metadata": {},
   "source": [
    "## scatter matrix to further assess multicollinearity"
   ]
  },
  {
   "cell_type": "code",
   "execution_count": null,
   "metadata": {},
   "outputs": [],
   "source": [
    "#define plot\n",
    "pd.plotting.scatter_matrix(data, alpha=1, figsize = (30, 20))\n",
    "# show plot\n",
    "plt.show()"
   ]
  },
  {
   "cell_type": "markdown",
   "metadata": {},
   "source": [
    "### assess for outliers"
   ]
  },
  {
   "cell_type": "code",
   "execution_count": null,
   "metadata": {},
   "outputs": [],
   "source": [
    "# get summary\n",
    "desc_data = data.describe()\n",
    "\n",
    "# add std metric\n",
    "desc_data.loc['+3_std'] = desc_data.loc['mean']+(desc_data.loc['std']*3)\n",
    "desc_data.loc['-3_std'] = desc_data.loc['mean']-(desc_data.loc['std']*3)\n",
    "desc_data"
   ]
  },
  {
   "cell_type": "markdown",
   "metadata": {},
   "source": [
    "keeping data as is due to variations seeming accurate and to remove would have negative impact"
   ]
  },
  {
   "cell_type": "markdown",
   "metadata": {},
   "source": [
    "# data exploration"
   ]
  },
  {
   "cell_type": "markdown",
   "metadata": {},
   "source": [
    "## histograms"
   ]
  },
  {
   "cell_type": "code",
   "execution_count": null,
   "metadata": {},
   "outputs": [],
   "source": [
    "data.hist(figsize=(18, 10))"
   ]
  },
  {
   "cell_type": "markdown",
   "metadata": {},
   "source": [
    "## pairplot"
   ]
  },
  {
   "cell_type": "code",
   "execution_count": null,
   "metadata": {},
   "outputs": [],
   "source": [
    "sns.pairplot(data)"
   ]
  },
  {
   "cell_type": "markdown",
   "metadata": {},
   "source": [
    "## kde"
   ]
  },
  {
   "cell_type": "code",
   "execution_count": null,
   "metadata": {},
   "outputs": [],
   "source": [
    "data.sqm_living.plot.kde()\n",
    "plt.show()"
   ]
  },
  {
   "cell_type": "markdown",
   "metadata": {},
   "source": [
    "## check price skew, visualize tranformed data, normalize price using log transformation"
   ]
  },
  {
   "cell_type": "code",
   "execution_count": 113,
   "metadata": {},
   "outputs": [
    {
     "data": {
      "image/png": "[encoded data removed]",
      "text/plain": [
       "<Figure size 432x288 with 1 Axes>"
      ]
     },
     "metadata": {
      "needs_background": "light"
     },
     "output_type": "display_data"
    },
    {
     "name": "stdout",
     "output_type": "stream",
     "text": [
      "Skew is: 0.44789677282641666\n"
     ]
    },
    {
     "data": {
      "image/png": "[encoded data removed]",
      "text/plain": [
       "<Figure size 432x288 with 1 Axes>"
      ]
     },
     "metadata": {
      "needs_background": "light"
     },
     "output_type": "display_data"
    }
   ],
   "source": [
    "price_log= pd.DataFrame\n",
    "price_log = get_log(data.price)\n",
    "price_log.plot.kde()\n",
    "plt.legend()\n",
    "plt.show()\n",
    "print (\"Skew is:\", price_log.skew())\n",
    "plt.hist(price_log)\n",
    "plt.show()"
   ]
  },
  {
   "cell_type": "code",
   "execution_count": null,
   "metadata": {},
   "outputs": [],
   "source": [
    "data['price'].plot.kde()\n",
    "plt.legend()\n",
    "plt.show()\n",
    "print (\"Skew is:\", data['price'].skew())\n",
    "plt.hist(data['price'])\n",
    "plt.show()"
   ]
  },
  {
   "cell_type": "markdown",
   "metadata": {},
   "source": [
    "to normalize price, square root is taken, it gives the most normal distribution, out of min/max, log, mean normalization and standard normalization"
   ]
  },
  {
   "cell_type": "markdown",
   "metadata": {},
   "source": [
    "## regression plots"
   ]
  },
  {
   "cell_type": "code",
   "execution_count": null,
   "metadata": {},
   "outputs": [],
   "source": [
    "x = norm_feat(data.sqm_living)\n",
    "y = data['price/10000']\n",
    "sns.regplot(x, y, data=data)"
   ]
  },
  {
   "cell_type": "code",
   "execution_count": null,
   "metadata": {},
   "outputs": [],
   "source": [
    "x = norm_feat(data.distance_seattle)\n",
    "y = data['price/10000']\n",
    "sns.regplot(x, y, data=data)\n"
   ]
  },
  {
   "cell_type": "code",
   "execution_count": null,
   "metadata": {},
   "outputs": [],
   "source": []
  },
  {
   "cell_type": "markdown",
   "metadata": {},
   "source": [
    "## age/price scatter"
   ]
  },
  {
   "cell_type": "code",
   "execution_count": null,
   "metadata": {},
   "outputs": [],
   "source": [
    "# define x & y\n",
    "x = data['age']\n",
    "y = data['price']\n",
    "# create scatter plot\n",
    "plt.figure(figsize=(10,6))\n",
    "plt.plot(x, y, 'o', markersize= 2, label='House Sale Price')\n",
    "\n",
    "# format\n",
    "plt.title('Home Age x Price')\n",
    "plt.xlabel('Age')\n",
    "plt.ylabel('Price')\n",
    "plt.legend()\n",
    "plt.show()"
   ]
  },
  {
   "cell_type": "markdown",
   "metadata": {},
   "source": [
    "## distance to seattle/price scatter"
   ]
  },
  {
   "cell_type": "code",
   "execution_count": null,
   "metadata": {},
   "outputs": [],
   "source": [
    "x = data.distance_seattle\n",
    "y = data.price\n",
    "# create scatter plot\n",
    "plt.figure(figsize=(10,6))\n",
    "plt.plot(x, y, 'o', markersize= 2, label='House Sale Price')\n",
    "\n",
    "# format\n",
    "plt.title('Price X Distance(Seattle)')\n",
    "plt.xlabel('Distance From Seattle (miles)')\n",
    "plt.ylabel('Price')\n",
    "plt.legend()\n",
    "plt.show()"
   ]
  },
  {
   "cell_type": "code",
   "execution_count": null,
   "metadata": {},
   "outputs": [],
   "source": []
  },
  {
   "cell_type": "code",
   "execution_count": null,
   "metadata": {},
   "outputs": [],
   "source": [
    "scale_seattle = (data.distance_seattle - np.mean(data.distance_seattle)) / np.sqrt(np.var(data.distance_seattle))\n",
    "scale_seattle.plot.kde()\n",
    "plt.legend()\n",
    "plt.show()\n",
    "print (\"Skew is:\", scale_seattle.skew())\n",
    "plt.hist(scale_seattle)\n",
    "plt.show()\n"
   ]
  },
  {
   "cell_type": "code",
   "execution_count": null,
   "metadata": {},
   "outputs": [],
   "source": [
    "data['distance_seattle'].plot.kde()\n",
    "plt.legend()\n",
    "plt.show()\n",
    "print (\"Skew is:\", data['distance_seattle'].skew())\n",
    "plt.hist(data['distance_seattle'])\n",
    "plt.show()"
   ]
  },
  {
   "cell_type": "code",
   "execution_count": null,
   "metadata": {},
   "outputs": [],
   "source": []
  },
  {
   "cell_type": "markdown",
   "metadata": {},
   "source": [
    "## visualize categorical variables by price"
   ]
  },
  {
   "cell_type": "code",
   "execution_count": null,
   "metadata": {},
   "outputs": [],
   "source": [
    "data.dtypes"
   ]
  },
  {
   "cell_type": "code",
   "execution_count": null,
   "metadata": {},
   "outputs": [],
   "source": [
    "fig, axes = plt.subplots(nrows=2, ncols=2, figsize=(30,20), sharey=True)\n",
    "\n",
    "categoricals = ['bathrooms', 'grade', 'bedrooms', 'age' ]\n",
    "\n",
    "for col, ax in zip(categoricals, axes.flatten()):\n",
    "    (data.groupby(col)               # group values together by column of interest\n",
    "         .mean()['price/10000']        # take the mean of the saleprice for each group\n",
    "         .sort_values()              # sort the groups in ascending order\n",
    "         .plot\n",
    "         .bar(ax=ax))                # create a bar graph on the ax\n",
    "    \n",
    "    ax.set_title(col)                # Make the title the name of the column\n",
    "    \n",
    "fig.tight_layout()\n"
   ]
  },
  {
   "cell_type": "code",
   "execution_count": null,
   "metadata": {},
   "outputs": [],
   "source": [
    "for col in zip(categoricals):\n",
    "    print (data.groupby(col)               # group values together by column of interest\n",
    "         .mean()['price/10000']        # take the mean of the saleprice for each group\n",
    "         .sort_values(ascending=True) )"
   ]
  },
  {
   "cell_type": "code",
   "execution_count": null,
   "metadata": {},
   "outputs": [],
   "source": [
    "bed1 = data.loc[(data['bedrooms'] == 1)]\n",
    "bed2 = data.loc[(data['bedrooms'] == 2)]\n",
    "bed3 = data.loc[(data['bedrooms'] == 3)]\n",
    "bed4 = data.loc[(data['bedrooms'] ==4)]\n",
    "bed5 = data.loc[(data['bedrooms']==5)]\n",
    "bed6 = data.loc[(data['bedrooms']==6)]\n",
    "print(bed1.price.mean())\n",
    "print(bed2.price.mean())\n",
    "print(bed3.price.mean())\n",
    "print(bed4.price.mean())\n",
    "print(bed4.price.mean())\n",
    "print(bed5.price.mean())\n",
    "print(bed6.price.mean())"
   ]
  },
  {
   "cell_type": "code",
   "execution_count": null,
   "metadata": {},
   "outputs": [],
   "source": [
    "for column in data:\n",
    "    data[column].plot.hist(density=True, label = column+' histogram')\n",
    "    data[column].plot.kde(label =column+' kde')\n",
    "    plt.legend()\n",
    "    plt.show()"
   ]
  },
  {
   "cell_type": "code",
   "execution_count": null,
   "metadata": {},
   "outputs": [],
   "source": [
    "sns.lmplot(x=\"sqm_living\", y=\"price\", hue=\"bedrooms\", data=data);"
   ]
  },
  {
   "cell_type": "code",
   "execution_count": null,
   "metadata": {},
   "outputs": [],
   "source": []
  },
  {
   "cell_type": "markdown",
   "metadata": {},
   "source": [
    "# one hot encoding, create new df: dummies"
   ]
  },
  {
   "cell_type": "code",
   "execution_count": null,
   "metadata": {},
   "outputs": [],
   "source": [
    "data.head()"
   ]
  },
  {
   "cell_type": "code",
   "execution_count": null,
   "metadata": {},
   "outputs": [],
   "source": [
    "data.dtypes"
   ]
  },
  {
   "cell_type": "code",
   "execution_count": 78,
   "metadata": {},
   "outputs": [],
   "source": [
    "#round age and bathroom for dummy conversion\n",
    "round_df = pd.DataFrame()\n",
    "round_df['age'] = data['age'].round(-1)\n",
    "\n",
    "round_df['bathrooms'] = data['bathrooms'].round()\n"
   ]
  },
  {
   "cell_type": "code",
   "execution_count": 79,
   "metadata": {},
   "outputs": [],
   "source": [
    "# create bedroom dummies\n",
    "dumbed = pd.get_dummies(data['bedrooms'], prefix= 'bed', drop_first=True)\n",
    "\n",
    "# create bedroom dummies\n",
    "age_dummy = pd.get_dummies(round_df['age'], prefix= 'home_age', drop_first=True)\n",
    "\n",
    "#create grade dummies\n",
    "dumgrade = pd.get_dummies(data['grade'], prefix= 'grade', drop_first=True)\n",
    "\n",
    "con_dum = pd.get_dummies(data['condition'], prefix='condition', drop_first=True)\n",
    "\n",
    "# create bathroom dummies\n",
    "bath_dummy = pd.get_dummies(round_df['bathrooms'], prefix=\"bathrooms\", drop_first=True)"
   ]
  },
  {
   "cell_type": "markdown",
   "metadata": {},
   "source": [
    "## create dummy df"
   ]
  },
  {
   "cell_type": "code",
   "execution_count": 80,
   "metadata": {},
   "outputs": [],
   "source": [
    "dummies = pd.concat([dumgrade, dumbed, bath_dummy, con_dum], axis=1)"
   ]
  },
  {
   "cell_type": "code",
   "execution_count": 81,
   "metadata": {},
   "outputs": [
    {
     "data": {
      "text/plain": [
       "Index(['grade_7', 'grade_8', 'grade_9', 'grade_10', 'grade_11', 'grade_12',\n",
       "       'grade_13', 'bed_2', 'bed_3', 'bed_4', 'bed_5', 'bed_6', 'bed_7',\n",
       "       'bathrooms_1.0', 'bathrooms_2.0', 'bathrooms_3.0', 'bathrooms_4.0',\n",
       "       'bathrooms_5.0', 'bathrooms_6.0', 'condition_2', 'condition_3',\n",
       "       'condition_4', 'condition_5'],\n",
       "      dtype='object')"
      ]
     },
     "execution_count": 81,
     "metadata": {},
     "output_type": "execute_result"
    }
   ],
   "source": [
    "dummies.columns"
   ]
  },
  {
   "cell_type": "markdown",
   "metadata": {},
   "source": [
    "# models"
   ]
  },
  {
   "cell_type": "markdown",
   "metadata": {},
   "source": [
    "## import libraries"
   ]
  },
  {
   "cell_type": "code",
   "execution_count": 82,
   "metadata": {},
   "outputs": [],
   "source": [
    "import statsmodels.api as sm\n",
    "import statsmodels.formula.api as smf\n",
    "import statsmodels.stats.api as sms\n",
    "from statsmodels.formula.api import ols\n",
    "from statsmodels.stats import diagnostic\n",
    "from sklearn.feature_selection import RFE\n",
    "from sklearn.linear_model import LinearRegression\n",
    "from sklearn.metrics import mean_squared_error\n",
    "from sklearn.model_selection import cross_val_score\n",
    "from sklearn import svm\n",
    "from sklearn.model_selection import train_test_split\n",
    "from sklearn.metrics import r2_score\n",
    "from sklearn.model_selection import KFold\n",
    "from sklearn.preprocessing import MinMaxScaler\n",
    "from sklearn.svm import SVC\n",
    "from sklearn.feature_selection import RFE\n",
    "from statsmodels.graphics.gofplots import ProbPlot\n",
    "from sklearn.pipeline import Pipeline\n",
    "from sklearn.preprocessing import StandardScaler\n",
    "from sklearn.svm import SVR\n",
    "from sklearn.pipeline import Pipeline"
   ]
  },
  {
   "cell_type": "markdown",
   "metadata": {},
   "source": [
    "### no dummies dataframe "
   ]
  },
  {
   "cell_type": "code",
   "execution_count": 83,
   "metadata": {},
   "outputs": [],
   "source": [
    "data.drop(['price/10000', 'sqm_living15'], axis=1, inplace=True)"
   ]
  },
  {
   "cell_type": "code",
   "execution_count": 84,
   "metadata": {},
   "outputs": [],
   "source": [
    "df = data.copy()\n"
   ]
  },
  {
   "cell_type": "code",
   "execution_count": 85,
   "metadata": {},
   "outputs": [
    {
     "data": {
      "text/plain": [
       "Index(['price', 'bedrooms', 'bathrooms', 'condition', 'grade', 'age',\n",
       "       'sqm_living', 'sqm_lot', 'distance_seattle'],\n",
       "      dtype='object')"
      ]
     },
     "execution_count": 85,
     "metadata": {},
     "output_type": "execute_result"
    }
   ],
   "source": [
    "df.columns"
   ]
  },
  {
   "cell_type": "markdown",
   "metadata": {},
   "source": [
    "### df with dummies"
   ]
  },
  {
   "cell_type": "code",
   "execution_count": 86,
   "metadata": {},
   "outputs": [],
   "source": [
    "df_dummies = pd.concat([df, dummies,], axis=1)"
   ]
  },
  {
   "cell_type": "code",
   "execution_count": 87,
   "metadata": {},
   "outputs": [],
   "source": [
    "df_dummies.drop(['grade', 'bedrooms', 'bathrooms', 'condition' ], axis=1, inplace=True)"
   ]
  },
  {
   "cell_type": "code",
   "execution_count": 88,
   "metadata": {},
   "outputs": [
    {
     "data": {
      "text/plain": [
       "Index(['price', 'age', 'sqm_living', 'sqm_lot', 'distance_seattle', 'grade_7',\n",
       "       'grade_8', 'grade_9', 'grade_10', 'grade_11', 'grade_12', 'grade_13',\n",
       "       'bed_2', 'bed_3', 'bed_4', 'bed_5', 'bed_6', 'bed_7', 'bathrooms_1.0',\n",
       "       'bathrooms_2.0', 'bathrooms_3.0', 'bathrooms_4.0', 'bathrooms_5.0',\n",
       "       'bathrooms_6.0', 'condition_2', 'condition_3', 'condition_4',\n",
       "       'condition_5'],\n",
       "      dtype='object')"
      ]
     },
     "execution_count": 88,
     "metadata": {},
     "output_type": "execute_result"
    }
   ],
   "source": [
    "df_dummies.columns"
   ]
  },
  {
   "cell_type": "code",
   "execution_count": 89,
   "metadata": {},
   "outputs": [],
   "source": [
    "## apply minmax scaling to continuous data\n",
    "scaler = MinMaxScaler()"
   ]
  },
  {
   "cell_type": "code",
   "execution_count": 90,
   "metadata": {},
   "outputs": [],
   "source": [
    "cont = data.copy()"
   ]
  },
  {
   "cell_type": "code",
   "execution_count": 91,
   "metadata": {},
   "outputs": [],
   "source": [
    "cont.drop(['bathrooms', 'bedrooms', 'grade',  'price',  'condition' ], axis=1,inplace=True)"
   ]
  },
  {
   "cell_type": "code",
   "execution_count": 92,
   "metadata": {},
   "outputs": [
    {
     "data": {
      "text/plain": [
       "Index(['age', 'sqm_living', 'sqm_lot', 'distance_seattle'], dtype='object')"
      ]
     },
     "execution_count": 92,
     "metadata": {},
     "output_type": "execute_result"
    }
   ],
   "source": [
    "cont.columns"
   ]
  },
  {
   "cell_type": "code",
   "execution_count": 93,
   "metadata": {},
   "outputs": [],
   "source": [
    "cont[['sqm_living', 'sqm_lot', 'distance_seattle', 'age']] = scaler.fit_transform(cont[['sqm_living', 'sqm_lot', 'distance_seattle', 'age']])\n"
   ]
  },
  {
   "cell_type": "code",
   "execution_count": null,
   "metadata": {},
   "outputs": [],
   "source": [
    "cont"
   ]
  },
  {
   "cell_type": "code",
   "execution_count": null,
   "metadata": {},
   "outputs": [],
   "source": []
  },
  {
   "cell_type": "code",
   "execution_count": null,
   "metadata": {},
   "outputs": [],
   "source": [
    "results = [['ind_var', 'r_squared', 'intercept', 'slope', 'p-value', 'normality (JB)' ]]\n",
    "for idx, val in enumerate(['bedrooms', 'bathrooms', 'grade', \n",
    "                           'distance_seattle', 'sqm_living', \n",
    "                           'sqm_lot']):\n",
    "    print (\"King County Housing DataSet - Regression Analysis and Diagnostics for formula: price~\" + val)\n",
    "    print (\"-------------------------------------------------------------------------------------\")\n",
    "\n",
    "    f = 'price~' + val\n",
    "#   \n",
    "    model = smf.ols(formula=f, data=data).fit()\n",
    "    \n",
    "    X_new = pd.DataFrame({val: [data[val].min(), data[val].max()]});\n",
    "    preds = model.predict(X_new)\n",
    "    data.plot(kind='scatter', x=val, y='price');\n",
    "    plt.plot(X_new, preds, c='red', linewidth=2);\n",
    "    plt.show()\n",
    "    fig = plt.figure(figsize=(15,8))\n",
    "    fig = sm.graphics.plot_regress_exog(model, val, fig=fig)\n",
    "    fig = sm.graphics.qqplot(model.resid, dist=stats.norm, line='45', fit=True,   )\n",
    "    plt.show()\n",
    "    \n",
    "    results.append([val, model.rsquared, model.params[0], model.params[1], model.pvalues[1], sms.jarque_bera(model.resid)[0] ])\n",
    "    display(results)\n",
    "    input(\"Press Enter to continue...\")"
   ]
  },
  {
   "cell_type": "markdown",
   "metadata": {},
   "source": [
    "## build model with df"
   ]
  },
  {
   "cell_type": "markdown",
   "metadata": {},
   "source": [
    "### no scaling to variables or price"
   ]
  },
  {
   "cell_type": "markdown",
   "metadata": {},
   "source": [
    "### with dummies"
   ]
  },
  {
   "cell_type": "code",
   "execution_count": 95,
   "metadata": {},
   "outputs": [],
   "source": [
    "y_b = df_dummies.price\n",
    "X_b = df_dummies.copy()\n",
    "X_b.drop(['price',], axis=1, inplace=True)"
   ]
  },
  {
   "cell_type": "code",
   "execution_count": 96,
   "metadata": {
    "scrolled": true
   },
   "outputs": [
    {
     "name": "stderr",
     "output_type": "stream",
     "text": [
      "/Users/badmin/opt/anaconda3/envs/learn-env/lib/python3.6/site-packages/numpy/core/fromnumeric.py:2389: FutureWarning: Method .ptp is deprecated and will be removed in a future version. Use numpy.ptp instead.\n",
      "  return ptp(axis=axis, out=out, **kwargs)\n"
     ]
    },
    {
     "data": {
      "text/html": [
       "<table class=\"simpletable\">\n",
       "<caption>OLS Regression Results</caption>\n",
       "<tr>\n",
       "  <th>Dep. Variable:</th>          <td>price</td>      <th>  R-squared:         </th>  <td>   0.673</td>  \n",
       "</tr>\n",
       "<tr>\n",
       "  <th>Model:</th>                   <td>OLS</td>       <th>  Adj. R-squared:    </th>  <td>   0.672</td>  \n",
       "</tr>\n",
       "<tr>\n",
       "  <th>Method:</th>             <td>Least Squares</td>  <th>  F-statistic:       </th>  <td>   1618.</td>  \n",
       "</tr>\n",
       "<tr>\n",
       "  <th>Date:</th>             <td>Thu, 14 May 2020</td> <th>  Prob (F-statistic):</th>   <td>  0.00</td>   \n",
       "</tr>\n",
       "<tr>\n",
       "  <th>Time:</th>                 <td>19:22:17</td>     <th>  Log-Likelihood:    </th> <td>-2.9046e+05</td>\n",
       "</tr>\n",
       "<tr>\n",
       "  <th>No. Observations:</th>      <td> 21290</td>      <th>  AIC:               </th>  <td>5.810e+05</td> \n",
       "</tr>\n",
       "<tr>\n",
       "  <th>Df Residuals:</th>          <td> 21262</td>      <th>  BIC:               </th>  <td>5.812e+05</td> \n",
       "</tr>\n",
       "<tr>\n",
       "  <th>Df Model:</th>              <td>    27</td>      <th>                     </th>      <td> </td>     \n",
       "</tr>\n",
       "<tr>\n",
       "  <th>Covariance Type:</th>      <td>nonrobust</td>    <th>                     </th>      <td> </td>     \n",
       "</tr>\n",
       "</table>\n",
       "<table class=\"simpletable\">\n",
       "<tr>\n",
       "          <td></td>            <th>coef</th>     <th>std err</th>      <th>t</th>      <th>P>|t|</th>  <th>[0.025</th>    <th>0.975]</th>  \n",
       "</tr>\n",
       "<tr>\n",
       "  <th>const</th>            <td>-3.616e+05</td> <td> 1.27e+05</td> <td>   -2.843</td> <td> 0.004</td> <td>-6.11e+05</td> <td>-1.12e+05</td>\n",
       "</tr>\n",
       "<tr>\n",
       "  <th>age</th>              <td> 2618.5409</td> <td>   62.380</td> <td>   41.978</td> <td> 0.000</td> <td> 2496.272</td> <td> 2740.809</td>\n",
       "</tr>\n",
       "<tr>\n",
       "  <th>sqm_living</th>       <td> 1686.7336</td> <td>   34.075</td> <td>   49.500</td> <td> 0.000</td> <td> 1619.944</td> <td> 1753.524</td>\n",
       "</tr>\n",
       "<tr>\n",
       "  <th>sqm_lot</th>          <td>   -3.1805</td> <td>    0.380</td> <td>   -8.364</td> <td> 0.000</td> <td>   -3.926</td> <td>   -2.435</td>\n",
       "</tr>\n",
       "<tr>\n",
       "  <th>distance_seattle</th> <td> 5442.6939</td> <td>  120.032</td> <td>   45.344</td> <td> 0.000</td> <td> 5207.422</td> <td> 5677.966</td>\n",
       "</tr>\n",
       "<tr>\n",
       "  <th>grade_7</th>          <td> 7.385e+04</td> <td> 5583.999</td> <td>   13.225</td> <td> 0.000</td> <td> 6.29e+04</td> <td> 8.48e+04</td>\n",
       "</tr>\n",
       "<tr>\n",
       "  <th>grade_8</th>          <td> 1.754e+05</td> <td> 6525.090</td> <td>   26.883</td> <td> 0.000</td> <td> 1.63e+05</td> <td> 1.88e+05</td>\n",
       "</tr>\n",
       "<tr>\n",
       "  <th>grade_9</th>          <td> 3.175e+05</td> <td> 7981.549</td> <td>   39.779</td> <td> 0.000</td> <td> 3.02e+05</td> <td> 3.33e+05</td>\n",
       "</tr>\n",
       "<tr>\n",
       "  <th>grade_10</th>         <td> 4.943e+05</td> <td> 1.01e+04</td> <td>   49.180</td> <td> 0.000</td> <td> 4.75e+05</td> <td> 5.14e+05</td>\n",
       "</tr>\n",
       "<tr>\n",
       "  <th>grade_11</th>         <td> 7.545e+05</td> <td> 1.42e+04</td> <td>   52.963</td> <td> 0.000</td> <td> 7.27e+05</td> <td> 7.82e+05</td>\n",
       "</tr>\n",
       "<tr>\n",
       "  <th>grade_12</th>         <td> 1.192e+06</td> <td> 2.58e+04</td> <td>   46.143</td> <td> 0.000</td> <td> 1.14e+06</td> <td> 1.24e+06</td>\n",
       "</tr>\n",
       "<tr>\n",
       "  <th>grade_13</th>         <td> 1.756e+06</td> <td> 6.84e+04</td> <td>   25.698</td> <td> 0.000</td> <td> 1.62e+06</td> <td> 1.89e+06</td>\n",
       "</tr>\n",
       "<tr>\n",
       "  <th>bed_2</th>            <td> 7714.3206</td> <td> 1.74e+04</td> <td>    0.443</td> <td> 0.658</td> <td>-2.64e+04</td> <td> 4.18e+04</td>\n",
       "</tr>\n",
       "<tr>\n",
       "  <th>bed_3</th>            <td>-2.605e+04</td> <td> 1.73e+04</td> <td>   -1.504</td> <td> 0.133</td> <td>   -6e+04</td> <td> 7908.291</td>\n",
       "</tr>\n",
       "<tr>\n",
       "  <th>bed_4</th>            <td>-6.296e+04</td> <td> 1.76e+04</td> <td>   -3.577</td> <td> 0.000</td> <td>-9.75e+04</td> <td>-2.85e+04</td>\n",
       "</tr>\n",
       "<tr>\n",
       "  <th>bed_5</th>            <td>  -5.9e+04</td> <td> 1.84e+04</td> <td>   -3.209</td> <td> 0.001</td> <td> -9.5e+04</td> <td> -2.3e+04</td>\n",
       "</tr>\n",
       "<tr>\n",
       "  <th>bed_6</th>            <td>-1.225e+05</td> <td> 2.18e+04</td> <td>   -5.610</td> <td> 0.000</td> <td>-1.65e+05</td> <td>-7.97e+04</td>\n",
       "</tr>\n",
       "<tr>\n",
       "  <th>bed_7</th>            <td>-1.266e+05</td> <td> 3.87e+04</td> <td>   -3.275</td> <td> 0.001</td> <td>-2.02e+05</td> <td>-5.08e+04</td>\n",
       "</tr>\n",
       "<tr>\n",
       "  <th>bathrooms_1.0</th>    <td> 9.692e+04</td> <td> 1.18e+05</td> <td>    0.823</td> <td> 0.411</td> <td>-1.34e+05</td> <td> 3.28e+05</td>\n",
       "</tr>\n",
       "<tr>\n",
       "  <th>bathrooms_2.0</th>    <td> 1.165e+05</td> <td> 1.18e+05</td> <td>    0.988</td> <td> 0.323</td> <td>-1.15e+05</td> <td> 3.47e+05</td>\n",
       "</tr>\n",
       "<tr>\n",
       "  <th>bathrooms_3.0</th>    <td> 1.609e+05</td> <td> 1.18e+05</td> <td>    1.364</td> <td> 0.172</td> <td>-7.02e+04</td> <td> 3.92e+05</td>\n",
       "</tr>\n",
       "<tr>\n",
       "  <th>bathrooms_4.0</th>    <td> 2.194e+05</td> <td> 1.18e+05</td> <td>    1.858</td> <td> 0.063</td> <td> -1.2e+04</td> <td> 4.51e+05</td>\n",
       "</tr>\n",
       "<tr>\n",
       "  <th>bathrooms_5.0</th>    <td> 5.705e+05</td> <td> 1.21e+05</td> <td>    4.701</td> <td> 0.000</td> <td> 3.33e+05</td> <td> 8.08e+05</td>\n",
       "</tr>\n",
       "<tr>\n",
       "  <th>bathrooms_6.0</th>    <td> 6.259e+05</td> <td> 1.31e+05</td> <td>    4.766</td> <td> 0.000</td> <td> 3.68e+05</td> <td> 8.83e+05</td>\n",
       "</tr>\n",
       "<tr>\n",
       "  <th>condition_2</th>      <td> 4.024e+04</td> <td> 4.96e+04</td> <td>    0.811</td> <td> 0.418</td> <td>-5.71e+04</td> <td> 1.38e+05</td>\n",
       "</tr>\n",
       "<tr>\n",
       "  <th>condition_3</th>      <td> 5.629e+04</td> <td> 4.69e+04</td> <td>    1.200</td> <td> 0.230</td> <td>-3.56e+04</td> <td> 1.48e+05</td>\n",
       "</tr>\n",
       "<tr>\n",
       "  <th>condition_4</th>      <td> 8.541e+04</td> <td> 4.69e+04</td> <td>    1.821</td> <td> 0.069</td> <td>-6540.996</td> <td> 1.77e+05</td>\n",
       "</tr>\n",
       "<tr>\n",
       "  <th>condition_5</th>      <td> 1.269e+05</td> <td> 4.71e+04</td> <td>    2.696</td> <td> 0.007</td> <td> 3.46e+04</td> <td> 2.19e+05</td>\n",
       "</tr>\n",
       "</table>\n",
       "<table class=\"simpletable\">\n",
       "<tr>\n",
       "  <th>Omnibus:</th>       <td>15166.548</td> <th>  Durbin-Watson:     </th>  <td>   1.983</td> \n",
       "</tr>\n",
       "<tr>\n",
       "  <th>Prob(Omnibus):</th>  <td> 0.000</td>   <th>  Jarque-Bera (JB):  </th> <td>758188.741</td>\n",
       "</tr>\n",
       "<tr>\n",
       "  <th>Skew:</th>           <td> 2.882</td>   <th>  Prob(JB):          </th>  <td>    0.00</td> \n",
       "</tr>\n",
       "<tr>\n",
       "  <th>Kurtosis:</th>       <td>31.662</td>   <th>  Cond. No.          </th>  <td>9.00e+05</td> \n",
       "</tr>\n",
       "</table><br/><br/>Warnings:<br/>[1] Standard Errors assume that the covariance matrix of the errors is correctly specified.<br/>[2] The condition number is large,  9e+05. This might indicate that there are<br/>strong multicollinearity or other numerical problems."
      ],
      "text/plain": [
       "<class 'statsmodels.iolib.summary.Summary'>\n",
       "\"\"\"\n",
       "                            OLS Regression Results                            \n",
       "==============================================================================\n",
       "Dep. Variable:                  price   R-squared:                       0.673\n",
       "Model:                            OLS   Adj. R-squared:                  0.672\n",
       "Method:                 Least Squares   F-statistic:                     1618.\n",
       "Date:                Thu, 14 May 2020   Prob (F-statistic):               0.00\n",
       "Time:                        19:22:17   Log-Likelihood:            -2.9046e+05\n",
       "No. Observations:               21290   AIC:                         5.810e+05\n",
       "Df Residuals:                   21262   BIC:                         5.812e+05\n",
       "Df Model:                          27                                         \n",
       "Covariance Type:            nonrobust                                         \n",
       "====================================================================================\n",
       "                       coef    std err          t      P>|t|      [0.025      0.975]\n",
       "------------------------------------------------------------------------------------\n",
       "const            -3.616e+05   1.27e+05     -2.843      0.004   -6.11e+05   -1.12e+05\n",
       "age               2618.5409     62.380     41.978      0.000    2496.272    2740.809\n",
       "sqm_living        1686.7336     34.075     49.500      0.000    1619.944    1753.524\n",
       "sqm_lot             -3.1805      0.380     -8.364      0.000      -3.926      -2.435\n",
       "distance_seattle  5442.6939    120.032     45.344      0.000    5207.422    5677.966\n",
       "grade_7           7.385e+04   5583.999     13.225      0.000    6.29e+04    8.48e+04\n",
       "grade_8           1.754e+05   6525.090     26.883      0.000    1.63e+05    1.88e+05\n",
       "grade_9           3.175e+05   7981.549     39.779      0.000    3.02e+05    3.33e+05\n",
       "grade_10          4.943e+05   1.01e+04     49.180      0.000    4.75e+05    5.14e+05\n",
       "grade_11          7.545e+05   1.42e+04     52.963      0.000    7.27e+05    7.82e+05\n",
       "grade_12          1.192e+06   2.58e+04     46.143      0.000    1.14e+06    1.24e+06\n",
       "grade_13          1.756e+06   6.84e+04     25.698      0.000    1.62e+06    1.89e+06\n",
       "bed_2             7714.3206   1.74e+04      0.443      0.658   -2.64e+04    4.18e+04\n",
       "bed_3            -2.605e+04   1.73e+04     -1.504      0.133      -6e+04    7908.291\n",
       "bed_4            -6.296e+04   1.76e+04     -3.577      0.000   -9.75e+04   -2.85e+04\n",
       "bed_5              -5.9e+04   1.84e+04     -3.209      0.001    -9.5e+04    -2.3e+04\n",
       "bed_6            -1.225e+05   2.18e+04     -5.610      0.000   -1.65e+05   -7.97e+04\n",
       "bed_7            -1.266e+05   3.87e+04     -3.275      0.001   -2.02e+05   -5.08e+04\n",
       "bathrooms_1.0     9.692e+04   1.18e+05      0.823      0.411   -1.34e+05    3.28e+05\n",
       "bathrooms_2.0     1.165e+05   1.18e+05      0.988      0.323   -1.15e+05    3.47e+05\n",
       "bathrooms_3.0     1.609e+05   1.18e+05      1.364      0.172   -7.02e+04    3.92e+05\n",
       "bathrooms_4.0     2.194e+05   1.18e+05      1.858      0.063    -1.2e+04    4.51e+05\n",
       "bathrooms_5.0     5.705e+05   1.21e+05      4.701      0.000    3.33e+05    8.08e+05\n",
       "bathrooms_6.0     6.259e+05   1.31e+05      4.766      0.000    3.68e+05    8.83e+05\n",
       "condition_2       4.024e+04   4.96e+04      0.811      0.418   -5.71e+04    1.38e+05\n",
       "condition_3       5.629e+04   4.69e+04      1.200      0.230   -3.56e+04    1.48e+05\n",
       "condition_4       8.541e+04   4.69e+04      1.821      0.069   -6540.996    1.77e+05\n",
       "condition_5       1.269e+05   4.71e+04      2.696      0.007    3.46e+04    2.19e+05\n",
       "==============================================================================\n",
       "Omnibus:                    15166.548   Durbin-Watson:                   1.983\n",
       "Prob(Omnibus):                  0.000   Jarque-Bera (JB):           758188.741\n",
       "Skew:                           2.882   Prob(JB):                         0.00\n",
       "Kurtosis:                      31.662   Cond. No.                     9.00e+05\n",
       "==============================================================================\n",
       "\n",
       "Warnings:\n",
       "[1] Standard Errors assume that the covariance matrix of the errors is correctly specified.\n",
       "[2] The condition number is large,  9e+05. This might indicate that there are\n",
       "strong multicollinearity or other numerical problems.\n",
       "\"\"\""
      ]
     },
     "execution_count": 96,
     "metadata": {},
     "output_type": "execute_result"
    }
   ],
   "source": [
    "X_fin3 = X_b\n",
    "X_with_intercept = sm.add_constant(X_b)\n",
    "model3 = sm.OLS(y_b, X_with_intercept).fit()\n",
    "model3.summary()"
   ]
  },
  {
   "cell_type": "markdown",
   "metadata": {},
   "source": [
    "### without dummies"
   ]
  },
  {
   "cell_type": "code",
   "execution_count": 99,
   "metadata": {},
   "outputs": [],
   "source": [
    "# define target variable 'price'\n",
    "labels = df['price']\n",
    "\n",
    "features = df.copy()\n",
    "features.drop(['price', ], axis=1, inplace=True)\n"
   ]
  },
  {
   "cell_type": "code",
   "execution_count": 100,
   "metadata": {},
   "outputs": [
    {
     "data": {
      "text/html": [
       "<table class=\"simpletable\">\n",
       "<caption>OLS Regression Results</caption>\n",
       "<tr>\n",
       "  <th>Dep. Variable:</th>          <td>price</td>      <th>  R-squared:         </th>  <td>   0.647</td>  \n",
       "</tr>\n",
       "<tr>\n",
       "  <th>Model:</th>                   <td>OLS</td>       <th>  Adj. R-squared:    </th>  <td>   0.647</td>  \n",
       "</tr>\n",
       "<tr>\n",
       "  <th>Method:</th>             <td>Least Squares</td>  <th>  F-statistic:       </th>  <td>   4874.</td>  \n",
       "</tr>\n",
       "<tr>\n",
       "  <th>Date:</th>             <td>Thu, 14 May 2020</td> <th>  Prob (F-statistic):</th>   <td>  0.00</td>   \n",
       "</tr>\n",
       "<tr>\n",
       "  <th>Time:</th>                 <td>19:23:19</td>     <th>  Log-Likelihood:    </th> <td>-2.9126e+05</td>\n",
       "</tr>\n",
       "<tr>\n",
       "  <th>No. Observations:</th>      <td> 21290</td>      <th>  AIC:               </th>  <td>5.825e+05</td> \n",
       "</tr>\n",
       "<tr>\n",
       "  <th>Df Residuals:</th>          <td> 21281</td>      <th>  BIC:               </th>  <td>5.826e+05</td> \n",
       "</tr>\n",
       "<tr>\n",
       "  <th>Df Model:</th>              <td>     8</td>      <th>                     </th>      <td> </td>     \n",
       "</tr>\n",
       "<tr>\n",
       "  <th>Covariance Type:</th>      <td>nonrobust</td>    <th>                     </th>      <td> </td>     \n",
       "</tr>\n",
       "</table>\n",
       "<table class=\"simpletable\">\n",
       "<tr>\n",
       "          <td></td>            <th>coef</th>     <th>std err</th>      <th>t</th>      <th>P>|t|</th>  <th>[0.025</th>    <th>0.975]</th>  \n",
       "</tr>\n",
       "<tr>\n",
       "  <th>const</th>            <td>-1.161e+06</td> <td> 1.74e+04</td> <td>  -66.911</td> <td> 0.000</td> <td> -1.2e+06</td> <td>-1.13e+06</td>\n",
       "</tr>\n",
       "<tr>\n",
       "  <th>bedrooms</th>         <td>-4.256e+04</td> <td> 2137.274</td> <td>  -19.915</td> <td> 0.000</td> <td>-4.68e+04</td> <td>-3.84e+04</td>\n",
       "</tr>\n",
       "<tr>\n",
       "  <th>bathrooms</th>        <td> 4.853e+04</td> <td> 3283.115</td> <td>   14.783</td> <td> 0.000</td> <td> 4.21e+04</td> <td>  5.5e+04</td>\n",
       "</tr>\n",
       "<tr>\n",
       "  <th>condition</th>        <td> 2.713e+04</td> <td> 2432.158</td> <td>   11.157</td> <td> 0.000</td> <td> 2.24e+04</td> <td> 3.19e+04</td>\n",
       "</tr>\n",
       "<tr>\n",
       "  <th>grade</th>            <td>   1.3e+05</td> <td> 2156.828</td> <td>   60.290</td> <td> 0.000</td> <td> 1.26e+05</td> <td> 1.34e+05</td>\n",
       "</tr>\n",
       "<tr>\n",
       "  <th>age</th>              <td> 3300.2646</td> <td>   64.975</td> <td>   50.793</td> <td> 0.000</td> <td> 3172.908</td> <td> 3427.621</td>\n",
       "</tr>\n",
       "<tr>\n",
       "  <th>sqm_living</th>       <td> 1925.1659</td> <td>   35.228</td> <td>   54.649</td> <td> 0.000</td> <td> 1856.116</td> <td> 1994.216</td>\n",
       "</tr>\n",
       "<tr>\n",
       "  <th>sqm_lot</th>          <td>   -2.6909</td> <td>    0.394</td> <td>   -6.835</td> <td> 0.000</td> <td>   -3.462</td> <td>   -1.919</td>\n",
       "</tr>\n",
       "<tr>\n",
       "  <th>distance_seattle</th> <td> 5220.1898</td> <td>  123.543</td> <td>   42.254</td> <td> 0.000</td> <td> 4978.036</td> <td> 5462.344</td>\n",
       "</tr>\n",
       "</table>\n",
       "<table class=\"simpletable\">\n",
       "<tr>\n",
       "  <th>Omnibus:</th>       <td>16898.348</td> <th>  Durbin-Watson:     </th>  <td>   1.982</td> \n",
       "</tr>\n",
       "<tr>\n",
       "  <th>Prob(Omnibus):</th>  <td> 0.000</td>   <th>  Jarque-Bera (JB):  </th> <td>994413.406</td>\n",
       "</tr>\n",
       "<tr>\n",
       "  <th>Skew:</th>           <td> 3.364</td>   <th>  Prob(JB):          </th>  <td>    0.00</td> \n",
       "</tr>\n",
       "<tr>\n",
       "  <th>Kurtosis:</th>       <td>35.798</td>   <th>  Cond. No.          </th>  <td>4.84e+04</td> \n",
       "</tr>\n",
       "</table><br/><br/>Warnings:<br/>[1] Standard Errors assume that the covariance matrix of the errors is correctly specified.<br/>[2] The condition number is large, 4.84e+04. This might indicate that there are<br/>strong multicollinearity or other numerical problems."
      ],
      "text/plain": [
       "<class 'statsmodels.iolib.summary.Summary'>\n",
       "\"\"\"\n",
       "                            OLS Regression Results                            \n",
       "==============================================================================\n",
       "Dep. Variable:                  price   R-squared:                       0.647\n",
       "Model:                            OLS   Adj. R-squared:                  0.647\n",
       "Method:                 Least Squares   F-statistic:                     4874.\n",
       "Date:                Thu, 14 May 2020   Prob (F-statistic):               0.00\n",
       "Time:                        19:23:19   Log-Likelihood:            -2.9126e+05\n",
       "No. Observations:               21290   AIC:                         5.825e+05\n",
       "Df Residuals:                   21281   BIC:                         5.826e+05\n",
       "Df Model:                           8                                         \n",
       "Covariance Type:            nonrobust                                         \n",
       "====================================================================================\n",
       "                       coef    std err          t      P>|t|      [0.025      0.975]\n",
       "------------------------------------------------------------------------------------\n",
       "const            -1.161e+06   1.74e+04    -66.911      0.000    -1.2e+06   -1.13e+06\n",
       "bedrooms         -4.256e+04   2137.274    -19.915      0.000   -4.68e+04   -3.84e+04\n",
       "bathrooms         4.853e+04   3283.115     14.783      0.000    4.21e+04     5.5e+04\n",
       "condition         2.713e+04   2432.158     11.157      0.000    2.24e+04    3.19e+04\n",
       "grade               1.3e+05   2156.828     60.290      0.000    1.26e+05    1.34e+05\n",
       "age               3300.2646     64.975     50.793      0.000    3172.908    3427.621\n",
       "sqm_living        1925.1659     35.228     54.649      0.000    1856.116    1994.216\n",
       "sqm_lot             -2.6909      0.394     -6.835      0.000      -3.462      -1.919\n",
       "distance_seattle  5220.1898    123.543     42.254      0.000    4978.036    5462.344\n",
       "==============================================================================\n",
       "Omnibus:                    16898.348   Durbin-Watson:                   1.982\n",
       "Prob(Omnibus):                  0.000   Jarque-Bera (JB):           994413.406\n",
       "Skew:                           3.364   Prob(JB):                         0.00\n",
       "Kurtosis:                      35.798   Cond. No.                     4.84e+04\n",
       "==============================================================================\n",
       "\n",
       "Warnings:\n",
       "[1] Standard Errors assume that the covariance matrix of the errors is correctly specified.\n",
       "[2] The condition number is large, 4.84e+04. This might indicate that there are\n",
       "strong multicollinearity or other numerical problems.\n",
       "\"\"\""
      ]
     },
     "execution_count": 100,
     "metadata": {},
     "output_type": "execute_result"
    }
   ],
   "source": [
    "# create model\n",
    "X_fin = features\n",
    "X_with_intercept = sm.add_constant(features)\n",
    "model = sm.OLS(labels, X_with_intercept).fit()\n",
    "model.summary()"
   ]
  },
  {
   "cell_type": "code",
   "execution_count": 101,
   "metadata": {},
   "outputs": [
    {
     "data": {
      "text/plain": [
       "LinearRegression(copy_X=True, fit_intercept=True, n_jobs=None, normalize=False)"
      ]
     },
     "execution_count": 101,
     "metadata": {},
     "output_type": "execute_result"
    }
   ],
   "source": [
    "my_model = LinearRegression()\n",
    "my_model.fit(features, labels)"
   ]
  },
  {
   "cell_type": "code",
   "execution_count": 102,
   "metadata": {},
   "outputs": [
    {
     "name": "stdout",
     "output_type": "stream",
     "text": [
      "211481.67823709847\n"
     ]
    }
   ],
   "source": [
    "predictions = my_model.predict(features)\n",
    "mse = mean_squared_error(labels, predictions)\n",
    "rmse = np.sqrt(mse)\n",
    "\n",
    "print(rmse)"
   ]
  },
  {
   "cell_type": "code",
   "execution_count": 103,
   "metadata": {},
   "outputs": [
    {
     "data": {
      "text/plain": [
       "array([247803.33494066, 693897.43808397, 290572.32572513, ...,\n",
       "       123458.92126073, 390238.05861836, 126660.63670764])"
      ]
     },
     "execution_count": 103,
     "metadata": {},
     "output_type": "execute_result"
    }
   ],
   "source": [
    "predict_test = my_model.predict(features)\n",
    "predict_test"
   ]
  },
  {
   "cell_type": "code",
   "execution_count": 104,
   "metadata": {},
   "outputs": [
    {
     "name": "stdout",
     "output_type": "stream",
     "text": [
      "The intercept for model is -1161373.3\n",
      "The coefficient for bedrooms is -42564.81139845255\n",
      "The coefficient for bathrooms is 48534.68392566368\n",
      "The coefficient for condition is 27134.537417740394\n",
      "The coefficient for grade is 130035.20559980851\n",
      "The coefficient for age is 3300.2646154431336\n",
      "The coefficient for sqm_living is 1925.1658793180827\n",
      "The coefficient for sqm_lot is -2.690857159765176\n",
      "The coefficient for distance_seattle is 5220.189783442072\n"
     ]
    }
   ],
   "source": [
    "# get intercept and coef\n",
    "print('The intercept for model is {:.8}'.format(my_model.intercept_))\n",
    "\n",
    "\n",
    "#loop through dict to print\n",
    "for cf in zip(features.columns, my_model.coef_):\n",
    "    print('The coefficient for {} is {:7}'.format(cf[0], cf[1]))"
   ]
  },
  {
   "cell_type": "code",
   "execution_count": 105,
   "metadata": {},
   "outputs": [],
   "source": [
    "scores = cross_val_score(\n",
    "            my_model, \n",
    "            features,\n",
    "            labels,\n",
    "            cv=20,\n",
    "            scoring=\"neg_mean_squared_error\"\n",
    ")\n",
    "\n",
    "rmse_scores = np.sqrt(-scores)"
   ]
  },
  {
   "cell_type": "code",
   "execution_count": 106,
   "metadata": {},
   "outputs": [
    {
     "data": {
      "text/plain": [
       "array([205050.84357671, 248933.64737508, 220996.65499944, 253172.80948273,\n",
       "       206314.4150526 , 203062.98671316, 226009.07957044, 211397.10812169,\n",
       "       175934.22608945, 183144.45665673, 202852.75446312, 196786.81440574,\n",
       "       211440.30841196, 192267.67169446, 217225.64391869, 206076.46943197,\n",
       "       199367.11818832, 219251.24405754, 233983.55373815, 207005.63381049])"
      ]
     },
     "metadata": {},
     "output_type": "display_data"
    },
    {
     "name": "stdout",
     "output_type": "stream",
     "text": [
      "Mean: 211013.67198792385\n",
      "Std Dev: 18839.90692643473\n"
     ]
    }
   ],
   "source": [
    "display(rmse_scores)\n",
    "\n",
    "print(f'Mean: {rmse_scores.mean()}')\n",
    "print(f'Std Dev: {rmse_scores.std()}')"
   ]
  },
  {
   "cell_type": "code",
   "execution_count": 107,
   "metadata": {},
   "outputs": [
    {
     "data": {
      "text/html": [
       "<div>\n",
       "<style scoped>\n",
       "    .dataframe tbody tr th:only-of-type {\n",
       "        vertical-align: middle;\n",
       "    }\n",
       "\n",
       "    .dataframe tbody tr th {\n",
       "        vertical-align: top;\n",
       "    }\n",
       "\n",
       "    .dataframe thead th {\n",
       "        text-align: right;\n",
       "    }\n",
       "</style>\n",
       "<table border=\"1\" class=\"dataframe\">\n",
       "  <thead>\n",
       "    <tr style=\"text-align: right;\">\n",
       "      <th></th>\n",
       "      <th>bedrooms</th>\n",
       "      <th>bathrooms</th>\n",
       "      <th>condition</th>\n",
       "      <th>grade</th>\n",
       "      <th>age</th>\n",
       "      <th>sqm_living</th>\n",
       "      <th>sqm_lot</th>\n",
       "      <th>distance_seattle</th>\n",
       "    </tr>\n",
       "  </thead>\n",
       "  <tbody>\n",
       "    <tr>\n",
       "      <td>0</td>\n",
       "      <td>-42564.811398</td>\n",
       "      <td>48534.683926</td>\n",
       "      <td>27134.537418</td>\n",
       "      <td>130035.2056</td>\n",
       "      <td>3300.264615</td>\n",
       "      <td>1925.165879</td>\n",
       "      <td>-2.690857</td>\n",
       "      <td>5220.189783</td>\n",
       "    </tr>\n",
       "  </tbody>\n",
       "</table>\n",
       "</div>"
      ],
      "text/plain": [
       "       bedrooms     bathrooms     condition        grade          age  \\\n",
       "0 -42564.811398  48534.683926  27134.537418  130035.2056  3300.264615   \n",
       "\n",
       "    sqm_living   sqm_lot  distance_seattle  \n",
       "0  1925.165879 -2.690857       5220.189783  "
      ]
     },
     "execution_count": 107,
     "metadata": {},
     "output_type": "execute_result"
    }
   ],
   "source": [
    "pd.DataFrame(data=my_model.coef_.reshape(1,-1), columns= features.columns)"
   ]
  },
  {
   "cell_type": "markdown",
   "metadata": {},
   "source": [
    "the data clearly needs to be normalized as the coefficients show"
   ]
  },
  {
   "cell_type": "code",
   "execution_count": 108,
   "metadata": {},
   "outputs": [
    {
     "data": {
      "text/plain": [
       "0.645560938506919"
      ]
     },
     "execution_count": 108,
     "metadata": {},
     "output_type": "execute_result"
    }
   ],
   "source": [
    "crossvalidation = KFold(n_splits=10, shuffle=True, random_state=1)\n",
    "baseline = np.mean(cross_val_score(my_model, features, labels, scoring='r2', cv=crossvalidation))\n",
    "\n",
    "baseline"
   ]
  },
  {
   "cell_type": "markdown",
   "metadata": {},
   "source": [
    "## regression on datasets with dummies"
   ]
  },
  {
   "cell_type": "code",
   "execution_count": 109,
   "metadata": {},
   "outputs": [
    {
     "data": {
      "text/plain": [
       "Index(['price', 'age', 'sqm_living', 'sqm_lot', 'distance_seattle', 'grade_7',\n",
       "       'grade_8', 'grade_9', 'grade_10', 'grade_11', 'grade_12', 'grade_13',\n",
       "       'bed_2', 'bed_3', 'bed_4', 'bed_5', 'bed_6', 'bed_7', 'bathrooms_1.0',\n",
       "       'bathrooms_2.0', 'bathrooms_3.0', 'bathrooms_4.0', 'bathrooms_5.0',\n",
       "       'bathrooms_6.0', 'condition_2', 'condition_3', 'condition_4',\n",
       "       'condition_5'],\n",
       "      dtype='object')"
      ]
     },
     "execution_count": 109,
     "metadata": {},
     "output_type": "execute_result"
    }
   ],
   "source": [
    "df_dummies.columns"
   ]
  },
  {
   "cell_type": "markdown",
   "metadata": {},
   "source": [
    "### with minmax scaling applied to dataset, log transformed price"
   ]
  },
  {
   "cell_type": "code",
   "execution_count": 114,
   "metadata": {},
   "outputs": [],
   "source": [
    "# create dataframe with scaling applied to continuous variables\n",
    "df_scale_dummies = df_dummies.copy()\n",
    "df_scale_dummies.drop(['price',   ], axis=1, inplace=True)\n",
    "X_s = scaler.fit_transform(df_scale_dummies)"
   ]
  },
  {
   "cell_type": "code",
   "execution_count": 115,
   "metadata": {},
   "outputs": [],
   "source": [
    "# create x & y\n",
    "y_s = price_log"
   ]
  },
  {
   "cell_type": "code",
   "execution_count": 116,
   "metadata": {},
   "outputs": [
    {
     "data": {
      "text/html": [
       "<table class=\"simpletable\">\n",
       "<caption>OLS Regression Results</caption>\n",
       "<tr>\n",
       "  <th>Dep. Variable:</th>          <td>price</td>      <th>  R-squared:         </th> <td>   0.724</td>\n",
       "</tr>\n",
       "<tr>\n",
       "  <th>Model:</th>                   <td>OLS</td>       <th>  Adj. R-squared:    </th> <td>   0.724</td>\n",
       "</tr>\n",
       "<tr>\n",
       "  <th>Method:</th>             <td>Least Squares</td>  <th>  F-statistic:       </th> <td>   2065.</td>\n",
       "</tr>\n",
       "<tr>\n",
       "  <th>Date:</th>             <td>Thu, 14 May 2020</td> <th>  Prob (F-statistic):</th>  <td>  0.00</td> \n",
       "</tr>\n",
       "<tr>\n",
       "  <th>Time:</th>                 <td>19:24:00</td>     <th>  Log-Likelihood:    </th> <td> -2512.6</td>\n",
       "</tr>\n",
       "<tr>\n",
       "  <th>No. Observations:</th>      <td> 21290</td>      <th>  AIC:               </th> <td>   5081.</td>\n",
       "</tr>\n",
       "<tr>\n",
       "  <th>Df Residuals:</th>          <td> 21262</td>      <th>  BIC:               </th> <td>   5304.</td>\n",
       "</tr>\n",
       "<tr>\n",
       "  <th>Df Model:</th>              <td>    27</td>      <th>                     </th>     <td> </td>   \n",
       "</tr>\n",
       "<tr>\n",
       "  <th>Covariance Type:</th>      <td>nonrobust</td>    <th>                     </th>     <td> </td>   \n",
       "</tr>\n",
       "</table>\n",
       "<table class=\"simpletable\">\n",
       "<tr>\n",
       "    <td></td>       <th>coef</th>     <th>std err</th>      <th>t</th>      <th>P>|t|</th>  <th>[0.025</th>    <th>0.975]</th>  \n",
       "</tr>\n",
       "<tr>\n",
       "  <th>const</th> <td>   11.3502</td> <td>    0.170</td> <td>   66.734</td> <td> 0.000</td> <td>   11.017</td> <td>   11.684</td>\n",
       "</tr>\n",
       "<tr>\n",
       "  <th>x1</th>    <td>    0.4729</td> <td>    0.010</td> <td>   48.872</td> <td> 0.000</td> <td>    0.454</td> <td>    0.492</td>\n",
       "</tr>\n",
       "<tr>\n",
       "  <th>x2</th>    <td>    2.1193</td> <td>    0.041</td> <td>   51.878</td> <td> 0.000</td> <td>    2.039</td> <td>    2.199</td>\n",
       "</tr>\n",
       "<tr>\n",
       "  <th>x3</th>    <td>   -0.1600</td> <td>    0.078</td> <td>   -2.052</td> <td> 0.040</td> <td>   -0.313</td> <td>   -0.007</td>\n",
       "</tr>\n",
       "<tr>\n",
       "  <th>x4</th>    <td>    1.0425</td> <td>    0.012</td> <td>   84.710</td> <td> 0.000</td> <td>    1.018</td> <td>    1.067</td>\n",
       "</tr>\n",
       "<tr>\n",
       "  <th>x5</th>    <td>    0.2168</td> <td>    0.007</td> <td>   29.040</td> <td> 0.000</td> <td>    0.202</td> <td>    0.231</td>\n",
       "</tr>\n",
       "<tr>\n",
       "  <th>x6</th>    <td>    0.4454</td> <td>    0.009</td> <td>   51.050</td> <td> 0.000</td> <td>    0.428</td> <td>    0.463</td>\n",
       "</tr>\n",
       "<tr>\n",
       "  <th>x7</th>    <td>    0.6653</td> <td>    0.011</td> <td>   62.330</td> <td> 0.000</td> <td>    0.644</td> <td>    0.686</td>\n",
       "</tr>\n",
       "<tr>\n",
       "  <th>x8</th>    <td>    0.8137</td> <td>    0.013</td> <td>   60.544</td> <td> 0.000</td> <td>    0.787</td> <td>    0.840</td>\n",
       "</tr>\n",
       "<tr>\n",
       "  <th>x9</th>    <td>    0.9444</td> <td>    0.019</td> <td>   49.570</td> <td> 0.000</td> <td>    0.907</td> <td>    0.982</td>\n",
       "</tr>\n",
       "<tr>\n",
       "  <th>x10</th>   <td>    1.1050</td> <td>    0.035</td> <td>   32.001</td> <td> 0.000</td> <td>    1.037</td> <td>    1.173</td>\n",
       "</tr>\n",
       "<tr>\n",
       "  <th>x11</th>   <td>    1.1545</td> <td>    0.091</td> <td>   12.631</td> <td> 0.000</td> <td>    0.975</td> <td>    1.334</td>\n",
       "</tr>\n",
       "<tr>\n",
       "  <th>x12</th>   <td>    0.0296</td> <td>    0.023</td> <td>    1.270</td> <td> 0.204</td> <td>   -0.016</td> <td>    0.075</td>\n",
       "</tr>\n",
       "<tr>\n",
       "  <th>x13</th>   <td>   -0.0220</td> <td>    0.023</td> <td>   -0.948</td> <td> 0.343</td> <td>   -0.067</td> <td>    0.023</td>\n",
       "</tr>\n",
       "<tr>\n",
       "  <th>x14</th>   <td>   -0.0368</td> <td>    0.024</td> <td>   -1.563</td> <td> 0.118</td> <td>   -0.083</td> <td>    0.009</td>\n",
       "</tr>\n",
       "<tr>\n",
       "  <th>x15</th>   <td>   -0.0517</td> <td>    0.025</td> <td>   -2.102</td> <td> 0.036</td> <td>   -0.100</td> <td>   -0.003</td>\n",
       "</tr>\n",
       "<tr>\n",
       "  <th>x16</th>   <td>   -0.1148</td> <td>    0.029</td> <td>   -3.932</td> <td> 0.000</td> <td>   -0.172</td> <td>   -0.058</td>\n",
       "</tr>\n",
       "<tr>\n",
       "  <th>x17</th>   <td>   -0.1665</td> <td>    0.052</td> <td>   -3.221</td> <td> 0.001</td> <td>   -0.268</td> <td>   -0.065</td>\n",
       "</tr>\n",
       "<tr>\n",
       "  <th>x18</th>   <td>    0.1705</td> <td>    0.158</td> <td>    1.082</td> <td> 0.279</td> <td>   -0.138</td> <td>    0.479</td>\n",
       "</tr>\n",
       "<tr>\n",
       "  <th>x19</th>   <td>    0.2595</td> <td>    0.158</td> <td>    1.647</td> <td> 0.100</td> <td>   -0.049</td> <td>    0.568</td>\n",
       "</tr>\n",
       "<tr>\n",
       "  <th>x20</th>   <td>    0.3196</td> <td>    0.158</td> <td>    2.027</td> <td> 0.043</td> <td>    0.011</td> <td>    0.629</td>\n",
       "</tr>\n",
       "<tr>\n",
       "  <th>x21</th>   <td>    0.3627</td> <td>    0.158</td> <td>    2.297</td> <td> 0.022</td> <td>    0.053</td> <td>    0.672</td>\n",
       "</tr>\n",
       "<tr>\n",
       "  <th>x22</th>   <td>    0.4437</td> <td>    0.162</td> <td>    2.734</td> <td> 0.006</td> <td>    0.126</td> <td>    0.762</td>\n",
       "</tr>\n",
       "<tr>\n",
       "  <th>x23</th>   <td>    0.2285</td> <td>    0.176</td> <td>    1.302</td> <td> 0.193</td> <td>   -0.116</td> <td>    0.573</td>\n",
       "</tr>\n",
       "<tr>\n",
       "  <th>x24</th>   <td>    0.0592</td> <td>    0.066</td> <td>    0.892</td> <td> 0.372</td> <td>   -0.071</td> <td>    0.189</td>\n",
       "</tr>\n",
       "<tr>\n",
       "  <th>x25</th>   <td>    0.1847</td> <td>    0.063</td> <td>    2.945</td> <td> 0.003</td> <td>    0.062</td> <td>    0.308</td>\n",
       "</tr>\n",
       "<tr>\n",
       "  <th>x26</th>   <td>    0.2280</td> <td>    0.063</td> <td>    3.634</td> <td> 0.000</td> <td>    0.105</td> <td>    0.351</td>\n",
       "</tr>\n",
       "<tr>\n",
       "  <th>x27</th>   <td>    0.2866</td> <td>    0.063</td> <td>    4.550</td> <td> 0.000</td> <td>    0.163</td> <td>    0.410</td>\n",
       "</tr>\n",
       "</table>\n",
       "<table class=\"simpletable\">\n",
       "<tr>\n",
       "  <th>Omnibus:</th>       <td>424.532</td> <th>  Durbin-Watson:     </th> <td>   1.962</td> \n",
       "</tr>\n",
       "<tr>\n",
       "  <th>Prob(Omnibus):</th> <td> 0.000</td>  <th>  Jarque-Bera (JB):  </th> <td> 807.710</td> \n",
       "</tr>\n",
       "<tr>\n",
       "  <th>Skew:</th>          <td> 0.128</td>  <th>  Prob(JB):          </th> <td>4.06e-176</td>\n",
       "</tr>\n",
       "<tr>\n",
       "  <th>Kurtosis:</th>      <td> 3.919</td>  <th>  Cond. No.          </th> <td>    384.</td> \n",
       "</tr>\n",
       "</table><br/><br/>Warnings:<br/>[1] Standard Errors assume that the covariance matrix of the errors is correctly specified."
      ],
      "text/plain": [
       "<class 'statsmodels.iolib.summary.Summary'>\n",
       "\"\"\"\n",
       "                            OLS Regression Results                            \n",
       "==============================================================================\n",
       "Dep. Variable:                  price   R-squared:                       0.724\n",
       "Model:                            OLS   Adj. R-squared:                  0.724\n",
       "Method:                 Least Squares   F-statistic:                     2065.\n",
       "Date:                Thu, 14 May 2020   Prob (F-statistic):               0.00\n",
       "Time:                        19:24:00   Log-Likelihood:                -2512.6\n",
       "No. Observations:               21290   AIC:                             5081.\n",
       "Df Residuals:                   21262   BIC:                             5304.\n",
       "Df Model:                          27                                         \n",
       "Covariance Type:            nonrobust                                         \n",
       "==============================================================================\n",
       "                 coef    std err          t      P>|t|      [0.025      0.975]\n",
       "------------------------------------------------------------------------------\n",
       "const         11.3502      0.170     66.734      0.000      11.017      11.684\n",
       "x1             0.4729      0.010     48.872      0.000       0.454       0.492\n",
       "x2             2.1193      0.041     51.878      0.000       2.039       2.199\n",
       "x3            -0.1600      0.078     -2.052      0.040      -0.313      -0.007\n",
       "x4             1.0425      0.012     84.710      0.000       1.018       1.067\n",
       "x5             0.2168      0.007     29.040      0.000       0.202       0.231\n",
       "x6             0.4454      0.009     51.050      0.000       0.428       0.463\n",
       "x7             0.6653      0.011     62.330      0.000       0.644       0.686\n",
       "x8             0.8137      0.013     60.544      0.000       0.787       0.840\n",
       "x9             0.9444      0.019     49.570      0.000       0.907       0.982\n",
       "x10            1.1050      0.035     32.001      0.000       1.037       1.173\n",
       "x11            1.1545      0.091     12.631      0.000       0.975       1.334\n",
       "x12            0.0296      0.023      1.270      0.204      -0.016       0.075\n",
       "x13           -0.0220      0.023     -0.948      0.343      -0.067       0.023\n",
       "x14           -0.0368      0.024     -1.563      0.118      -0.083       0.009\n",
       "x15           -0.0517      0.025     -2.102      0.036      -0.100      -0.003\n",
       "x16           -0.1148      0.029     -3.932      0.000      -0.172      -0.058\n",
       "x17           -0.1665      0.052     -3.221      0.001      -0.268      -0.065\n",
       "x18            0.1705      0.158      1.082      0.279      -0.138       0.479\n",
       "x19            0.2595      0.158      1.647      0.100      -0.049       0.568\n",
       "x20            0.3196      0.158      2.027      0.043       0.011       0.629\n",
       "x21            0.3627      0.158      2.297      0.022       0.053       0.672\n",
       "x22            0.4437      0.162      2.734      0.006       0.126       0.762\n",
       "x23            0.2285      0.176      1.302      0.193      -0.116       0.573\n",
       "x24            0.0592      0.066      0.892      0.372      -0.071       0.189\n",
       "x25            0.1847      0.063      2.945      0.003       0.062       0.308\n",
       "x26            0.2280      0.063      3.634      0.000       0.105       0.351\n",
       "x27            0.2866      0.063      4.550      0.000       0.163       0.410\n",
       "==============================================================================\n",
       "Omnibus:                      424.532   Durbin-Watson:                   1.962\n",
       "Prob(Omnibus):                  0.000   Jarque-Bera (JB):              807.710\n",
       "Skew:                           0.128   Prob(JB):                    4.06e-176\n",
       "Kurtosis:                       3.919   Cond. No.                         384.\n",
       "==============================================================================\n",
       "\n",
       "Warnings:\n",
       "[1] Standard Errors assume that the covariance matrix of the errors is correctly specified.\n",
       "\"\"\""
      ]
     },
     "execution_count": 116,
     "metadata": {},
     "output_type": "execute_result"
    }
   ],
   "source": [
    "#create model for \n",
    "X_fin = X_s\n",
    "X_with_intercept = sm.add_constant(X_s)\n",
    "model1 = sm.OLS(y_s, X_with_intercept).fit()\n",
    "model1.summary()"
   ]
  },
  {
   "cell_type": "code",
   "execution_count": 117,
   "metadata": {},
   "outputs": [],
   "source": [
    "# removing distance data"
   ]
  },
  {
   "cell_type": "code",
   "execution_count": 118,
   "metadata": {},
   "outputs": [],
   "source": [
    "# create dataframe with scaling applied to continuous variables\n",
    "df_scale_dummies = df_dummies.copy()\n",
    "df_scale_dummies.drop(['price', 'distance_seattle',  ], axis=1, inplace=True)\n",
    "X_s = scaler.fit_transform(df_scale_dummies)"
   ]
  },
  {
   "cell_type": "code",
   "execution_count": 119,
   "metadata": {},
   "outputs": [
    {
     "data": {
      "text/html": [
       "<table class=\"simpletable\">\n",
       "<caption>OLS Regression Results</caption>\n",
       "<tr>\n",
       "  <th>Dep. Variable:</th>          <td>price</td>      <th>  R-squared:         </th> <td>   0.631</td> \n",
       "</tr>\n",
       "<tr>\n",
       "  <th>Model:</th>                   <td>OLS</td>       <th>  Adj. R-squared:    </th> <td>   0.630</td> \n",
       "</tr>\n",
       "<tr>\n",
       "  <th>Method:</th>             <td>Least Squares</td>  <th>  F-statistic:       </th> <td>   1397.</td> \n",
       "</tr>\n",
       "<tr>\n",
       "  <th>Date:</th>             <td>Thu, 14 May 2020</td> <th>  Prob (F-statistic):</th>  <td>  0.00</td>  \n",
       "</tr>\n",
       "<tr>\n",
       "  <th>Time:</th>                 <td>19:24:06</td>     <th>  Log-Likelihood:    </th> <td> -5608.2</td> \n",
       "</tr>\n",
       "<tr>\n",
       "  <th>No. Observations:</th>      <td> 21290</td>      <th>  AIC:               </th> <td>1.127e+04</td>\n",
       "</tr>\n",
       "<tr>\n",
       "  <th>Df Residuals:</th>          <td> 21263</td>      <th>  BIC:               </th> <td>1.149e+04</td>\n",
       "</tr>\n",
       "<tr>\n",
       "  <th>Df Model:</th>              <td>    26</td>      <th>                     </th>     <td> </td>    \n",
       "</tr>\n",
       "<tr>\n",
       "  <th>Covariance Type:</th>      <td>nonrobust</td>    <th>                     </th>     <td> </td>    \n",
       "</tr>\n",
       "</table>\n",
       "<table class=\"simpletable\">\n",
       "<tr>\n",
       "    <td></td>       <th>coef</th>     <th>std err</th>      <th>t</th>      <th>P>|t|</th>  <th>[0.025</th>    <th>0.975]</th>  \n",
       "</tr>\n",
       "<tr>\n",
       "  <th>const</th> <td>   11.6375</td> <td>    0.197</td> <td>   59.177</td> <td> 0.000</td> <td>   11.252</td> <td>   12.023</td>\n",
       "</tr>\n",
       "<tr>\n",
       "  <th>x1</th>    <td>    0.6423</td> <td>    0.011</td> <td>   58.666</td> <td> 0.000</td> <td>    0.621</td> <td>    0.664</td>\n",
       "</tr>\n",
       "<tr>\n",
       "  <th>x2</th>    <td>    2.0611</td> <td>    0.047</td> <td>   43.634</td> <td> 0.000</td> <td>    1.969</td> <td>    2.154</td>\n",
       "</tr>\n",
       "<tr>\n",
       "  <th>x3</th>    <td>   -0.1970</td> <td>    0.090</td> <td>   -2.184</td> <td> 0.029</td> <td>   -0.374</td> <td>   -0.020</td>\n",
       "</tr>\n",
       "<tr>\n",
       "  <th>x4</th>    <td>    0.2845</td> <td>    0.009</td> <td>   33.134</td> <td> 0.000</td> <td>    0.268</td> <td>    0.301</td>\n",
       "</tr>\n",
       "<tr>\n",
       "  <th>x5</th>    <td>    0.5518</td> <td>    0.010</td> <td>   55.264</td> <td> 0.000</td> <td>    0.532</td> <td>    0.571</td>\n",
       "</tr>\n",
       "<tr>\n",
       "  <th>x6</th>    <td>    0.7957</td> <td>    0.012</td> <td>   65.142</td> <td> 0.000</td> <td>    0.772</td> <td>    0.820</td>\n",
       "</tr>\n",
       "<tr>\n",
       "  <th>x7</th>    <td>    0.9553</td> <td>    0.015</td> <td>   61.937</td> <td> 0.000</td> <td>    0.925</td> <td>    0.986</td>\n",
       "</tr>\n",
       "<tr>\n",
       "  <th>x8</th>    <td>    1.0925</td> <td>    0.022</td> <td>   49.799</td> <td> 0.000</td> <td>    1.050</td> <td>    1.136</td>\n",
       "</tr>\n",
       "<tr>\n",
       "  <th>x9</th>    <td>    1.2512</td> <td>    0.040</td> <td>   31.370</td> <td> 0.000</td> <td>    1.173</td> <td>    1.329</td>\n",
       "</tr>\n",
       "<tr>\n",
       "  <th>x10</th>   <td>    1.3096</td> <td>    0.106</td> <td>   12.392</td> <td> 0.000</td> <td>    1.102</td> <td>    1.517</td>\n",
       "</tr>\n",
       "<tr>\n",
       "  <th>x11</th>   <td>    0.0359</td> <td>    0.027</td> <td>    1.332</td> <td> 0.183</td> <td>   -0.017</td> <td>    0.089</td>\n",
       "</tr>\n",
       "<tr>\n",
       "  <th>x12</th>   <td>   -0.0629</td> <td>    0.027</td> <td>   -2.350</td> <td> 0.019</td> <td>   -0.115</td> <td>   -0.010</td>\n",
       "</tr>\n",
       "<tr>\n",
       "  <th>x13</th>   <td>   -0.0962</td> <td>    0.027</td> <td>   -3.535</td> <td> 0.000</td> <td>   -0.150</td> <td>   -0.043</td>\n",
       "</tr>\n",
       "<tr>\n",
       "  <th>x14</th>   <td>   -0.1112</td> <td>    0.028</td> <td>   -3.911</td> <td> 0.000</td> <td>   -0.167</td> <td>   -0.055</td>\n",
       "</tr>\n",
       "<tr>\n",
       "  <th>x15</th>   <td>   -0.1762</td> <td>    0.034</td> <td>   -5.223</td> <td> 0.000</td> <td>   -0.242</td> <td>   -0.110</td>\n",
       "</tr>\n",
       "<tr>\n",
       "  <th>x16</th>   <td>   -0.2100</td> <td>    0.060</td> <td>   -3.514</td> <td> 0.000</td> <td>   -0.327</td> <td>   -0.093</td>\n",
       "</tr>\n",
       "<tr>\n",
       "  <th>x17</th>   <td>    0.1722</td> <td>    0.182</td> <td>    0.945</td> <td> 0.345</td> <td>   -0.185</td> <td>    0.529</td>\n",
       "</tr>\n",
       "<tr>\n",
       "  <th>x18</th>   <td>    0.2715</td> <td>    0.182</td> <td>    1.490</td> <td> 0.136</td> <td>   -0.086</td> <td>    0.629</td>\n",
       "</tr>\n",
       "<tr>\n",
       "  <th>x19</th>   <td>    0.3516</td> <td>    0.182</td> <td>    1.928</td> <td> 0.054</td> <td>   -0.006</td> <td>    0.709</td>\n",
       "</tr>\n",
       "<tr>\n",
       "  <th>x20</th>   <td>    0.4089</td> <td>    0.183</td> <td>    2.239</td> <td> 0.025</td> <td>    0.051</td> <td>    0.767</td>\n",
       "</tr>\n",
       "<tr>\n",
       "  <th>x21</th>   <td>    0.4725</td> <td>    0.188</td> <td>    2.518</td> <td> 0.012</td> <td>    0.105</td> <td>    0.840</td>\n",
       "</tr>\n",
       "<tr>\n",
       "  <th>x22</th>   <td>    0.3195</td> <td>    0.203</td> <td>    1.573</td> <td> 0.116</td> <td>   -0.079</td> <td>    0.718</td>\n",
       "</tr>\n",
       "<tr>\n",
       "  <th>x23</th>   <td>   -0.0291</td> <td>    0.077</td> <td>   -0.379</td> <td> 0.705</td> <td>   -0.180</td> <td>    0.121</td>\n",
       "</tr>\n",
       "<tr>\n",
       "  <th>x24</th>   <td>    0.1519</td> <td>    0.073</td> <td>    2.094</td> <td> 0.036</td> <td>    0.010</td> <td>    0.294</td>\n",
       "</tr>\n",
       "<tr>\n",
       "  <th>x25</th>   <td>    0.1567</td> <td>    0.073</td> <td>    2.160</td> <td> 0.031</td> <td>    0.015</td> <td>    0.299</td>\n",
       "</tr>\n",
       "<tr>\n",
       "  <th>x26</th>   <td>    0.2292</td> <td>    0.073</td> <td>    3.147</td> <td> 0.002</td> <td>    0.086</td> <td>    0.372</td>\n",
       "</tr>\n",
       "</table>\n",
       "<table class=\"simpletable\">\n",
       "<tr>\n",
       "  <th>Omnibus:</th>       <td>69.106</td> <th>  Durbin-Watson:     </th> <td>   1.955</td>\n",
       "</tr>\n",
       "<tr>\n",
       "  <th>Prob(Omnibus):</th> <td> 0.000</td> <th>  Jarque-Bera (JB):  </th> <td>  81.672</td>\n",
       "</tr>\n",
       "<tr>\n",
       "  <th>Skew:</th>          <td>-0.077</td> <th>  Prob(JB):          </th> <td>1.84e-18</td>\n",
       "</tr>\n",
       "<tr>\n",
       "  <th>Kurtosis:</th>      <td> 3.261</td> <th>  Cond. No.          </th> <td>    377.</td>\n",
       "</tr>\n",
       "</table><br/><br/>Warnings:<br/>[1] Standard Errors assume that the covariance matrix of the errors is correctly specified."
      ],
      "text/plain": [
       "<class 'statsmodels.iolib.summary.Summary'>\n",
       "\"\"\"\n",
       "                            OLS Regression Results                            \n",
       "==============================================================================\n",
       "Dep. Variable:                  price   R-squared:                       0.631\n",
       "Model:                            OLS   Adj. R-squared:                  0.630\n",
       "Method:                 Least Squares   F-statistic:                     1397.\n",
       "Date:                Thu, 14 May 2020   Prob (F-statistic):               0.00\n",
       "Time:                        19:24:06   Log-Likelihood:                -5608.2\n",
       "No. Observations:               21290   AIC:                         1.127e+04\n",
       "Df Residuals:                   21263   BIC:                         1.149e+04\n",
       "Df Model:                          26                                         \n",
       "Covariance Type:            nonrobust                                         \n",
       "==============================================================================\n",
       "                 coef    std err          t      P>|t|      [0.025      0.975]\n",
       "------------------------------------------------------------------------------\n",
       "const         11.6375      0.197     59.177      0.000      11.252      12.023\n",
       "x1             0.6423      0.011     58.666      0.000       0.621       0.664\n",
       "x2             2.0611      0.047     43.634      0.000       1.969       2.154\n",
       "x3            -0.1970      0.090     -2.184      0.029      -0.374      -0.020\n",
       "x4             0.2845      0.009     33.134      0.000       0.268       0.301\n",
       "x5             0.5518      0.010     55.264      0.000       0.532       0.571\n",
       "x6             0.7957      0.012     65.142      0.000       0.772       0.820\n",
       "x7             0.9553      0.015     61.937      0.000       0.925       0.986\n",
       "x8             1.0925      0.022     49.799      0.000       1.050       1.136\n",
       "x9             1.2512      0.040     31.370      0.000       1.173       1.329\n",
       "x10            1.3096      0.106     12.392      0.000       1.102       1.517\n",
       "x11            0.0359      0.027      1.332      0.183      -0.017       0.089\n",
       "x12           -0.0629      0.027     -2.350      0.019      -0.115      -0.010\n",
       "x13           -0.0962      0.027     -3.535      0.000      -0.150      -0.043\n",
       "x14           -0.1112      0.028     -3.911      0.000      -0.167      -0.055\n",
       "x15           -0.1762      0.034     -5.223      0.000      -0.242      -0.110\n",
       "x16           -0.2100      0.060     -3.514      0.000      -0.327      -0.093\n",
       "x17            0.1722      0.182      0.945      0.345      -0.185       0.529\n",
       "x18            0.2715      0.182      1.490      0.136      -0.086       0.629\n",
       "x19            0.3516      0.182      1.928      0.054      -0.006       0.709\n",
       "x20            0.4089      0.183      2.239      0.025       0.051       0.767\n",
       "x21            0.4725      0.188      2.518      0.012       0.105       0.840\n",
       "x22            0.3195      0.203      1.573      0.116      -0.079       0.718\n",
       "x23           -0.0291      0.077     -0.379      0.705      -0.180       0.121\n",
       "x24            0.1519      0.073      2.094      0.036       0.010       0.294\n",
       "x25            0.1567      0.073      2.160      0.031       0.015       0.299\n",
       "x26            0.2292      0.073      3.147      0.002       0.086       0.372\n",
       "==============================================================================\n",
       "Omnibus:                       69.106   Durbin-Watson:                   1.955\n",
       "Prob(Omnibus):                  0.000   Jarque-Bera (JB):               81.672\n",
       "Skew:                          -0.077   Prob(JB):                     1.84e-18\n",
       "Kurtosis:                       3.261   Cond. No.                         377.\n",
       "==============================================================================\n",
       "\n",
       "Warnings:\n",
       "[1] Standard Errors assume that the covariance matrix of the errors is correctly specified.\n",
       "\"\"\""
      ]
     },
     "execution_count": 119,
     "metadata": {},
     "output_type": "execute_result"
    }
   ],
   "source": [
    "X_fin = X_s\n",
    "X_with_intercept = sm.add_constant(X_s)\n",
    "model1_4 = sm.OLS(y_s, X_with_intercept).fit()\n",
    "model1_4.summary()"
   ]
  },
  {
   "cell_type": "markdown",
   "metadata": {},
   "source": [
    "keeping distance data"
   ]
  },
  {
   "cell_type": "code",
   "execution_count": 120,
   "metadata": {},
   "outputs": [],
   "source": [
    "# removing sqm_living15 data "
   ]
  },
  {
   "cell_type": "code",
   "execution_count": null,
   "metadata": {},
   "outputs": [],
   "source": [
    "# create dataframe with scaling applied to continuous variables\n",
    "df_scale_dummies = df_dummies.copy()\n",
    "df_scale_dummies.drop(['price', 'sqm_living15',  ], axis=1, inplace=True)\n",
    "X_s = scaler.fit_transform(df_scale_dummies)"
   ]
  },
  {
   "cell_type": "code",
   "execution_count": null,
   "metadata": {},
   "outputs": [],
   "source": [
    "df_scale_dummies.columns"
   ]
  },
  {
   "cell_type": "code",
   "execution_count": null,
   "metadata": {},
   "outputs": [],
   "source": [
    "X_fin = X_s\n",
    "X_with_intercept = sm.add_constant(X_s)\n",
    "model1_2 = sm.OLS(y_s, X_with_intercept).fit()\n",
    "model1_2.summary()"
   ]
  },
  {
   "cell_type": "code",
   "execution_count": null,
   "metadata": {},
   "outputs": [],
   "source": []
  },
  {
   "cell_type": "markdown",
   "metadata": {},
   "source": [
    "### no scaling applied to continuous, log transformed price"
   ]
  },
  {
   "cell_type": "code",
   "execution_count": 121,
   "metadata": {},
   "outputs": [
    {
     "data": {
      "text/plain": [
       "Index(['price', 'age', 'sqm_living', 'sqm_lot', 'distance_seattle', 'grade_7',\n",
       "       'grade_8', 'grade_9', 'grade_10', 'grade_11', 'grade_12', 'grade_13',\n",
       "       'bed_2', 'bed_3', 'bed_4', 'bed_5', 'bed_6', 'bed_7', 'bathrooms_1.0',\n",
       "       'bathrooms_2.0', 'bathrooms_3.0', 'bathrooms_4.0', 'bathrooms_5.0',\n",
       "       'bathrooms_6.0', 'condition_2', 'condition_3', 'condition_4',\n",
       "       'condition_5'],\n",
       "      dtype='object')"
      ]
     },
     "execution_count": 121,
     "metadata": {},
     "output_type": "execute_result"
    }
   ],
   "source": [
    "df_dummies.columns"
   ]
  },
  {
   "cell_type": "code",
   "execution_count": 122,
   "metadata": {},
   "outputs": [],
   "source": [
    "y = price_log\n",
    "X = df_dummies.copy()\n",
    "X.drop(['price',], axis=1, inplace=True)"
   ]
  },
  {
   "cell_type": "code",
   "execution_count": 123,
   "metadata": {},
   "outputs": [
    {
     "name": "stderr",
     "output_type": "stream",
     "text": [
      "/Users/badmin/opt/anaconda3/envs/learn-env/lib/python3.6/site-packages/numpy/core/fromnumeric.py:2389: FutureWarning: Method .ptp is deprecated and will be removed in a future version. Use numpy.ptp instead.\n",
      "  return ptp(axis=axis, out=out, **kwargs)\n"
     ]
    },
    {
     "data": {
      "text/html": [
       "<table class=\"simpletable\">\n",
       "<caption>OLS Regression Results</caption>\n",
       "<tr>\n",
       "  <th>Dep. Variable:</th>          <td>price</td>      <th>  R-squared:         </th> <td>   0.724</td>\n",
       "</tr>\n",
       "<tr>\n",
       "  <th>Model:</th>                   <td>OLS</td>       <th>  Adj. R-squared:    </th> <td>   0.724</td>\n",
       "</tr>\n",
       "<tr>\n",
       "  <th>Method:</th>             <td>Least Squares</td>  <th>  F-statistic:       </th> <td>   2065.</td>\n",
       "</tr>\n",
       "<tr>\n",
       "  <th>Date:</th>             <td>Thu, 14 May 2020</td> <th>  Prob (F-statistic):</th>  <td>  0.00</td> \n",
       "</tr>\n",
       "<tr>\n",
       "  <th>Time:</th>                 <td>19:24:26</td>     <th>  Log-Likelihood:    </th> <td> -2512.6</td>\n",
       "</tr>\n",
       "<tr>\n",
       "  <th>No. Observations:</th>      <td> 21290</td>      <th>  AIC:               </th> <td>   5081.</td>\n",
       "</tr>\n",
       "<tr>\n",
       "  <th>Df Residuals:</th>          <td> 21262</td>      <th>  BIC:               </th> <td>   5304.</td>\n",
       "</tr>\n",
       "<tr>\n",
       "  <th>Df Model:</th>              <td>    27</td>      <th>                     </th>     <td> </td>   \n",
       "</tr>\n",
       "<tr>\n",
       "  <th>Covariance Type:</th>      <td>nonrobust</td>    <th>                     </th>     <td> </td>   \n",
       "</tr>\n",
       "</table>\n",
       "<table class=\"simpletable\">\n",
       "<tr>\n",
       "          <td></td>            <th>coef</th>     <th>std err</th>      <th>t</th>      <th>P>|t|</th>  <th>[0.025</th>    <th>0.975]</th>  \n",
       "</tr>\n",
       "<tr>\n",
       "  <th>const</th>            <td>   11.2620</td> <td>    0.170</td> <td>   66.203</td> <td> 0.000</td> <td>   10.929</td> <td>   11.595</td>\n",
       "</tr>\n",
       "<tr>\n",
       "  <th>age</th>              <td>    0.0041</td> <td> 8.34e-05</td> <td>   48.872</td> <td> 0.000</td> <td>    0.004</td> <td>    0.004</td>\n",
       "</tr>\n",
       "<tr>\n",
       "  <th>sqm_living</th>       <td>    0.0024</td> <td> 4.56e-05</td> <td>   51.878</td> <td> 0.000</td> <td>    0.002</td> <td>    0.002</td>\n",
       "</tr>\n",
       "<tr>\n",
       "  <th>sqm_lot</th>          <td>-1.044e-06</td> <td> 5.09e-07</td> <td>   -2.052</td> <td> 0.040</td> <td>-2.04e-06</td> <td>-4.68e-08</td>\n",
       "</tr>\n",
       "<tr>\n",
       "  <th>distance_seattle</th> <td>    0.0136</td> <td>    0.000</td> <td>   84.710</td> <td> 0.000</td> <td>    0.013</td> <td>    0.014</td>\n",
       "</tr>\n",
       "<tr>\n",
       "  <th>grade_7</th>          <td>    0.2168</td> <td>    0.007</td> <td>   29.040</td> <td> 0.000</td> <td>    0.202</td> <td>    0.231</td>\n",
       "</tr>\n",
       "<tr>\n",
       "  <th>grade_8</th>          <td>    0.4454</td> <td>    0.009</td> <td>   51.050</td> <td> 0.000</td> <td>    0.428</td> <td>    0.463</td>\n",
       "</tr>\n",
       "<tr>\n",
       "  <th>grade_9</th>          <td>    0.6653</td> <td>    0.011</td> <td>   62.330</td> <td> 0.000</td> <td>    0.644</td> <td>    0.686</td>\n",
       "</tr>\n",
       "<tr>\n",
       "  <th>grade_10</th>         <td>    0.8137</td> <td>    0.013</td> <td>   60.544</td> <td> 0.000</td> <td>    0.787</td> <td>    0.840</td>\n",
       "</tr>\n",
       "<tr>\n",
       "  <th>grade_11</th>         <td>    0.9444</td> <td>    0.019</td> <td>   49.570</td> <td> 0.000</td> <td>    0.907</td> <td>    0.982</td>\n",
       "</tr>\n",
       "<tr>\n",
       "  <th>grade_12</th>         <td>    1.1050</td> <td>    0.035</td> <td>   32.001</td> <td> 0.000</td> <td>    1.037</td> <td>    1.173</td>\n",
       "</tr>\n",
       "<tr>\n",
       "  <th>grade_13</th>         <td>    1.1545</td> <td>    0.091</td> <td>   12.631</td> <td> 0.000</td> <td>    0.975</td> <td>    1.334</td>\n",
       "</tr>\n",
       "<tr>\n",
       "  <th>bed_2</th>            <td>    0.0296</td> <td>    0.023</td> <td>    1.270</td> <td> 0.204</td> <td>   -0.016</td> <td>    0.075</td>\n",
       "</tr>\n",
       "<tr>\n",
       "  <th>bed_3</th>            <td>   -0.0220</td> <td>    0.023</td> <td>   -0.948</td> <td> 0.343</td> <td>   -0.067</td> <td>    0.023</td>\n",
       "</tr>\n",
       "<tr>\n",
       "  <th>bed_4</th>            <td>   -0.0368</td> <td>    0.024</td> <td>   -1.563</td> <td> 0.118</td> <td>   -0.083</td> <td>    0.009</td>\n",
       "</tr>\n",
       "<tr>\n",
       "  <th>bed_5</th>            <td>   -0.0517</td> <td>    0.025</td> <td>   -2.102</td> <td> 0.036</td> <td>   -0.100</td> <td>   -0.003</td>\n",
       "</tr>\n",
       "<tr>\n",
       "  <th>bed_6</th>            <td>   -0.1148</td> <td>    0.029</td> <td>   -3.932</td> <td> 0.000</td> <td>   -0.172</td> <td>   -0.058</td>\n",
       "</tr>\n",
       "<tr>\n",
       "  <th>bed_7</th>            <td>   -0.1665</td> <td>    0.052</td> <td>   -3.221</td> <td> 0.001</td> <td>   -0.268</td> <td>   -0.065</td>\n",
       "</tr>\n",
       "<tr>\n",
       "  <th>bathrooms_1.0</th>    <td>    0.1705</td> <td>    0.158</td> <td>    1.082</td> <td> 0.279</td> <td>   -0.138</td> <td>    0.479</td>\n",
       "</tr>\n",
       "<tr>\n",
       "  <th>bathrooms_2.0</th>    <td>    0.2595</td> <td>    0.158</td> <td>    1.647</td> <td> 0.100</td> <td>   -0.049</td> <td>    0.568</td>\n",
       "</tr>\n",
       "<tr>\n",
       "  <th>bathrooms_3.0</th>    <td>    0.3196</td> <td>    0.158</td> <td>    2.027</td> <td> 0.043</td> <td>    0.011</td> <td>    0.629</td>\n",
       "</tr>\n",
       "<tr>\n",
       "  <th>bathrooms_4.0</th>    <td>    0.3627</td> <td>    0.158</td> <td>    2.297</td> <td> 0.022</td> <td>    0.053</td> <td>    0.672</td>\n",
       "</tr>\n",
       "<tr>\n",
       "  <th>bathrooms_5.0</th>    <td>    0.4437</td> <td>    0.162</td> <td>    2.734</td> <td> 0.006</td> <td>    0.126</td> <td>    0.762</td>\n",
       "</tr>\n",
       "<tr>\n",
       "  <th>bathrooms_6.0</th>    <td>    0.2285</td> <td>    0.176</td> <td>    1.302</td> <td> 0.193</td> <td>   -0.116</td> <td>    0.573</td>\n",
       "</tr>\n",
       "<tr>\n",
       "  <th>condition_2</th>      <td>    0.0592</td> <td>    0.066</td> <td>    0.892</td> <td> 0.372</td> <td>   -0.071</td> <td>    0.189</td>\n",
       "</tr>\n",
       "<tr>\n",
       "  <th>condition_3</th>      <td>    0.1847</td> <td>    0.063</td> <td>    2.945</td> <td> 0.003</td> <td>    0.062</td> <td>    0.308</td>\n",
       "</tr>\n",
       "<tr>\n",
       "  <th>condition_4</th>      <td>    0.2280</td> <td>    0.063</td> <td>    3.634</td> <td> 0.000</td> <td>    0.105</td> <td>    0.351</td>\n",
       "</tr>\n",
       "<tr>\n",
       "  <th>condition_5</th>      <td>    0.2866</td> <td>    0.063</td> <td>    4.550</td> <td> 0.000</td> <td>    0.163</td> <td>    0.410</td>\n",
       "</tr>\n",
       "</table>\n",
       "<table class=\"simpletable\">\n",
       "<tr>\n",
       "  <th>Omnibus:</th>       <td>424.532</td> <th>  Durbin-Watson:     </th> <td>   1.962</td> \n",
       "</tr>\n",
       "<tr>\n",
       "  <th>Prob(Omnibus):</th> <td> 0.000</td>  <th>  Jarque-Bera (JB):  </th> <td> 807.710</td> \n",
       "</tr>\n",
       "<tr>\n",
       "  <th>Skew:</th>          <td> 0.128</td>  <th>  Prob(JB):          </th> <td>4.06e-176</td>\n",
       "</tr>\n",
       "<tr>\n",
       "  <th>Kurtosis:</th>      <td> 3.919</td>  <th>  Cond. No.          </th> <td>9.00e+05</td> \n",
       "</tr>\n",
       "</table><br/><br/>Warnings:<br/>[1] Standard Errors assume that the covariance matrix of the errors is correctly specified.<br/>[2] The condition number is large,  9e+05. This might indicate that there are<br/>strong multicollinearity or other numerical problems."
      ],
      "text/plain": [
       "<class 'statsmodels.iolib.summary.Summary'>\n",
       "\"\"\"\n",
       "                            OLS Regression Results                            \n",
       "==============================================================================\n",
       "Dep. Variable:                  price   R-squared:                       0.724\n",
       "Model:                            OLS   Adj. R-squared:                  0.724\n",
       "Method:                 Least Squares   F-statistic:                     2065.\n",
       "Date:                Thu, 14 May 2020   Prob (F-statistic):               0.00\n",
       "Time:                        19:24:26   Log-Likelihood:                -2512.6\n",
       "No. Observations:               21290   AIC:                             5081.\n",
       "Df Residuals:                   21262   BIC:                             5304.\n",
       "Df Model:                          27                                         \n",
       "Covariance Type:            nonrobust                                         \n",
       "====================================================================================\n",
       "                       coef    std err          t      P>|t|      [0.025      0.975]\n",
       "------------------------------------------------------------------------------------\n",
       "const               11.2620      0.170     66.203      0.000      10.929      11.595\n",
       "age                  0.0041   8.34e-05     48.872      0.000       0.004       0.004\n",
       "sqm_living           0.0024   4.56e-05     51.878      0.000       0.002       0.002\n",
       "sqm_lot          -1.044e-06   5.09e-07     -2.052      0.040   -2.04e-06   -4.68e-08\n",
       "distance_seattle     0.0136      0.000     84.710      0.000       0.013       0.014\n",
       "grade_7              0.2168      0.007     29.040      0.000       0.202       0.231\n",
       "grade_8              0.4454      0.009     51.050      0.000       0.428       0.463\n",
       "grade_9              0.6653      0.011     62.330      0.000       0.644       0.686\n",
       "grade_10             0.8137      0.013     60.544      0.000       0.787       0.840\n",
       "grade_11             0.9444      0.019     49.570      0.000       0.907       0.982\n",
       "grade_12             1.1050      0.035     32.001      0.000       1.037       1.173\n",
       "grade_13             1.1545      0.091     12.631      0.000       0.975       1.334\n",
       "bed_2                0.0296      0.023      1.270      0.204      -0.016       0.075\n",
       "bed_3               -0.0220      0.023     -0.948      0.343      -0.067       0.023\n",
       "bed_4               -0.0368      0.024     -1.563      0.118      -0.083       0.009\n",
       "bed_5               -0.0517      0.025     -2.102      0.036      -0.100      -0.003\n",
       "bed_6               -0.1148      0.029     -3.932      0.000      -0.172      -0.058\n",
       "bed_7               -0.1665      0.052     -3.221      0.001      -0.268      -0.065\n",
       "bathrooms_1.0        0.1705      0.158      1.082      0.279      -0.138       0.479\n",
       "bathrooms_2.0        0.2595      0.158      1.647      0.100      -0.049       0.568\n",
       "bathrooms_3.0        0.3196      0.158      2.027      0.043       0.011       0.629\n",
       "bathrooms_4.0        0.3627      0.158      2.297      0.022       0.053       0.672\n",
       "bathrooms_5.0        0.4437      0.162      2.734      0.006       0.126       0.762\n",
       "bathrooms_6.0        0.2285      0.176      1.302      0.193      -0.116       0.573\n",
       "condition_2          0.0592      0.066      0.892      0.372      -0.071       0.189\n",
       "condition_3          0.1847      0.063      2.945      0.003       0.062       0.308\n",
       "condition_4          0.2280      0.063      3.634      0.000       0.105       0.351\n",
       "condition_5          0.2866      0.063      4.550      0.000       0.163       0.410\n",
       "==============================================================================\n",
       "Omnibus:                      424.532   Durbin-Watson:                   1.962\n",
       "Prob(Omnibus):                  0.000   Jarque-Bera (JB):              807.710\n",
       "Skew:                           0.128   Prob(JB):                    4.06e-176\n",
       "Kurtosis:                       3.919   Cond. No.                     9.00e+05\n",
       "==============================================================================\n",
       "\n",
       "Warnings:\n",
       "[1] Standard Errors assume that the covariance matrix of the errors is correctly specified.\n",
       "[2] The condition number is large,  9e+05. This might indicate that there are\n",
       "strong multicollinearity or other numerical problems.\n",
       "\"\"\""
      ]
     },
     "execution_count": 123,
     "metadata": {},
     "output_type": "execute_result"
    }
   ],
   "source": [
    "# create model\n",
    "X_with_intercept = sm.add_constant(X)\n",
    "model2 = sm.OLS(y, X_with_intercept).fit()\n",
    "model2.summary()"
   ]
  },
  {
   "cell_type": "markdown",
   "metadata": {},
   "source": [
    " the durbin watson score shows that there is some autocorrelation present in the data"
   ]
  },
  {
   "cell_type": "markdown",
   "metadata": {},
   "source": [
    "## dummies and no scaling on continuous data or price"
   ]
  },
  {
   "cell_type": "code",
   "execution_count": 127,
   "metadata": {},
   "outputs": [],
   "source": [
    "y = data.price\n",
    "X = df_dummies.copy()\n",
    "X.drop(['price', ], axis=1, inplace=True)\n"
   ]
  },
  {
   "cell_type": "code",
   "execution_count": 128,
   "metadata": {
    "scrolled": true
   },
   "outputs": [
    {
     "data": {
      "text/html": [
       "<table class=\"simpletable\">\n",
       "<caption>OLS Regression Results</caption>\n",
       "<tr>\n",
       "  <th>Dep. Variable:</th>          <td>price</td>      <th>  R-squared:         </th>  <td>   0.673</td>  \n",
       "</tr>\n",
       "<tr>\n",
       "  <th>Model:</th>                   <td>OLS</td>       <th>  Adj. R-squared:    </th>  <td>   0.672</td>  \n",
       "</tr>\n",
       "<tr>\n",
       "  <th>Method:</th>             <td>Least Squares</td>  <th>  F-statistic:       </th>  <td>   1618.</td>  \n",
       "</tr>\n",
       "<tr>\n",
       "  <th>Date:</th>             <td>Thu, 14 May 2020</td> <th>  Prob (F-statistic):</th>   <td>  0.00</td>   \n",
       "</tr>\n",
       "<tr>\n",
       "  <th>Time:</th>                 <td>19:24:52</td>     <th>  Log-Likelihood:    </th> <td>-2.9046e+05</td>\n",
       "</tr>\n",
       "<tr>\n",
       "  <th>No. Observations:</th>      <td> 21290</td>      <th>  AIC:               </th>  <td>5.810e+05</td> \n",
       "</tr>\n",
       "<tr>\n",
       "  <th>Df Residuals:</th>          <td> 21262</td>      <th>  BIC:               </th>  <td>5.812e+05</td> \n",
       "</tr>\n",
       "<tr>\n",
       "  <th>Df Model:</th>              <td>    27</td>      <th>                     </th>      <td> </td>     \n",
       "</tr>\n",
       "<tr>\n",
       "  <th>Covariance Type:</th>      <td>nonrobust</td>    <th>                     </th>      <td> </td>     \n",
       "</tr>\n",
       "</table>\n",
       "<table class=\"simpletable\">\n",
       "<tr>\n",
       "          <td></td>            <th>coef</th>     <th>std err</th>      <th>t</th>      <th>P>|t|</th>  <th>[0.025</th>    <th>0.975]</th>  \n",
       "</tr>\n",
       "<tr>\n",
       "  <th>const</th>            <td>-3.616e+05</td> <td> 1.27e+05</td> <td>   -2.843</td> <td> 0.004</td> <td>-6.11e+05</td> <td>-1.12e+05</td>\n",
       "</tr>\n",
       "<tr>\n",
       "  <th>age</th>              <td> 2618.5409</td> <td>   62.380</td> <td>   41.978</td> <td> 0.000</td> <td> 2496.272</td> <td> 2740.809</td>\n",
       "</tr>\n",
       "<tr>\n",
       "  <th>sqm_living</th>       <td> 1686.7336</td> <td>   34.075</td> <td>   49.500</td> <td> 0.000</td> <td> 1619.944</td> <td> 1753.524</td>\n",
       "</tr>\n",
       "<tr>\n",
       "  <th>sqm_lot</th>          <td>   -3.1805</td> <td>    0.380</td> <td>   -8.364</td> <td> 0.000</td> <td>   -3.926</td> <td>   -2.435</td>\n",
       "</tr>\n",
       "<tr>\n",
       "  <th>distance_seattle</th> <td> 5442.6939</td> <td>  120.032</td> <td>   45.344</td> <td> 0.000</td> <td> 5207.422</td> <td> 5677.966</td>\n",
       "</tr>\n",
       "<tr>\n",
       "  <th>grade_7</th>          <td> 7.385e+04</td> <td> 5583.999</td> <td>   13.225</td> <td> 0.000</td> <td> 6.29e+04</td> <td> 8.48e+04</td>\n",
       "</tr>\n",
       "<tr>\n",
       "  <th>grade_8</th>          <td> 1.754e+05</td> <td> 6525.090</td> <td>   26.883</td> <td> 0.000</td> <td> 1.63e+05</td> <td> 1.88e+05</td>\n",
       "</tr>\n",
       "<tr>\n",
       "  <th>grade_9</th>          <td> 3.175e+05</td> <td> 7981.549</td> <td>   39.779</td> <td> 0.000</td> <td> 3.02e+05</td> <td> 3.33e+05</td>\n",
       "</tr>\n",
       "<tr>\n",
       "  <th>grade_10</th>         <td> 4.943e+05</td> <td> 1.01e+04</td> <td>   49.180</td> <td> 0.000</td> <td> 4.75e+05</td> <td> 5.14e+05</td>\n",
       "</tr>\n",
       "<tr>\n",
       "  <th>grade_11</th>         <td> 7.545e+05</td> <td> 1.42e+04</td> <td>   52.963</td> <td> 0.000</td> <td> 7.27e+05</td> <td> 7.82e+05</td>\n",
       "</tr>\n",
       "<tr>\n",
       "  <th>grade_12</th>         <td> 1.192e+06</td> <td> 2.58e+04</td> <td>   46.143</td> <td> 0.000</td> <td> 1.14e+06</td> <td> 1.24e+06</td>\n",
       "</tr>\n",
       "<tr>\n",
       "  <th>grade_13</th>         <td> 1.756e+06</td> <td> 6.84e+04</td> <td>   25.698</td> <td> 0.000</td> <td> 1.62e+06</td> <td> 1.89e+06</td>\n",
       "</tr>\n",
       "<tr>\n",
       "  <th>bed_2</th>            <td> 7714.3206</td> <td> 1.74e+04</td> <td>    0.443</td> <td> 0.658</td> <td>-2.64e+04</td> <td> 4.18e+04</td>\n",
       "</tr>\n",
       "<tr>\n",
       "  <th>bed_3</th>            <td>-2.605e+04</td> <td> 1.73e+04</td> <td>   -1.504</td> <td> 0.133</td> <td>   -6e+04</td> <td> 7908.291</td>\n",
       "</tr>\n",
       "<tr>\n",
       "  <th>bed_4</th>            <td>-6.296e+04</td> <td> 1.76e+04</td> <td>   -3.577</td> <td> 0.000</td> <td>-9.75e+04</td> <td>-2.85e+04</td>\n",
       "</tr>\n",
       "<tr>\n",
       "  <th>bed_5</th>            <td>  -5.9e+04</td> <td> 1.84e+04</td> <td>   -3.209</td> <td> 0.001</td> <td> -9.5e+04</td> <td> -2.3e+04</td>\n",
       "</tr>\n",
       "<tr>\n",
       "  <th>bed_6</th>            <td>-1.225e+05</td> <td> 2.18e+04</td> <td>   -5.610</td> <td> 0.000</td> <td>-1.65e+05</td> <td>-7.97e+04</td>\n",
       "</tr>\n",
       "<tr>\n",
       "  <th>bed_7</th>            <td>-1.266e+05</td> <td> 3.87e+04</td> <td>   -3.275</td> <td> 0.001</td> <td>-2.02e+05</td> <td>-5.08e+04</td>\n",
       "</tr>\n",
       "<tr>\n",
       "  <th>bathrooms_1.0</th>    <td> 9.692e+04</td> <td> 1.18e+05</td> <td>    0.823</td> <td> 0.411</td> <td>-1.34e+05</td> <td> 3.28e+05</td>\n",
       "</tr>\n",
       "<tr>\n",
       "  <th>bathrooms_2.0</th>    <td> 1.165e+05</td> <td> 1.18e+05</td> <td>    0.988</td> <td> 0.323</td> <td>-1.15e+05</td> <td> 3.47e+05</td>\n",
       "</tr>\n",
       "<tr>\n",
       "  <th>bathrooms_3.0</th>    <td> 1.609e+05</td> <td> 1.18e+05</td> <td>    1.364</td> <td> 0.172</td> <td>-7.02e+04</td> <td> 3.92e+05</td>\n",
       "</tr>\n",
       "<tr>\n",
       "  <th>bathrooms_4.0</th>    <td> 2.194e+05</td> <td> 1.18e+05</td> <td>    1.858</td> <td> 0.063</td> <td> -1.2e+04</td> <td> 4.51e+05</td>\n",
       "</tr>\n",
       "<tr>\n",
       "  <th>bathrooms_5.0</th>    <td> 5.705e+05</td> <td> 1.21e+05</td> <td>    4.701</td> <td> 0.000</td> <td> 3.33e+05</td> <td> 8.08e+05</td>\n",
       "</tr>\n",
       "<tr>\n",
       "  <th>bathrooms_6.0</th>    <td> 6.259e+05</td> <td> 1.31e+05</td> <td>    4.766</td> <td> 0.000</td> <td> 3.68e+05</td> <td> 8.83e+05</td>\n",
       "</tr>\n",
       "<tr>\n",
       "  <th>condition_2</th>      <td> 4.024e+04</td> <td> 4.96e+04</td> <td>    0.811</td> <td> 0.418</td> <td>-5.71e+04</td> <td> 1.38e+05</td>\n",
       "</tr>\n",
       "<tr>\n",
       "  <th>condition_3</th>      <td> 5.629e+04</td> <td> 4.69e+04</td> <td>    1.200</td> <td> 0.230</td> <td>-3.56e+04</td> <td> 1.48e+05</td>\n",
       "</tr>\n",
       "<tr>\n",
       "  <th>condition_4</th>      <td> 8.541e+04</td> <td> 4.69e+04</td> <td>    1.821</td> <td> 0.069</td> <td>-6540.996</td> <td> 1.77e+05</td>\n",
       "</tr>\n",
       "<tr>\n",
       "  <th>condition_5</th>      <td> 1.269e+05</td> <td> 4.71e+04</td> <td>    2.696</td> <td> 0.007</td> <td> 3.46e+04</td> <td> 2.19e+05</td>\n",
       "</tr>\n",
       "</table>\n",
       "<table class=\"simpletable\">\n",
       "<tr>\n",
       "  <th>Omnibus:</th>       <td>15166.548</td> <th>  Durbin-Watson:     </th>  <td>   1.983</td> \n",
       "</tr>\n",
       "<tr>\n",
       "  <th>Prob(Omnibus):</th>  <td> 0.000</td>   <th>  Jarque-Bera (JB):  </th> <td>758188.741</td>\n",
       "</tr>\n",
       "<tr>\n",
       "  <th>Skew:</th>           <td> 2.882</td>   <th>  Prob(JB):          </th>  <td>    0.00</td> \n",
       "</tr>\n",
       "<tr>\n",
       "  <th>Kurtosis:</th>       <td>31.662</td>   <th>  Cond. No.          </th>  <td>9.00e+05</td> \n",
       "</tr>\n",
       "</table><br/><br/>Warnings:<br/>[1] Standard Errors assume that the covariance matrix of the errors is correctly specified.<br/>[2] The condition number is large,  9e+05. This might indicate that there are<br/>strong multicollinearity or other numerical problems."
      ],
      "text/plain": [
       "<class 'statsmodels.iolib.summary.Summary'>\n",
       "\"\"\"\n",
       "                            OLS Regression Results                            \n",
       "==============================================================================\n",
       "Dep. Variable:                  price   R-squared:                       0.673\n",
       "Model:                            OLS   Adj. R-squared:                  0.672\n",
       "Method:                 Least Squares   F-statistic:                     1618.\n",
       "Date:                Thu, 14 May 2020   Prob (F-statistic):               0.00\n",
       "Time:                        19:24:52   Log-Likelihood:            -2.9046e+05\n",
       "No. Observations:               21290   AIC:                         5.810e+05\n",
       "Df Residuals:                   21262   BIC:                         5.812e+05\n",
       "Df Model:                          27                                         \n",
       "Covariance Type:            nonrobust                                         \n",
       "====================================================================================\n",
       "                       coef    std err          t      P>|t|      [0.025      0.975]\n",
       "------------------------------------------------------------------------------------\n",
       "const            -3.616e+05   1.27e+05     -2.843      0.004   -6.11e+05   -1.12e+05\n",
       "age               2618.5409     62.380     41.978      0.000    2496.272    2740.809\n",
       "sqm_living        1686.7336     34.075     49.500      0.000    1619.944    1753.524\n",
       "sqm_lot             -3.1805      0.380     -8.364      0.000      -3.926      -2.435\n",
       "distance_seattle  5442.6939    120.032     45.344      0.000    5207.422    5677.966\n",
       "grade_7           7.385e+04   5583.999     13.225      0.000    6.29e+04    8.48e+04\n",
       "grade_8           1.754e+05   6525.090     26.883      0.000    1.63e+05    1.88e+05\n",
       "grade_9           3.175e+05   7981.549     39.779      0.000    3.02e+05    3.33e+05\n",
       "grade_10          4.943e+05   1.01e+04     49.180      0.000    4.75e+05    5.14e+05\n",
       "grade_11          7.545e+05   1.42e+04     52.963      0.000    7.27e+05    7.82e+05\n",
       "grade_12          1.192e+06   2.58e+04     46.143      0.000    1.14e+06    1.24e+06\n",
       "grade_13          1.756e+06   6.84e+04     25.698      0.000    1.62e+06    1.89e+06\n",
       "bed_2             7714.3206   1.74e+04      0.443      0.658   -2.64e+04    4.18e+04\n",
       "bed_3            -2.605e+04   1.73e+04     -1.504      0.133      -6e+04    7908.291\n",
       "bed_4            -6.296e+04   1.76e+04     -3.577      0.000   -9.75e+04   -2.85e+04\n",
       "bed_5              -5.9e+04   1.84e+04     -3.209      0.001    -9.5e+04    -2.3e+04\n",
       "bed_6            -1.225e+05   2.18e+04     -5.610      0.000   -1.65e+05   -7.97e+04\n",
       "bed_7            -1.266e+05   3.87e+04     -3.275      0.001   -2.02e+05   -5.08e+04\n",
       "bathrooms_1.0     9.692e+04   1.18e+05      0.823      0.411   -1.34e+05    3.28e+05\n",
       "bathrooms_2.0     1.165e+05   1.18e+05      0.988      0.323   -1.15e+05    3.47e+05\n",
       "bathrooms_3.0     1.609e+05   1.18e+05      1.364      0.172   -7.02e+04    3.92e+05\n",
       "bathrooms_4.0     2.194e+05   1.18e+05      1.858      0.063    -1.2e+04    4.51e+05\n",
       "bathrooms_5.0     5.705e+05   1.21e+05      4.701      0.000    3.33e+05    8.08e+05\n",
       "bathrooms_6.0     6.259e+05   1.31e+05      4.766      0.000    3.68e+05    8.83e+05\n",
       "condition_2       4.024e+04   4.96e+04      0.811      0.418   -5.71e+04    1.38e+05\n",
       "condition_3       5.629e+04   4.69e+04      1.200      0.230   -3.56e+04    1.48e+05\n",
       "condition_4       8.541e+04   4.69e+04      1.821      0.069   -6540.996    1.77e+05\n",
       "condition_5       1.269e+05   4.71e+04      2.696      0.007    3.46e+04    2.19e+05\n",
       "==============================================================================\n",
       "Omnibus:                    15166.548   Durbin-Watson:                   1.983\n",
       "Prob(Omnibus):                  0.000   Jarque-Bera (JB):           758188.741\n",
       "Skew:                           2.882   Prob(JB):                         0.00\n",
       "Kurtosis:                      31.662   Cond. No.                     9.00e+05\n",
       "==============================================================================\n",
       "\n",
       "Warnings:\n",
       "[1] Standard Errors assume that the covariance matrix of the errors is correctly specified.\n",
       "[2] The condition number is large,  9e+05. This might indicate that there are\n",
       "strong multicollinearity or other numerical problems.\n",
       "\"\"\""
      ]
     },
     "execution_count": 128,
     "metadata": {},
     "output_type": "execute_result"
    }
   ],
   "source": [
    "# create model\n",
    "X_with_intercept = sm.add_constant(X)\n",
    "model2_3 = sm.OLS(y, X_with_intercept).fit()\n",
    "model2_3.summary()"
   ]
  },
  {
   "cell_type": "code",
   "execution_count": null,
   "metadata": {},
   "outputs": [],
   "source": [
    "stepwise_selection(X,y)"
   ]
  },
  {
   "cell_type": "markdown",
   "metadata": {},
   "source": [
    "### with minmax scaling applied to continuous, log transformed price"
   ]
  },
  {
   "cell_type": "code",
   "execution_count": 133,
   "metadata": {},
   "outputs": [
    {
     "data": {
      "text/plain": [
       "Index(['grade_7', 'grade_8', 'grade_9', 'grade_10', 'grade_11', 'grade_12',\n",
       "       'grade_13', 'bed_2', 'bed_3', 'bed_4', 'bed_5', 'bed_6', 'bed_7',\n",
       "       'bathrooms_1.0', 'bathrooms_2.0', 'bathrooms_3.0', 'bathrooms_4.0',\n",
       "       'bathrooms_5.0', 'bathrooms_6.0', 'condition_2', 'condition_3',\n",
       "       'condition_4', 'condition_5'],\n",
       "      dtype='object')"
      ]
     },
     "execution_count": 133,
     "metadata": {},
     "output_type": "execute_result"
    }
   ],
   "source": [
    "dummies.columns"
   ]
  },
  {
   "cell_type": "code",
   "execution_count": 134,
   "metadata": {},
   "outputs": [],
   "source": [
    "# dataframe with only continuous transformed\n",
    "df_scont_dummies = pd.concat([cont, dummies],axis=1)"
   ]
  },
  {
   "cell_type": "code",
   "execution_count": null,
   "metadata": {},
   "outputs": [],
   "source": []
  },
  {
   "cell_type": "code",
   "execution_count": 135,
   "metadata": {},
   "outputs": [],
   "source": [
    "final_df = pd.concat([df_scont_dummies, price_log], axis=1)"
   ]
  },
  {
   "cell_type": "code",
   "execution_count": 136,
   "metadata": {},
   "outputs": [
    {
     "data": {
      "text/plain": [
       "Index(['age', 'sqm_living', 'sqm_lot', 'distance_seattle', 'grade_7',\n",
       "       'grade_8', 'grade_9', 'grade_10', 'grade_11', 'grade_12', 'grade_13',\n",
       "       'bed_2', 'bed_3', 'bed_4', 'bed_5', 'bed_6', 'bed_7', 'bathrooms_1.0',\n",
       "       'bathrooms_2.0', 'bathrooms_3.0', 'bathrooms_4.0', 'bathrooms_5.0',\n",
       "       'bathrooms_6.0', 'condition_2', 'condition_3', 'condition_4',\n",
       "       'condition_5', 'price'],\n",
       "      dtype='object')"
      ]
     },
     "execution_count": 136,
     "metadata": {},
     "output_type": "execute_result"
    }
   ],
   "source": [
    "final_df.columns"
   ]
  },
  {
   "cell_type": "code",
   "execution_count": 137,
   "metadata": {},
   "outputs": [
    {
     "data": {
      "text/html": [
       "<table class=\"simpletable\">\n",
       "<caption>OLS Regression Results</caption>\n",
       "<tr>\n",
       "  <th>Dep. Variable:</th>          <td>price</td>      <th>  R-squared:         </th> <td>   0.724</td>\n",
       "</tr>\n",
       "<tr>\n",
       "  <th>Model:</th>                   <td>OLS</td>       <th>  Adj. R-squared:    </th> <td>   0.724</td>\n",
       "</tr>\n",
       "<tr>\n",
       "  <th>Method:</th>             <td>Least Squares</td>  <th>  F-statistic:       </th> <td>   2065.</td>\n",
       "</tr>\n",
       "<tr>\n",
       "  <th>Date:</th>             <td>Thu, 14 May 2020</td> <th>  Prob (F-statistic):</th>  <td>  0.00</td> \n",
       "</tr>\n",
       "<tr>\n",
       "  <th>Time:</th>                 <td>19:26:04</td>     <th>  Log-Likelihood:    </th> <td> -2512.6</td>\n",
       "</tr>\n",
       "<tr>\n",
       "  <th>No. Observations:</th>      <td> 21290</td>      <th>  AIC:               </th> <td>   5081.</td>\n",
       "</tr>\n",
       "<tr>\n",
       "  <th>Df Residuals:</th>          <td> 21262</td>      <th>  BIC:               </th> <td>   5304.</td>\n",
       "</tr>\n",
       "<tr>\n",
       "  <th>Df Model:</th>              <td>    27</td>      <th>                     </th>     <td> </td>   \n",
       "</tr>\n",
       "<tr>\n",
       "  <th>Covariance Type:</th>      <td>nonrobust</td>    <th>                     </th>     <td> </td>   \n",
       "</tr>\n",
       "</table>\n",
       "<table class=\"simpletable\">\n",
       "<tr>\n",
       "          <td></td>            <th>coef</th>     <th>std err</th>      <th>t</th>      <th>P>|t|</th>  <th>[0.025</th>    <th>0.975]</th>  \n",
       "</tr>\n",
       "<tr>\n",
       "  <th>const</th>            <td>   11.3502</td> <td>    0.170</td> <td>   66.734</td> <td> 0.000</td> <td>   11.017</td> <td>   11.684</td>\n",
       "</tr>\n",
       "<tr>\n",
       "  <th>age</th>              <td>    0.4729</td> <td>    0.010</td> <td>   48.872</td> <td> 0.000</td> <td>    0.454</td> <td>    0.492</td>\n",
       "</tr>\n",
       "<tr>\n",
       "  <th>sqm_living</th>       <td>    2.1193</td> <td>    0.041</td> <td>   51.878</td> <td> 0.000</td> <td>    2.039</td> <td>    2.199</td>\n",
       "</tr>\n",
       "<tr>\n",
       "  <th>sqm_lot</th>          <td>   -0.1600</td> <td>    0.078</td> <td>   -2.052</td> <td> 0.040</td> <td>   -0.313</td> <td>   -0.007</td>\n",
       "</tr>\n",
       "<tr>\n",
       "  <th>distance_seattle</th> <td>    1.0425</td> <td>    0.012</td> <td>   84.710</td> <td> 0.000</td> <td>    1.018</td> <td>    1.067</td>\n",
       "</tr>\n",
       "<tr>\n",
       "  <th>grade_7</th>          <td>    0.2168</td> <td>    0.007</td> <td>   29.040</td> <td> 0.000</td> <td>    0.202</td> <td>    0.231</td>\n",
       "</tr>\n",
       "<tr>\n",
       "  <th>grade_8</th>          <td>    0.4454</td> <td>    0.009</td> <td>   51.050</td> <td> 0.000</td> <td>    0.428</td> <td>    0.463</td>\n",
       "</tr>\n",
       "<tr>\n",
       "  <th>grade_9</th>          <td>    0.6653</td> <td>    0.011</td> <td>   62.330</td> <td> 0.000</td> <td>    0.644</td> <td>    0.686</td>\n",
       "</tr>\n",
       "<tr>\n",
       "  <th>grade_10</th>         <td>    0.8137</td> <td>    0.013</td> <td>   60.544</td> <td> 0.000</td> <td>    0.787</td> <td>    0.840</td>\n",
       "</tr>\n",
       "<tr>\n",
       "  <th>grade_11</th>         <td>    0.9444</td> <td>    0.019</td> <td>   49.570</td> <td> 0.000</td> <td>    0.907</td> <td>    0.982</td>\n",
       "</tr>\n",
       "<tr>\n",
       "  <th>grade_12</th>         <td>    1.1050</td> <td>    0.035</td> <td>   32.001</td> <td> 0.000</td> <td>    1.037</td> <td>    1.173</td>\n",
       "</tr>\n",
       "<tr>\n",
       "  <th>grade_13</th>         <td>    1.1545</td> <td>    0.091</td> <td>   12.631</td> <td> 0.000</td> <td>    0.975</td> <td>    1.334</td>\n",
       "</tr>\n",
       "<tr>\n",
       "  <th>bed_2</th>            <td>    0.0296</td> <td>    0.023</td> <td>    1.270</td> <td> 0.204</td> <td>   -0.016</td> <td>    0.075</td>\n",
       "</tr>\n",
       "<tr>\n",
       "  <th>bed_3</th>            <td>   -0.0220</td> <td>    0.023</td> <td>   -0.948</td> <td> 0.343</td> <td>   -0.067</td> <td>    0.023</td>\n",
       "</tr>\n",
       "<tr>\n",
       "  <th>bed_4</th>            <td>   -0.0368</td> <td>    0.024</td> <td>   -1.563</td> <td> 0.118</td> <td>   -0.083</td> <td>    0.009</td>\n",
       "</tr>\n",
       "<tr>\n",
       "  <th>bed_5</th>            <td>   -0.0517</td> <td>    0.025</td> <td>   -2.102</td> <td> 0.036</td> <td>   -0.100</td> <td>   -0.003</td>\n",
       "</tr>\n",
       "<tr>\n",
       "  <th>bed_6</th>            <td>   -0.1148</td> <td>    0.029</td> <td>   -3.932</td> <td> 0.000</td> <td>   -0.172</td> <td>   -0.058</td>\n",
       "</tr>\n",
       "<tr>\n",
       "  <th>bed_7</th>            <td>   -0.1665</td> <td>    0.052</td> <td>   -3.221</td> <td> 0.001</td> <td>   -0.268</td> <td>   -0.065</td>\n",
       "</tr>\n",
       "<tr>\n",
       "  <th>bathrooms_1.0</th>    <td>    0.1705</td> <td>    0.158</td> <td>    1.082</td> <td> 0.279</td> <td>   -0.138</td> <td>    0.479</td>\n",
       "</tr>\n",
       "<tr>\n",
       "  <th>bathrooms_2.0</th>    <td>    0.2595</td> <td>    0.158</td> <td>    1.647</td> <td> 0.100</td> <td>   -0.049</td> <td>    0.568</td>\n",
       "</tr>\n",
       "<tr>\n",
       "  <th>bathrooms_3.0</th>    <td>    0.3196</td> <td>    0.158</td> <td>    2.027</td> <td> 0.043</td> <td>    0.011</td> <td>    0.629</td>\n",
       "</tr>\n",
       "<tr>\n",
       "  <th>bathrooms_4.0</th>    <td>    0.3627</td> <td>    0.158</td> <td>    2.297</td> <td> 0.022</td> <td>    0.053</td> <td>    0.672</td>\n",
       "</tr>\n",
       "<tr>\n",
       "  <th>bathrooms_5.0</th>    <td>    0.4437</td> <td>    0.162</td> <td>    2.734</td> <td> 0.006</td> <td>    0.126</td> <td>    0.762</td>\n",
       "</tr>\n",
       "<tr>\n",
       "  <th>bathrooms_6.0</th>    <td>    0.2285</td> <td>    0.176</td> <td>    1.302</td> <td> 0.193</td> <td>   -0.116</td> <td>    0.573</td>\n",
       "</tr>\n",
       "<tr>\n",
       "  <th>condition_2</th>      <td>    0.0592</td> <td>    0.066</td> <td>    0.892</td> <td> 0.372</td> <td>   -0.071</td> <td>    0.189</td>\n",
       "</tr>\n",
       "<tr>\n",
       "  <th>condition_3</th>      <td>    0.1847</td> <td>    0.063</td> <td>    2.945</td> <td> 0.003</td> <td>    0.062</td> <td>    0.308</td>\n",
       "</tr>\n",
       "<tr>\n",
       "  <th>condition_4</th>      <td>    0.2280</td> <td>    0.063</td> <td>    3.634</td> <td> 0.000</td> <td>    0.105</td> <td>    0.351</td>\n",
       "</tr>\n",
       "<tr>\n",
       "  <th>condition_5</th>      <td>    0.2866</td> <td>    0.063</td> <td>    4.550</td> <td> 0.000</td> <td>    0.163</td> <td>    0.410</td>\n",
       "</tr>\n",
       "</table>\n",
       "<table class=\"simpletable\">\n",
       "<tr>\n",
       "  <th>Omnibus:</th>       <td>424.532</td> <th>  Durbin-Watson:     </th> <td>   1.962</td> \n",
       "</tr>\n",
       "<tr>\n",
       "  <th>Prob(Omnibus):</th> <td> 0.000</td>  <th>  Jarque-Bera (JB):  </th> <td> 807.710</td> \n",
       "</tr>\n",
       "<tr>\n",
       "  <th>Skew:</th>          <td> 0.128</td>  <th>  Prob(JB):          </th> <td>4.06e-176</td>\n",
       "</tr>\n",
       "<tr>\n",
       "  <th>Kurtosis:</th>      <td> 3.919</td>  <th>  Cond. No.          </th> <td>    384.</td> \n",
       "</tr>\n",
       "</table><br/><br/>Warnings:<br/>[1] Standard Errors assume that the covariance matrix of the errors is correctly specified."
      ],
      "text/plain": [
       "<class 'statsmodels.iolib.summary.Summary'>\n",
       "\"\"\"\n",
       "                            OLS Regression Results                            \n",
       "==============================================================================\n",
       "Dep. Variable:                  price   R-squared:                       0.724\n",
       "Model:                            OLS   Adj. R-squared:                  0.724\n",
       "Method:                 Least Squares   F-statistic:                     2065.\n",
       "Date:                Thu, 14 May 2020   Prob (F-statistic):               0.00\n",
       "Time:                        19:26:04   Log-Likelihood:                -2512.6\n",
       "No. Observations:               21290   AIC:                             5081.\n",
       "Df Residuals:                   21262   BIC:                             5304.\n",
       "Df Model:                          27                                         \n",
       "Covariance Type:            nonrobust                                         \n",
       "====================================================================================\n",
       "                       coef    std err          t      P>|t|      [0.025      0.975]\n",
       "------------------------------------------------------------------------------------\n",
       "const               11.3502      0.170     66.734      0.000      11.017      11.684\n",
       "age                  0.4729      0.010     48.872      0.000       0.454       0.492\n",
       "sqm_living           2.1193      0.041     51.878      0.000       2.039       2.199\n",
       "sqm_lot             -0.1600      0.078     -2.052      0.040      -0.313      -0.007\n",
       "distance_seattle     1.0425      0.012     84.710      0.000       1.018       1.067\n",
       "grade_7              0.2168      0.007     29.040      0.000       0.202       0.231\n",
       "grade_8              0.4454      0.009     51.050      0.000       0.428       0.463\n",
       "grade_9              0.6653      0.011     62.330      0.000       0.644       0.686\n",
       "grade_10             0.8137      0.013     60.544      0.000       0.787       0.840\n",
       "grade_11             0.9444      0.019     49.570      0.000       0.907       0.982\n",
       "grade_12             1.1050      0.035     32.001      0.000       1.037       1.173\n",
       "grade_13             1.1545      0.091     12.631      0.000       0.975       1.334\n",
       "bed_2                0.0296      0.023      1.270      0.204      -0.016       0.075\n",
       "bed_3               -0.0220      0.023     -0.948      0.343      -0.067       0.023\n",
       "bed_4               -0.0368      0.024     -1.563      0.118      -0.083       0.009\n",
       "bed_5               -0.0517      0.025     -2.102      0.036      -0.100      -0.003\n",
       "bed_6               -0.1148      0.029     -3.932      0.000      -0.172      -0.058\n",
       "bed_7               -0.1665      0.052     -3.221      0.001      -0.268      -0.065\n",
       "bathrooms_1.0        0.1705      0.158      1.082      0.279      -0.138       0.479\n",
       "bathrooms_2.0        0.2595      0.158      1.647      0.100      -0.049       0.568\n",
       "bathrooms_3.0        0.3196      0.158      2.027      0.043       0.011       0.629\n",
       "bathrooms_4.0        0.3627      0.158      2.297      0.022       0.053       0.672\n",
       "bathrooms_5.0        0.4437      0.162      2.734      0.006       0.126       0.762\n",
       "bathrooms_6.0        0.2285      0.176      1.302      0.193      -0.116       0.573\n",
       "condition_2          0.0592      0.066      0.892      0.372      -0.071       0.189\n",
       "condition_3          0.1847      0.063      2.945      0.003       0.062       0.308\n",
       "condition_4          0.2280      0.063      3.634      0.000       0.105       0.351\n",
       "condition_5          0.2866      0.063      4.550      0.000       0.163       0.410\n",
       "==============================================================================\n",
       "Omnibus:                      424.532   Durbin-Watson:                   1.962\n",
       "Prob(Omnibus):                  0.000   Jarque-Bera (JB):              807.710\n",
       "Skew:                           0.128   Prob(JB):                    4.06e-176\n",
       "Kurtosis:                       3.919   Cond. No.                         384.\n",
       "==============================================================================\n",
       "\n",
       "Warnings:\n",
       "[1] Standard Errors assume that the covariance matrix of the errors is correctly specified.\n",
       "\"\"\""
      ]
     },
     "execution_count": 137,
     "metadata": {},
     "output_type": "execute_result"
    }
   ],
   "source": [
    "#create model\n",
    "y = final_df.price\n",
    "X = final_df.drop(['price', ], axis=1)\n",
    "\n",
    "X_with_intercept = sm.add_constant(X)\n",
    "model1 = sm.OLS(y, X_with_intercept).fit()\n",
    "model1.summary()"
   ]
  },
  {
   "cell_type": "code",
   "execution_count": null,
   "metadata": {},
   "outputs": [],
   "source": []
  },
  {
   "cell_type": "code",
   "execution_count": null,
   "metadata": {},
   "outputs": [],
   "source": []
  },
  {
   "cell_type": "markdown",
   "metadata": {},
   "source": [
    "## using model 2, min max scalinng to continuous variables with target = log transformed price "
   ]
  },
  {
   "cell_type": "code",
   "execution_count": 139,
   "metadata": {},
   "outputs": [
    {
     "data": {
      "text/plain": [
       "LinearRegression(copy_X=True, fit_intercept=True, n_jobs=None, normalize=False)"
      ]
     },
     "execution_count": 139,
     "metadata": {},
     "output_type": "execute_result"
    }
   ],
   "source": [
    "my_model = LinearRegression()\n",
    "my_model.fit(X, y)\n"
   ]
  },
  {
   "cell_type": "code",
   "execution_count": 140,
   "metadata": {},
   "outputs": [
    {
     "data": {
      "text/plain": [
       "0.7189406559379654"
      ]
     },
     "execution_count": 140,
     "metadata": {},
     "output_type": "execute_result"
    }
   ],
   "source": [
    "crossvalidation = KFold(n_splits=100, shuffle=True, random_state=1)\n",
    "baseline = np.mean(cross_val_score(my_model, X, y, scoring='r2', cv=crossvalidation))\n",
    "\n",
    "baseline"
   ]
  },
  {
   "cell_type": "code",
   "execution_count": 141,
   "metadata": {},
   "outputs": [
    {
     "data": {
      "text/plain": [
       "array([[ 0.47289608],\n",
       "       [ 2.11926477],\n",
       "       [-0.1600434 ],\n",
       "       [ 1.04247507],\n",
       "       [ 0.21684579],\n",
       "       [ 0.44543655],\n",
       "       [ 0.66526301],\n",
       "       [ 0.81374921],\n",
       "       [ 0.94435539],\n",
       "       [ 1.10504913],\n",
       "       [ 1.15454999],\n",
       "       [ 0.02955442],\n",
       "       [-0.02197187],\n",
       "       [-0.03678967],\n",
       "       [-0.05166584],\n",
       "       [-0.11477075],\n",
       "       [-0.16646814],\n",
       "       [ 0.17047836],\n",
       "       [ 0.25954753],\n",
       "       [ 0.31959961],\n",
       "       [ 0.36269809],\n",
       "       [ 0.4436702 ],\n",
       "       [ 0.22853033],\n",
       "       [ 0.05924068],\n",
       "       [ 0.18473   ],\n",
       "       [ 0.22798262],\n",
       "       [ 0.28655079]])"
      ]
     },
     "execution_count": 141,
     "metadata": {},
     "output_type": "execute_result"
    }
   ],
   "source": [
    "coef = my_model.coef_.reshape(-1,1)\n",
    "coef"
   ]
  },
  {
   "cell_type": "code",
   "execution_count": 142,
   "metadata": {},
   "outputs": [
    {
     "data": {
      "text/plain": [
       "array([12.54713844, 13.28064379, 12.72047399, ..., 12.47658968,\n",
       "       12.81917223, 12.48025783])"
      ]
     },
     "execution_count": 142,
     "metadata": {},
     "output_type": "execute_result"
    }
   ],
   "source": [
    "y_hat = my_model.predict(X)\n",
    "y_hat"
   ]
  },
  {
   "cell_type": "code",
   "execution_count": 143,
   "metadata": {},
   "outputs": [
    {
     "data": {
      "text/plain": [
       "0        12.309982\n",
       "1        13.195614\n",
       "2        12.100712\n",
       "3        13.311329\n",
       "4        13.142166\n",
       "           ...    \n",
       "21592    12.793859\n",
       "21593    12.899220\n",
       "21594    12.904459\n",
       "21595    12.899220\n",
       "21596    12.691580\n",
       "Name: price, Length: 21290, dtype: float64"
      ]
     },
     "execution_count": 143,
     "metadata": {},
     "output_type": "execute_result"
    }
   ],
   "source": [
    "y = final_df['price']\n",
    "y"
   ]
  },
  {
   "cell_type": "code",
   "execution_count": 144,
   "metadata": {},
   "outputs": [
    {
     "data": {
      "text/plain": [
       "array([0.2749115 , 0.28180378, 0.27118362, 0.27045085, 0.27508364,\n",
       "       0.27718497, 0.27788868, 0.260603  ])"
      ]
     },
     "metadata": {},
     "output_type": "display_data"
    },
    {
     "name": "stdout",
     "output_type": "stream",
     "text": [
      "Mean: 0.27363875694865636\n",
      "Std Dev: 0.005990971383950834\n"
     ]
    }
   ],
   "source": [
    "scores = cross_val_score(\n",
    "            my_model, \n",
    "            X,\n",
    "            y,\n",
    "            cv=8,\n",
    "            scoring=\"neg_mean_squared_error\"\n",
    ")\n",
    "\n",
    "rmse_scores = np.sqrt(-scores)\n",
    "display(rmse_scores)\n",
    "\n",
    "print(f'Mean: {rmse_scores.mean()}')\n",
    "print(f'Std Dev: {rmse_scores.std()}')"
   ]
  },
  {
   "cell_type": "code",
   "execution_count": null,
   "metadata": {},
   "outputs": [],
   "source": []
  },
  {
   "cell_type": "markdown",
   "metadata": {},
   "source": [
    "## train/test split data"
   ]
  },
  {
   "cell_type": "code",
   "execution_count": 145,
   "metadata": {},
   "outputs": [
    {
     "name": "stdout",
     "output_type": "stream",
     "text": [
      "(14903, 27)\n",
      "(6387, 27)\n"
     ]
    }
   ],
   "source": [
    "X_train, X_test, y_train, y_test = train_test_split(X, y, test_size=0.3, random_state=29)\n",
    "print(X_train.shape); print(X_test.shape)"
   ]
  },
  {
   "cell_type": "code",
   "execution_count": 146,
   "metadata": {},
   "outputs": [
    {
     "data": {
      "text/plain": [
       "LinearRegression(copy_X=True, fit_intercept=True, n_jobs=None, normalize=False)"
      ]
     },
     "execution_count": 146,
     "metadata": {},
     "output_type": "execute_result"
    }
   ],
   "source": [
    "train_model = LinearRegression()\n",
    "train_model.fit(X_train, y_train)"
   ]
  },
  {
   "cell_type": "code",
   "execution_count": 147,
   "metadata": {},
   "outputs": [
    {
     "name": "stdout",
     "output_type": "stream",
     "text": [
      "0.27186867014315924\n",
      "0.72497365898198\n",
      "0.27358900967719746\n",
      "0.7208380046093603\n"
     ]
    }
   ],
   "source": [
    "#run model with trianing data\n",
    "pred_train_lr= train_model.predict(X_train)\n",
    "print(np.sqrt(mean_squared_error(y_train,pred_train_lr)))\n",
    "print(r2_score(y_train, pred_train_lr))\n",
    "\n",
    "\n",
    "# run model with test data \n",
    "pred_test_lr= train_model.predict(X_test)\n",
    "print(np.sqrt(mean_squared_error(y_test,pred_test_lr))) \n",
    "print(r2_score(y_test, pred_test_lr))"
   ]
  },
  {
   "cell_type": "code",
   "execution_count": 148,
   "metadata": {},
   "outputs": [
    {
     "data": {
      "text/plain": [
       "array([12.43123814, 12.41345826, 14.53484264, ..., 12.6261206 ,\n",
       "       12.81773384, 13.20080396])"
      ]
     },
     "execution_count": 148,
     "metadata": {},
     "output_type": "execute_result"
    }
   ],
   "source": [
    "predict_train = train_model.predict(X_train)\n",
    "predict_train"
   ]
  },
  {
   "cell_type": "code",
   "execution_count": 149,
   "metadata": {},
   "outputs": [
    {
     "data": {
      "text/plain": [
       "array([13.20371696, 12.62659608, 12.85621523, ..., 12.60360143,\n",
       "       13.31914108, 12.3370491 ])"
      ]
     },
     "execution_count": 149,
     "metadata": {},
     "output_type": "execute_result"
    }
   ],
   "source": [
    "predict_test = train_model.predict(X_test)\n",
    "predict_test"
   ]
  },
  {
   "cell_type": "markdown",
   "metadata": {},
   "source": [
    "### visualize training data vs test data"
   ]
  },
  {
   "cell_type": "code",
   "execution_count": 150,
   "metadata": {},
   "outputs": [
    {
     "data": {
      "text/plain": [
       "<matplotlib.axes._subplots.AxesSubplot at 0x1c2a8ce9b0>"
      ]
     },
     "execution_count": 150,
     "metadata": {},
     "output_type": "execute_result"
    },
    {
     "data": {
      "image/png": "[encoded data removed]",
      "text/plain": [
       "<Figure size 432x288 with 1 Axes>"
      ]
     },
     "metadata": {
      "needs_background": "light"
     },
     "output_type": "display_data"
    }
   ],
   "source": [
    "import seaborn as sns\n",
    "\n",
    "ax1 = sns.distplot(predict_train, hist=False, color=\"r\", label=\"Train\")\n",
    "sns.distplot(predict_test, hist=False, color=\"b\", label=\"Test\" , ax=ax1)"
   ]
  },
  {
   "cell_type": "code",
   "execution_count": 151,
   "metadata": {},
   "outputs": [
    {
     "data": {
      "text/plain": [
       "array([[ 0.47397637],\n",
       "       [ 2.1438326 ],\n",
       "       [-0.03263845],\n",
       "       [ 1.04487096],\n",
       "       [ 0.21691273],\n",
       "       [ 0.44005859],\n",
       "       [ 0.65918028],\n",
       "       [ 0.81147317],\n",
       "       [ 0.92686149],\n",
       "       [ 1.10148379],\n",
       "       [ 1.12254391],\n",
       "       [ 0.02334181],\n",
       "       [-0.03762712],\n",
       "       [-0.05130039],\n",
       "       [-0.07348127],\n",
       "       [-0.12030955],\n",
       "       [-0.22490039],\n",
       "       [ 0.1756615 ],\n",
       "       [ 0.26566139],\n",
       "       [ 0.32709513],\n",
       "       [ 0.37144673],\n",
       "       [ 0.4411535 ],\n",
       "       [ 0.34864863],\n",
       "       [-0.02878227],\n",
       "       [ 0.12892128],\n",
       "       [ 0.16621292],\n",
       "       [ 0.229107  ]])"
      ]
     },
     "execution_count": 151,
     "metadata": {},
     "output_type": "execute_result"
    }
   ],
   "source": [
    "train_model.coef_.reshape(-1,1)"
   ]
  },
  {
   "cell_type": "code",
   "execution_count": 152,
   "metadata": {},
   "outputs": [
    {
     "data": {
      "text/plain": [
       "0.7228966900128743"
      ]
     },
     "execution_count": 152,
     "metadata": {},
     "output_type": "execute_result"
    }
   ],
   "source": [
    "crossvalidation = KFold(n_splits=10, shuffle=True, random_state=1)\n",
    "baseline = np.mean(cross_val_score(train_model, X_train, y_train, scoring='r2', cv=crossvalidation))\n",
    "\n",
    "baseline"
   ]
  },
  {
   "cell_type": "markdown",
   "metadata": {},
   "source": [
    "## perform stepwise selection on model and review variable significance"
   ]
  },
  {
   "cell_type": "code",
   "execution_count": 153,
   "metadata": {},
   "outputs": [
    {
     "name": "stderr",
     "output_type": "stream",
     "text": [
      "/Users/badmin/opt/anaconda3/envs/learn-env/lib/python3.6/site-packages/numpy/core/fromnumeric.py:2389: FutureWarning: Method .ptp is deprecated and will be removed in a future version. Use numpy.ptp instead.\n",
      "  return ptp(axis=axis, out=out, **kwargs)\n"
     ]
    },
    {
     "name": "stdout",
     "output_type": "stream",
     "text": [
      "Add  bathrooms_4.0                  with p-value 0.0\n",
      "Add  grade_10                       with p-value 0.0\n",
      "Add  grade_7                        with p-value 0.0\n",
      "Add  sqm_living                     with p-value 0.0\n",
      "Add  distance_seattle               with p-value 0.0\n",
      "Add  age                            with p-value 2.82163e-205\n",
      "Add  grade_9                        with p-value 5.18258e-135\n",
      "Add  grade_8                        with p-value 2.31088e-198\n",
      "Add  grade_11                       with p-value 0.0\n",
      "Add  grade_12                       with p-value 1.73413e-213\n",
      "Add  bathrooms_1.0                  with p-value 1.40471e-40\n",
      "Add  grade_13                       with p-value 5.05171e-39\n",
      "Add  condition_5                    with p-value 3.28454e-33\n",
      "Add  condition_4                    with p-value 5.91691e-21\n",
      "Add  bathrooms_2.0                  with p-value 8.3079e-19\n",
      "Add  bed_2                          with p-value 1.93352e-16\n",
      "Add  condition_3                    with p-value 2.88101e-10\n",
      "Add  bed_6                          with p-value 4.60066e-05\n",
      "Add  bed_3                          with p-value 0.000919121\n",
      "Add  bathrooms_5.0                  with p-value 0.00131614\n",
      "Add  bed_7                          with p-value 0.00505629\n"
     ]
    },
    {
     "data": {
      "text/plain": [
       "['bathrooms_4.0',\n",
       " 'grade_10',\n",
       " 'grade_7',\n",
       " 'sqm_living',\n",
       " 'distance_seattle',\n",
       " 'age',\n",
       " 'grade_9',\n",
       " 'grade_8',\n",
       " 'grade_11',\n",
       " 'grade_12',\n",
       " 'bathrooms_1.0',\n",
       " 'grade_13',\n",
       " 'condition_5',\n",
       " 'condition_4',\n",
       " 'bathrooms_2.0',\n",
       " 'bed_2',\n",
       " 'condition_3',\n",
       " 'bed_6',\n",
       " 'bed_3',\n",
       " 'bathrooms_5.0',\n",
       " 'bed_7']"
      ]
     },
     "execution_count": 153,
     "metadata": {},
     "output_type": "execute_result"
    }
   ],
   "source": [
    "stepwise_selection(X, y)"
   ]
  },
  {
   "cell_type": "code",
   "execution_count": 154,
   "metadata": {
    "scrolled": true
   },
   "outputs": [
    {
     "data": {
      "text/html": [
       "<table class=\"simpletable\">\n",
       "<caption>OLS Regression Results</caption>\n",
       "<tr>\n",
       "  <th>Dep. Variable:</th>          <td>price</td>      <th>  R-squared:         </th> <td>   0.724</td>\n",
       "</tr>\n",
       "<tr>\n",
       "  <th>Model:</th>                   <td>OLS</td>       <th>  Adj. R-squared:    </th> <td>   0.723</td>\n",
       "</tr>\n",
       "<tr>\n",
       "  <th>Method:</th>             <td>Least Squares</td>  <th>  F-statistic:       </th> <td>   2653.</td>\n",
       "</tr>\n",
       "<tr>\n",
       "  <th>Date:</th>             <td>Thu, 14 May 2020</td> <th>  Prob (F-statistic):</th>  <td>  0.00</td> \n",
       "</tr>\n",
       "<tr>\n",
       "  <th>Time:</th>                 <td>19:27:02</td>     <th>  Log-Likelihood:    </th> <td> -2520.7</td>\n",
       "</tr>\n",
       "<tr>\n",
       "  <th>No. Observations:</th>      <td> 21290</td>      <th>  AIC:               </th> <td>   5085.</td>\n",
       "</tr>\n",
       "<tr>\n",
       "  <th>Df Residuals:</th>          <td> 21268</td>      <th>  BIC:               </th> <td>   5261.</td>\n",
       "</tr>\n",
       "<tr>\n",
       "  <th>Df Model:</th>              <td>    21</td>      <th>                     </th>     <td> </td>   \n",
       "</tr>\n",
       "<tr>\n",
       "  <th>Covariance Type:</th>      <td>nonrobust</td>    <th>                     </th>     <td> </td>   \n",
       "</tr>\n",
       "</table>\n",
       "<table class=\"simpletable\">\n",
       "<tr>\n",
       "          <td></td>            <th>coef</th>     <th>std err</th>      <th>t</th>      <th>P>|t|</th>  <th>[0.025</th>    <th>0.975]</th>  \n",
       "</tr>\n",
       "<tr>\n",
       "  <th>const</th>            <td>   11.6863</td> <td>    0.024</td> <td>  480.286</td> <td> 0.000</td> <td>   11.639</td> <td>   11.734</td>\n",
       "</tr>\n",
       "<tr>\n",
       "  <th>bathrooms_4.0</th>    <td>    0.0445</td> <td>    0.010</td> <td>    4.407</td> <td> 0.000</td> <td>    0.025</td> <td>    0.064</td>\n",
       "</tr>\n",
       "<tr>\n",
       "  <th>grade_10</th>         <td>    0.8178</td> <td>    0.013</td> <td>   61.128</td> <td> 0.000</td> <td>    0.792</td> <td>    0.844</td>\n",
       "</tr>\n",
       "<tr>\n",
       "  <th>grade_7</th>          <td>    0.2172</td> <td>    0.007</td> <td>   29.172</td> <td> 0.000</td> <td>    0.203</td> <td>    0.232</td>\n",
       "</tr>\n",
       "<tr>\n",
       "  <th>sqm_living</th>       <td>    2.0843</td> <td>    0.039</td> <td>   52.850</td> <td> 0.000</td> <td>    2.007</td> <td>    2.162</td>\n",
       "</tr>\n",
       "<tr>\n",
       "  <th>distance_seattle</th> <td>    1.0429</td> <td>    0.012</td> <td>   84.778</td> <td> 0.000</td> <td>    1.019</td> <td>    1.067</td>\n",
       "</tr>\n",
       "<tr>\n",
       "  <th>age</th>              <td>    0.4729</td> <td>    0.010</td> <td>   48.932</td> <td> 0.000</td> <td>    0.454</td> <td>    0.492</td>\n",
       "</tr>\n",
       "<tr>\n",
       "  <th>grade_9</th>          <td>    0.6681</td> <td>    0.011</td> <td>   62.854</td> <td> 0.000</td> <td>    0.647</td> <td>    0.689</td>\n",
       "</tr>\n",
       "<tr>\n",
       "  <th>grade_8</th>          <td>    0.4471</td> <td>    0.009</td> <td>   51.377</td> <td> 0.000</td> <td>    0.430</td> <td>    0.464</td>\n",
       "</tr>\n",
       "<tr>\n",
       "  <th>grade_11</th>         <td>    0.9484</td> <td>    0.019</td> <td>   49.977</td> <td> 0.000</td> <td>    0.911</td> <td>    0.986</td>\n",
       "</tr>\n",
       "<tr>\n",
       "  <th>grade_12</th>         <td>    1.1073</td> <td>    0.034</td> <td>   32.257</td> <td> 0.000</td> <td>    1.040</td> <td>    1.175</td>\n",
       "</tr>\n",
       "<tr>\n",
       "  <th>bathrooms_1.0</th>    <td>   -0.1467</td> <td>    0.009</td> <td>  -16.060</td> <td> 0.000</td> <td>   -0.165</td> <td>   -0.129</td>\n",
       "</tr>\n",
       "<tr>\n",
       "  <th>grade_13</th>         <td>    1.1374</td> <td>    0.089</td> <td>   12.818</td> <td> 0.000</td> <td>    0.963</td> <td>    1.311</td>\n",
       "</tr>\n",
       "<tr>\n",
       "  <th>condition_5</th>      <td>    0.2342</td> <td>    0.022</td> <td>   10.612</td> <td> 0.000</td> <td>    0.191</td> <td>    0.277</td>\n",
       "</tr>\n",
       "<tr>\n",
       "  <th>condition_4</th>      <td>    0.1752</td> <td>    0.021</td> <td>    8.218</td> <td> 0.000</td> <td>    0.133</td> <td>    0.217</td>\n",
       "</tr>\n",
       "<tr>\n",
       "  <th>bathrooms_2.0</th>    <td>   -0.0581</td> <td>    0.006</td> <td>   -9.128</td> <td> 0.000</td> <td>   -0.071</td> <td>   -0.046</td>\n",
       "</tr>\n",
       "<tr>\n",
       "  <th>bed_2</th>            <td>    0.0645</td> <td>    0.007</td> <td>    8.787</td> <td> 0.000</td> <td>    0.050</td> <td>    0.079</td>\n",
       "</tr>\n",
       "<tr>\n",
       "  <th>condition_3</th>      <td>    0.1324</td> <td>    0.021</td> <td>    6.240</td> <td> 0.000</td> <td>    0.091</td> <td>    0.174</td>\n",
       "</tr>\n",
       "<tr>\n",
       "  <th>bed_6</th>            <td>   -0.0733</td> <td>    0.017</td> <td>   -4.232</td> <td> 0.000</td> <td>   -0.107</td> <td>   -0.039</td>\n",
       "</tr>\n",
       "<tr>\n",
       "  <th>bed_3</th>            <td>    0.0147</td> <td>    0.005</td> <td>    3.208</td> <td> 0.001</td> <td>    0.006</td> <td>    0.024</td>\n",
       "</tr>\n",
       "<tr>\n",
       "  <th>bathrooms_5.0</th>    <td>    0.1278</td> <td>    0.038</td> <td>    3.323</td> <td> 0.001</td> <td>    0.052</td> <td>    0.203</td>\n",
       "</tr>\n",
       "<tr>\n",
       "  <th>bed_7</th>            <td>   -0.1284</td> <td>    0.046</td> <td>   -2.804</td> <td> 0.005</td> <td>   -0.218</td> <td>   -0.039</td>\n",
       "</tr>\n",
       "</table>\n",
       "<table class=\"simpletable\">\n",
       "<tr>\n",
       "  <th>Omnibus:</th>       <td>422.574</td> <th>  Durbin-Watson:     </th> <td>   1.960</td> \n",
       "</tr>\n",
       "<tr>\n",
       "  <th>Prob(Omnibus):</th> <td> 0.000</td>  <th>  Jarque-Bera (JB):  </th> <td> 805.543</td> \n",
       "</tr>\n",
       "<tr>\n",
       "  <th>Skew:</th>          <td> 0.126</td>  <th>  Prob(JB):          </th> <td>1.20e-175</td>\n",
       "</tr>\n",
       "<tr>\n",
       "  <th>Kurtosis:</th>      <td> 3.919</td>  <th>  Cond. No.          </th> <td>    80.6</td> \n",
       "</tr>\n",
       "</table><br/><br/>Warnings:<br/>[1] Standard Errors assume that the covariance matrix of the errors is correctly specified."
      ],
      "text/plain": [
       "<class 'statsmodels.iolib.summary.Summary'>\n",
       "\"\"\"\n",
       "                            OLS Regression Results                            \n",
       "==============================================================================\n",
       "Dep. Variable:                  price   R-squared:                       0.724\n",
       "Model:                            OLS   Adj. R-squared:                  0.723\n",
       "Method:                 Least Squares   F-statistic:                     2653.\n",
       "Date:                Thu, 14 May 2020   Prob (F-statistic):               0.00\n",
       "Time:                        19:27:02   Log-Likelihood:                -2520.7\n",
       "No. Observations:               21290   AIC:                             5085.\n",
       "Df Residuals:                   21268   BIC:                             5261.\n",
       "Df Model:                          21                                         \n",
       "Covariance Type:            nonrobust                                         \n",
       "====================================================================================\n",
       "                       coef    std err          t      P>|t|      [0.025      0.975]\n",
       "------------------------------------------------------------------------------------\n",
       "const               11.6863      0.024    480.286      0.000      11.639      11.734\n",
       "bathrooms_4.0        0.0445      0.010      4.407      0.000       0.025       0.064\n",
       "grade_10             0.8178      0.013     61.128      0.000       0.792       0.844\n",
       "grade_7              0.2172      0.007     29.172      0.000       0.203       0.232\n",
       "sqm_living           2.0843      0.039     52.850      0.000       2.007       2.162\n",
       "distance_seattle     1.0429      0.012     84.778      0.000       1.019       1.067\n",
       "age                  0.4729      0.010     48.932      0.000       0.454       0.492\n",
       "grade_9              0.6681      0.011     62.854      0.000       0.647       0.689\n",
       "grade_8              0.4471      0.009     51.377      0.000       0.430       0.464\n",
       "grade_11             0.9484      0.019     49.977      0.000       0.911       0.986\n",
       "grade_12             1.1073      0.034     32.257      0.000       1.040       1.175\n",
       "bathrooms_1.0       -0.1467      0.009    -16.060      0.000      -0.165      -0.129\n",
       "grade_13             1.1374      0.089     12.818      0.000       0.963       1.311\n",
       "condition_5          0.2342      0.022     10.612      0.000       0.191       0.277\n",
       "condition_4          0.1752      0.021      8.218      0.000       0.133       0.217\n",
       "bathrooms_2.0       -0.0581      0.006     -9.128      0.000      -0.071      -0.046\n",
       "bed_2                0.0645      0.007      8.787      0.000       0.050       0.079\n",
       "condition_3          0.1324      0.021      6.240      0.000       0.091       0.174\n",
       "bed_6               -0.0733      0.017     -4.232      0.000      -0.107      -0.039\n",
       "bed_3                0.0147      0.005      3.208      0.001       0.006       0.024\n",
       "bathrooms_5.0        0.1278      0.038      3.323      0.001       0.052       0.203\n",
       "bed_7               -0.1284      0.046     -2.804      0.005      -0.218      -0.039\n",
       "==============================================================================\n",
       "Omnibus:                      422.574   Durbin-Watson:                   1.960\n",
       "Prob(Omnibus):                  0.000   Jarque-Bera (JB):              805.543\n",
       "Skew:                           0.126   Prob(JB):                    1.20e-175\n",
       "Kurtosis:                       3.919   Cond. No.                         80.6\n",
       "==============================================================================\n",
       "\n",
       "Warnings:\n",
       "[1] Standard Errors assume that the covariance matrix of the errors is correctly specified.\n",
       "\"\"\""
      ]
     },
     "execution_count": 154,
     "metadata": {},
     "output_type": "execute_result"
    }
   ],
   "source": [
    "# model with columns from stepwise selection\n",
    "X_sw = final_df[['bathrooms_4.0',\n",
    " 'grade_10',\n",
    " 'grade_7',\n",
    " 'sqm_living',\n",
    " 'distance_seattle',\n",
    " 'age',\n",
    " 'grade_9',\n",
    " 'grade_8',\n",
    " 'grade_11',\n",
    " 'grade_12',\n",
    " 'bathrooms_1.0',\n",
    " 'grade_13',\n",
    " 'condition_5',\n",
    " 'condition_4',\n",
    " 'bathrooms_2.0',\n",
    " 'bed_2',\n",
    " 'condition_3',\n",
    " 'bed_6',\n",
    " 'bed_3',\n",
    " 'bathrooms_5.0',\n",
    " 'bed_7']]\n",
    "\n",
    "X_with_intercept = sm.add_constant(X_sw)\n",
    "model = sm.OLS(y, X_with_intercept).fit()\n",
    "model.summary()"
   ]
  },
  {
   "cell_type": "code",
   "execution_count": 155,
   "metadata": {},
   "outputs": [
    {
     "data": {
      "text/plain": [
       "LinearRegression(copy_X=True, fit_intercept=True, n_jobs=None, normalize=False)"
      ]
     },
     "execution_count": 155,
     "metadata": {},
     "output_type": "execute_result"
    }
   ],
   "source": [
    "model = LinearRegression()\n",
    "model.fit(X_sw, y)"
   ]
  },
  {
   "cell_type": "code",
   "execution_count": 156,
   "metadata": {},
   "outputs": [],
   "source": [
    "y_hat = model.predict(X_sw)"
   ]
  },
  {
   "cell_type": "code",
   "execution_count": 157,
   "metadata": {},
   "outputs": [
    {
     "data": {
      "text/plain": [
       "0        0.238600\n",
       "1        0.081203\n",
       "2        0.621130\n",
       "3       -0.321134\n",
       "4       -0.112468\n",
       "           ...   \n",
       "21592    0.227157\n",
       "21593    0.008983\n",
       "21594   -0.427956\n",
       "21595   -0.079700\n",
       "21596   -0.211437\n",
       "Name: price, Length: 21290, dtype: float64"
      ]
     },
     "execution_count": 157,
     "metadata": {},
     "output_type": "execute_result"
    }
   ],
   "source": [
    "resid = y_hat - y\n",
    "resid"
   ]
  },
  {
   "cell_type": "code",
   "execution_count": 158,
   "metadata": {},
   "outputs": [
    {
     "data": {
      "text/plain": [
       "array([ 0.04447495,  0.81777226,  0.21723013,  2.08427402,  1.04290025,\n",
       "        0.47291459,  0.66814188,  0.44706589,  0.94844034,  1.10733983,\n",
       "       -0.14665122,  1.13737398,  0.23419814,  0.17515464, -0.05809895,\n",
       "        0.06451877,  0.13241818, -0.07330237,  0.01473195,  0.12776333,\n",
       "       -0.12835798])"
      ]
     },
     "metadata": {},
     "output_type": "display_data"
    },
    {
     "data": {
      "text/plain": [
       "11.686274617338345"
      ]
     },
     "metadata": {},
     "output_type": "display_data"
    }
   ],
   "source": [
    "display(model.coef_)\n",
    "display(model.intercept_)"
   ]
  },
  {
   "cell_type": "code",
   "execution_count": 159,
   "metadata": {},
   "outputs": [
    {
     "name": "stdout",
     "output_type": "stream",
     "text": [
      "1579.57751703176\n",
      "5717.758219104436\n",
      "0.723741813399174\n",
      "0.723469036367078\n"
     ]
    }
   ],
   "source": [
    "# Your code here\n",
    "SS_Residual = np.sum((y-y_hat)**2)\n",
    "SS_Total = np.sum((y-np.mean(y))**2)\n",
    "r_squared = 1 - (float(SS_Residual))/SS_Total\n",
    "adjusted_r_squared = 1 - (1-r_squared)*(len(y)-1)/(len(y)-X_sw.shape[1]-1)\n",
    "print(SS_Residual)\n",
    "print(SS_Total)\n",
    "print(r_squared)\n",
    "print(adjusted_r_squared)"
   ]
  },
  {
   "cell_type": "code",
   "execution_count": 160,
   "metadata": {},
   "outputs": [],
   "source": [
    "# recreate model to utilize for visualizing"
   ]
  },
  {
   "cell_type": "code",
   "execution_count": 161,
   "metadata": {},
   "outputs": [
    {
     "name": "stderr",
     "output_type": "stream",
     "text": [
      "/Users/badmin/opt/anaconda3/envs/learn-env/lib/python3.6/site-packages/numpy/core/fromnumeric.py:2389: FutureWarning: Method .ptp is deprecated and will be removed in a future version. Use numpy.ptp instead.\n",
      "  return ptp(axis=axis, out=out, **kwargs)\n"
     ]
    },
    {
     "data": {
      "text/html": [
       "<table class=\"simpletable\">\n",
       "<caption>OLS Regression Results</caption>\n",
       "<tr>\n",
       "  <th>Dep. Variable:</th>          <td>price</td>      <th>  R-squared:         </th> <td>   0.724</td>\n",
       "</tr>\n",
       "<tr>\n",
       "  <th>Model:</th>                   <td>OLS</td>       <th>  Adj. R-squared:    </th> <td>   0.723</td>\n",
       "</tr>\n",
       "<tr>\n",
       "  <th>Method:</th>             <td>Least Squares</td>  <th>  F-statistic:       </th> <td>   2653.</td>\n",
       "</tr>\n",
       "<tr>\n",
       "  <th>Date:</th>             <td>Thu, 14 May 2020</td> <th>  Prob (F-statistic):</th>  <td>  0.00</td> \n",
       "</tr>\n",
       "<tr>\n",
       "  <th>Time:</th>                 <td>19:27:14</td>     <th>  Log-Likelihood:    </th> <td> -2520.7</td>\n",
       "</tr>\n",
       "<tr>\n",
       "  <th>No. Observations:</th>      <td> 21290</td>      <th>  AIC:               </th> <td>   5085.</td>\n",
       "</tr>\n",
       "<tr>\n",
       "  <th>Df Residuals:</th>          <td> 21268</td>      <th>  BIC:               </th> <td>   5261.</td>\n",
       "</tr>\n",
       "<tr>\n",
       "  <th>Df Model:</th>              <td>    21</td>      <th>                     </th>     <td> </td>   \n",
       "</tr>\n",
       "<tr>\n",
       "  <th>Covariance Type:</th>      <td>nonrobust</td>    <th>                     </th>     <td> </td>   \n",
       "</tr>\n",
       "</table>\n",
       "<table class=\"simpletable\">\n",
       "<tr>\n",
       "          <td></td>            <th>coef</th>     <th>std err</th>      <th>t</th>      <th>P>|t|</th>  <th>[0.025</th>    <th>0.975]</th>  \n",
       "</tr>\n",
       "<tr>\n",
       "  <th>const</th>            <td>   11.6863</td> <td>    0.024</td> <td>  480.286</td> <td> 0.000</td> <td>   11.639</td> <td>   11.734</td>\n",
       "</tr>\n",
       "<tr>\n",
       "  <th>bathrooms_4.0</th>    <td>    0.0445</td> <td>    0.010</td> <td>    4.407</td> <td> 0.000</td> <td>    0.025</td> <td>    0.064</td>\n",
       "</tr>\n",
       "<tr>\n",
       "  <th>grade_10</th>         <td>    0.8178</td> <td>    0.013</td> <td>   61.128</td> <td> 0.000</td> <td>    0.792</td> <td>    0.844</td>\n",
       "</tr>\n",
       "<tr>\n",
       "  <th>grade_7</th>          <td>    0.2172</td> <td>    0.007</td> <td>   29.172</td> <td> 0.000</td> <td>    0.203</td> <td>    0.232</td>\n",
       "</tr>\n",
       "<tr>\n",
       "  <th>sqm_living</th>       <td>    2.0843</td> <td>    0.039</td> <td>   52.850</td> <td> 0.000</td> <td>    2.007</td> <td>    2.162</td>\n",
       "</tr>\n",
       "<tr>\n",
       "  <th>distance_seattle</th> <td>    1.0429</td> <td>    0.012</td> <td>   84.778</td> <td> 0.000</td> <td>    1.019</td> <td>    1.067</td>\n",
       "</tr>\n",
       "<tr>\n",
       "  <th>age</th>              <td>    0.4729</td> <td>    0.010</td> <td>   48.932</td> <td> 0.000</td> <td>    0.454</td> <td>    0.492</td>\n",
       "</tr>\n",
       "<tr>\n",
       "  <th>grade_9</th>          <td>    0.6681</td> <td>    0.011</td> <td>   62.854</td> <td> 0.000</td> <td>    0.647</td> <td>    0.689</td>\n",
       "</tr>\n",
       "<tr>\n",
       "  <th>grade_8</th>          <td>    0.4471</td> <td>    0.009</td> <td>   51.377</td> <td> 0.000</td> <td>    0.430</td> <td>    0.464</td>\n",
       "</tr>\n",
       "<tr>\n",
       "  <th>grade_11</th>         <td>    0.9484</td> <td>    0.019</td> <td>   49.977</td> <td> 0.000</td> <td>    0.911</td> <td>    0.986</td>\n",
       "</tr>\n",
       "<tr>\n",
       "  <th>grade_12</th>         <td>    1.1073</td> <td>    0.034</td> <td>   32.257</td> <td> 0.000</td> <td>    1.040</td> <td>    1.175</td>\n",
       "</tr>\n",
       "<tr>\n",
       "  <th>bathrooms_1.0</th>    <td>   -0.1467</td> <td>    0.009</td> <td>  -16.060</td> <td> 0.000</td> <td>   -0.165</td> <td>   -0.129</td>\n",
       "</tr>\n",
       "<tr>\n",
       "  <th>grade_13</th>         <td>    1.1374</td> <td>    0.089</td> <td>   12.818</td> <td> 0.000</td> <td>    0.963</td> <td>    1.311</td>\n",
       "</tr>\n",
       "<tr>\n",
       "  <th>condition_5</th>      <td>    0.2342</td> <td>    0.022</td> <td>   10.612</td> <td> 0.000</td> <td>    0.191</td> <td>    0.277</td>\n",
       "</tr>\n",
       "<tr>\n",
       "  <th>condition_4</th>      <td>    0.1752</td> <td>    0.021</td> <td>    8.218</td> <td> 0.000</td> <td>    0.133</td> <td>    0.217</td>\n",
       "</tr>\n",
       "<tr>\n",
       "  <th>bathrooms_2.0</th>    <td>   -0.0581</td> <td>    0.006</td> <td>   -9.128</td> <td> 0.000</td> <td>   -0.071</td> <td>   -0.046</td>\n",
       "</tr>\n",
       "<tr>\n",
       "  <th>bed_2</th>            <td>    0.0645</td> <td>    0.007</td> <td>    8.787</td> <td> 0.000</td> <td>    0.050</td> <td>    0.079</td>\n",
       "</tr>\n",
       "<tr>\n",
       "  <th>condition_3</th>      <td>    0.1324</td> <td>    0.021</td> <td>    6.240</td> <td> 0.000</td> <td>    0.091</td> <td>    0.174</td>\n",
       "</tr>\n",
       "<tr>\n",
       "  <th>bed_6</th>            <td>   -0.0733</td> <td>    0.017</td> <td>   -4.232</td> <td> 0.000</td> <td>   -0.107</td> <td>   -0.039</td>\n",
       "</tr>\n",
       "<tr>\n",
       "  <th>bed_3</th>            <td>    0.0147</td> <td>    0.005</td> <td>    3.208</td> <td> 0.001</td> <td>    0.006</td> <td>    0.024</td>\n",
       "</tr>\n",
       "<tr>\n",
       "  <th>bathrooms_5.0</th>    <td>    0.1278</td> <td>    0.038</td> <td>    3.323</td> <td> 0.001</td> <td>    0.052</td> <td>    0.203</td>\n",
       "</tr>\n",
       "<tr>\n",
       "  <th>bed_7</th>            <td>   -0.1284</td> <td>    0.046</td> <td>   -2.804</td> <td> 0.005</td> <td>   -0.218</td> <td>   -0.039</td>\n",
       "</tr>\n",
       "</table>\n",
       "<table class=\"simpletable\">\n",
       "<tr>\n",
       "  <th>Omnibus:</th>       <td>422.574</td> <th>  Durbin-Watson:     </th> <td>   1.960</td> \n",
       "</tr>\n",
       "<tr>\n",
       "  <th>Prob(Omnibus):</th> <td> 0.000</td>  <th>  Jarque-Bera (JB):  </th> <td> 805.543</td> \n",
       "</tr>\n",
       "<tr>\n",
       "  <th>Skew:</th>          <td> 0.126</td>  <th>  Prob(JB):          </th> <td>1.20e-175</td>\n",
       "</tr>\n",
       "<tr>\n",
       "  <th>Kurtosis:</th>      <td> 3.919</td>  <th>  Cond. No.          </th> <td>    80.6</td> \n",
       "</tr>\n",
       "</table><br/><br/>Warnings:<br/>[1] Standard Errors assume that the covariance matrix of the errors is correctly specified."
      ],
      "text/plain": [
       "<class 'statsmodels.iolib.summary.Summary'>\n",
       "\"\"\"\n",
       "                            OLS Regression Results                            \n",
       "==============================================================================\n",
       "Dep. Variable:                  price   R-squared:                       0.724\n",
       "Model:                            OLS   Adj. R-squared:                  0.723\n",
       "Method:                 Least Squares   F-statistic:                     2653.\n",
       "Date:                Thu, 14 May 2020   Prob (F-statistic):               0.00\n",
       "Time:                        19:27:14   Log-Likelihood:                -2520.7\n",
       "No. Observations:               21290   AIC:                             5085.\n",
       "Df Residuals:                   21268   BIC:                             5261.\n",
       "Df Model:                          21                                         \n",
       "Covariance Type:            nonrobust                                         \n",
       "====================================================================================\n",
       "                       coef    std err          t      P>|t|      [0.025      0.975]\n",
       "------------------------------------------------------------------------------------\n",
       "const               11.6863      0.024    480.286      0.000      11.639      11.734\n",
       "bathrooms_4.0        0.0445      0.010      4.407      0.000       0.025       0.064\n",
       "grade_10             0.8178      0.013     61.128      0.000       0.792       0.844\n",
       "grade_7              0.2172      0.007     29.172      0.000       0.203       0.232\n",
       "sqm_living           2.0843      0.039     52.850      0.000       2.007       2.162\n",
       "distance_seattle     1.0429      0.012     84.778      0.000       1.019       1.067\n",
       "age                  0.4729      0.010     48.932      0.000       0.454       0.492\n",
       "grade_9              0.6681      0.011     62.854      0.000       0.647       0.689\n",
       "grade_8              0.4471      0.009     51.377      0.000       0.430       0.464\n",
       "grade_11             0.9484      0.019     49.977      0.000       0.911       0.986\n",
       "grade_12             1.1073      0.034     32.257      0.000       1.040       1.175\n",
       "bathrooms_1.0       -0.1467      0.009    -16.060      0.000      -0.165      -0.129\n",
       "grade_13             1.1374      0.089     12.818      0.000       0.963       1.311\n",
       "condition_5          0.2342      0.022     10.612      0.000       0.191       0.277\n",
       "condition_4          0.1752      0.021      8.218      0.000       0.133       0.217\n",
       "bathrooms_2.0       -0.0581      0.006     -9.128      0.000      -0.071      -0.046\n",
       "bed_2                0.0645      0.007      8.787      0.000       0.050       0.079\n",
       "condition_3          0.1324      0.021      6.240      0.000       0.091       0.174\n",
       "bed_6               -0.0733      0.017     -4.232      0.000      -0.107      -0.039\n",
       "bed_3                0.0147      0.005      3.208      0.001       0.006       0.024\n",
       "bathrooms_5.0        0.1278      0.038      3.323      0.001       0.052       0.203\n",
       "bed_7               -0.1284      0.046     -2.804      0.005      -0.218      -0.039\n",
       "==============================================================================\n",
       "Omnibus:                      422.574   Durbin-Watson:                   1.960\n",
       "Prob(Omnibus):                  0.000   Jarque-Bera (JB):              805.543\n",
       "Skew:                           0.126   Prob(JB):                    1.20e-175\n",
       "Kurtosis:                       3.919   Cond. No.                         80.6\n",
       "==============================================================================\n",
       "\n",
       "Warnings:\n",
       "[1] Standard Errors assume that the covariance matrix of the errors is correctly specified.\n",
       "\"\"\""
      ]
     },
     "execution_count": 161,
     "metadata": {},
     "output_type": "execute_result"
    }
   ],
   "source": [
    "X2 = sm.add_constant(X_sw)\n",
    "\n",
    "model = sm.OLS(y, X2)\n",
    "est = model.fit()\n",
    "est.summary()"
   ]
  },
  {
   "cell_type": "code",
   "execution_count": 162,
   "metadata": {},
   "outputs": [
    {
     "data": {
      "text/html": [
       "<div>\n",
       "<style scoped>\n",
       "    .dataframe tbody tr th:only-of-type {\n",
       "        vertical-align: middle;\n",
       "    }\n",
       "\n",
       "    .dataframe tbody tr th {\n",
       "        vertical-align: top;\n",
       "    }\n",
       "\n",
       "    .dataframe thead th {\n",
       "        text-align: right;\n",
       "    }\n",
       "</style>\n",
       "<table border=\"1\" class=\"dataframe\">\n",
       "  <thead>\n",
       "    <tr style=\"text-align: right;\">\n",
       "      <th></th>\n",
       "      <th>0</th>\n",
       "      <th>1</th>\n",
       "    </tr>\n",
       "  </thead>\n",
       "  <tbody>\n",
       "    <tr>\n",
       "      <td>const</td>\n",
       "      <td>11.638582</td>\n",
       "      <td>11.733967</td>\n",
       "    </tr>\n",
       "    <tr>\n",
       "      <td>bathrooms_4.0</td>\n",
       "      <td>0.024694</td>\n",
       "      <td>0.064256</td>\n",
       "    </tr>\n",
       "    <tr>\n",
       "      <td>grade_10</td>\n",
       "      <td>0.791550</td>\n",
       "      <td>0.843994</td>\n",
       "    </tr>\n",
       "    <tr>\n",
       "      <td>grade_7</td>\n",
       "      <td>0.202635</td>\n",
       "      <td>0.231826</td>\n",
       "    </tr>\n",
       "    <tr>\n",
       "      <td>sqm_living</td>\n",
       "      <td>2.006973</td>\n",
       "      <td>2.161575</td>\n",
       "    </tr>\n",
       "    <tr>\n",
       "      <td>distance_seattle</td>\n",
       "      <td>1.018788</td>\n",
       "      <td>1.067012</td>\n",
       "    </tr>\n",
       "    <tr>\n",
       "      <td>age</td>\n",
       "      <td>0.453971</td>\n",
       "      <td>0.491858</td>\n",
       "    </tr>\n",
       "    <tr>\n",
       "      <td>grade_9</td>\n",
       "      <td>0.647306</td>\n",
       "      <td>0.688978</td>\n",
       "    </tr>\n",
       "    <tr>\n",
       "      <td>grade_8</td>\n",
       "      <td>0.430010</td>\n",
       "      <td>0.464122</td>\n",
       "    </tr>\n",
       "    <tr>\n",
       "      <td>grade_11</td>\n",
       "      <td>0.911243</td>\n",
       "      <td>0.985638</td>\n",
       "    </tr>\n",
       "    <tr>\n",
       "      <td>grade_12</td>\n",
       "      <td>1.040053</td>\n",
       "      <td>1.174626</td>\n",
       "    </tr>\n",
       "    <tr>\n",
       "      <td>bathrooms_1.0</td>\n",
       "      <td>-0.164549</td>\n",
       "      <td>-0.128753</td>\n",
       "    </tr>\n",
       "    <tr>\n",
       "      <td>grade_13</td>\n",
       "      <td>0.963457</td>\n",
       "      <td>1.311291</td>\n",
       "    </tr>\n",
       "    <tr>\n",
       "      <td>condition_5</td>\n",
       "      <td>0.190943</td>\n",
       "      <td>0.277453</td>\n",
       "    </tr>\n",
       "    <tr>\n",
       "      <td>condition_4</td>\n",
       "      <td>0.133376</td>\n",
       "      <td>0.216933</td>\n",
       "    </tr>\n",
       "    <tr>\n",
       "      <td>bathrooms_2.0</td>\n",
       "      <td>-0.070575</td>\n",
       "      <td>-0.045623</td>\n",
       "    </tr>\n",
       "    <tr>\n",
       "      <td>bed_2</td>\n",
       "      <td>0.050126</td>\n",
       "      <td>0.078911</td>\n",
       "    </tr>\n",
       "    <tr>\n",
       "      <td>condition_3</td>\n",
       "      <td>0.090822</td>\n",
       "      <td>0.174014</td>\n",
       "    </tr>\n",
       "    <tr>\n",
       "      <td>bed_6</td>\n",
       "      <td>-0.107253</td>\n",
       "      <td>-0.039352</td>\n",
       "    </tr>\n",
       "    <tr>\n",
       "      <td>bed_3</td>\n",
       "      <td>0.005732</td>\n",
       "      <td>0.023732</td>\n",
       "    </tr>\n",
       "    <tr>\n",
       "      <td>bathrooms_5.0</td>\n",
       "      <td>0.052403</td>\n",
       "      <td>0.203124</td>\n",
       "    </tr>\n",
       "    <tr>\n",
       "      <td>bed_7</td>\n",
       "      <td>-0.218093</td>\n",
       "      <td>-0.038623</td>\n",
       "    </tr>\n",
       "  </tbody>\n",
       "</table>\n",
       "</div>"
      ],
      "text/plain": [
       "                          0          1\n",
       "const             11.638582  11.733967\n",
       "bathrooms_4.0      0.024694   0.064256\n",
       "grade_10           0.791550   0.843994\n",
       "grade_7            0.202635   0.231826\n",
       "sqm_living         2.006973   2.161575\n",
       "distance_seattle   1.018788   1.067012\n",
       "age                0.453971   0.491858\n",
       "grade_9            0.647306   0.688978\n",
       "grade_8            0.430010   0.464122\n",
       "grade_11           0.911243   0.985638\n",
       "grade_12           1.040053   1.174626\n",
       "bathrooms_1.0     -0.164549  -0.128753\n",
       "grade_13           0.963457   1.311291\n",
       "condition_5        0.190943   0.277453\n",
       "condition_4        0.133376   0.216933\n",
       "bathrooms_2.0     -0.070575  -0.045623\n",
       "bed_2              0.050126   0.078911\n",
       "condition_3        0.090822   0.174014\n",
       "bed_6             -0.107253  -0.039352\n",
       "bed_3              0.005732   0.023732\n",
       "bathrooms_5.0      0.052403   0.203124\n",
       "bed_7             -0.218093  -0.038623"
      ]
     },
     "execution_count": 162,
     "metadata": {},
     "output_type": "execute_result"
    }
   ],
   "source": [
    "est.conf_int()"
   ]
  },
  {
   "cell_type": "code",
   "execution_count": 163,
   "metadata": {},
   "outputs": [
    {
     "name": "stdout",
     "output_type": "stream",
     "text": [
      "p-value of lagrange multiplier test 1.07e-129\n",
      "the f value is 33.3\n",
      "the f p-value is 6.22e-132\n"
     ]
    }
   ],
   "source": [
    "lm, lm_pval, f_val, f_pval = diagnostic.het_breuschpagan(est.resid, est.model.exog)\n",
    "print('p-value of lagrange multiplier test {:.3}'.format(lm_pval))\n",
    "print('the f value is {:.3}'.format(f_val))\n",
    "print('the f p-value is {:.3}'.format(f_pval))"
   ]
  },
  {
   "cell_type": "markdown",
   "metadata": {},
   "source": [
    "The null hypothesis assumes homoskedasticity. for p_val > 0.05, fail to reject the null and conclude there may not be heteroskedasticity.\n",
    "\n"
   ]
  },
  {
   "cell_type": "markdown",
   "metadata": {},
   "source": [
    "## residuals"
   ]
  },
  {
   "cell_type": "code",
   "execution_count": 164,
   "metadata": {},
   "outputs": [
    {
     "data": {
      "image/png": "[encoded data removed]",
      "text/plain": [
       "<Figure size 432x288 with 1 Axes>"
      ]
     },
     "metadata": {
      "needs_background": "light"
     },
     "output_type": "display_data"
    },
    {
     "data": {
      "text/plain": [
       "6.310363744512933e-15"
      ]
     },
     "execution_count": 164,
     "metadata": {},
     "output_type": "execute_result"
    }
   ],
   "source": [
    "import pylab\n",
    "sm.qqplot(est.resid, line = 's')\n",
    "pylab.show()\n",
    "\n",
    "\n",
    "mean_resid = sum(est.resid)/len(est.resid)\n",
    "mean_resid"
   ]
  },
  {
   "cell_type": "code",
   "execution_count": 165,
   "metadata": {},
   "outputs": [
    {
     "name": "stdout",
     "output_type": "stream",
     "text": [
      "[12.54858174 13.27681679 12.72184228 ... 12.47650233 12.81952028\n",
      " 12.4801439 ]\n"
     ]
    }
   ],
   "source": [
    "y_hat = est.predict()\n",
    "print(y_hat)"
   ]
  },
  {
   "cell_type": "code",
   "execution_count": 166,
   "metadata": {},
   "outputs": [
    {
     "name": "stdout",
     "output_type": "stream",
     "text": [
      "0.27238465716257665\n"
     ]
    }
   ],
   "source": [
    "rmse =np.sqrt(mean_squared_error(y, y_hat))\n",
    "print(rmse)"
   ]
  },
  {
   "cell_type": "code",
   "execution_count": 167,
   "metadata": {},
   "outputs": [
    {
     "data": {
      "text/plain": [
       "<matplotlib.axes._subplots.AxesSubplot at 0x1c271cf940>"
      ]
     },
     "execution_count": 167,
     "metadata": {},
     "output_type": "execute_result"
    },
    {
     "data": {
      "image/png": "[encoded data removed]",
      "text/plain": [
       "<Figure size 432x288 with 1 Axes>"
      ]
     },
     "metadata": {
      "needs_background": "light"
     },
     "output_type": "display_data"
    }
   ],
   "source": [
    "ax1 = sns.distplot(y, hist=False, color=\"r\", label=\"Actual\")\n",
    "sns.distplot(y_hat, hist=False, color=\"b\", label=\"Predicted\" , ax=ax1)"
   ]
  },
  {
   "cell_type": "code",
   "execution_count": 168,
   "metadata": {},
   "outputs": [
    {
     "data": {
      "text/plain": [
       "const               11.686275\n",
       "bathrooms_4.0        0.044475\n",
       "grade_10             0.817772\n",
       "grade_7              0.217230\n",
       "sqm_living           2.084274\n",
       "distance_seattle     1.042900\n",
       "age                  0.472915\n",
       "grade_9              0.668142\n",
       "grade_8              0.447066\n",
       "grade_11             0.948440\n",
       "grade_12             1.107340\n",
       "bathrooms_1.0       -0.146651\n",
       "grade_13             1.137374\n",
       "condition_5          0.234198\n",
       "condition_4          0.175155\n",
       "bathrooms_2.0       -0.058099\n",
       "bed_2                0.064519\n",
       "condition_3          0.132418\n",
       "bed_6               -0.073302\n",
       "bed_3                0.014732\n",
       "bathrooms_5.0        0.127763\n",
       "bed_7               -0.128358\n",
       "dtype: float64"
      ]
     },
     "execution_count": 168,
     "metadata": {},
     "output_type": "execute_result"
    }
   ],
   "source": [
    "est.params"
   ]
  },
  {
   "cell_type": "code",
   "execution_count": 169,
   "metadata": {},
   "outputs": [
    {
     "data": {
      "text/plain": [
       "array([0.2749115 , 0.28180378, 0.27118362, 0.27045085, 0.27508364,\n",
       "       0.27718497, 0.27788868, 0.260603  ])"
      ]
     },
     "metadata": {},
     "output_type": "display_data"
    },
    {
     "data": {
      "text/plain": [
       "0.27363875694865636"
      ]
     },
     "metadata": {},
     "output_type": "display_data"
    },
    {
     "data": {
      "text/plain": [
       "0.005990971383950834"
      ]
     },
     "metadata": {},
     "output_type": "display_data"
    }
   ],
   "source": [
    "display(rmse_scores)\n",
    "display(rmse_scores.mean())\n",
    "display(rmse_scores.std())"
   ]
  },
  {
   "cell_type": "code",
   "execution_count": 170,
   "metadata": {},
   "outputs": [],
   "source": [
    "final_df.to_csv(r'dsc-mod-2-project-v2-1-onl01-dtsc-pt-012120\\final_df.csv')"
   ]
  },
  {
   "cell_type": "code",
   "execution_count": 171,
   "metadata": {},
   "outputs": [],
   "source": [
    "import pickle\n",
    "\n",
    "#pickle model\n",
    "pickle.dump(model, open('final_king_county_lm_pickle.pkl','wb'))"
   ]
  },
  {
   "cell_type": "code",
   "execution_count": null,
   "metadata": {},
   "outputs": [],
   "source": []
  },
  {
   "cell_type": "markdown",
   "metadata": {
    "toc": true
   },
   "source": [
    "<h1>Table of Contents<span class=\"tocSkip\"></span></h1>\n",
    "<div class=\"toc\"><ul class=\"toc-item\"><li><ul class=\"toc-item\"><li><span><a href=\"#Final-Project-Submission\" data-toc-modified-id=\"Final-Project-Submission-0.1\"><span class=\"toc-item-num\">0.1&nbsp;&nbsp;</span>Final Project Submission</a></span></li></ul></li><li><span><a href=\"#data-scrubbing-and-cleaning\" data-toc-modified-id=\"data-scrubbing-and-cleaning-1\"><span class=\"toc-item-num\">1&nbsp;&nbsp;</span>data scrubbing and cleaning</a></span><ul class=\"toc-item\"><li><span><a href=\"#import-modules-and-data\" data-toc-modified-id=\"import-modules-and-data-1.1\"><span class=\"toc-item-num\">1.1&nbsp;&nbsp;</span>import modules and data</a></span></li><li><span><a href=\"#functions\" data-toc-modified-id=\"functions-1.2\"><span class=\"toc-item-num\">1.2&nbsp;&nbsp;</span>functions</a></span></li><li><span><a href=\"#fill-in-missing-values-(NaN)-where-applicable\" data-toc-modified-id=\"fill-in-missing-values-(NaN)-where-applicable-1.3\"><span class=\"toc-item-num\">1.3&nbsp;&nbsp;</span>fill in missing values (NaN) where applicable</a></span><ul class=\"toc-item\"><li><span><a href=\"#assess-whether-renovation-has-direct-impact-on-home-price\" data-toc-modified-id=\"assess-whether-renovation-has-direct-impact-on-home-price-1.3.1\"><span class=\"toc-item-num\">1.3.1&nbsp;&nbsp;</span>assess whether renovation has direct impact on home price</a></span></li></ul></li><li><span><a href=\"#convert-date-column-to-DateTime-format,-then-separate-date-to-month,-day,-year-columns-due-to-datetime-being-unusable-in-regression,-(drop-'data'-column-once-all-necessary-calculations-have-been-done)\" data-toc-modified-id=\"convert-date-column-to-DateTime-format,-then-separate-date-to-month,-day,-year-columns-due-to-datetime-being-unusable-in-regression,-(drop-'data'-column-once-all-necessary-calculations-have-been-done)-1.4\"><span class=\"toc-item-num\">1.4&nbsp;&nbsp;</span>convert date column to DateTime format, then separate date to month, day, year columns due to datetime being unusable in regression, (drop 'data' column once all necessary calculations have been done)</a></span></li><li><span><a href=\"#create-age-column-from-date-of-sale-and-year-built\" data-toc-modified-id=\"create-age-column-from-date-of-sale-and-year-built-1.5\"><span class=\"toc-item-num\">1.5&nbsp;&nbsp;</span>create age column from date of sale and year built</a></span></li><li><span><a href=\"#find-out-if-there-are-historic-homes-on-dataset.-washington-state-qualifies-as-over-50-and-retaining-original-structure.-assess-whether-these-are-abnormalities\" data-toc-modified-id=\"find-out-if-there-are-historic-homes-on-dataset.-washington-state-qualifies-as-over-50-and-retaining-original-structure.-assess-whether-these-are-abnormalities-1.6\"><span class=\"toc-item-num\">1.6&nbsp;&nbsp;</span>find out if there are historic homes on dataset. washington state qualifies as over 50 and retaining original structure. assess whether these are abnormalities</a></span><ul class=\"toc-item\"><li><span><a href=\"#remove-1-million-and-up-price-homes,-as-these-are-outliers-and-1/3-could-qualify-as-historic.-these-are-abnormalities-and-would-possibly-require-a-different-model-to-assess-properly\" data-toc-modified-id=\"remove-1-million-and-up-price-homes,-as-these-are-outliers-and-1/3-could-qualify-as-historic.-these-are-abnormalities-and-would-possibly-require-a-different-model-to-assess-properly-1.6.1\"><span class=\"toc-item-num\">1.6.1&nbsp;&nbsp;</span>remove 1 million and up price homes, as these are outliers and 1/3 could qualify as historic. these are abnormalities and would possibly require a different model to assess properly</a></span></li><li><span><a href=\"#drop-columns-not-to-be-utilized\" data-toc-modified-id=\"drop-columns-not-to-be-utilized-1.6.2\"><span class=\"toc-item-num\">1.6.2&nbsp;&nbsp;</span>drop columns not to be utilized</a></span></li></ul></li><li><span><a href=\"#sqft_basement-column-contains-string-characters,-remove-these-and-convert-to-int-to-match-other-similar-columns\" data-toc-modified-id=\"sqft_basement-column-contains-string-characters,-remove-these-and-convert-to-int-to-match-other-similar-columns-1.7\"><span class=\"toc-item-num\">1.7&nbsp;&nbsp;</span>sqft_basement column contains string characters, remove these and convert to int to match other similar columns</a></span></li><li><span><a href=\"#convert-sq_ft-areas-to-square-meters\" data-toc-modified-id=\"convert-sq_ft-areas-to-square-meters-1.8\"><span class=\"toc-item-num\">1.8&nbsp;&nbsp;</span>convert sq_ft areas to square meters</a></span></li><li><span><a href=\"#bedrooms-outlier-present-as-33-bedroom-house,-appears-to-be-typo-due-to-other-info,-should-be-3-bedrooms-as-this-listing-only-has-1.75-bathrooms\" data-toc-modified-id=\"bedrooms-outlier-present-as-33-bedroom-house,-appears-to-be-typo-due-to-other-info,-should-be-3-bedrooms-as-this-listing-only-has-1.75-bathrooms-1.9\"><span class=\"toc-item-num\">1.9&nbsp;&nbsp;</span>bedrooms outlier present as 33 bedroom house, appears to be typo due to other info, should be 3 bedrooms as this listing only has 1.75 bathrooms</a></span></li><li><span><a href=\"#assessing-grade-category\" data-toc-modified-id=\"assessing-grade-category-1.10\"><span class=\"toc-item-num\">1.10&nbsp;&nbsp;</span>assessing grade category</a></span></li><li><span><a href=\"#assess-for-duplicates\" data-toc-modified-id=\"assess-for-duplicates-1.11\"><span class=\"toc-item-num\">1.11&nbsp;&nbsp;</span>assess for duplicates</a></span></li><li><span><a href=\"#evaluate-duplicate-ids\" data-toc-modified-id=\"evaluate-duplicate-ids-1.12\"><span class=\"toc-item-num\">1.12&nbsp;&nbsp;</span>evaluate duplicate ids</a></span></li><li><span><a href=\"#use-latitude-and-longitude-in-existing-dataset-to-get-the-distance-from-home-to-Seattle(closest-major-city)\" data-toc-modified-id=\"use-latitude-and-longitude-in-existing-dataset-to-get-the-distance-from-home-to-Seattle(closest-major-city)-1.13\"><span class=\"toc-item-num\">1.13&nbsp;&nbsp;</span>use latitude and longitude in existing dataset to get the distance from home to Seattle(closest major city)</a></span><ul class=\"toc-item\"><li><span><a href=\"#import-geopy-modules\" data-toc-modified-id=\"import-geopy-modules-1.13.1\"><span class=\"toc-item-num\">1.13.1&nbsp;&nbsp;</span>import geopy modules</a></span></li><li><span><a href=\"#use-geopy-to-set-up-points-and-calculate-distance\" data-toc-modified-id=\"use-geopy-to-set-up-points-and-calculate-distance-1.13.2\"><span class=\"toc-item-num\">1.13.2&nbsp;&nbsp;</span>use geopy to set up points and calculate distance</a></span></li><li><span><a href=\"#dropping-columns\" data-toc-modified-id=\"dropping-columns-1.13.3\"><span class=\"toc-item-num\">1.13.3&nbsp;&nbsp;</span>dropping columns</a></span></li></ul></li><li><span><a href=\"#dropping-all-sqft-columns-due-to-conversion-to-metric-system\" data-toc-modified-id=\"dropping-all-sqft-columns-due-to-conversion-to-metric-system-1.14\"><span class=\"toc-item-num\">1.14&nbsp;&nbsp;</span>dropping all sqft columns due to conversion to metric system</a></span></li><li><span><a href=\"#create-id-dataframe-to-attach-once-model-is-complete.-remove-id-from-dataset-as-it-isn't-relevant-but-just-identifies-homes\" data-toc-modified-id=\"create-id-dataframe-to-attach-once-model-is-complete.-remove-id-from-dataset-as-it-isn't-relevant-but-just-identifies-homes-1.15\"><span class=\"toc-item-num\">1.15&nbsp;&nbsp;</span>create id dataframe to attach once model is complete. remove id from dataset as it isn't relevant but just identifies homes</a></span></li></ul></li><li><span><a href=\"#check-for-multicollinearity\" data-toc-modified-id=\"check-for-multicollinearity-2\"><span class=\"toc-item-num\">2&nbsp;&nbsp;</span>check for multicollinearity</a></span><ul class=\"toc-item\"><li><span><a href=\"#heatmap-for-correlation-assessment\" data-toc-modified-id=\"heatmap-for-correlation-assessment-2.1\"><span class=\"toc-item-num\">2.1&nbsp;&nbsp;</span>heatmap for correlation assessment</a></span></li><li><span><a href=\"#create-new-dataframe-to-further-assess-correlation\" data-toc-modified-id=\"create-new-dataframe-to-further-assess-correlation-2.2\"><span class=\"toc-item-num\">2.2&nbsp;&nbsp;</span>create new dataframe to further assess correlation</a></span></li><li><span><a href=\"#scatter-matrix-to-further-assess-multicollinearity\" data-toc-modified-id=\"scatter-matrix-to-further-assess-multicollinearity-2.3\"><span class=\"toc-item-num\">2.3&nbsp;&nbsp;</span>scatter matrix to further assess multicollinearity</a></span><ul class=\"toc-item\"><li><span><a href=\"#assess-for-outliers\" data-toc-modified-id=\"assess-for-outliers-2.3.1\"><span class=\"toc-item-num\">2.3.1&nbsp;&nbsp;</span>assess for outliers</a></span></li></ul></li></ul></li><li><span><a href=\"#data-exploration\" data-toc-modified-id=\"data-exploration-3\"><span class=\"toc-item-num\">3&nbsp;&nbsp;</span>data exploration</a></span><ul class=\"toc-item\"><li><span><a href=\"#histograms\" data-toc-modified-id=\"histograms-3.1\"><span class=\"toc-item-num\">3.1&nbsp;&nbsp;</span>histograms</a></span></li><li><span><a href=\"#pairplot\" data-toc-modified-id=\"pairplot-3.2\"><span class=\"toc-item-num\">3.2&nbsp;&nbsp;</span>pairplot</a></span></li><li><span><a href=\"#kde\" data-toc-modified-id=\"kde-3.3\"><span class=\"toc-item-num\">3.3&nbsp;&nbsp;</span>kde</a></span></li><li><span><a href=\"#check-price-skew,-visualize-tranformed-data,-normalize-price-using-log-transformation\" data-toc-modified-id=\"check-price-skew,-visualize-tranformed-data,-normalize-price-using-log-transformation-3.4\"><span class=\"toc-item-num\">3.4&nbsp;&nbsp;</span>check price skew, visualize tranformed data, normalize price using log transformation</a></span></li><li><span><a href=\"#regression-plots\" data-toc-modified-id=\"regression-plots-3.5\"><span class=\"toc-item-num\">3.5&nbsp;&nbsp;</span>regression plots</a></span></li><li><span><a href=\"#age/price-scatter\" data-toc-modified-id=\"age/price-scatter-3.6\"><span class=\"toc-item-num\">3.6&nbsp;&nbsp;</span>age/price scatter</a></span></li><li><span><a href=\"#distance-to-seattle/price-scatter\" data-toc-modified-id=\"distance-to-seattle/price-scatter-3.7\"><span class=\"toc-item-num\">3.7&nbsp;&nbsp;</span>distance to seattle/price scatter</a></span></li><li><span><a href=\"#visualize-categorical-variables-by-price\" data-toc-modified-id=\"visualize-categorical-variables-by-price-3.8\"><span class=\"toc-item-num\">3.8&nbsp;&nbsp;</span>visualize categorical variables by price</a></span></li></ul></li><li><span><a href=\"#one-hot-encoding,-create-new-df:-dummies\" data-toc-modified-id=\"one-hot-encoding,-create-new-df:-dummies-4\"><span class=\"toc-item-num\">4&nbsp;&nbsp;</span>one hot encoding, create new df: dummies</a></span><ul class=\"toc-item\"><li><span><a href=\"#create-dummy-df\" data-toc-modified-id=\"create-dummy-df-4.1\"><span class=\"toc-item-num\">4.1&nbsp;&nbsp;</span>create dummy df</a></span></li></ul></li><li><span><a href=\"#models\" data-toc-modified-id=\"models-5\"><span class=\"toc-item-num\">5&nbsp;&nbsp;</span>models</a></span><ul class=\"toc-item\"><li><span><a href=\"#import-libraries\" data-toc-modified-id=\"import-libraries-5.1\"><span class=\"toc-item-num\">5.1&nbsp;&nbsp;</span>import libraries</a></span><ul class=\"toc-item\"><li><span><a href=\"#no-dummies-dataframe\" data-toc-modified-id=\"no-dummies-dataframe-5.1.1\"><span class=\"toc-item-num\">5.1.1&nbsp;&nbsp;</span>no dummies dataframe</a></span></li><li><span><a href=\"#df-with-dummies\" data-toc-modified-id=\"df-with-dummies-5.1.2\"><span class=\"toc-item-num\">5.1.2&nbsp;&nbsp;</span>df with dummies</a></span></li></ul></li></ul></li><li><span><a href=\"#dataset-without-dummies\" data-toc-modified-id=\"dataset-without-dummies-6\"><span class=\"toc-item-num\">6&nbsp;&nbsp;</span>dataset without dummies</a></span><ul class=\"toc-item\"><li><span><a href=\"#build-model-with-df\" data-toc-modified-id=\"build-model-with-df-6.1\"><span class=\"toc-item-num\">6.1&nbsp;&nbsp;</span>build model with df</a></span><ul class=\"toc-item\"><li><span><a href=\"#no-scaling-to-variables-or-price\" data-toc-modified-id=\"no-scaling-to-variables-or-price-6.1.1\"><span class=\"toc-item-num\">6.1.1&nbsp;&nbsp;</span>no scaling to variables or price</a></span></li><li><span><a href=\"#with-dummies\" data-toc-modified-id=\"with-dummies-6.1.2\"><span class=\"toc-item-num\">6.1.2&nbsp;&nbsp;</span>with dummies</a></span></li><li><span><a href=\"#without-dummies\" data-toc-modified-id=\"without-dummies-6.1.3\"><span class=\"toc-item-num\">6.1.3&nbsp;&nbsp;</span>without dummies</a></span></li></ul></li><li><span><a href=\"#regression-on-datasets-with-dummies\" data-toc-modified-id=\"regression-on-datasets-with-dummies-6.2\"><span class=\"toc-item-num\">6.2&nbsp;&nbsp;</span>regression on datasets with dummies</a></span><ul class=\"toc-item\"><li><span><a href=\"#with-minmax-scaling-applied-to-dataset,-log-transformed-price\" data-toc-modified-id=\"with-minmax-scaling-applied-to-dataset,-log-transformed-price-6.2.1\"><span class=\"toc-item-num\">6.2.1&nbsp;&nbsp;</span>with minmax scaling applied to dataset, log transformed price</a></span></li><li><span><a href=\"#no-scaling-applied-to-continuous,-log-transformed-price\" data-toc-modified-id=\"no-scaling-applied-to-continuous,-log-transformed-price-6.2.2\"><span class=\"toc-item-num\">6.2.2&nbsp;&nbsp;</span>no scaling applied to continuous, log transformed price</a></span></li><li><span><a href=\"#with-minmax-scaling-applied-to-continuous,-log-transformed-price\" data-toc-modified-id=\"with-minmax-scaling-applied-to-continuous,-log-transformed-price-6.2.3\"><span class=\"toc-item-num\">6.2.3&nbsp;&nbsp;</span>with minmax scaling applied to continuous, log transformed price</a></span></li></ul></li><li><span><a href=\"#using-model-2,-min-max-scalinng-to-continuous-variables-with-target-=-log-transformed-price\" data-toc-modified-id=\"using-model-2,-min-max-scalinng-to-continuous-variables-with-target-=-log-transformed-price-6.3\"><span class=\"toc-item-num\">6.3&nbsp;&nbsp;</span>using model 2, min max scalinng to continuous variables with target = log transformed price</a></span></li><li><span><a href=\"#train/test-split-data\" data-toc-modified-id=\"train/test-split-data-6.4\"><span class=\"toc-item-num\">6.4&nbsp;&nbsp;</span>train/test split data</a></span><ul class=\"toc-item\"><li><span><a href=\"#visualize-training-data-vs-test-data\" data-toc-modified-id=\"visualize-training-data-vs-test-data-6.4.1\"><span class=\"toc-item-num\">6.4.1&nbsp;&nbsp;</span>visualize training data vs test data</a></span></li></ul></li><li><span><a href=\"#perform-stepwise-selection-on-model-and-review-variable-significance\" data-toc-modified-id=\"perform-stepwise-selection-on-model-and-review-variable-significance-6.5\"><span class=\"toc-item-num\">6.5&nbsp;&nbsp;</span>perform stepwise selection on model and review variable significance</a></span></li><li><span><a href=\"#residuals\" data-toc-modified-id=\"residuals-6.6\"><span class=\"toc-item-num\">6.6&nbsp;&nbsp;</span>residuals</a></span></li></ul></li><li><span><a href=\"#rename-model-for-save\" data-toc-modified-id=\"rename-model-for-save-7\"><span class=\"toc-item-num\">7&nbsp;&nbsp;</span>rename model for save</a></span></li></ul></div>"
   ]
  }
 ],
 "metadata": {
  "kernelspec": {
   "display_name": "Python 3",
   "language": "python",
   "name": "python3"
  },
  "language_info": {
   "codemirror_mode": {
    "name": "ipython",
    "version": 3
   },
   "file_extension": ".py",
   "mimetype": "text/x-python",
   "name": "python",
   "nbconvert_exporter": "python",
   "pygments_lexer": "ipython3",
   "version": "3.7.4"
  },
  "toc": {
   "base_numbering": 1,
   "nav_menu": {
    "height": "174px",
    "width": "329px"
   },
   "number_sections": true,
   "sideBar": true,
   "skip_h1_title": false,
   "title_cell": "Table of Contents",
   "title_sidebar": "Contents",
   "toc_cell": true,
   "toc_position": {},
   "toc_section_display": true,
   "toc_window_display": false
  }
 },
 "nbformat": 4,
 "nbformat_minor": 2
}
