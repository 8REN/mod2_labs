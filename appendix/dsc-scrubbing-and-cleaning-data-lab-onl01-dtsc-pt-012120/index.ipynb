{
 "cells": [
  {
   "cell_type": "markdown",
   "metadata": {
    "toc": true
   },
   "source": [
    "<h1>Table of Contents<span class=\"tocSkip\"></span></h1>\n",
    "<div class=\"toc\"><ul class=\"toc-item\"><li><span><a href=\"#Scrubbing-and-Cleaning-Data---Lab\" data-toc-modified-id=\"Scrubbing-and-Cleaning-Data---Lab-1\"><span class=\"toc-item-num\">1&nbsp;&nbsp;</span>Scrubbing and Cleaning Data - Lab</a></span><ul class=\"toc-item\"><li><span><a href=\"#Introduction\" data-toc-modified-id=\"Introduction-1.1\"><span class=\"toc-item-num\">1.1&nbsp;&nbsp;</span>Introduction</a></span></li><li><span><a href=\"#Objectives\" data-toc-modified-id=\"Objectives-1.2\"><span class=\"toc-item-num\">1.2&nbsp;&nbsp;</span>Objectives</a></span></li><li><span><a href=\"#Getting-Started\" data-toc-modified-id=\"Getting-Started-1.3\"><span class=\"toc-item-num\">1.3&nbsp;&nbsp;</span>Getting Started</a></span></li><li><span><a href=\"#Starting-our-Data-Cleaning\" data-toc-modified-id=\"Starting-our-Data-Cleaning-1.4\"><span class=\"toc-item-num\">1.4&nbsp;&nbsp;</span>Starting our Data Cleaning</a></span><ul class=\"toc-item\"><li><span><a href=\"#Checking-Data-Types\" data-toc-modified-id=\"Checking-Data-Types-1.4.1\"><span class=\"toc-item-num\">1.4.1&nbsp;&nbsp;</span>Checking Data Types</a></span></li><li><span><a href=\"#Numerical-Data-Stored-as-Strings\" data-toc-modified-id=\"Numerical-Data-Stored-as-Strings-1.4.2\"><span class=\"toc-item-num\">1.4.2&nbsp;&nbsp;</span>Numerical Data Stored as Strings</a></span></li><li><span><a href=\"#Detecting-and-Dealing-With-Null-Values\" data-toc-modified-id=\"Detecting-and-Dealing-With-Null-Values-1.4.3\"><span class=\"toc-item-num\">1.4.3&nbsp;&nbsp;</span>Detecting and Dealing With Null Values</a></span></li></ul></li><li><span><a href=\"#Normalizing-the-Data\" data-toc-modified-id=\"Normalizing-the-Data-1.5\"><span class=\"toc-item-num\">1.5&nbsp;&nbsp;</span>Normalizing the Data</a></span></li><li><span><a href=\"#Saving-Your-Results\" data-toc-modified-id=\"Saving-Your-Results-1.6\"><span class=\"toc-item-num\">1.6&nbsp;&nbsp;</span>Saving Your Results</a></span></li><li><span><a href=\"#One-Hot-Encoding-Categorical-Columns\" data-toc-modified-id=\"One-Hot-Encoding-Categorical-Columns-1.7\"><span class=\"toc-item-num\">1.7&nbsp;&nbsp;</span>One-Hot Encoding Categorical Columns</a></span></li><li><span><a href=\"#Summary\" data-toc-modified-id=\"Summary-1.8\"><span class=\"toc-item-num\">1.8&nbsp;&nbsp;</span>Summary</a></span></li></ul></li></ul></div>"
   ]
  },
  {
   "cell_type": "markdown",
   "metadata": {},
   "source": [
    "# Scrubbing and Cleaning Data - Lab\n",
    "\n",
    "## Introduction\n",
    "\n",
    "In the previous labs, you joined the data from our separate files into a single DataFrame.  In this lab, you'll scrub the data to get it ready for exploration and modeling!\n",
    "\n",
    "## Objectives\n",
    "\n",
    "You will be able to:\n",
    "\n",
    "* Perform the full data cleaning process for a dataset\n",
    "* Identify and deal with null values appropriately\n",
    "* Remove unnecessary columns\n",
    "\n",
    "\n",
    "## Getting Started\n",
    "\n",
    "You'll find the resulting dataset from your work in the _Obtaining Data_ Lab stored within the file `'Lego_data_merged.csv'`.  \n",
    "\n",
    "In the cells below:\n",
    "\n",
    "* Import `pandas` and set the standard alias. \n",
    "* Import `numpy` and set the standard alias. \n",
    "* Import `matplotlib.pyplot` and set the standard alias. \n",
    "* Import `seaborn` and set the alias `sns` (this is the standard alias for seaborn). \n",
    "* Use the ipython magic command to set all matplotlib visualizations to display inline in the notebook. \n",
    "* Load the dataset stored in the `'Lego_data_merged.csv'` file into a DataFrame, `df`. \n",
    "* Inspect the head of the DataFrame to ensure everything loaded correctly. "
   ]
  },
  {
   "cell_type": "code",
   "execution_count": 36,
   "metadata": {},
   "outputs": [],
   "source": [
    "# Import statements go here\n",
    "import pandas as pd\n",
    "import numpy as np\n",
    "import seaborn as sns\n",
    "import matplotlib.pyplot as plt\n",
    "%matplotlib inline"
   ]
  },
  {
   "cell_type": "code",
   "execution_count": 37,
   "metadata": {},
   "outputs": [
    {
     "data": {
      "text/html": [
       "<div>\n",
       "<style scoped>\n",
       "    .dataframe tbody tr th:only-of-type {\n",
       "        vertical-align: middle;\n",
       "    }\n",
       "\n",
       "    .dataframe tbody tr th {\n",
       "        vertical-align: top;\n",
       "    }\n",
       "\n",
       "    .dataframe thead th {\n",
       "        text-align: right;\n",
       "    }\n",
       "</style>\n",
       "<table border=\"1\" class=\"dataframe\">\n",
       "  <thead>\n",
       "    <tr style=\"text-align: right;\">\n",
       "      <th></th>\n",
       "      <th>prod_id</th>\n",
       "      <th>ages</th>\n",
       "      <th>piece_count</th>\n",
       "      <th>set_name</th>\n",
       "      <th>prod_desc</th>\n",
       "      <th>prod_long_desc</th>\n",
       "      <th>theme_name</th>\n",
       "      <th>country</th>\n",
       "      <th>list_price</th>\n",
       "      <th>num_reviews</th>\n",
       "      <th>play_star_rating</th>\n",
       "      <th>review_difficulty</th>\n",
       "      <th>star_rating</th>\n",
       "      <th>val_star_rating</th>\n",
       "    </tr>\n",
       "  </thead>\n",
       "  <tbody>\n",
       "    <tr>\n",
       "      <td>0</td>\n",
       "      <td>75823</td>\n",
       "      <td>6-12</td>\n",
       "      <td>277</td>\n",
       "      <td>Bird Island Egg Heist</td>\n",
       "      <td>Catapult into action and take back the eggs fr...</td>\n",
       "      <td>Use the staircase catapult to launch Red into ...</td>\n",
       "      <td>Angry Birds™</td>\n",
       "      <td>US</td>\n",
       "      <td>$29.99</td>\n",
       "      <td>2.0</td>\n",
       "      <td>4.0</td>\n",
       "      <td>Average</td>\n",
       "      <td>4.5</td>\n",
       "      <td>4.0</td>\n",
       "    </tr>\n",
       "    <tr>\n",
       "      <td>1</td>\n",
       "      <td>75822</td>\n",
       "      <td>6-12</td>\n",
       "      <td>168</td>\n",
       "      <td>Piggy Plane Attack</td>\n",
       "      <td>Launch a flying attack and rescue the eggs fro...</td>\n",
       "      <td>Pilot Pig has taken off from Bird Island with ...</td>\n",
       "      <td>Angry Birds™</td>\n",
       "      <td>US</td>\n",
       "      <td>$19.99</td>\n",
       "      <td>2.0</td>\n",
       "      <td>4.0</td>\n",
       "      <td>Easy</td>\n",
       "      <td>5.0</td>\n",
       "      <td>4.0</td>\n",
       "    </tr>\n",
       "    <tr>\n",
       "      <td>2</td>\n",
       "      <td>75821</td>\n",
       "      <td>6-12</td>\n",
       "      <td>74</td>\n",
       "      <td>Piggy Car Escape</td>\n",
       "      <td>Chase the piggy with lightning-fast Chuck and ...</td>\n",
       "      <td>Pitch speedy bird Chuck against the Piggy Car....</td>\n",
       "      <td>Angry Birds™</td>\n",
       "      <td>US</td>\n",
       "      <td>$12.99</td>\n",
       "      <td>11.0</td>\n",
       "      <td>4.3</td>\n",
       "      <td>Easy</td>\n",
       "      <td>4.3</td>\n",
       "      <td>4.1</td>\n",
       "    </tr>\n",
       "    <tr>\n",
       "      <td>3</td>\n",
       "      <td>21030</td>\n",
       "      <td>12+</td>\n",
       "      <td>1032</td>\n",
       "      <td>United States Capitol Building</td>\n",
       "      <td>Explore the architecture of the United States ...</td>\n",
       "      <td>Discover the architectural secrets of the icon...</td>\n",
       "      <td>Architecture</td>\n",
       "      <td>US</td>\n",
       "      <td>$99.99</td>\n",
       "      <td>23.0</td>\n",
       "      <td>3.6</td>\n",
       "      <td>Average</td>\n",
       "      <td>4.6</td>\n",
       "      <td>4.3</td>\n",
       "    </tr>\n",
       "    <tr>\n",
       "      <td>4</td>\n",
       "      <td>21035</td>\n",
       "      <td>12+</td>\n",
       "      <td>744</td>\n",
       "      <td>Solomon R. Guggenheim Museum®</td>\n",
       "      <td>Recreate the Solomon R. Guggenheim Museum® wit...</td>\n",
       "      <td>Discover the architectural secrets of Frank Ll...</td>\n",
       "      <td>Architecture</td>\n",
       "      <td>US</td>\n",
       "      <td>$79.99</td>\n",
       "      <td>14.0</td>\n",
       "      <td>3.2</td>\n",
       "      <td>Challenging</td>\n",
       "      <td>4.6</td>\n",
       "      <td>4.1</td>\n",
       "    </tr>\n",
       "  </tbody>\n",
       "</table>\n",
       "</div>"
      ],
      "text/plain": [
       "   prod_id  ages  piece_count                        set_name  \\\n",
       "0    75823  6-12          277           Bird Island Egg Heist   \n",
       "1    75822  6-12          168              Piggy Plane Attack   \n",
       "2    75821  6-12           74                Piggy Car Escape   \n",
       "3    21030   12+         1032  United States Capitol Building   \n",
       "4    21035   12+          744   Solomon R. Guggenheim Museum®   \n",
       "\n",
       "                                           prod_desc  \\\n",
       "0  Catapult into action and take back the eggs fr...   \n",
       "1  Launch a flying attack and rescue the eggs fro...   \n",
       "2  Chase the piggy with lightning-fast Chuck and ...   \n",
       "3  Explore the architecture of the United States ...   \n",
       "4  Recreate the Solomon R. Guggenheim Museum® wit...   \n",
       "\n",
       "                                      prod_long_desc    theme_name country  \\\n",
       "0  Use the staircase catapult to launch Red into ...  Angry Birds™      US   \n",
       "1  Pilot Pig has taken off from Bird Island with ...  Angry Birds™      US   \n",
       "2  Pitch speedy bird Chuck against the Piggy Car....  Angry Birds™      US   \n",
       "3  Discover the architectural secrets of the icon...  Architecture      US   \n",
       "4  Discover the architectural secrets of Frank Ll...  Architecture      US   \n",
       "\n",
       "  list_price  num_reviews  play_star_rating review_difficulty  star_rating  \\\n",
       "0     $29.99          2.0               4.0           Average          4.5   \n",
       "1     $19.99          2.0               4.0              Easy          5.0   \n",
       "2     $12.99         11.0               4.3              Easy          4.3   \n",
       "3     $99.99         23.0               3.6           Average          4.6   \n",
       "4     $79.99         14.0               3.2       Challenging          4.6   \n",
       "\n",
       "   val_star_rating  \n",
       "0              4.0  \n",
       "1              4.0  \n",
       "2              4.1  \n",
       "3              4.3  \n",
       "4              4.1  "
      ]
     },
     "execution_count": 37,
     "metadata": {},
     "output_type": "execute_result"
    }
   ],
   "source": [
    "# Now, load in the dataset and inspect the head to make sure everything loaded correctly\n",
    "\n",
    "df = pd.read_csv('Lego_data_merged.csv')\n",
    "df.head()"
   ]
  },
  {
   "cell_type": "markdown",
   "metadata": {},
   "source": [
    "## Starting our Data Cleaning\n",
    "\n",
    "To start, you'll deal with the most obvious issue: data features with the wrong data encoding.\n",
    "\n",
    "### Checking Data Types\n",
    "\n",
    "In the cell below, use the appropriate method to check the data type of each column. "
   ]
  },
  {
   "cell_type": "code",
   "execution_count": 38,
   "metadata": {},
   "outputs": [
    {
     "name": "stdout",
     "output_type": "stream",
     "text": [
      "<class 'pandas.core.frame.DataFrame'>\n",
      "RangeIndex: 10870 entries, 0 to 10869\n",
      "Data columns (total 14 columns):\n",
      "prod_id              10870 non-null int64\n",
      "ages                 10870 non-null object\n",
      "piece_count          10870 non-null int64\n",
      "set_name             10870 non-null object\n",
      "prod_desc            10512 non-null object\n",
      "prod_long_desc       10870 non-null object\n",
      "theme_name           10870 non-null object\n",
      "country              10870 non-null object\n",
      "list_price           10870 non-null object\n",
      "num_reviews          9449 non-null float64\n",
      "play_star_rating     9321 non-null float64\n",
      "review_difficulty    9104 non-null object\n",
      "star_rating          9449 non-null float64\n",
      "val_star_rating      9301 non-null float64\n",
      "dtypes: float64(4), int64(2), object(8)\n",
      "memory usage: 1.2+ MB\n"
     ]
    }
   ],
   "source": [
    "# Your code here\n",
    "df.info()"
   ]
  },
  {
   "cell_type": "markdown",
   "metadata": {},
   "source": [
    "Now, investigate some of the unique values inside of the `list_price` column."
   ]
  },
  {
   "cell_type": "code",
   "execution_count": 39,
   "metadata": {},
   "outputs": [
    {
     "data": {
      "text/plain": [
       "array(['$29.99', '$19.99', '$12.99', '$99.99', '$79.99'], dtype=object)"
      ]
     },
     "execution_count": 39,
     "metadata": {},
     "output_type": "execute_result"
    }
   ],
   "source": [
    "# Your code here\n",
    "df.list_price.unique()[:5]"
   ]
  },
  {
   "cell_type": "markdown",
   "metadata": {},
   "source": [
    "### Numerical Data Stored as Strings\n",
    "\n",
    "A common issue to check for at this stage is numeric columns that have accidentally been encoded as strings. For example, you should notice that the `list_price` column above is currently formatted as a string and contains a proceeding '$'. Remove this and convert the remaining number to a `float` so that you can later model this value. After all, your primary task is to generate model to predict the price.\n",
    "\n",
    "> Note: While the data spans a multitude of countries, assume for now that all prices have been standardized to USD."
   ]
  },
  {
   "cell_type": "code",
   "execution_count": 40,
   "metadata": {},
   "outputs": [
    {
     "data": {
      "text/plain": [
       "array([29.99, 19.99, 12.99, 99.99, 79.99])"
      ]
     },
     "execution_count": 40,
     "metadata": {},
     "output_type": "execute_result"
    }
   ],
   "source": [
    "df.list_price = df.list_price.map(lambda x: float(x.replace('$', ''))) #Strip the $ sign and convert to float\n",
    "#Could also potentially take advantage of str indexing but this would be less flexible and prone to potential errors /\n",
    "#if the data is not consistently formatted\n",
    "df.list_price.unique()[:5]"
   ]
  },
  {
   "cell_type": "code",
   "execution_count": 41,
   "metadata": {},
   "outputs": [
    {
     "name": "stdout",
     "output_type": "stream",
     "text": [
      "<class 'pandas.core.frame.DataFrame'>\n",
      "RangeIndex: 10870 entries, 0 to 10869\n",
      "Data columns (total 14 columns):\n",
      "prod_id              10870 non-null int64\n",
      "ages                 10870 non-null object\n",
      "piece_count          10870 non-null int64\n",
      "set_name             10870 non-null object\n",
      "prod_desc            10512 non-null object\n",
      "prod_long_desc       10870 non-null object\n",
      "theme_name           10870 non-null object\n",
      "country              10870 non-null object\n",
      "list_price           10870 non-null float64\n",
      "num_reviews          9449 non-null float64\n",
      "play_star_rating     9321 non-null float64\n",
      "review_difficulty    9104 non-null object\n",
      "star_rating          9449 non-null float64\n",
      "val_star_rating      9301 non-null float64\n",
      "dtypes: float64(5), int64(2), object(7)\n",
      "memory usage: 1.2+ MB\n"
     ]
    }
   ],
   "source": [
    "df.info()"
   ]
  },
  {
   "cell_type": "markdown",
   "metadata": {},
   "source": [
    "### Detecting and Dealing With Null Values\n",
    "\n",
    "Next, it's time to check for null values. How to deal with the null values will be determined by the columns containing them, and how many null values exist in each.  \n",
    " \n",
    "In the cell below, get a count of how many null values exist in each column in the DataFrame. "
   ]
  },
  {
   "cell_type": "code",
   "execution_count": 42,
   "metadata": {},
   "outputs": [
    {
     "data": {
      "text/plain": [
       "prod_id                 0\n",
       "ages                    0\n",
       "piece_count             0\n",
       "set_name                0\n",
       "prod_desc             358\n",
       "prod_long_desc          0\n",
       "theme_name              0\n",
       "country                 0\n",
       "list_price              0\n",
       "num_reviews          1421\n",
       "play_star_rating     1549\n",
       "review_difficulty    1766\n",
       "star_rating          1421\n",
       "val_star_rating      1569\n",
       "dtype: int64"
      ]
     },
     "execution_count": 42,
     "metadata": {},
     "output_type": "execute_result"
    }
   ],
   "source": [
    "df.isna().sum()"
   ]
  },
  {
   "cell_type": "markdown",
   "metadata": {},
   "source": [
    "Now, get some descriptive statistics for each of the columns. You want to see where the minimum and maximum values lie.  "
   ]
  },
  {
   "cell_type": "code",
   "execution_count": 43,
   "metadata": {},
   "outputs": [
    {
     "data": {
      "text/html": [
       "<div>\n",
       "<style scoped>\n",
       "    .dataframe tbody tr th:only-of-type {\n",
       "        vertical-align: middle;\n",
       "    }\n",
       "\n",
       "    .dataframe tbody tr th {\n",
       "        vertical-align: top;\n",
       "    }\n",
       "\n",
       "    .dataframe thead th {\n",
       "        text-align: right;\n",
       "    }\n",
       "</style>\n",
       "<table border=\"1\" class=\"dataframe\">\n",
       "  <thead>\n",
       "    <tr style=\"text-align: right;\">\n",
       "      <th></th>\n",
       "      <th>prod_id</th>\n",
       "      <th>piece_count</th>\n",
       "      <th>list_price</th>\n",
       "      <th>num_reviews</th>\n",
       "      <th>play_star_rating</th>\n",
       "      <th>star_rating</th>\n",
       "      <th>val_star_rating</th>\n",
       "    </tr>\n",
       "  </thead>\n",
       "  <tbody>\n",
       "    <tr>\n",
       "      <td>count</td>\n",
       "      <td>1.087000e+04</td>\n",
       "      <td>10870.000000</td>\n",
       "      <td>10870.000000</td>\n",
       "      <td>9449.000000</td>\n",
       "      <td>9321.000000</td>\n",
       "      <td>9449.000000</td>\n",
       "      <td>9301.000000</td>\n",
       "    </tr>\n",
       "    <tr>\n",
       "      <td>mean</td>\n",
       "      <td>6.181634e+04</td>\n",
       "      <td>503.936431</td>\n",
       "      <td>67.309137</td>\n",
       "      <td>17.813737</td>\n",
       "      <td>4.355413</td>\n",
       "      <td>4.510319</td>\n",
       "      <td>4.214439</td>\n",
       "    </tr>\n",
       "    <tr>\n",
       "      <td>std</td>\n",
       "      <td>1.736390e+05</td>\n",
       "      <td>831.209318</td>\n",
       "      <td>94.669414</td>\n",
       "      <td>38.166693</td>\n",
       "      <td>0.617272</td>\n",
       "      <td>0.516463</td>\n",
       "      <td>0.670906</td>\n",
       "    </tr>\n",
       "    <tr>\n",
       "      <td>min</td>\n",
       "      <td>6.300000e+02</td>\n",
       "      <td>1.000000</td>\n",
       "      <td>2.272400</td>\n",
       "      <td>1.000000</td>\n",
       "      <td>1.000000</td>\n",
       "      <td>1.800000</td>\n",
       "      <td>1.000000</td>\n",
       "    </tr>\n",
       "    <tr>\n",
       "      <td>25%</td>\n",
       "      <td>2.112300e+04</td>\n",
       "      <td>97.000000</td>\n",
       "      <td>21.899000</td>\n",
       "      <td>2.000000</td>\n",
       "      <td>4.000000</td>\n",
       "      <td>4.300000</td>\n",
       "      <td>4.000000</td>\n",
       "    </tr>\n",
       "    <tr>\n",
       "      <td>50%</td>\n",
       "      <td>4.207350e+04</td>\n",
       "      <td>223.000000</td>\n",
       "      <td>36.587800</td>\n",
       "      <td>6.000000</td>\n",
       "      <td>4.500000</td>\n",
       "      <td>4.600000</td>\n",
       "      <td>4.300000</td>\n",
       "    </tr>\n",
       "    <tr>\n",
       "      <td>75%</td>\n",
       "      <td>7.124800e+04</td>\n",
       "      <td>556.000000</td>\n",
       "      <td>73.187800</td>\n",
       "      <td>14.000000</td>\n",
       "      <td>4.800000</td>\n",
       "      <td>5.000000</td>\n",
       "      <td>4.700000</td>\n",
       "    </tr>\n",
       "    <tr>\n",
       "      <td>max</td>\n",
       "      <td>2.000431e+06</td>\n",
       "      <td>7541.000000</td>\n",
       "      <td>1104.870000</td>\n",
       "      <td>367.000000</td>\n",
       "      <td>5.000000</td>\n",
       "      <td>5.000000</td>\n",
       "      <td>5.000000</td>\n",
       "    </tr>\n",
       "  </tbody>\n",
       "</table>\n",
       "</div>"
      ],
      "text/plain": [
       "            prod_id   piece_count    list_price  num_reviews  \\\n",
       "count  1.087000e+04  10870.000000  10870.000000  9449.000000   \n",
       "mean   6.181634e+04    503.936431     67.309137    17.813737   \n",
       "std    1.736390e+05    831.209318     94.669414    38.166693   \n",
       "min    6.300000e+02      1.000000      2.272400     1.000000   \n",
       "25%    2.112300e+04     97.000000     21.899000     2.000000   \n",
       "50%    4.207350e+04    223.000000     36.587800     6.000000   \n",
       "75%    7.124800e+04    556.000000     73.187800    14.000000   \n",
       "max    2.000431e+06   7541.000000   1104.870000   367.000000   \n",
       "\n",
       "       play_star_rating  star_rating  val_star_rating  \n",
       "count       9321.000000  9449.000000      9301.000000  \n",
       "mean           4.355413     4.510319         4.214439  \n",
       "std            0.617272     0.516463         0.670906  \n",
       "min            1.000000     1.800000         1.000000  \n",
       "25%            4.000000     4.300000         4.000000  \n",
       "50%            4.500000     4.600000         4.300000  \n",
       "75%            4.800000     5.000000         4.700000  \n",
       "max            5.000000     5.000000         5.000000  "
      ]
     },
     "execution_count": 43,
     "metadata": {},
     "output_type": "execute_result"
    }
   ],
   "source": [
    "df.describe()"
   ]
  },
  {
   "cell_type": "markdown",
   "metadata": {},
   "source": [
    "Now that you have a bit more of a understanding of each of these features you can make an informed decision about the best strategy for dealing with the various null values. \n",
    "\n",
    "Some common strategies for filling null values include:\n",
    "* Using the mean of the feature\n",
    "* Using the median of the feature\n",
    "* Inserting a random value from a normal distribution with the mean and std of the feature\n",
    "* Binning\n",
    "\n",
    "Given that most of the features with null values concern user reviews of the lego set, it is reasonable to wonder whether there is strong correlation between these features in the first place. Before proceeding, take a minute to investigate this hypothesis."
   ]
  },
  {
   "cell_type": "code",
   "execution_count": 44,
   "metadata": {},
   "outputs": [
    {
     "data": {
      "text/html": [
       "<div>\n",
       "<style scoped>\n",
       "    .dataframe tbody tr th:only-of-type {\n",
       "        vertical-align: middle;\n",
       "    }\n",
       "\n",
       "    .dataframe tbody tr th {\n",
       "        vertical-align: top;\n",
       "    }\n",
       "\n",
       "    .dataframe thead th {\n",
       "        text-align: right;\n",
       "    }\n",
       "</style>\n",
       "<table border=\"1\" class=\"dataframe\">\n",
       "  <thead>\n",
       "    <tr style=\"text-align: right;\">\n",
       "      <th></th>\n",
       "      <th>num_reviews</th>\n",
       "      <th>play_star_rating</th>\n",
       "      <th>star_rating</th>\n",
       "      <th>val_star_rating</th>\n",
       "    </tr>\n",
       "  </thead>\n",
       "  <tbody>\n",
       "    <tr>\n",
       "      <td>num_reviews</td>\n",
       "      <td>1.000000</td>\n",
       "      <td>-0.060884</td>\n",
       "      <td>0.004541</td>\n",
       "      <td>0.026664</td>\n",
       "    </tr>\n",
       "    <tr>\n",
       "      <td>play_star_rating</td>\n",
       "      <td>-0.060884</td>\n",
       "      <td>1.000000</td>\n",
       "      <td>0.619246</td>\n",
       "      <td>0.484341</td>\n",
       "    </tr>\n",
       "    <tr>\n",
       "      <td>star_rating</td>\n",
       "      <td>0.004541</td>\n",
       "      <td>0.619246</td>\n",
       "      <td>1.000000</td>\n",
       "      <td>0.731538</td>\n",
       "    </tr>\n",
       "    <tr>\n",
       "      <td>val_star_rating</td>\n",
       "      <td>0.026664</td>\n",
       "      <td>0.484341</td>\n",
       "      <td>0.731538</td>\n",
       "      <td>1.000000</td>\n",
       "    </tr>\n",
       "  </tbody>\n",
       "</table>\n",
       "</div>"
      ],
      "text/plain": [
       "                  num_reviews  play_star_rating  star_rating  val_star_rating\n",
       "num_reviews          1.000000         -0.060884     0.004541         0.026664\n",
       "play_star_rating    -0.060884          1.000000     0.619246         0.484341\n",
       "star_rating          0.004541          0.619246     1.000000         0.731538\n",
       "val_star_rating      0.026664          0.484341     0.731538         1.000000"
      ]
     },
     "execution_count": 44,
     "metadata": {},
     "output_type": "execute_result"
    }
   ],
   "source": [
    "# Investigate whether multicollinearity exists between the review features \n",
    "# (num_reviews, play_star_rating, star_rating, val_star_rating)\n",
    "feats = ['num_reviews', 'play_star_rating', 'star_rating', 'val_star_rating']\n",
    "df[feats].corr()"
   ]
  },
  {
   "cell_type": "markdown",
   "metadata": {},
   "source": [
    "Note that there is substantial correlation between the `play_star_rating`, `star_rating` and `val_star_rating`. While this could lead to multicollinearity in your eventual regression model, it is too early to clearly determine this at this point. Remember that multicollinearity is a relationship between 3 or more variables while correlation simply investigates the relationship between two variables.\n",
    "\n",
    "Additionally, these relationships provide an alternative method for imputing missing values: since they appear to be correlated, you could use these features to help impute missing values in the others features. For example, if you are missing the `star_rating` for a particular row but have the `val_star_rating` for that same entry, it seems reasonable to assume that it is a good estimate for the missing `star_rating` value as they are highly correlated. That said, doing so does come with risks; indeed you would be further increasing the correlation between these features which could further provoke multicollinearity in the final model.\n",
    "\n",
    "Investigate if you could use one of the other star rating features when one is missing. How many rows have one of `play_star_rating`, `star_rating` and `val_star_rating` missing, but not all three."
   ]
  },
  {
   "cell_type": "code",
   "execution_count": 45,
   "metadata": {},
   "outputs": [
    {
     "name": "stdout",
     "output_type": "stream",
     "text": [
      "Number missing all three: 1421\n"
     ]
    }
   ],
   "source": [
    "print('Number missing all three:',\n",
    "      len(df[(df.play_star_rating.isnull())\n",
    "      & (df.star_rating.isnull())\n",
    "      & (df.val_star_rating.isnull())])\n",
    "     )"
   ]
  },
  {
   "cell_type": "markdown",
   "metadata": {},
   "source": [
    "Well, it seems like when one is missing, the other two are also apt to be missing. While this has been a bit of an extended investigation, simply go ahead and fill the missing values with that feature's median. Fill in the missing values of `review_difficulty` feature  with string `'unknown'`."
   ]
  },
  {
   "cell_type": "code",
   "execution_count": 46,
   "metadata": {},
   "outputs": [
    {
     "data": {
      "text/plain": [
       "prod_id                0\n",
       "ages                   0\n",
       "piece_count            0\n",
       "set_name               0\n",
       "prod_desc            358\n",
       "prod_long_desc         0\n",
       "theme_name             0\n",
       "country                0\n",
       "list_price             0\n",
       "num_reviews            0\n",
       "play_star_rating       0\n",
       "review_difficulty      0\n",
       "star_rating            0\n",
       "val_star_rating        0\n",
       "dtype: int64"
      ]
     },
     "execution_count": 46,
     "metadata": {},
     "output_type": "execute_result"
    }
   ],
   "source": [
    "for col in df.columns:\n",
    "    try:\n",
    "        median = df[col].median()\n",
    "        df[col] = df[col].fillna(value=median)\n",
    "    except:\n",
    "        continue\n",
    "df.review_difficulty = df.review_difficulty.fillna('unknown')\n",
    "df.isna().sum()"
   ]
  },
  {
   "cell_type": "markdown",
   "metadata": {},
   "source": [
    "## Normalizing the Data\n",
    "\n",
    "Now, you'll need to convert all of our numeric columns to the same scale by **_normalizing_** our dataset.  Recall that you normalize a dataset by converting each numeric value to it's corresponding z-score for the column, which is obtained by subtracting the column's mean and then dividing by the column's standard deviation for every value. \n",
    "\n",
    "\n",
    "In the cell below:\n",
    "\n",
    "* Normalize the numeric X features by subtracting the column mean and dividing by the column standard deviation. \n",
    "(Don't bother to normalize the `list_price` as this is the feature you will be predicting.)"
   ]
  },
  {
   "cell_type": "code",
   "execution_count": 47,
   "metadata": {},
   "outputs": [
    {
     "data": {
      "text/html": [
       "<div>\n",
       "<style scoped>\n",
       "    .dataframe tbody tr th:only-of-type {\n",
       "        vertical-align: middle;\n",
       "    }\n",
       "\n",
       "    .dataframe tbody tr th {\n",
       "        vertical-align: top;\n",
       "    }\n",
       "\n",
       "    .dataframe thead th {\n",
       "        text-align: right;\n",
       "    }\n",
       "</style>\n",
       "<table border=\"1\" class=\"dataframe\">\n",
       "  <thead>\n",
       "    <tr style=\"text-align: right;\">\n",
       "      <th></th>\n",
       "      <th>prod_id</th>\n",
       "      <th>piece_count</th>\n",
       "      <th>list_price</th>\n",
       "      <th>num_reviews</th>\n",
       "      <th>play_star_rating</th>\n",
       "      <th>star_rating</th>\n",
       "      <th>val_star_rating</th>\n",
       "    </tr>\n",
       "  </thead>\n",
       "  <tbody>\n",
       "    <tr>\n",
       "      <td>count</td>\n",
       "      <td>1.087000e+04</td>\n",
       "      <td>1.087000e+04</td>\n",
       "      <td>10870.000000</td>\n",
       "      <td>1.087000e+04</td>\n",
       "      <td>1.087000e+04</td>\n",
       "      <td>1.087000e+04</td>\n",
       "      <td>1.087000e+04</td>\n",
       "    </tr>\n",
       "    <tr>\n",
       "      <td>mean</td>\n",
       "      <td>6.181634e+04</td>\n",
       "      <td>8.497751e-18</td>\n",
       "      <td>67.309137</td>\n",
       "      <td>-2.287856e-18</td>\n",
       "      <td>1.034111e-15</td>\n",
       "      <td>-1.653139e-15</td>\n",
       "      <td>2.881882e-16</td>\n",
       "    </tr>\n",
       "    <tr>\n",
       "      <td>std</td>\n",
       "      <td>1.736390e+05</td>\n",
       "      <td>1.000000e+00</td>\n",
       "      <td>94.669414</td>\n",
       "      <td>1.000000e+00</td>\n",
       "      <td>1.000000e+00</td>\n",
       "      <td>1.000000e+00</td>\n",
       "      <td>1.000000e+00</td>\n",
       "    </tr>\n",
       "    <tr>\n",
       "      <td>min</td>\n",
       "      <td>6.300000e+02</td>\n",
       "      <td>-6.050659e-01</td>\n",
       "      <td>2.272400</td>\n",
       "      <td>-4.264402e-01</td>\n",
       "      <td>-5.883334e+00</td>\n",
       "      <td>-5.641909e+00</td>\n",
       "      <td>-5.193413e+00</td>\n",
       "    </tr>\n",
       "    <tr>\n",
       "      <td>25%</td>\n",
       "      <td>2.112300e+04</td>\n",
       "      <td>-4.895715e-01</td>\n",
       "      <td>21.899000</td>\n",
       "      <td>-3.705846e-01</td>\n",
       "      <td>-4.810100e-01</td>\n",
       "      <td>-4.602216e-01</td>\n",
       "      <td>-3.650101e-01</td>\n",
       "    </tr>\n",
       "    <tr>\n",
       "      <td>50%</td>\n",
       "      <td>4.207350e+04</td>\n",
       "      <td>-3.379852e-01</td>\n",
       "      <td>36.587800</td>\n",
       "      <td>-2.868011e-01</td>\n",
       "      <td>2.160641e-01</td>\n",
       "      <td>1.615809e-01</td>\n",
       "      <td>1.178302e-01</td>\n",
       "    </tr>\n",
       "    <tr>\n",
       "      <td>75%</td>\n",
       "      <td>7.124800e+04</td>\n",
       "      <td>6.263593e-02</td>\n",
       "      <td>73.187800</td>\n",
       "      <td>-1.192341e-01</td>\n",
       "      <td>5.646012e-01</td>\n",
       "      <td>7.833834e-01</td>\n",
       "      <td>6.006705e-01</td>\n",
       "    </tr>\n",
       "    <tr>\n",
       "      <td>max</td>\n",
       "      <td>2.000431e+06</td>\n",
       "      <td>8.466055e+00</td>\n",
       "      <td>1104.870000</td>\n",
       "      <td>9.795146e+00</td>\n",
       "      <td>1.087407e+00</td>\n",
       "      <td>9.906510e-01</td>\n",
       "      <td>1.244458e+00</td>\n",
       "    </tr>\n",
       "  </tbody>\n",
       "</table>\n",
       "</div>"
      ],
      "text/plain": [
       "            prod_id   piece_count    list_price   num_reviews  \\\n",
       "count  1.087000e+04  1.087000e+04  10870.000000  1.087000e+04   \n",
       "mean   6.181634e+04  8.497751e-18     67.309137 -2.287856e-18   \n",
       "std    1.736390e+05  1.000000e+00     94.669414  1.000000e+00   \n",
       "min    6.300000e+02 -6.050659e-01      2.272400 -4.264402e-01   \n",
       "25%    2.112300e+04 -4.895715e-01     21.899000 -3.705846e-01   \n",
       "50%    4.207350e+04 -3.379852e-01     36.587800 -2.868011e-01   \n",
       "75%    7.124800e+04  6.263593e-02     73.187800 -1.192341e-01   \n",
       "max    2.000431e+06  8.466055e+00   1104.870000  9.795146e+00   \n",
       "\n",
       "       play_star_rating   star_rating  val_star_rating  \n",
       "count      1.087000e+04  1.087000e+04     1.087000e+04  \n",
       "mean       1.034111e-15 -1.653139e-15     2.881882e-16  \n",
       "std        1.000000e+00  1.000000e+00     1.000000e+00  \n",
       "min       -5.883334e+00 -5.641909e+00    -5.193413e+00  \n",
       "25%       -4.810100e-01 -4.602216e-01    -3.650101e-01  \n",
       "50%        2.160641e-01  1.615809e-01     1.178302e-01  \n",
       "75%        5.646012e-01  7.833834e-01     6.006705e-01  \n",
       "max        1.087407e+00  9.906510e-01     1.244458e+00  "
      ]
     },
     "execution_count": 47,
     "metadata": {},
     "output_type": "execute_result"
    }
   ],
   "source": [
    "def norm_feat(series):\n",
    "    return (series - series.mean())/series.std()\n",
    "for feat in ['piece_count', 'num_reviews', 'play_star_rating', 'star_rating', 'val_star_rating']:\n",
    "    df[feat] = norm_feat(df[feat])\n",
    "df.describe()"
   ]
  },
  {
   "cell_type": "markdown",
   "metadata": {},
   "source": [
    "## Saving Your Results\n",
    "\n",
    "While you'll once again practice one-hot encoding as you would to preprocess data before fitting a model, saving such a reperesentation of the data will eat up additional disk space. After all, a categorical variable with 10 bins will be transformed to 10 seperate features when passed through `pd.get_dummies()`. As such, while further practice is worthwhile, save your DataFrame as-is for now."
   ]
  },
  {
   "cell_type": "code",
   "execution_count": 27,
   "metadata": {},
   "outputs": [
    {
     "data": {
      "text/plain": [
       "Index(['prod_id', 'ages', 'piece_count', 'set_name', 'prod_desc',\n",
       "       'prod_long_desc', 'theme_name', 'country', 'list_price', 'num_reviews',\n",
       "       'play_star_rating', 'review_difficulty', 'star_rating',\n",
       "       'val_star_rating'],\n",
       "      dtype='object')"
      ]
     },
     "execution_count": 27,
     "metadata": {},
     "output_type": "execute_result"
    }
   ],
   "source": [
    "df.columns"
   ]
  },
  {
   "cell_type": "code",
   "execution_count": null,
   "metadata": {},
   "outputs": [],
   "source": [
    "df.to_csv(\"Lego_dataset_cleaned.csv\", index=False)"
   ]
  },
  {
   "cell_type": "markdown",
   "metadata": {},
   "source": [
    "## One-Hot Encoding Categorical Columns\n",
    "\n",
    "As a final step, you'll need to deal with the categorical columns by **_one-hot encoding_** them into binary variables via the `pd.get_dummies()` function.  \n",
    "\n",
    "When doing this, you may also need to subset the appropriate features to avoid encoding the wrong data. The `get_dummies()` function by default converts all columns with *object* or *category* dtype. However, you should always check the result of calling `get_dummies()` to ensure that only the categorical variables have been transformed. Consult the [documentation](https://pandas.pydata.org/pandas-docs/stable/generated/pandas.get_dummies.html) for more details. If you are ever unsure of the data types, call the `.info()` method.\n",
    "\n",
    "In the cell below, subset to the appropriate predictive features and then use `pd.get_dummies()` to one-hot encode the dataset properly."
   ]
  },
  {
   "cell_type": "code",
   "execution_count": 48,
   "metadata": {},
   "outputs": [],
   "source": [
    "feats = ['ages', 'piece_count', 'theme_name', 'country', 'list_price', 'num_reviews',\n",
    "         'play_star_rating', 'review_difficulty', 'star_rating', 'val_star_rating']\n",
    "#Don't include prod_id, set_name, prod_desc, or prod_long_desc; they are too unique\n",
    "df = df[feats]\n",
    "df = pd.get_dummies(df, drop_first=True)"
   ]
  },
  {
   "cell_type": "code",
   "execution_count": 49,
   "metadata": {},
   "outputs": [
    {
     "name": "stdout",
     "output_type": "stream",
     "text": [
      "<class 'pandas.core.frame.DataFrame'>\n",
      "RangeIndex: 10870 entries, 0 to 10869\n",
      "Data columns (total 99 columns):\n",
      "piece_count                                         10870 non-null float64\n",
      "list_price                                          10870 non-null float64\n",
      "num_reviews                                         10870 non-null float64\n",
      "play_star_rating                                    10870 non-null float64\n",
      "star_rating                                         10870 non-null float64\n",
      "val_star_rating                                     10870 non-null float64\n",
      "ages_10-14                                          10870 non-null uint8\n",
      "ages_10-16                                          10870 non-null uint8\n",
      "ages_10-21                                          10870 non-null uint8\n",
      "ages_11-16                                          10870 non-null uint8\n",
      "ages_12+                                            10870 non-null uint8\n",
      "ages_12-16                                          10870 non-null uint8\n",
      "ages_14+                                            10870 non-null uint8\n",
      "ages_16+                                            10870 non-null uint8\n",
      "ages_1½-3                                           10870 non-null uint8\n",
      "ages_1½-5                                           10870 non-null uint8\n",
      "ages_2-5                                            10870 non-null uint8\n",
      "ages_4+                                             10870 non-null uint8\n",
      "ages_4-7                                            10870 non-null uint8\n",
      "ages_4-99                                           10870 non-null uint8\n",
      "ages_5+                                             10870 non-null uint8\n",
      "ages_5-12                                           10870 non-null uint8\n",
      "ages_5-8                                            10870 non-null uint8\n",
      "ages_6+                                             10870 non-null uint8\n",
      "ages_6-12                                           10870 non-null uint8\n",
      "ages_6-14                                           10870 non-null uint8\n",
      "ages_7+                                             10870 non-null uint8\n",
      "ages_7-12                                           10870 non-null uint8\n",
      "ages_7-14                                           10870 non-null uint8\n",
      "ages_8+                                             10870 non-null uint8\n",
      "ages_8-12                                           10870 non-null uint8\n",
      "ages_8-14                                           10870 non-null uint8\n",
      "ages_9+                                             10870 non-null uint8\n",
      "ages_9-12                                           10870 non-null uint8\n",
      "ages_9-14                                           10870 non-null uint8\n",
      "ages_9-16                                           10870 non-null uint8\n",
      "theme_name_Architecture                             10870 non-null uint8\n",
      "theme_name_BOOST                                    10870 non-null uint8\n",
      "theme_name_Blue's Helicopter Pursuit                10870 non-null uint8\n",
      "theme_name_BrickHeadz                               10870 non-null uint8\n",
      "theme_name_Carnotaurus Gyrosphere Escape            10870 non-null uint8\n",
      "theme_name_City                                     10870 non-null uint8\n",
      "theme_name_Classic                                  10870 non-null uint8\n",
      "theme_name_Creator 3-in-1                           10870 non-null uint8\n",
      "theme_name_Creator Expert                           10870 non-null uint8\n",
      "theme_name_DC Comics™ Super Heroes                  10870 non-null uint8\n",
      "theme_name_DC Super Hero Girls                      10870 non-null uint8\n",
      "theme_name_DIMENSIONS™                              10870 non-null uint8\n",
      "theme_name_DUPLO®                                   10870 non-null uint8\n",
      "theme_name_Dilophosaurus Outpost Attack             10870 non-null uint8\n",
      "theme_name_Disney™                                  10870 non-null uint8\n",
      "theme_name_Elves                                    10870 non-null uint8\n",
      "theme_name_Friends                                  10870 non-null uint8\n",
      "theme_name_Ghostbusters™                            10870 non-null uint8\n",
      "theme_name_Ideas                                    10870 non-null uint8\n",
      "theme_name_Indoraptor Rampage at Lockwood Estate    10870 non-null uint8\n",
      "theme_name_Juniors                                  10870 non-null uint8\n",
      "theme_name_Jurassic Park Velociraptor Chase         10870 non-null uint8\n",
      "theme_name_MINDSTORMS®                              10870 non-null uint8\n",
      "theme_name_Marvel Super Heroes                      10870 non-null uint8\n",
      "theme_name_Minecraft™                               10870 non-null uint8\n",
      "theme_name_Minifigures                              10870 non-null uint8\n",
      "theme_name_NEXO KNIGHTS™                            10870 non-null uint8\n",
      "theme_name_NINJAGO®                                 10870 non-null uint8\n",
      "theme_name_Power Functions                          10870 non-null uint8\n",
      "theme_name_Pteranodon Chase                         10870 non-null uint8\n",
      "theme_name_SERIOUS PLAY®                            10870 non-null uint8\n",
      "theme_name_Speed Champions                          10870 non-null uint8\n",
      "theme_name_Star Wars™                               10870 non-null uint8\n",
      "theme_name_Stygimoloch Breakout                     10870 non-null uint8\n",
      "theme_name_T. rex Transport                         10870 non-null uint8\n",
      "theme_name_THE LEGO® BATMAN MOVIE                   10870 non-null uint8\n",
      "theme_name_THE LEGO® NINJAGO® MOVIE™                10870 non-null uint8\n",
      "theme_name_Technic                                  10870 non-null uint8\n",
      "country_AU                                          10870 non-null uint8\n",
      "country_BE                                          10870 non-null uint8\n",
      "country_CA                                          10870 non-null uint8\n",
      "country_CH                                          10870 non-null uint8\n",
      "country_CZ                                          10870 non-null uint8\n",
      "country_DE                                          10870 non-null uint8\n",
      "country_DN                                          10870 non-null uint8\n",
      "country_ES                                          10870 non-null uint8\n",
      "country_FI                                          10870 non-null uint8\n",
      "country_FR                                          10870 non-null uint8\n",
      "country_GB                                          10870 non-null uint8\n",
      "country_IE                                          10870 non-null uint8\n",
      "country_IT                                          10870 non-null uint8\n",
      "country_LU                                          10870 non-null uint8\n",
      "country_NL                                          10870 non-null uint8\n",
      "country_NO                                          10870 non-null uint8\n",
      "country_NZ                                          10870 non-null uint8\n",
      "country_PL                                          10870 non-null uint8\n",
      "country_PT                                          10870 non-null uint8\n",
      "country_US                                          10870 non-null uint8\n",
      "review_difficulty_Challenging                       10870 non-null uint8\n",
      "review_difficulty_Easy                              10870 non-null uint8\n",
      "review_difficulty_Very Challenging                  10870 non-null uint8\n",
      "review_difficulty_Very Easy                         10870 non-null uint8\n",
      "review_difficulty_unknown                           10870 non-null uint8\n",
      "dtypes: float64(6), uint8(93)\n",
      "memory usage: 1.5 MB\n"
     ]
    }
   ],
   "source": [
    "df.info()"
   ]
  },
  {
   "cell_type": "markdown",
   "metadata": {},
   "source": [
    "That's it! You've now successfully scrubbed your dataset -- you're now ready for data exploration and modeling!\n",
    "\n",
    "## Summary\n",
    "\n",
    "In this lesson, you gained practice with scrubbing and cleaning data. Specifically, you addressed an incorrect data type, detected and dealt with null values, checked for multicollinearity, and transformed data. Congrats on performing the full data cleaning process for a dataset!"
   ]
  },
  {
   "cell_type": "code",
   "execution_count": 31,
   "metadata": {},
   "outputs": [
    {
     "data": {
      "text/plain": [
       "piece_count                           float64\n",
       "list_price                            float64\n",
       "num_reviews                           float64\n",
       "play_star_rating                      float64\n",
       "star_rating                           float64\n",
       "                                       ...   \n",
       "review_difficulty_Challenging           uint8\n",
       "review_difficulty_Easy                  uint8\n",
       "review_difficulty_Very Challenging      uint8\n",
       "review_difficulty_Very Easy             uint8\n",
       "review_difficulty_unknown               uint8\n",
       "Length: 99, dtype: object"
      ]
     },
     "execution_count": 31,
     "metadata": {},
     "output_type": "execute_result"
    }
   ],
   "source": [
    "df.dtypes"
   ]
  },
  {
   "cell_type": "code",
   "execution_count": 32,
   "metadata": {},
   "outputs": [
    {
     "data": {
      "text/plain": [
       "Index(['piece_count', 'list_price', 'num_reviews', 'play_star_rating',\n",
       "       'star_rating', 'val_star_rating', 'ages_10-14', 'ages_10-16',\n",
       "       'ages_10-21', 'ages_11-16', 'ages_12+', 'ages_12-16', 'ages_14+',\n",
       "       'ages_16+', 'ages_1½-3', 'ages_1½-5', 'ages_2-5', 'ages_4+', 'ages_4-7',\n",
       "       'ages_4-99', 'ages_5+', 'ages_5-12', 'ages_5-8', 'ages_6+', 'ages_6-12',\n",
       "       'ages_6-14', 'ages_7+', 'ages_7-12', 'ages_7-14', 'ages_8+',\n",
       "       'ages_8-12', 'ages_8-14', 'ages_9+', 'ages_9-12', 'ages_9-14',\n",
       "       'ages_9-16', 'theme_name_Architecture', 'theme_name_BOOST',\n",
       "       'theme_name_Blue's Helicopter Pursuit', 'theme_name_BrickHeadz',\n",
       "       'theme_name_Carnotaurus Gyrosphere Escape', 'theme_name_City',\n",
       "       'theme_name_Classic', 'theme_name_Creator 3-in-1',\n",
       "       'theme_name_Creator Expert', 'theme_name_DC Comics™ Super Heroes',\n",
       "       'theme_name_DC Super Hero Girls', 'theme_name_DIMENSIONS™',\n",
       "       'theme_name_DUPLO®', 'theme_name_Dilophosaurus Outpost Attack',\n",
       "       'theme_name_Disney™', 'theme_name_Elves', 'theme_name_Friends',\n",
       "       'theme_name_Ghostbusters™', 'theme_name_Ideas',\n",
       "       'theme_name_Indoraptor Rampage at Lockwood Estate',\n",
       "       'theme_name_Juniors', 'theme_name_Jurassic Park Velociraptor Chase',\n",
       "       'theme_name_MINDSTORMS®', 'theme_name_Marvel Super Heroes',\n",
       "       'theme_name_Minecraft™', 'theme_name_Minifigures',\n",
       "       'theme_name_NEXO KNIGHTS™', 'theme_name_NINJAGO®',\n",
       "       'theme_name_Power Functions', 'theme_name_Pteranodon Chase',\n",
       "       'theme_name_SERIOUS PLAY®', 'theme_name_Speed Champions',\n",
       "       'theme_name_Star Wars™', 'theme_name_Stygimoloch Breakout',\n",
       "       'theme_name_T. rex Transport', 'theme_name_THE LEGO® BATMAN MOVIE',\n",
       "       'theme_name_THE LEGO® NINJAGO® MOVIE™', 'theme_name_Technic',\n",
       "       'country_AU', 'country_BE', 'country_CA', 'country_CH', 'country_CZ',\n",
       "       'country_DE', 'country_DN', 'country_ES', 'country_FI', 'country_FR',\n",
       "       'country_GB', 'country_IE', 'country_IT', 'country_LU', 'country_NL',\n",
       "       'country_NO', 'country_NZ', 'country_PL', 'country_PT', 'country_US',\n",
       "       'review_difficulty_Challenging', 'review_difficulty_Easy',\n",
       "       'review_difficulty_Very Challenging', 'review_difficulty_Very Easy',\n",
       "       'review_difficulty_unknown'],\n",
       "      dtype='object')"
      ]
     },
     "execution_count": 32,
     "metadata": {},
     "output_type": "execute_result"
    }
   ],
   "source": [
    "df.columns"
   ]
  },
  {
   "cell_type": "code",
   "execution_count": null,
   "metadata": {},
   "outputs": [],
   "source": []
  }
 ],
 "metadata": {
  "kernelspec": {
   "display_name": "Python 3",
   "language": "python",
   "name": "python3"
  },
  "language_info": {
   "codemirror_mode": {
    "name": "ipython",
    "version": 3
   },
   "file_extension": ".py",
   "mimetype": "text/x-python",
   "name": "python",
   "nbconvert_exporter": "python",
   "pygments_lexer": "ipython3",
   "version": "3.6.9"
  },
  "toc": {
   "base_numbering": 1,
   "nav_menu": {},
   "number_sections": true,
   "sideBar": true,
   "skip_h1_title": false,
   "title_cell": "Table of Contents",
   "title_sidebar": "Contents",
   "toc_cell": true,
   "toc_position": {},
   "toc_section_display": true,
   "toc_window_display": false
  }
 },
 "nbformat": 4,
 "nbformat_minor": 2
}
